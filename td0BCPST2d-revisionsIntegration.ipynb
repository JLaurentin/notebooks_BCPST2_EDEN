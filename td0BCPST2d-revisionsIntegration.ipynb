{
 "cells": [
  {
   "cell_type": "markdown",
   "metadata": {
    "collapsed": true,
    "slideshow": {
     "slide_type": "slide"
    }
   },
   "source": [
    "> # Rappels des chapitres \"Primitives\" et \"Intégration\""
   ]
  },
  {
   "cell_type": "markdown",
   "metadata": {
    "slideshow": {
     "slide_type": "slide"
    }
   },
   "source": [
    "#### *Remarque* : Ce notebook propose à la fois des rappels et des exercices. On prendra le temps d'y réfléchir, le crayon à la main, sur une feuille de brouillon avant de proposer une réponse.   \n",
    "Une correction des exercices est proposée en fin de document mais elle ne doit être utilisée qu'en dernier recours, si les calculs n'aboutissent pas..."
   ]
  },
  {
   "cell_type": "markdown",
   "metadata": {
    "collapsed": true,
    "slideshow": {
     "slide_type": "slide"
    }
   },
   "source": [
    "## 1. Rappels."
   ]
  },
  {
   "cell_type": "markdown",
   "metadata": {
    "slideshow": {
     "slide_type": "-"
    }
   },
   "source": [
    "**Définition 1 :** Soit $f$ une fonction définie sur un intervalle $I$.  \n",
    "On appelle primitive de $f$ sur $I$ toute fonction $F$ définie sur $I$ telle que $F$ soit dérivable sur $I$ avec $F'=f$."
   ]
  },
  {
   "cell_type": "markdown",
   "metadata": {
    "slideshow": {
     "slide_type": "fragment"
    }
   },
   "source": [
    "** Théorème 1 :** Toute fonction continue sur $I$ admet une primitive sur cet intervalle [*Admis*]."
   ]
  },
  {
   "cell_type": "markdown",
   "metadata": {
    "slideshow": {
     "slide_type": "fragment"
    }
   },
   "source": [
    "** Proposition 1 :** Soit $f$ une fonction continue sur $I$ (éventuellement par morceaux) et $F$ une primitive de $f$ sur $I$.  \n",
    "Alors l'ensemble des primitives de $f$ sur $I$ est : $\\{F+c,c\\in\\mathbb{R}\\}$."
   ]
  },
  {
   "cell_type": "markdown",
   "metadata": {
    "slideshow": {
     "slide_type": "subslide"
    }
   },
   "source": [
    "**Proposition 2 :** Soit $f$ une fonction continue sur $I$ et $F$ une primitive de $f$ sur $I$.  \n",
    "Alors $F$ est une fonction de classe $\\mathcal{C}^1$ sur $\\mathbb{R}$.  \n",
    "Par ailleurs, si $f$ est positive sur $I$ alors $F$ est croissante sur $I$."
   ]
  },
  {
   "cell_type": "markdown",
   "metadata": {
    "slideshow": {
     "slide_type": "slide"
    }
   },
   "source": [
    "**Définition 2 :** Soit $f$ une fonction continue sur un segment $[a,b]$.  \n",
    "On appelle *intégrale* de $f$ de $a$ à $b$ le **réel** : $$\\displaystyle\\int_a^bf(t)dt=F(b)-F(a)$$\n",
    "où $F$ est une primitive de $f$."
   ]
  },
  {
   "cell_type": "markdown",
   "metadata": {
    "slideshow": {
     "slide_type": "fragment"
    }
   },
   "source": [
    "**Théorème 2 :** Soit $f$ une fonction continue sur un intervalle $I$. Pour tout $a\\in I$, la fonction $F$ définie sur $I$ par : $$F(x)=\\displaystyle\\int_a^xf(t)dt$$\n",
    "est l'unique **primitive** de $f$ qui s'annule en $a$."
   ]
  },
  {
   "cell_type": "markdown",
   "metadata": {
    "slideshow": {
     "slide_type": "slide"
    }
   },
   "source": [
    "**Définition 3 (Intégrale d'une fonction continue par morceaux) :** Soient $a<b$ deux réels et $f$ une fonction continue par morceaux sur $[a,b]$.  \n",
    "Soit une subdivision $\\mathcal{S}=\\{x_0,x_1,\\cdots,x_n\\}$ telle que $a=x_0<x_1<\\cdots<x_{n-1}<x_n=b$ avec $f$ continue sur $]x_k,x_{k+1}[$, admettant une limite finie à gauche et à droite en $x_k$ et une limite finie a droite en $a$, une limite finie à gauche en $b$.  \n",
    "Alors :  \n",
    "$$\\displaystyle\\int_a^bf(t)dt=\\displaystyle\\sum_{k=0}^{n-1}\\displaystyle\\int_{x_k}^{x_{k+1}}f(t)dt$$"
   ]
  },
  {
   "cell_type": "markdown",
   "metadata": {
    "slideshow": {
     "slide_type": "slide"
    }
   },
   "source": [
    "**Définition 4 (le cas des subdivisions régulières) :** Soit $f$ une fonction continue sur un intervalle $[a,b]$.  \n",
    "On appellera **subdivision régulière** de l'intervalle $[a,b]$ la suite $\\sigma=(c_k)_{k\\geq 0}$ définie par $c_k=a+k\\cfrac{b-a}{n}$ où $h=\\cfrac{b-a}{n}$ désigne son **pas**. On note que $c_0=a$, $c_n=b$.  \n",
    "Alors, d'après la relation de Chasles : $$I = \\displaystyle\\int_a^bf(t)dt=\\displaystyle\\sum_{k=0}^{n-1}\\displaystyle\\int_{c_k}^{c_{k+1}}f(t)dt$$"
   ]
  },
  {
   "cell_type": "markdown",
   "metadata": {
    "slideshow": {
     "slide_type": "slide"
    }
   },
   "source": [
    "## 2. Approximation numérique."
   ]
  },
  {
   "cell_type": "markdown",
   "metadata": {
    "slideshow": {
     "slide_type": "slide"
    }
   },
   "source": [
    "### a) Le contexte théorique"
   ]
  },
  {
   "cell_type": "markdown",
   "metadata": {
    "slideshow": {
     "slide_type": "-"
    }
   },
   "source": [
    "La méthode au programme utilise les *Sommes de Riemann* et est aussi appelée *Méthode des rectangles*. "
   ]
  },
  {
   "cell_type": "markdown",
   "metadata": {
    "slideshow": {
     "slide_type": "slide"
    }
   },
   "source": [
    "**Le cas de l'intervalle $I=[0,1]$ : ** \n",
    "On considère la subdivision régulière $\\sigma=(c_k)_{k\\geq 0}$ définie par $c_k=0+k\\cfrac{1-0}{n}=\\cfrac{k}{n}$ où $h=\\cfrac{1}{n}$ désigne son **pas**.  \n",
    "Alors, en approximant $f$, sur l'intervalle $[c_k,c_{k+1}]$ par la fonction constante égale à $f(c_{k})$, on obtient d'après la définition 4 :   \n",
    "\n",
    "$$\\displaystyle\\int_0^1f(t)dt = \\underset{n\\rightarrow\\infty}{lim}\\cfrac{1}{n}\\displaystyle\\sum_{k=0}^{n-1}f(c_k) = \\underset{n\\rightarrow\\infty}{lim}\\cfrac{1}{n}\\displaystyle\\sum_{k=0}^{n-1}f\\left(\\cfrac{k}{n}\\right)=\\underset{n\\rightarrow\\infty}{lim}\\cfrac{1}{n}\\displaystyle\\sum_{k=1}^{n}f\\left(\\cfrac{k}{n}\\right)$$  "
   ]
  },
  {
   "cell_type": "markdown",
   "metadata": {
    "slideshow": {
     "slide_type": "slide"
    }
   },
   "source": [
    "**Le cas de l'intervalle $I=[a,b]$ : ** \n",
    "On considère la subdivision régulière $\\sigma=(c_k)_{k\\geq 0}$ définie par $c_k=a+k\\cfrac{b-a}{n}$ où $h=\\cfrac{b-a}{n}$ désigne son **pas**.  \n",
    "Alors, en approximant $f$, sur l'intervalle $[c_k,c_{k+1}]$ par la fonction constante égale à $f(c_{k})$, on obtient d'après la définition 4 :   \n",
    "\n",
    "$$\\displaystyle\\int_a^bf(t)dt = \\underset{n\\rightarrow\\infty}{lim}\\cfrac{b-a}{n}\\displaystyle\\sum_{k=0}^{n-1}f(c_k) = \\underset{n\\rightarrow\\infty}{lim}\\cfrac{b-a}{n}\\displaystyle\\sum_{k=0}^{n-1}f\\left(a+k\\cfrac{b-a}{n}\\right)=\\underset{n\\rightarrow\\infty}{lim}\\cfrac{b-a}{n}\\displaystyle\\sum_{k=1}^{n}f\\left(a+k\\cfrac{b-a}{n}\\right)$$  "
   ]
  },
  {
   "cell_type": "markdown",
   "metadata": {
    "slideshow": {
     "slide_type": "slide"
    }
   },
   "source": [
    "### b) La formule à retenir :\n",
    "Pour obtenir une approximation numérique de l'intégrale entre $a$ et $b$ d'une fonction $f$ continue sur $I=[a,b]$, on prendra $n$ suffisamment grand pour pouvoir écrire : \n",
    "$$I\\approx\\cfrac{b-a}{n}\\displaystyle\\sum_{k=0}^{n-1}f(c_k)$$\n",
    "où $$c_k=a+k\\cfrac{b-a}{n}\\quad 0\\leq k\\leq n$$"
   ]
  },
  {
   "cell_type": "markdown",
   "metadata": {
    "slideshow": {
     "slide_type": "slide"
    }
   },
   "source": [
    "### c) En pratique :"
   ]
  },
  {
   "cell_type": "markdown",
   "metadata": {
    "slideshow": {
     "slide_type": "slide"
    }
   },
   "source": [
    "On commence par importer les bibliothèques utiles :"
   ]
  },
  {
   "cell_type": "code",
   "execution_count": 1,
   "metadata": {
    "collapsed": true,
    "slideshow": {
     "slide_type": "-"
    }
   },
   "outputs": [],
   "source": [
    "%matplotlib inline\n",
    "%matplotlib notebook"
   ]
  },
  {
   "cell_type": "code",
   "execution_count": 2,
   "metadata": {
    "collapsed": true,
    "slideshow": {
     "slide_type": "-"
    }
   },
   "outputs": [],
   "source": [
    "import numpy as np\n",
    "import matplotlib.pyplot as plt"
   ]
  },
  {
   "cell_type": "markdown",
   "metadata": {},
   "source": [
    "On traduit alors algorithmiquement la formule précédente en quelques lignes : \n",
    "- - -\n",
    "    h = (b-a)/n  # Création du pas de la subdivision\n",
    "    subdivision = np.arange(a,b,h) # On créé la subdivision = {a,a+h,a+2h,...,a+(n-1)h}\n",
    "    S = f(subdivision) # on calcule les f(ck) pour tout ck dans la subdivision\n",
    "    I = h*np.sum(S) # calcul de la valeur approchée de l'intégrale  \n",
    "    \n",
    "Ce qui donne :  "
   ]
  },
  {
   "cell_type": "code",
   "execution_count": 3,
   "metadata": {
    "collapsed": true,
    "slideshow": {
     "slide_type": "slide"
    }
   },
   "outputs": [],
   "source": [
    "def IntMethRectangle(f,a,b,n):\n",
    "    # retourne une valeur approchée de l'intégrale de f entre a et b avec h = (b-a)/n\n",
    "    h=(b-a)/n\n",
    "    subd = np.arange(a,b,h)  # réels de a à b (exclus) séparés par un pas de 'h'\n",
    "    S =f(subd)  # valeurs de f en chaque point de la subdivision\n",
    "    plt.bar(subd,S,h,alpha=0.4,align='edge') # tracé des rectangles (non centrés sur la subd.)\n",
    "    X = np.linspace(a,b,100)\n",
    "    plt.plot(X,f(X),'r-') # tracé de la courbe de f sur [a,b]\n",
    "    return h*np.sum(S)"
   ]
  },
  {
   "cell_type": "markdown",
   "metadata": {
    "slideshow": {
     "slide_type": "fragment"
    }
   },
   "source": [
    "Ensuite, il n'y a plus qu'à essayer avec différentes fonctions $f$ continues sur $[a,b]$ et différentes valeurs de $n$ :"
   ]
  },
  {
   "cell_type": "code",
   "execution_count": 5,
   "metadata": {
    "scrolled": true,
    "slideshow": {
     "slide_type": "slide"
    }
   },
   "outputs": [
    {
     "data": {
      "application/javascript": [
       "/* Put everything inside the global mpl namespace */\n",
       "window.mpl = {};\n",
       "\n",
       "\n",
       "mpl.get_websocket_type = function() {\n",
       "    if (typeof(WebSocket) !== 'undefined') {\n",
       "        return WebSocket;\n",
       "    } else if (typeof(MozWebSocket) !== 'undefined') {\n",
       "        return MozWebSocket;\n",
       "    } else {\n",
       "        alert('Your browser does not have WebSocket support.' +\n",
       "              'Please try Chrome, Safari or Firefox ≥ 6. ' +\n",
       "              'Firefox 4 and 5 are also supported but you ' +\n",
       "              'have to enable WebSockets in about:config.');\n",
       "    };\n",
       "}\n",
       "\n",
       "mpl.figure = function(figure_id, websocket, ondownload, parent_element) {\n",
       "    this.id = figure_id;\n",
       "\n",
       "    this.ws = websocket;\n",
       "\n",
       "    this.supports_binary = (this.ws.binaryType != undefined);\n",
       "\n",
       "    if (!this.supports_binary) {\n",
       "        var warnings = document.getElementById(\"mpl-warnings\");\n",
       "        if (warnings) {\n",
       "            warnings.style.display = 'block';\n",
       "            warnings.textContent = (\n",
       "                \"This browser does not support binary websocket messages. \" +\n",
       "                    \"Performance may be slow.\");\n",
       "        }\n",
       "    }\n",
       "\n",
       "    this.imageObj = new Image();\n",
       "\n",
       "    this.context = undefined;\n",
       "    this.message = undefined;\n",
       "    this.canvas = undefined;\n",
       "    this.rubberband_canvas = undefined;\n",
       "    this.rubberband_context = undefined;\n",
       "    this.format_dropdown = undefined;\n",
       "\n",
       "    this.image_mode = 'full';\n",
       "\n",
       "    this.root = $('<div/>');\n",
       "    this._root_extra_style(this.root)\n",
       "    this.root.attr('style', 'display: inline-block');\n",
       "\n",
       "    $(parent_element).append(this.root);\n",
       "\n",
       "    this._init_header(this);\n",
       "    this._init_canvas(this);\n",
       "    this._init_toolbar(this);\n",
       "\n",
       "    var fig = this;\n",
       "\n",
       "    this.waiting = false;\n",
       "\n",
       "    this.ws.onopen =  function () {\n",
       "            fig.send_message(\"supports_binary\", {value: fig.supports_binary});\n",
       "            fig.send_message(\"send_image_mode\", {});\n",
       "            if (mpl.ratio != 1) {\n",
       "                fig.send_message(\"set_dpi_ratio\", {'dpi_ratio': mpl.ratio});\n",
       "            }\n",
       "            fig.send_message(\"refresh\", {});\n",
       "        }\n",
       "\n",
       "    this.imageObj.onload = function() {\n",
       "            if (fig.image_mode == 'full') {\n",
       "                // Full images could contain transparency (where diff images\n",
       "                // almost always do), so we need to clear the canvas so that\n",
       "                // there is no ghosting.\n",
       "                fig.context.clearRect(0, 0, fig.canvas.width, fig.canvas.height);\n",
       "            }\n",
       "            fig.context.drawImage(fig.imageObj, 0, 0);\n",
       "        };\n",
       "\n",
       "    this.imageObj.onunload = function() {\n",
       "        this.ws.close();\n",
       "    }\n",
       "\n",
       "    this.ws.onmessage = this._make_on_message_function(this);\n",
       "\n",
       "    this.ondownload = ondownload;\n",
       "}\n",
       "\n",
       "mpl.figure.prototype._init_header = function() {\n",
       "    var titlebar = $(\n",
       "        '<div class=\"ui-dialog-titlebar ui-widget-header ui-corner-all ' +\n",
       "        'ui-helper-clearfix\"/>');\n",
       "    var titletext = $(\n",
       "        '<div class=\"ui-dialog-title\" style=\"width: 100%; ' +\n",
       "        'text-align: center; padding: 3px;\"/>');\n",
       "    titlebar.append(titletext)\n",
       "    this.root.append(titlebar);\n",
       "    this.header = titletext[0];\n",
       "}\n",
       "\n",
       "\n",
       "\n",
       "mpl.figure.prototype._canvas_extra_style = function(canvas_div) {\n",
       "\n",
       "}\n",
       "\n",
       "\n",
       "mpl.figure.prototype._root_extra_style = function(canvas_div) {\n",
       "\n",
       "}\n",
       "\n",
       "mpl.figure.prototype._init_canvas = function() {\n",
       "    var fig = this;\n",
       "\n",
       "    var canvas_div = $('<div/>');\n",
       "\n",
       "    canvas_div.attr('style', 'position: relative; clear: both; outline: 0');\n",
       "\n",
       "    function canvas_keyboard_event(event) {\n",
       "        return fig.key_event(event, event['data']);\n",
       "    }\n",
       "\n",
       "    canvas_div.keydown('key_press', canvas_keyboard_event);\n",
       "    canvas_div.keyup('key_release', canvas_keyboard_event);\n",
       "    this.canvas_div = canvas_div\n",
       "    this._canvas_extra_style(canvas_div)\n",
       "    this.root.append(canvas_div);\n",
       "\n",
       "    var canvas = $('<canvas/>');\n",
       "    canvas.addClass('mpl-canvas');\n",
       "    canvas.attr('style', \"left: 0; top: 0; z-index: 0; outline: 0\")\n",
       "\n",
       "    this.canvas = canvas[0];\n",
       "    this.context = canvas[0].getContext(\"2d\");\n",
       "\n",
       "    var backingStore = this.context.backingStorePixelRatio ||\n",
       "\tthis.context.webkitBackingStorePixelRatio ||\n",
       "\tthis.context.mozBackingStorePixelRatio ||\n",
       "\tthis.context.msBackingStorePixelRatio ||\n",
       "\tthis.context.oBackingStorePixelRatio ||\n",
       "\tthis.context.backingStorePixelRatio || 1;\n",
       "\n",
       "    mpl.ratio = (window.devicePixelRatio || 1) / backingStore;\n",
       "\n",
       "    var rubberband = $('<canvas/>');\n",
       "    rubberband.attr('style', \"position: absolute; left: 0; top: 0; z-index: 1;\")\n",
       "\n",
       "    var pass_mouse_events = true;\n",
       "\n",
       "    canvas_div.resizable({\n",
       "        start: function(event, ui) {\n",
       "            pass_mouse_events = false;\n",
       "        },\n",
       "        resize: function(event, ui) {\n",
       "            fig.request_resize(ui.size.width, ui.size.height);\n",
       "        },\n",
       "        stop: function(event, ui) {\n",
       "            pass_mouse_events = true;\n",
       "            fig.request_resize(ui.size.width, ui.size.height);\n",
       "        },\n",
       "    });\n",
       "\n",
       "    function mouse_event_fn(event) {\n",
       "        if (pass_mouse_events)\n",
       "            return fig.mouse_event(event, event['data']);\n",
       "    }\n",
       "\n",
       "    rubberband.mousedown('button_press', mouse_event_fn);\n",
       "    rubberband.mouseup('button_release', mouse_event_fn);\n",
       "    // Throttle sequential mouse events to 1 every 20ms.\n",
       "    rubberband.mousemove('motion_notify', mouse_event_fn);\n",
       "\n",
       "    rubberband.mouseenter('figure_enter', mouse_event_fn);\n",
       "    rubberband.mouseleave('figure_leave', mouse_event_fn);\n",
       "\n",
       "    canvas_div.on(\"wheel\", function (event) {\n",
       "        event = event.originalEvent;\n",
       "        event['data'] = 'scroll'\n",
       "        if (event.deltaY < 0) {\n",
       "            event.step = 1;\n",
       "        } else {\n",
       "            event.step = -1;\n",
       "        }\n",
       "        mouse_event_fn(event);\n",
       "    });\n",
       "\n",
       "    canvas_div.append(canvas);\n",
       "    canvas_div.append(rubberband);\n",
       "\n",
       "    this.rubberband = rubberband;\n",
       "    this.rubberband_canvas = rubberband[0];\n",
       "    this.rubberband_context = rubberband[0].getContext(\"2d\");\n",
       "    this.rubberband_context.strokeStyle = \"#000000\";\n",
       "\n",
       "    this._resize_canvas = function(width, height) {\n",
       "        // Keep the size of the canvas, canvas container, and rubber band\n",
       "        // canvas in synch.\n",
       "        canvas_div.css('width', width)\n",
       "        canvas_div.css('height', height)\n",
       "\n",
       "        canvas.attr('width', width * mpl.ratio);\n",
       "        canvas.attr('height', height * mpl.ratio);\n",
       "        canvas.attr('style', 'width: ' + width + 'px; height: ' + height + 'px;');\n",
       "\n",
       "        rubberband.attr('width', width);\n",
       "        rubberband.attr('height', height);\n",
       "    }\n",
       "\n",
       "    // Set the figure to an initial 600x600px, this will subsequently be updated\n",
       "    // upon first draw.\n",
       "    this._resize_canvas(600, 600);\n",
       "\n",
       "    // Disable right mouse context menu.\n",
       "    $(this.rubberband_canvas).bind(\"contextmenu\",function(e){\n",
       "        return false;\n",
       "    });\n",
       "\n",
       "    function set_focus () {\n",
       "        canvas.focus();\n",
       "        canvas_div.focus();\n",
       "    }\n",
       "\n",
       "    window.setTimeout(set_focus, 100);\n",
       "}\n",
       "\n",
       "mpl.figure.prototype._init_toolbar = function() {\n",
       "    var fig = this;\n",
       "\n",
       "    var nav_element = $('<div/>')\n",
       "    nav_element.attr('style', 'width: 100%');\n",
       "    this.root.append(nav_element);\n",
       "\n",
       "    // Define a callback function for later on.\n",
       "    function toolbar_event(event) {\n",
       "        return fig.toolbar_button_onclick(event['data']);\n",
       "    }\n",
       "    function toolbar_mouse_event(event) {\n",
       "        return fig.toolbar_button_onmouseover(event['data']);\n",
       "    }\n",
       "\n",
       "    for(var toolbar_ind in mpl.toolbar_items) {\n",
       "        var name = mpl.toolbar_items[toolbar_ind][0];\n",
       "        var tooltip = mpl.toolbar_items[toolbar_ind][1];\n",
       "        var image = mpl.toolbar_items[toolbar_ind][2];\n",
       "        var method_name = mpl.toolbar_items[toolbar_ind][3];\n",
       "\n",
       "        if (!name) {\n",
       "            // put a spacer in here.\n",
       "            continue;\n",
       "        }\n",
       "        var button = $('<button/>');\n",
       "        button.addClass('ui-button ui-widget ui-state-default ui-corner-all ' +\n",
       "                        'ui-button-icon-only');\n",
       "        button.attr('role', 'button');\n",
       "        button.attr('aria-disabled', 'false');\n",
       "        button.click(method_name, toolbar_event);\n",
       "        button.mouseover(tooltip, toolbar_mouse_event);\n",
       "\n",
       "        var icon_img = $('<span/>');\n",
       "        icon_img.addClass('ui-button-icon-primary ui-icon');\n",
       "        icon_img.addClass(image);\n",
       "        icon_img.addClass('ui-corner-all');\n",
       "\n",
       "        var tooltip_span = $('<span/>');\n",
       "        tooltip_span.addClass('ui-button-text');\n",
       "        tooltip_span.html(tooltip);\n",
       "\n",
       "        button.append(icon_img);\n",
       "        button.append(tooltip_span);\n",
       "\n",
       "        nav_element.append(button);\n",
       "    }\n",
       "\n",
       "    var fmt_picker_span = $('<span/>');\n",
       "\n",
       "    var fmt_picker = $('<select/>');\n",
       "    fmt_picker.addClass('mpl-toolbar-option ui-widget ui-widget-content');\n",
       "    fmt_picker_span.append(fmt_picker);\n",
       "    nav_element.append(fmt_picker_span);\n",
       "    this.format_dropdown = fmt_picker[0];\n",
       "\n",
       "    for (var ind in mpl.extensions) {\n",
       "        var fmt = mpl.extensions[ind];\n",
       "        var option = $(\n",
       "            '<option/>', {selected: fmt === mpl.default_extension}).html(fmt);\n",
       "        fmt_picker.append(option)\n",
       "    }\n",
       "\n",
       "    // Add hover states to the ui-buttons\n",
       "    $( \".ui-button\" ).hover(\n",
       "        function() { $(this).addClass(\"ui-state-hover\");},\n",
       "        function() { $(this).removeClass(\"ui-state-hover\");}\n",
       "    );\n",
       "\n",
       "    var status_bar = $('<span class=\"mpl-message\"/>');\n",
       "    nav_element.append(status_bar);\n",
       "    this.message = status_bar[0];\n",
       "}\n",
       "\n",
       "mpl.figure.prototype.request_resize = function(x_pixels, y_pixels) {\n",
       "    // Request matplotlib to resize the figure. Matplotlib will then trigger a resize in the client,\n",
       "    // which will in turn request a refresh of the image.\n",
       "    this.send_message('resize', {'width': x_pixels, 'height': y_pixels});\n",
       "}\n",
       "\n",
       "mpl.figure.prototype.send_message = function(type, properties) {\n",
       "    properties['type'] = type;\n",
       "    properties['figure_id'] = this.id;\n",
       "    this.ws.send(JSON.stringify(properties));\n",
       "}\n",
       "\n",
       "mpl.figure.prototype.send_draw_message = function() {\n",
       "    if (!this.waiting) {\n",
       "        this.waiting = true;\n",
       "        this.ws.send(JSON.stringify({type: \"draw\", figure_id: this.id}));\n",
       "    }\n",
       "}\n",
       "\n",
       "\n",
       "mpl.figure.prototype.handle_save = function(fig, msg) {\n",
       "    var format_dropdown = fig.format_dropdown;\n",
       "    var format = format_dropdown.options[format_dropdown.selectedIndex].value;\n",
       "    fig.ondownload(fig, format);\n",
       "}\n",
       "\n",
       "\n",
       "mpl.figure.prototype.handle_resize = function(fig, msg) {\n",
       "    var size = msg['size'];\n",
       "    if (size[0] != fig.canvas.width || size[1] != fig.canvas.height) {\n",
       "        fig._resize_canvas(size[0], size[1]);\n",
       "        fig.send_message(\"refresh\", {});\n",
       "    };\n",
       "}\n",
       "\n",
       "mpl.figure.prototype.handle_rubberband = function(fig, msg) {\n",
       "    var x0 = msg['x0'] / mpl.ratio;\n",
       "    var y0 = (fig.canvas.height - msg['y0']) / mpl.ratio;\n",
       "    var x1 = msg['x1'] / mpl.ratio;\n",
       "    var y1 = (fig.canvas.height - msg['y1']) / mpl.ratio;\n",
       "    x0 = Math.floor(x0) + 0.5;\n",
       "    y0 = Math.floor(y0) + 0.5;\n",
       "    x1 = Math.floor(x1) + 0.5;\n",
       "    y1 = Math.floor(y1) + 0.5;\n",
       "    var min_x = Math.min(x0, x1);\n",
       "    var min_y = Math.min(y0, y1);\n",
       "    var width = Math.abs(x1 - x0);\n",
       "    var height = Math.abs(y1 - y0);\n",
       "\n",
       "    fig.rubberband_context.clearRect(\n",
       "        0, 0, fig.canvas.width, fig.canvas.height);\n",
       "\n",
       "    fig.rubberband_context.strokeRect(min_x, min_y, width, height);\n",
       "}\n",
       "\n",
       "mpl.figure.prototype.handle_figure_label = function(fig, msg) {\n",
       "    // Updates the figure title.\n",
       "    fig.header.textContent = msg['label'];\n",
       "}\n",
       "\n",
       "mpl.figure.prototype.handle_cursor = function(fig, msg) {\n",
       "    var cursor = msg['cursor'];\n",
       "    switch(cursor)\n",
       "    {\n",
       "    case 0:\n",
       "        cursor = 'pointer';\n",
       "        break;\n",
       "    case 1:\n",
       "        cursor = 'default';\n",
       "        break;\n",
       "    case 2:\n",
       "        cursor = 'crosshair';\n",
       "        break;\n",
       "    case 3:\n",
       "        cursor = 'move';\n",
       "        break;\n",
       "    }\n",
       "    fig.rubberband_canvas.style.cursor = cursor;\n",
       "}\n",
       "\n",
       "mpl.figure.prototype.handle_message = function(fig, msg) {\n",
       "    fig.message.textContent = msg['message'];\n",
       "}\n",
       "\n",
       "mpl.figure.prototype.handle_draw = function(fig, msg) {\n",
       "    // Request the server to send over a new figure.\n",
       "    fig.send_draw_message();\n",
       "}\n",
       "\n",
       "mpl.figure.prototype.handle_image_mode = function(fig, msg) {\n",
       "    fig.image_mode = msg['mode'];\n",
       "}\n",
       "\n",
       "mpl.figure.prototype.updated_canvas_event = function() {\n",
       "    // Called whenever the canvas gets updated.\n",
       "    this.send_message(\"ack\", {});\n",
       "}\n",
       "\n",
       "// A function to construct a web socket function for onmessage handling.\n",
       "// Called in the figure constructor.\n",
       "mpl.figure.prototype._make_on_message_function = function(fig) {\n",
       "    return function socket_on_message(evt) {\n",
       "        if (evt.data instanceof Blob) {\n",
       "            /* FIXME: We get \"Resource interpreted as Image but\n",
       "             * transferred with MIME type text/plain:\" errors on\n",
       "             * Chrome.  But how to set the MIME type?  It doesn't seem\n",
       "             * to be part of the websocket stream */\n",
       "            evt.data.type = \"image/png\";\n",
       "\n",
       "            /* Free the memory for the previous frames */\n",
       "            if (fig.imageObj.src) {\n",
       "                (window.URL || window.webkitURL).revokeObjectURL(\n",
       "                    fig.imageObj.src);\n",
       "            }\n",
       "\n",
       "            fig.imageObj.src = (window.URL || window.webkitURL).createObjectURL(\n",
       "                evt.data);\n",
       "            fig.updated_canvas_event();\n",
       "            fig.waiting = false;\n",
       "            return;\n",
       "        }\n",
       "        else if (typeof evt.data === 'string' && evt.data.slice(0, 21) == \"data:image/png;base64\") {\n",
       "            fig.imageObj.src = evt.data;\n",
       "            fig.updated_canvas_event();\n",
       "            fig.waiting = false;\n",
       "            return;\n",
       "        }\n",
       "\n",
       "        var msg = JSON.parse(evt.data);\n",
       "        var msg_type = msg['type'];\n",
       "\n",
       "        // Call the  \"handle_{type}\" callback, which takes\n",
       "        // the figure and JSON message as its only arguments.\n",
       "        try {\n",
       "            var callback = fig[\"handle_\" + msg_type];\n",
       "        } catch (e) {\n",
       "            console.log(\"No handler for the '\" + msg_type + \"' message type: \", msg);\n",
       "            return;\n",
       "        }\n",
       "\n",
       "        if (callback) {\n",
       "            try {\n",
       "                // console.log(\"Handling '\" + msg_type + \"' message: \", msg);\n",
       "                callback(fig, msg);\n",
       "            } catch (e) {\n",
       "                console.log(\"Exception inside the 'handler_\" + msg_type + \"' callback:\", e, e.stack, msg);\n",
       "            }\n",
       "        }\n",
       "    };\n",
       "}\n",
       "\n",
       "// from http://stackoverflow.com/questions/1114465/getting-mouse-location-in-canvas\n",
       "mpl.findpos = function(e) {\n",
       "    //this section is from http://www.quirksmode.org/js/events_properties.html\n",
       "    var targ;\n",
       "    if (!e)\n",
       "        e = window.event;\n",
       "    if (e.target)\n",
       "        targ = e.target;\n",
       "    else if (e.srcElement)\n",
       "        targ = e.srcElement;\n",
       "    if (targ.nodeType == 3) // defeat Safari bug\n",
       "        targ = targ.parentNode;\n",
       "\n",
       "    // jQuery normalizes the pageX and pageY\n",
       "    // pageX,Y are the mouse positions relative to the document\n",
       "    // offset() returns the position of the element relative to the document\n",
       "    var x = e.pageX - $(targ).offset().left;\n",
       "    var y = e.pageY - $(targ).offset().top;\n",
       "\n",
       "    return {\"x\": x, \"y\": y};\n",
       "};\n",
       "\n",
       "/*\n",
       " * return a copy of an object with only non-object keys\n",
       " * we need this to avoid circular references\n",
       " * http://stackoverflow.com/a/24161582/3208463\n",
       " */\n",
       "function simpleKeys (original) {\n",
       "  return Object.keys(original).reduce(function (obj, key) {\n",
       "    if (typeof original[key] !== 'object')\n",
       "        obj[key] = original[key]\n",
       "    return obj;\n",
       "  }, {});\n",
       "}\n",
       "\n",
       "mpl.figure.prototype.mouse_event = function(event, name) {\n",
       "    var canvas_pos = mpl.findpos(event)\n",
       "\n",
       "    if (name === 'button_press')\n",
       "    {\n",
       "        this.canvas.focus();\n",
       "        this.canvas_div.focus();\n",
       "    }\n",
       "\n",
       "    var x = canvas_pos.x * mpl.ratio;\n",
       "    var y = canvas_pos.y * mpl.ratio;\n",
       "\n",
       "    this.send_message(name, {x: x, y: y, button: event.button,\n",
       "                             step: event.step,\n",
       "                             guiEvent: simpleKeys(event)});\n",
       "\n",
       "    /* This prevents the web browser from automatically changing to\n",
       "     * the text insertion cursor when the button is pressed.  We want\n",
       "     * to control all of the cursor setting manually through the\n",
       "     * 'cursor' event from matplotlib */\n",
       "    event.preventDefault();\n",
       "    return false;\n",
       "}\n",
       "\n",
       "mpl.figure.prototype._key_event_extra = function(event, name) {\n",
       "    // Handle any extra behaviour associated with a key event\n",
       "}\n",
       "\n",
       "mpl.figure.prototype.key_event = function(event, name) {\n",
       "\n",
       "    // Prevent repeat events\n",
       "    if (name == 'key_press')\n",
       "    {\n",
       "        if (event.which === this._key)\n",
       "            return;\n",
       "        else\n",
       "            this._key = event.which;\n",
       "    }\n",
       "    if (name == 'key_release')\n",
       "        this._key = null;\n",
       "\n",
       "    var value = '';\n",
       "    if (event.ctrlKey && event.which != 17)\n",
       "        value += \"ctrl+\";\n",
       "    if (event.altKey && event.which != 18)\n",
       "        value += \"alt+\";\n",
       "    if (event.shiftKey && event.which != 16)\n",
       "        value += \"shift+\";\n",
       "\n",
       "    value += 'k';\n",
       "    value += event.which.toString();\n",
       "\n",
       "    this._key_event_extra(event, name);\n",
       "\n",
       "    this.send_message(name, {key: value,\n",
       "                             guiEvent: simpleKeys(event)});\n",
       "    return false;\n",
       "}\n",
       "\n",
       "mpl.figure.prototype.toolbar_button_onclick = function(name) {\n",
       "    if (name == 'download') {\n",
       "        this.handle_save(this, null);\n",
       "    } else {\n",
       "        this.send_message(\"toolbar_button\", {name: name});\n",
       "    }\n",
       "};\n",
       "\n",
       "mpl.figure.prototype.toolbar_button_onmouseover = function(tooltip) {\n",
       "    this.message.textContent = tooltip;\n",
       "};\n",
       "mpl.toolbar_items = [[\"Home\", \"Reset original view\", \"fa fa-home icon-home\", \"home\"], [\"Back\", \"Back to  previous view\", \"fa fa-arrow-left icon-arrow-left\", \"back\"], [\"Forward\", \"Forward to next view\", \"fa fa-arrow-right icon-arrow-right\", \"forward\"], [\"\", \"\", \"\", \"\"], [\"Pan\", \"Pan axes with left mouse, zoom with right\", \"fa fa-arrows icon-move\", \"pan\"], [\"Zoom\", \"Zoom to rectangle\", \"fa fa-square-o icon-check-empty\", \"zoom\"], [\"\", \"\", \"\", \"\"], [\"Download\", \"Download plot\", \"fa fa-floppy-o icon-save\", \"download\"]];\n",
       "\n",
       "mpl.extensions = [\"eps\", \"jpeg\", \"pdf\", \"png\", \"ps\", \"raw\", \"svg\", \"tif\"];\n",
       "\n",
       "mpl.default_extension = \"png\";var comm_websocket_adapter = function(comm) {\n",
       "    // Create a \"websocket\"-like object which calls the given IPython comm\n",
       "    // object with the appropriate methods. Currently this is a non binary\n",
       "    // socket, so there is still some room for performance tuning.\n",
       "    var ws = {};\n",
       "\n",
       "    ws.close = function() {\n",
       "        comm.close()\n",
       "    };\n",
       "    ws.send = function(m) {\n",
       "        //console.log('sending', m);\n",
       "        comm.send(m);\n",
       "    };\n",
       "    // Register the callback with on_msg.\n",
       "    comm.on_msg(function(msg) {\n",
       "        //console.log('receiving', msg['content']['data'], msg);\n",
       "        // Pass the mpl event to the overriden (by mpl) onmessage function.\n",
       "        ws.onmessage(msg['content']['data'])\n",
       "    });\n",
       "    return ws;\n",
       "}\n",
       "\n",
       "mpl.mpl_figure_comm = function(comm, msg) {\n",
       "    // This is the function which gets called when the mpl process\n",
       "    // starts-up an IPython Comm through the \"matplotlib\" channel.\n",
       "\n",
       "    var id = msg.content.data.id;\n",
       "    // Get hold of the div created by the display call when the Comm\n",
       "    // socket was opened in Python.\n",
       "    var element = $(\"#\" + id);\n",
       "    var ws_proxy = comm_websocket_adapter(comm)\n",
       "\n",
       "    function ondownload(figure, format) {\n",
       "        window.open(figure.imageObj.src);\n",
       "    }\n",
       "\n",
       "    var fig = new mpl.figure(id, ws_proxy,\n",
       "                           ondownload,\n",
       "                           element.get(0));\n",
       "\n",
       "    // Call onopen now - mpl needs it, as it is assuming we've passed it a real\n",
       "    // web socket which is closed, not our websocket->open comm proxy.\n",
       "    ws_proxy.onopen();\n",
       "\n",
       "    fig.parent_element = element.get(0);\n",
       "    fig.cell_info = mpl.find_output_cell(\"<div id='\" + id + \"'></div>\");\n",
       "    if (!fig.cell_info) {\n",
       "        console.error(\"Failed to find cell for figure\", id, fig);\n",
       "        return;\n",
       "    }\n",
       "\n",
       "    var output_index = fig.cell_info[2]\n",
       "    var cell = fig.cell_info[0];\n",
       "\n",
       "};\n",
       "\n",
       "mpl.figure.prototype.handle_close = function(fig, msg) {\n",
       "    var width = fig.canvas.width/mpl.ratio\n",
       "    fig.root.unbind('remove')\n",
       "\n",
       "    // Update the output cell to use the data from the current canvas.\n",
       "    fig.push_to_output();\n",
       "    var dataURL = fig.canvas.toDataURL();\n",
       "    // Re-enable the keyboard manager in IPython - without this line, in FF,\n",
       "    // the notebook keyboard shortcuts fail.\n",
       "    IPython.keyboard_manager.enable()\n",
       "    $(fig.parent_element).html('<img src=\"' + dataURL + '\" width=\"' + width + '\">');\n",
       "    fig.close_ws(fig, msg);\n",
       "}\n",
       "\n",
       "mpl.figure.prototype.close_ws = function(fig, msg){\n",
       "    fig.send_message('closing', msg);\n",
       "    // fig.ws.close()\n",
       "}\n",
       "\n",
       "mpl.figure.prototype.push_to_output = function(remove_interactive) {\n",
       "    // Turn the data on the canvas into data in the output cell.\n",
       "    var width = this.canvas.width/mpl.ratio\n",
       "    var dataURL = this.canvas.toDataURL();\n",
       "    this.cell_info[1]['text/html'] = '<img src=\"' + dataURL + '\" width=\"' + width + '\">';\n",
       "}\n",
       "\n",
       "mpl.figure.prototype.updated_canvas_event = function() {\n",
       "    // Tell IPython that the notebook contents must change.\n",
       "    IPython.notebook.set_dirty(true);\n",
       "    this.send_message(\"ack\", {});\n",
       "    var fig = this;\n",
       "    // Wait a second, then push the new image to the DOM so\n",
       "    // that it is saved nicely (might be nice to debounce this).\n",
       "    setTimeout(function () { fig.push_to_output() }, 1000);\n",
       "}\n",
       "\n",
       "mpl.figure.prototype._init_toolbar = function() {\n",
       "    var fig = this;\n",
       "\n",
       "    var nav_element = $('<div/>')\n",
       "    nav_element.attr('style', 'width: 100%');\n",
       "    this.root.append(nav_element);\n",
       "\n",
       "    // Define a callback function for later on.\n",
       "    function toolbar_event(event) {\n",
       "        return fig.toolbar_button_onclick(event['data']);\n",
       "    }\n",
       "    function toolbar_mouse_event(event) {\n",
       "        return fig.toolbar_button_onmouseover(event['data']);\n",
       "    }\n",
       "\n",
       "    for(var toolbar_ind in mpl.toolbar_items){\n",
       "        var name = mpl.toolbar_items[toolbar_ind][0];\n",
       "        var tooltip = mpl.toolbar_items[toolbar_ind][1];\n",
       "        var image = mpl.toolbar_items[toolbar_ind][2];\n",
       "        var method_name = mpl.toolbar_items[toolbar_ind][3];\n",
       "\n",
       "        if (!name) { continue; };\n",
       "\n",
       "        var button = $('<button class=\"btn btn-default\" href=\"#\" title=\"' + name + '\"><i class=\"fa ' + image + ' fa-lg\"></i></button>');\n",
       "        button.click(method_name, toolbar_event);\n",
       "        button.mouseover(tooltip, toolbar_mouse_event);\n",
       "        nav_element.append(button);\n",
       "    }\n",
       "\n",
       "    // Add the status bar.\n",
       "    var status_bar = $('<span class=\"mpl-message\" style=\"text-align:right; float: right;\"/>');\n",
       "    nav_element.append(status_bar);\n",
       "    this.message = status_bar[0];\n",
       "\n",
       "    // Add the close button to the window.\n",
       "    var buttongrp = $('<div class=\"btn-group inline pull-right\"></div>');\n",
       "    var button = $('<button class=\"btn btn-mini btn-primary\" href=\"#\" title=\"Stop Interaction\"><i class=\"fa fa-power-off icon-remove icon-large\"></i></button>');\n",
       "    button.click(function (evt) { fig.handle_close(fig, {}); } );\n",
       "    button.mouseover('Stop Interaction', toolbar_mouse_event);\n",
       "    buttongrp.append(button);\n",
       "    var titlebar = this.root.find($('.ui-dialog-titlebar'));\n",
       "    titlebar.prepend(buttongrp);\n",
       "}\n",
       "\n",
       "mpl.figure.prototype._root_extra_style = function(el){\n",
       "    var fig = this\n",
       "    el.on(\"remove\", function(){\n",
       "\tfig.close_ws(fig, {});\n",
       "    });\n",
       "}\n",
       "\n",
       "mpl.figure.prototype._canvas_extra_style = function(el){\n",
       "    // this is important to make the div 'focusable\n",
       "    el.attr('tabindex', 0)\n",
       "    // reach out to IPython and tell the keyboard manager to turn it's self\n",
       "    // off when our div gets focus\n",
       "\n",
       "    // location in version 3\n",
       "    if (IPython.notebook.keyboard_manager) {\n",
       "        IPython.notebook.keyboard_manager.register_events(el);\n",
       "    }\n",
       "    else {\n",
       "        // location in version 2\n",
       "        IPython.keyboard_manager.register_events(el);\n",
       "    }\n",
       "\n",
       "}\n",
       "\n",
       "mpl.figure.prototype._key_event_extra = function(event, name) {\n",
       "    var manager = IPython.notebook.keyboard_manager;\n",
       "    if (!manager)\n",
       "        manager = IPython.keyboard_manager;\n",
       "\n",
       "    // Check for shift+enter\n",
       "    if (event.shiftKey && event.which == 13) {\n",
       "        this.canvas_div.blur();\n",
       "        // select the cell after this one\n",
       "        var index = IPython.notebook.find_cell_index(this.cell_info[0]);\n",
       "        IPython.notebook.select(index + 1);\n",
       "    }\n",
       "}\n",
       "\n",
       "mpl.figure.prototype.handle_save = function(fig, msg) {\n",
       "    fig.ondownload(fig, null);\n",
       "}\n",
       "\n",
       "\n",
       "mpl.find_output_cell = function(html_output) {\n",
       "    // Return the cell and output element which can be found *uniquely* in the notebook.\n",
       "    // Note - this is a bit hacky, but it is done because the \"notebook_saving.Notebook\"\n",
       "    // IPython event is triggered only after the cells have been serialised, which for\n",
       "    // our purposes (turning an active figure into a static one), is too late.\n",
       "    var cells = IPython.notebook.get_cells();\n",
       "    var ncells = cells.length;\n",
       "    for (var i=0; i<ncells; i++) {\n",
       "        var cell = cells[i];\n",
       "        if (cell.cell_type === 'code'){\n",
       "            for (var j=0; j<cell.output_area.outputs.length; j++) {\n",
       "                var data = cell.output_area.outputs[j];\n",
       "                if (data.data) {\n",
       "                    // IPython >= 3 moved mimebundle to data attribute of output\n",
       "                    data = data.data;\n",
       "                }\n",
       "                if (data['text/html'] == html_output) {\n",
       "                    return [cell, data, j];\n",
       "                }\n",
       "            }\n",
       "        }\n",
       "    }\n",
       "}\n",
       "\n",
       "// Register the function which deals with the matplotlib target/channel.\n",
       "// The kernel may be null if the page has been refreshed.\n",
       "if (IPython.notebook.kernel != null) {\n",
       "    IPython.notebook.kernel.comm_manager.register_target('matplotlib', mpl.mpl_figure_comm);\n",
       "}\n"
      ],
      "text/plain": [
       "<IPython.core.display.Javascript object>"
      ]
     },
     "metadata": {},
     "output_type": "display_data"
    },
    {
     "data": {
      "text/html": [
       "<img src=\"data:image/png;base64,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\" width=\"426.53334689246327\">"
      ],
      "text/plain": [
       "<IPython.core.display.HTML object>"
      ]
     },
     "metadata": {},
     "output_type": "display_data"
    },
    {
     "name": "stdout",
     "output_type": "stream",
     "text": [
      "une valeur approchée de I vaut :  3.69202121783\n"
     ]
    }
   ],
   "source": [
    "f = lambda x:np.exp(x)\n",
    "I = IntMethRectangle(f,0,np.pi/2,25)\n",
    "print('une valeur approchée de I vaut : ',I)"
   ]
  },
  {
   "cell_type": "markdown",
   "metadata": {
    "slideshow": {
     "slide_type": "subslide"
    }
   },
   "source": [
    "** A faire : ** Modifier la cellule de code précédente en modifiant les valeurs de $n$ et vérifier manuellement que la limite vaut $$I=\\displaystyle\\int_0^{\\pi}\\sin(t)dt=\\left[-\\cos(t)\\right]_0^{\\pi}=2$$ \n",
    "Essayez aussi avec d'autres fonctions de votre choix sur des intervalles variés !"
   ]
  },
  {
   "cell_type": "markdown",
   "metadata": {
    "slideshow": {
     "slide_type": "slide"
    }
   },
   "source": [
    "**REMARQUE :** Python dispose d'une bibliothèque qui dispose de fonctions permettant d'obtenir directement une approximation d'une intégrale donnée.  \n",
    "Il s'agit du module `integrate` de la bibliothèque `scipy`.  \n",
    "\n",
    "Pour l'utiliser, on pourra écrire :  "
   ]
  },
  {
   "cell_type": "code",
   "execution_count": 7,
   "metadata": {
    "collapsed": true,
    "slideshow": {
     "slide_type": "subslide"
    }
   },
   "outputs": [],
   "source": [
    "from scipy import integrate"
   ]
  },
  {
   "cell_type": "code",
   "execution_count": null,
   "metadata": {
    "collapsed": true,
    "slideshow": {
     "slide_type": "fragment"
    }
   },
   "outputs": [],
   "source": [
    "help(integrate.quad)"
   ]
  },
  {
   "cell_type": "code",
   "execution_count": null,
   "metadata": {
    "collapsed": true,
    "slideshow": {
     "slide_type": "fragment"
    }
   },
   "outputs": [],
   "source": [
    "R = integrate.quad(f,0,np.pi/2) # approximation numérique de l'intégrale de f sur [0,pi/2]\n",
    "print(R) # R[0] donne la valeur approchée de I et R[1] donne l'erreur commise"
   ]
  },
  {
   "cell_type": "markdown",
   "metadata": {
    "slideshow": {
     "slide_type": "slide"
    }
   },
   "source": [
    "## 3. Exercices."
   ]
  },
  {
   "cell_type": "markdown",
   "metadata": {
    "slideshow": {
     "slide_type": "-"
    }
   },
   "source": [
    "Dans chacun des quatre exercices à suivre, déterminer une primitive $F$ des fonctions $f$ suivantes et valider votre réponse en calculant l'intégrale sur l'intervalle $I=[a,b]$ de trois manière distinctes :  \n",
    "\n",
    "a) en calculant $F(b)-F(a)$  \n",
    "b) en utilisant la fonction `IntMethRectangle(f,a,b,n)`  \n",
    "c) en utilisant la méthode `quad()` de la bibliothèque `scipy.integrate`.  \n",
    "\n",
    "**Remarque :** A titre d'exercice, on pourra faire l'étude de ces fonctions (ensemble de définition, continuité et dérivabilité, parité, tableau de variation et allure) et on s'entraînera à utiliser Geogebra pour obtenir rapidement une représentation graphique."
   ]
  },
  {
   "cell_type": "markdown",
   "metadata": {},
   "source": [
    "### Exercice 1 : Les primitives usuelles."
   ]
  },
  {
   "cell_type": "markdown",
   "metadata": {
    "slideshow": {
     "slide_type": "slide"
    }
   },
   "source": [
    "1. $f(x)=3x-1$, $I=[0,2]$  \n",
    "2. $f(x)=\\cfrac{3}{2x}$, $I_1=[1,2]$ et $I_2=[-2,-1]$\n",
    "3. $f(x)=\\cfrac{\\cos(2x)}{3}$, $I=[-\\pi/4,\\pi/4]$\n",
    "4. $f(x)=(2x+1)(x^2+x+1)^2$, $I=[-1,1/2]$  \n",
    "5. $f(x)=\\cfrac{x^2-1}{\\sqrt{x^3-3x+1}}$, $I=[2,6]$  \n",
    "6. $f(x)=\\cfrac{x^5}{1+x^6}$, $I_1=[-3,3]$, $I_2=[0,4]$  \n",
    "7. $f(x)=\\cfrac{1}{x\\ln(|x|)}$, $I=[-4,-2]$  \n",
    "8. $f(x)=\\cfrac{\\sqrt{1+\\ln(x)}}{x}$, $I=[1/e,3]$  \n",
    "9. $f(x)=\\cfrac{\\cos(x)}{\\sin^2(x)}$, $I=[1/2,2]$  \n",
    "10. $f(x)=\\cfrac{\\cos(x)}{4+\\sin^2(x)}$, $I=[-1,3]$  \n",
    "11. $f(x)=2^{3x+4}$, $I=[-3,0]$ "
   ]
  },
  {
   "cell_type": "code",
   "execution_count": null,
   "metadata": {
    "collapsed": true
   },
   "outputs": [],
   "source": [
    "f = lambda x:...  # à compléter (par exemple pour 1. : f = lambda x:3*x-1)\n",
    "F = lambda x:... # a compléter (pour 1. : F = lambda x:(3/2)*x**2-x)\n",
    "a,b = ...  # à compléter (pour 1. a,b = 0,2)\n",
    "I1 = F(b)-F(a)\n",
    "I2 = IntMethRectangle(f,a,b,1e3)\n",
    "R = integrate.quad(f,a,b)\n",
    "I3 = R[0]\n",
    "print(I1,I2,I3)"
   ]
  },
  {
   "cell_type": "markdown",
   "metadata": {},
   "source": [
    "### Exercices 2 : Les formes rationnelles de la forme $\\cfrac{\\alpha x+\\beta}{ax^2+bx+c}$"
   ]
  },
  {
   "cell_type": "markdown",
   "metadata": {},
   "source": [
    "12. $f(x)=\\cfrac{1}{x^2-1}$, $I_1=[3/2,4]$, $I_2=[-1/2,1/2]$. *Indication :* Trouver $a,b\\in\\mathbb{R}$ tels que : $f(x)=\\cfrac{a}{x-1}+\\cfrac{b}{x+1}$\n",
    "13. $f(x)=\\cfrac{x+3}{x^2-1}$, $I=[3/2,4]$  \n",
    "14. $f(x)=\\cfrac{x+2}{x^2+2x+1}$, $I=[0,5]$  \n",
    "15. $f(x)=\\cfrac{1}{x^2+x+1}$, $I=[-2,2]$ (*remarque :* penser à utiliser la forme canonique pour faire apparaître un $\\arctan()$).  \n",
    "16. $f(x)=\\cfrac{2x+2}{x^2+x+1}$, $I=[-1,3]$"
   ]
  },
  {
   "cell_type": "code",
   "execution_count": null,
   "metadata": {
    "collapsed": true
   },
   "outputs": [],
   "source": [
    "f = lambda x:...  # à compléter (par exemple pour 1. : f = lambda x:1/(x**2-1))\n",
    "F = lambda x:... # a compléter \n",
    "a,b = ...  # à compléter\n",
    "I1 = F(b)-F(a)\n",
    "I2 = IntMethRectangle(f,a,b,1e3)\n",
    "R = integrate.quad(f,a,b)\n",
    "I3 = R[0]\n",
    "print(I1,I2,I3)"
   ]
  },
  {
   "cell_type": "markdown",
   "metadata": {},
   "source": [
    "### Exercice 3 : Les intégrations par parties."
   ]
  },
  {
   "cell_type": "markdown",
   "metadata": {},
   "source": [
    "1. $f(x)=xe^x$, $I=[-1,1]$  \n",
    "\n",
    "2. $f(x)=\\cfrac{\\arctan(x)}{x^2}$, $I=[1/2,3]$\n",
    "\n",
    "3. $f(x)=\\ln(x+\\sqrt{x^2-1})$, $I=[1,5]$  \n",
    "\n",
    "4. $f(x)=\\arctan(\\sqrt{x})$, $I=[0,2]$"
   ]
  },
  {
   "cell_type": "code",
   "execution_count": null,
   "metadata": {
    "collapsed": true
   },
   "outputs": [],
   "source": [
    "f = lambda x:...  # à compléter (par exemple pour 1. : f = lambda x:x*np.exp(x))\n",
    "F = lambda x:... # a compléter \n",
    "a,b = ...  # à compléter\n",
    "I1 = F(b)-F(a)\n",
    "I2 = IntMethRectangle(f,a,b,1e3)\n",
    "R = integrate.quad(f,a,b)\n",
    "I3 = R[0]\n",
    "print(I1,I2,I3)"
   ]
  },
  {
   "cell_type": "markdown",
   "metadata": {},
   "source": [
    "### Exercice 4 : Les changements de variables."
   ]
  },
  {
   "cell_type": "markdown",
   "metadata": {},
   "source": [
    "1. $F(x)=\\displaystyle\\int_0^x\\cfrac{t}{1+t^4}dt$ ; fonction changement de variable $s=u(t)=t^2$.  \n",
    "2. $F(x)=\\displaystyle\\int_0^x\\cfrac{dt}{\\cos^4(t)}$, $\\forall x\\in ]-\\cfrac{\\pi}{2},\\cfrac{\\pi}{2}[$ ; fonction changement de variable $s=u(t)=\\tan(t)$.  \n",
    "3. $F(x)=\\displaystyle\\int_1^x\\cfrac{dt}{t\\sqrt{1+t}}$, $\\forall x\\in \\mathbb{R}_+^*$ ; fonction changement de variable $s=u(t)=\\sqrt{1+t}$  \n",
    "4.  $F(x)=\\displaystyle\\int_0^x\\cfrac{\\sqrt{t}}{(t+1)^2}dt$, $\\forall x\\in \\mathbb{R}_+^*$ ; fonction changement de variable $s=u(t)=\\sqrt{t}$ "
   ]
  },
  {
   "cell_type": "code",
   "execution_count": null,
   "metadata": {
    "collapsed": true
   },
   "outputs": [],
   "source": [
    "f = lambda x:...  # à compléter (par exemple pour 1. : f = lambda x:x*np.exp(x))\n",
    "F = lambda x:... # a compléter \n",
    "a,b = ...  # à compléter\n",
    "I1 = F(b)-F(a)\n",
    "I2 = IntMethRectangle(f,a,b,1e3)\n",
    "R = integrate.quad(f,a,b)\n",
    "I3 = R[0]\n",
    "print(I1,I2,I3)"
   ]
  },
  {
   "cell_type": "markdown",
   "metadata": {
    "slideshow": {
     "slide_type": "slide"
    }
   },
   "source": [
    "## 4. Solutions des exercices."
   ]
  },
  {
   "cell_type": "markdown",
   "metadata": {},
   "source": [
    "### Correction exercice 1:"
   ]
  },
  {
   "cell_type": "markdown",
   "metadata": {
    "slideshow": {
     "slide_type": "slide"
    }
   },
   "source": [
    "> 1. $F(x)=3x^2/2-x$\n",
    "> 2. $F(x)= \\cfrac{3}{2}\\ln(|x|)$\n",
    "> 3. $F(x)= \\cfrac{\\sin(2x)}{6}$\n",
    "> 4. $F(x)=\\cfrac{(x^2+x+1)^3}{3}$\n",
    "> 5. $F(x)=\\cfrac{2}{3}\\sqrt{x^3-3x+1}$\n",
    "> 6. $F(x)=\\cfrac{1}{6}\\ln(1+x^6)$\n",
    "> 7. $F(x)=\\ln|ln|x||$\n",
    "> 8. $F(x)=\\cfrac{2}{3}\\sqrt{(1+\\ln(x))^3}$\n",
    "> 9. $F(x)=-\\cfrac{1}{\\sin(x)}$.\n",
    "> 10. $F(x)=\\cfrac{1}{2}\\arctan\\left(\\cfrac{\\sin(x)}{2}\\right)$  \n",
    "> 11. $F(x)=\\cfrac{1}{3\\ln(2)}2^{3x+1}$.  "
   ]
  },
  {
   "cell_type": "markdown",
   "metadata": {
    "collapsed": true
   },
   "source": [
    "### Correction exercice 2 :"
   ]
  },
  {
   "cell_type": "markdown",
   "metadata": {},
   "source": [
    "> 12. $F(x)=\\cfrac{1}{2}\\ln\\left(\\left|\\cfrac{x-1}{x+1}\\right| \\right)$  \n",
    "> 13. $F(x)=\\cfrac{1}{2}\\ln|x^2-1|+\\cfrac{3}{2}\\ln\\left(\\left|\\cfrac{x-1}{x+1}\\right| \\right)=\\ln\\left(\\left|\\cfrac{(x-1)^2}{x+1}\\right| \\right)$.  \n",
    "    >> en effet : $f(x)=\\cfrac{1}{2}\\cfrac{2x+6}{x^2-1}=\\cfrac{1}{2}\\cfrac{2x}{x^2-1}+\\cfrac{6}{2}\\cfrac{1}{x^2-1}=\\cfrac{1}{2}\\cfrac{2x}{x^2-1}+3\\cfrac{1}{x^2-1}$ ;  \n",
    "    On utilise alors 12.  \n",
    "> 14. $F(x)=\\ln|x+1|-\\cfrac{1}{x+1}$.\n",
    "    >> en effet : $f(x)=\\cfrac{1}{2}\\cfrac{2x+2}{x^2+2x+1}+\\cfrac{1}{(x+1)^2}$\n",
    "> 15. $F(x)=\\cfrac{2}{\\sqrt{3}}\\arctan\\left(\\cfrac{2x+1}{\\sqrt{3}}\\right)$\n",
    "    >> en effet : $f(x)=\\cfrac{1}{(x+1/2)^2+3/4}=\\cfrac{4}{3}\\cfrac{1}{\\left(\\dfrac{2}{\\sqrt{3}}(x+\\dfrac{1}{2})\\right)^2+1}$  \n",
    "> 16. $F(x)=\\ln(x^2+x+1)-\\cfrac{2}{\\sqrt{3}}\\arctan\\left(\\cfrac{2x+1}{\\sqrt{3}} \\right)$"
   ]
  },
  {
   "cell_type": "markdown",
   "metadata": {},
   "source": [
    "### Correction exercice 3 :"
   ]
  },
  {
   "cell_type": "markdown",
   "metadata": {},
   "source": [
    "1. $F(x)=xe^x-e^x$ avec $u(x)=x$ et $v'(x)=e^x$.  \n",
    "2. $F(x) = -\\cfrac{1}{x}\\arctan(x)+\\ln|x|-\\cfrac{1}{2}\\ln(1+x^2)$ avec $u(x)=\\arctan(x)$ et $v(x)=\\cfrac{1}{x^2}$  \n",
    "    > en effet : $\\cfrac{1}{x(1+x^2)}=\\cfrac{1+x^2-x^2}{x(1+x^2)}=\\cfrac{1}{x}-\\cfrac{x}{1+x^2}$  \n",
    "3. $F(x)=x\\ln\\left(x+\\sqrt{x^2-1}\\right)-\\sqrt{x^2-1}$ avec $u(x)=\\ln\\left(x+\\sqrt{x^2-1}\\right)$ et $v'(x)=1$  \n",
    "4. $F(x)=(x+1)\\arctan(\\sqrt{x})-\\sqrt{x}$ avec $u(x)=\\arctan(\\sqrt{x})$ et $v'(x)=1$  \n",
    "    > en effet : on notera que si $v'(x)=1$ alors $v(x)=x+c$ où $c\\in\\mathbb{R}$... à vous de choisir correctement la valeur de $c$ !"
   ]
  },
  {
   "cell_type": "markdown",
   "metadata": {},
   "source": [
    "### Correction exercice 4 :"
   ]
  },
  {
   "cell_type": "markdown",
   "metadata": {},
   "source": [
    "1. $F(x)=\\displaystyle\\int_0^x\\cfrac{t}{1+t^4}dt$ avec $s=u(t)=t^2$ et donc $ds=2tdt$. Soit :\n",
    "    > $F(x)=\\displaystyle\\int_0^{x^2}\\cfrac{ds/2}{1+s^2}=\\cfrac{1}{2}\\displaystyle\\int_0^{x^2}\\cfrac{ds}{1+s^2}=\\cfrac{\\arctan(x^2)}{2}$\n",
    "2. $F(x)=\\displaystyle\\int_0^{u(x)}(1+s^2)ds=\\tan(x)+\\cfrac{\\tan^3(x)}{3}$ avec $u\\in\\mathcal{C}^1([0,x])$, $\\forall x\\in]-\\pi/2,\\pi/2[$.  \n",
    "3. $F(x)=\\displaystyle\\int_{\\sqrt{2}}^{u(x)}\\cfrac{2ds}{s^2-1}=\\displaystyle\\int_{\\sqrt{2}}^{u(x)}\\left(\\cfrac{1}{s-1}-\\cfrac{1}{s+1}\\right)ds=\\ln\\left(\\left|\\cfrac{\\sqrt{1+x}-1}{\\sqrt{1+x}+1}\\right| \\right)-C$ où $C=\\ln\\left(\\left|\\cfrac{\\sqrt{2}-1}{\\sqrt{2}+1}\\right| \\right)$, $\\forall x\\in \\mathbb{R}_+^*$  \n",
    "4.  $F(x)=\\displaystyle\\int_0^{u(x)}\\cfrac{2s^2}{(s^2+1)^2}ds=\\displaystyle\\int_0^{u(x)}\\cfrac{2s}{(s^2+1)^2}sds=-\\cfrac{\\sqrt{x}}{x+1}+\\arctan(\\sqrt{x})$, $\\forall x\\in \\mathbb{R}_+^*$ [par Int. par Parties]"
   ]
  }
 ],
 "metadata": {
  "anaconda-cloud": {},
  "kernelspec": {
   "display_name": "Python [default]",
   "language": "python",
   "name": "python3"
  },
  "language_info": {
   "codemirror_mode": {
    "name": "ipython",
    "version": 3
   },
   "file_extension": ".py",
   "mimetype": "text/x-python",
   "name": "python",
   "nbconvert_exporter": "python",
   "pygments_lexer": "ipython3",
   "version": "3.6.1"
  }
 },
 "nbformat": 4,
 "nbformat_minor": 1
}

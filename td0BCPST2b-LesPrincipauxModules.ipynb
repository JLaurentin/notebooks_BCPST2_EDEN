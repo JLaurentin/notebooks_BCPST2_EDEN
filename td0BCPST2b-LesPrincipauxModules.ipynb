{
 "cells": [
  {
   "cell_type": "markdown",
   "metadata": {
    "slideshow": {
     "slide_type": "slide"
    }
   },
   "source": [
    "# Python : Les principaux modules utilisés en BCPST\n",
    "\n",
    "<img src=\"https://avatars3.githubusercontent.com/u/7388996?v=3&s=200\">\n",
    "Ce notebook est proposé dans le cadre d'une préparation au ** Cours de mathématiques & informatique ** en B.C.P.S.T.2 - Externat des enfants nantais proposé par [J. Laurentin](<j.laurentin@worldonline.fr>). On pourra, si on le souhaite, trouver des compléments notamment sur le programme officiel en visitant le site de la classe [mathsinfo-bcpst2-eden.fr](http://mathsinfo-bcpst2-eden.fr/)"
   ]
  },
  {
   "cell_type": "markdown",
   "metadata": {
    "slideshow": {
     "slide_type": "slide"
    }
   },
   "source": [
    "La  bibliothèque standard de Python possède plus de deux cents modules au sein desquels vous trouverez des fonctions \"prêtes à l'emploi\", regroupées par thèmes qu'on appelle des \"modules\".  \n",
    "Les principaux modules dont nous aurons besoin sont les modules `math`, `numpy`, `scipy`, `matplotlib` et `random`. Il est possible d'accéder à la documentation correspondante en exécutant `help(nom_module)`.   \n",
    "Nous aurons l'occasion d'en recontrer bien d'autres au cours de l'année et ils seront introduits au fur et à mesure des besoins.  \n",
    "N'hésitez pas, à jeter un oeil à la description des [modules disponibles](http://docs.python.org/py3k/library/index.html) ainsi qu'à ceux développés par la communauté [Python](http://pypi.python.org/pypi)"
   ]
  },
  {
   "cell_type": "markdown",
   "metadata": {
    "slideshow": {
     "slide_type": "-"
    }
   },
   "source": [
    "**Attention !** Si vous faites ce notebook par \"petites touches\" (ce que je vous recommande), vous pouvez bien sûr le sauvegarder pour le reprendre là ou vous l'avez laissé. Pour autant, les bibliothèques dont vous avez besoin doivent **à nouveau** être importées. Il faudra donc ré-exécuter toutes les lignes d'importation de bibliothèque à chaque nouvelle cession du notebook."
   ]
  },
  {
   "cell_type": "markdown",
   "metadata": {
    "slideshow": {
     "slide_type": "slide"
    }
   },
   "source": [
    "## 1. Le module math"
   ]
  },
  {
   "cell_type": "code",
   "execution_count": 1,
   "metadata": {
    "collapsed": true,
    "slideshow": {
     "slide_type": "-"
    }
   },
   "outputs": [],
   "source": [
    "from math import *"
   ]
  },
  {
   "cell_type": "markdown",
   "metadata": {
    "slideshow": {
     "slide_type": "-"
    }
   },
   "source": [
    "On n'hésitera pas à consulter la documentation associée à ce module.  \n",
    "En premier lieu on se familiarisera avec celle qui énumère l'ensemble des [fonctions disponibles](https://docs.python.org/3/library/math.html) :  Elles sont réparties entre plusieures rubriques, *théorie des nombres*, *fonctions puissances et logarithmiques*, *fonctions trigonométriques*, *conversions angulaires* (`math.degrees()` et `math.radians()`) mais aussi quelques constantes usuelles :  \n",
    "- `pi`, `e`, `inf` et `nan`  \n",
    "\n",
    "On accèdera à l'aide de chaque fonction en exécutant : `help(nom_fonction)`."
   ]
  },
  {
   "cell_type": "code",
   "execution_count": 3,
   "metadata": {
    "collapsed": false,
    "slideshow": {
     "slide_type": "-"
    }
   },
   "outputs": [
    {
     "name": "stdout",
     "output_type": "stream",
     "text": [
      "Help on built-in function cos in module math:\n",
      "\n",
      "cos(...)\n",
      "    cos(x)\n",
      "    \n",
      "    Return the cosine of x (measured in radians).\n",
      "\n"
     ]
    }
   ],
   "source": [
    "help(cos)"
   ]
  },
  {
   "cell_type": "markdown",
   "metadata": {
    "slideshow": {
     "slide_type": "slide"
    }
   },
   "source": [
    "On utilisera ce module, notamment pour le calcul des principales fonctions mathématiques au sein d'une liste.  \n",
    "*Remarque :* Si le module `numpy` est par ailleurs importé, il est inutile d'utiliser le module `math` car on retrouve dans numpy les mêmes fonctions, sans compter qu'il n'est pas utile de démultiplier les modules importés.\n",
    "\n",
    "A titre d'exemple, on pourra utiliser le module `math` pour déterminer l'ensemble des termes d'une suite définie de façon explicite.  \n",
    "Ainsi, si $u_n=sin(\\frac{1}{n})e^{n/2}$, $\\forall n\\in\\mathbb{N}^*$, alors la liste `Lu` des $10$ premiers termes de la suite vaut :"
   ]
  },
  {
   "cell_type": "code",
   "execution_count": 4,
   "metadata": {
    "collapsed": false,
    "slideshow": {
     "slide_type": "-"
    }
   },
   "outputs": [
    {
     "name": "stdout",
     "output_type": "stream",
     "text": [
      "[1.3873511113297634, 1.3032137296869954, 1.4663848965038924, 1.8280817340292228, 2.4202879225878338, 3.3321128986276283, 4.71470417821163, 6.807009798708918, 9.98133612952742, 14.816592748559525]\n"
     ]
    }
   ],
   "source": [
    "Lu = [sin(1/n)*exp(n/2) for n in range(1,11)]\n",
    "print(Lu)"
   ]
  },
  {
   "cell_type": "markdown",
   "metadata": {
    "slideshow": {
     "slide_type": "subslide"
    }
   },
   "source": [
    "**Les modules associés complémentaires : ** Le module math est particulièrement adapté à l'utilisation sous forme de simple *calculette* de Python. Dans ces conditions, il est bon, si nécessaire, de l'associer avec deux modules qui permettent de travailler avec les nombres complexes ou encore avec les fractions."
   ]
  },
  {
   "cell_type": "markdown",
   "metadata": {
    "slideshow": {
     "slide_type": "slide"
    }
   },
   "source": [
    "### a. le module cmath"
   ]
  },
  {
   "cell_type": "markdown",
   "metadata": {
    "slideshow": {
     "slide_type": "-"
    }
   },
   "source": [
    "Ce module permet de travailler sur les nombres complexes.  \n",
    "Pour autant, il est possible de s'en passer pour les opérations d'arithmétique élémentaire.  \n",
    "Ainsi, si $z_1=2+3i$ et $z_2=1+i$  qui seront notés comme en physique $z_1=2+3j$ et $z_2=1+j$, il n'y a besoin d'aucun module complémentaire pour déterminer leur module, leur conjugué, leur partie réelle, imaginaire ou encore pour les additionner ou les multiplier.  \n",
    "On notera qu'il y a deux façons de définir les nombres complexes : $z = a+b.j$ ou z=complex(a,b).  \n",
    "** Exemple : **"
   ]
  },
  {
   "cell_type": "code",
   "execution_count": null,
   "metadata": {
    "collapsed": false,
    "slideshow": {
     "slide_type": "-"
    }
   },
   "outputs": [],
   "source": [
    "z1 = 2+3.j ; z2 = complex(1,1)\n",
    "print(z1,z2)\n",
    "print('le module de z1 vaut : ',abs(z1))\n",
    "print(abs(z1)==sqrt(13))\n",
    "print('le conjugué de z1 vaut : ',z1.conjugate())\n",
    "print('la partie réelle de z1 : ',z1.real)\n",
    "print('la partie imaginaire de z1 :',z1.imag)\n",
    "print('la somme z1+z2 vaut : ',z1+z2)\n",
    "print('le produit z1.z2 vaut :',z1*z2)"
   ]
  },
  {
   "cell_type": "markdown",
   "metadata": {},
   "source": [
    "*Entraînez-vous en modifiant les valeurs de z1 et z2 !*"
   ]
  },
  {
   "cell_type": "markdown",
   "metadata": {},
   "source": [
    "Pour autant, il n'est pas possible de calculer l'argument du nombre complexe (appelé *phase* dans Python), de passer de la forme arithmétique à la forme en polaire, ou réciproquement.  \n",
    "Pour cette raison, il faut importer le module cmath."
   ]
  },
  {
   "cell_type": "code",
   "execution_count": 1,
   "metadata": {
    "collapsed": false
   },
   "outputs": [
    {
     "name": "stdout",
     "output_type": "stream",
     "text": [
      "(1+1j)\n",
      "l'argument de z2 vaut :  0.7853981633974483\n",
      "le module et l'argument de z2 (forme polaire) sont : (1.4142135623730951, 0.7853981633974483)\n",
      "la forme cartésienne de z3 est :  (1.0000000000000002+1.7320508075688772j)\n"
     ]
    }
   ],
   "source": [
    "from cmath import *\n",
    "z2 = complex(1,1)\n",
    "print(z2)\n",
    "print(\"l'argument de z2 vaut : \",phase(z2))\n",
    "print(\"le module et l'argument de z2 (forme polaire) sont :\",polar(z2))\n",
    "# Et si z = rho.exp(j theta) on obtiendra sa forme cartésienne en écrivant :\n",
    "z3 = rect(2,pi/3)\n",
    "print('la forme cartésienne de z3 est : ',z3)"
   ]
  },
  {
   "cell_type": "markdown",
   "metadata": {},
   "source": [
    "On se méfiera des problèmes d'approximation liés à la représentation binaire des nombres en machine.  \n",
    "ainsi, pour $z=e^{2i\\pi/3}=-\\cfrac{1}{2}+i\\cfrac{\\sqrt{3}}{2}$, on obtient :"
   ]
  },
  {
   "cell_type": "code",
   "execution_count": null,
   "metadata": {
    "collapsed": false
   },
   "outputs": [],
   "source": [
    "t = complex(0,2*pi/3)\n",
    "z = exp(t)\n",
    "print(z)\n",
    "print(z.real+1/2) # doit valoir 0\n",
    "print(z.imag-sqrt(3)/2) # doit également valoir 0"
   ]
  },
  {
   "cell_type": "markdown",
   "metadata": {},
   "source": [
    "### b. le module fractions"
   ]
  },
  {
   "cell_type": "markdown",
   "metadata": {},
   "source": [
    "Ce module permet de travailler avec les nombres rationnels, de les additionner, de les multiplier, de mettre en évidence des formes irréductibles.  \n",
    "Voici des exemples inspirés de la documentation Python pour ce module.  \n",
    "On notera la souplesse d'utilisation de la méthode Fraction qui permet de créer un nombre rationnel en prenant, en paramètre d'entrée, aussi bien des couples d'entiers (numérateur/dénominateur) que des flottants ou encore des chaînes de caractères...  "
   ]
  },
  {
   "cell_type": "code",
   "execution_count": null,
   "metadata": {
    "collapsed": false
   },
   "outputs": [],
   "source": [
    "from fractions import *"
   ]
  },
  {
   "cell_type": "code",
   "execution_count": null,
   "metadata": {
    "collapsed": false
   },
   "outputs": [],
   "source": [
    "print(Fraction(16, -10))\n",
    "print(Fraction(123))\n",
    "print(Fraction(123, 1))\n",
    "print(Fraction(2.25))\n",
    "print(Fraction('3/7'))\n",
    "print(Fraction(' -3/7 '))\n",
    "print(Fraction('1.414213'))\n",
    "print(Fraction('-.125'))\n",
    "print(Fraction('7e-6'))"
   ]
  },
  {
   "cell_type": "markdown",
   "metadata": {},
   "source": [
    "Il est aussi possible d'obtenir des approximations rationnelles de nombres irrationnels, à la précision souhaitée :"
   ]
  },
  {
   "cell_type": "code",
   "execution_count": null,
   "metadata": {
    "collapsed": false
   },
   "outputs": [],
   "source": [
    "print(Fraction(pi).limit_denominator(1000))"
   ]
  },
  {
   "cell_type": "markdown",
   "metadata": {},
   "source": [
    "Mais il y a aussi quelques pièges... il faut en particulier pouvoir lever des problèmes d'approximations liées aux représentation sous forme binaire des nombres de type float..."
   ]
  },
  {
   "cell_type": "code",
   "execution_count": null,
   "metadata": {
    "collapsed": false
   },
   "outputs": [],
   "source": [
    "from math import cos\n",
    "print(Fraction('1.1'))\n",
    "print(Fraction(1.1)) # 1.1 est de type float.\n",
    "print(Fraction(1.1).limit_denominator())\n",
    "print(Fraction(cos(pi/3)))\n",
    "print(Fraction(cos(pi/3)).limit_denominator())"
   ]
  },
  {
   "cell_type": "markdown",
   "metadata": {},
   "source": [
    "## 2. Le module numpy"
   ]
  },
  {
   "cell_type": "markdown",
   "metadata": {},
   "source": [
    "Ce module permet de travailler sur un environnement matriciel, les objets manipulés étant considérés au choix comme des tableaux (de type array) ou des matrices si on souhaite se restreindre à des calculs d'algèbre linéaire.  "
   ]
  },
  {
   "cell_type": "code",
   "execution_count": 1,
   "metadata": {
    "collapsed": true
   },
   "outputs": [],
   "source": [
    "import numpy as np"
   ]
  },
  {
   "cell_type": "code",
   "execution_count": null,
   "metadata": {
    "collapsed": false
   },
   "outputs": [],
   "source": [
    "L = [[1,2],[3,4]]\n",
    "T1 = np.array(L)\n",
    "print(T1)"
   ]
  },
  {
   "cell_type": "code",
   "execution_count": null,
   "metadata": {
    "collapsed": false
   },
   "outputs": [],
   "source": [
    "type(T1)"
   ]
  },
  {
   "cell_type": "code",
   "execution_count": null,
   "metadata": {
    "collapsed": false
   },
   "outputs": [],
   "source": [
    "M1 = np.matrix(L)\n",
    "print(M1)"
   ]
  },
  {
   "cell_type": "code",
   "execution_count": null,
   "metadata": {
    "collapsed": false
   },
   "outputs": [],
   "source": [
    "type(M1)"
   ]
  },
  {
   "cell_type": "markdown",
   "metadata": {},
   "source": [
    "La manipulation des tableaux est proche de celle des listes et offre la même souplesse.  \n",
    "On perd évidemment la possibilité d'appliquer les méthodes associées aux listes (comme `append` ou `count`) mais, en contrepartie, dans le cas des tableaux ou des matrices, on gagne en écriture pour accéder à certains éléments ou sous-matrices. "
   ]
  },
  {
   "cell_type": "markdown",
   "metadata": {},
   "source": [
    "### 2.1. Création de matrices."
   ]
  },
  {
   "cell_type": "markdown",
   "metadata": {},
   "source": [
    "On peut créer des **matrices lignes** à l'image des listes en utilisant la fonction `arange()` ou encore une matrice ligne de $N$ éléments, compris entre $a$ et $b$ grâce à la fonction `linspace(a,b,N)`.  \n",
    "*Exemples :*"
   ]
  },
  {
   "cell_type": "code",
   "execution_count": null,
   "metadata": {
    "collapsed": false
   },
   "outputs": [],
   "source": [
    "print(np.arange(10))\n",
    "print(np.arange(1,10))\n",
    "print(np.arange(1,10,2))\n",
    "print(np.linspace(1,10,10)) # Vérifier que a=1 et b=10 sont compris dans ce tableau.\n",
    "print(np.linspace(1,10,20))"
   ]
  },
  {
   "cell_type": "markdown",
   "metadata": {},
   "source": [
    "Il est également possible de travailler en dimension deux.  \n",
    "Des matrices prédéfinies existent et peuvent être crées rapidement :"
   ]
  },
  {
   "cell_type": "code",
   "execution_count": null,
   "metadata": {
    "collapsed": false
   },
   "outputs": [],
   "source": [
    "A1 = np.zeros((3,4))\n",
    "A2 = np.ones((3,3))\n",
    "A3 = np.diag(np.arange(3))\n",
    "Id = np.diag(np.ones(3))\n",
    "print(A1,'\\n\\n',A2,'\\n\\n',A3,'\\n\\n',Id) # le '\\n' permet d'insérer un passage à la ligne "
   ]
  },
  {
   "cell_type": "markdown",
   "metadata": {},
   "source": [
    "Ou elle peuvent être créées manuellement. On commencera pour ça par créer une liste qu'on transformera au choix en tableau (`np.array(L)`) ou matrice (`np.matrix(L)`) selon l'objectif poursuivi.  \n",
    "*Exemples :*"
   ]
  },
  {
   "cell_type": "code",
   "execution_count": 6,
   "metadata": {
    "collapsed": false
   },
   "outputs": [
    {
     "name": "stdout",
     "output_type": "stream",
     "text": [
      "A =  [[1 2 3]\n",
      " [4 5 6]\n",
      " [7 8 9]]\n"
     ]
    }
   ],
   "source": [
    "L = [[1,2,3],[4,5,6],[7,8,9]]\n",
    "A = np.array(L)\n",
    "print('A = ',A)"
   ]
  },
  {
   "cell_type": "code",
   "execution_count": 7,
   "metadata": {
    "collapsed": true
   },
   "outputs": [],
   "source": [
    "L=[[1,2],[3,4]]"
   ]
  },
  {
   "cell_type": "code",
   "execution_count": 8,
   "metadata": {
    "collapsed": false
   },
   "outputs": [
    {
     "name": "stdout",
     "output_type": "stream",
     "text": [
      "M1 =  [[1 2]\n",
      " [3 4]]\n"
     ]
    }
   ],
   "source": [
    "M1 = np.matrix(L)\n",
    "print('M1 = ',M1)"
   ]
  },
  {
   "cell_type": "markdown",
   "metadata": {},
   "source": [
    "### 2.2. Manipulation des matrices.  \n",
    "Sauf mention contraire, les lignes de code qui suivent s'appliquent aussi bien à A qu'à M1."
   ]
  },
  {
   "cell_type": "markdown",
   "metadata": {},
   "source": [
    "**Récupération d'une valeur :**"
   ]
  },
  {
   "cell_type": "code",
   "execution_count": null,
   "metadata": {
    "collapsed": false
   },
   "outputs": [],
   "source": [
    "print(A)\n",
    "A23 = A[1,2]\n",
    "print('A23 vaut ',A23)"
   ]
  },
  {
   "cell_type": "markdown",
   "metadata": {},
   "source": [
    "Entraînez-vous avec d'autres valeurs..."
   ]
  },
  {
   "cell_type": "markdown",
   "metadata": {},
   "source": [
    "**Extraction d'une colonne :**"
   ]
  },
  {
   "cell_type": "code",
   "execution_count": null,
   "metadata": {
    "collapsed": false
   },
   "outputs": [],
   "source": [
    "C = A[:,0] # première colonne\n",
    "print(C)"
   ]
  },
  {
   "cell_type": "markdown",
   "metadata": {},
   "source": [
    "Ou d'une partie d'une colonne (ci-dessous 2è et 3è coefficients de la colonne 2)"
   ]
  },
  {
   "cell_type": "code",
   "execution_count": null,
   "metadata": {
    "collapsed": false
   },
   "outputs": [],
   "source": [
    "A[1:3,1]"
   ]
  },
  {
   "cell_type": "markdown",
   "metadata": {},
   "source": [
    "**Extraction d'une ligne ou de plusieurs lignes :**"
   ]
  },
  {
   "cell_type": "code",
   "execution_count": null,
   "metadata": {
    "collapsed": false
   },
   "outputs": [],
   "source": [
    "L2 = A[1,:]\n",
    "print(L2)"
   ]
  },
  {
   "cell_type": "code",
   "execution_count": null,
   "metadata": {
    "collapsed": false
   },
   "outputs": [],
   "source": [
    "L_12 = A[:2,:]\n",
    "print(L_12)"
   ]
  },
  {
   "cell_type": "markdown",
   "metadata": {},
   "source": [
    "### 2.3. Quelques opérations possibles sur les matrices."
   ]
  },
  {
   "cell_type": "markdown",
   "metadata": {},
   "source": [
    "On trouve dans le module numpy l'ensemble des opérations algébriques sur les matrices :"
   ]
  },
  {
   "cell_type": "code",
   "execution_count": null,
   "metadata": {
    "collapsed": false
   },
   "outputs": [],
   "source": [
    "print(A)"
   ]
  },
  {
   "cell_type": "code",
   "execution_count": null,
   "metadata": {
    "collapsed": false
   },
   "outputs": [],
   "source": [
    "# Addition de matrices :\n",
    "print(A+Id)"
   ]
  },
  {
   "cell_type": "markdown",
   "metadata": {},
   "source": [
    "Mais **attention** ! La matrice $A$ est de type `numpy.array`. Les opérations qui s'y réfèrent **ne sont pas** celles de l'algèbre linéaire mais sont définies \"termes à termes\".  \n",
    "Ainsi, $2*A$ multiplie chacun des termes de $A$ par $2$, $A+1$ ajoute $1$ à chacun des termes ou encore $A*Id$ ne calcule pas le produit matriciel mais retourne le produit termes à termes.  \n",
    "Entraîner vous !"
   ]
  },
  {
   "cell_type": "code",
   "execution_count": null,
   "metadata": {
    "collapsed": false
   },
   "outputs": [],
   "source": [
    "print(A*Id)"
   ]
  },
  {
   "cell_type": "markdown",
   "metadata": {},
   "source": [
    "Dans ce cas comment faire le produit matriciel ??\n",
    "1. Si on travaille avec des type `array` on exécutera `np.dot(A,B)`.\n",
    "2. Si on travaille avec des type `matrix` il suffit de faire `A*B`."
   ]
  },
  {
   "cell_type": "code",
   "execution_count": null,
   "metadata": {
    "collapsed": false
   },
   "outputs": [],
   "source": [
    "A = np.array([[1,2],[3,4]]) ; B=np.array([[2,0],[0,2]])\n",
    "print(np.dot(A,B))"
   ]
  },
  {
   "cell_type": "code",
   "execution_count": null,
   "metadata": {
    "collapsed": false
   },
   "outputs": [],
   "source": [
    "M = np.matrix([[1,2],[3,4]]) ; N=np.matrix([[2,0],[0,2]])\n",
    "print(M*N)"
   ]
  },
  {
   "cell_type": "markdown",
   "metadata": {},
   "source": [
    "Mais on peut faire bien d'autres choses que ça sur les matrices, notamment si on on travaille avec le module dédié consacré à l'algèbre linéaire, à savoir `linalg` (n'hésitez pas à utiliser `help(np.linalg)`)   \n",
    "Essayez dans la ligne de code ci-dessous, avec la matrice `M1` les fonctions suivantes :\n",
    "1. `np.transpose(M)` ou `M.T`\n",
    "2. `M1 = np.linalg.inv(M)` puis `M1*M` \n",
    "3. `r = np.linalg.matrix_rank(M)`. *Note :* $M$ étant inversible, son rang vaut $2$.\n",
    "4. `X = np.linalg.solve(M,b)` avec `b=np.matrix([[1],[1]])` pour la résolution du système $MX=b$ : $\\begin{cases} x+2y&=1\\\\3x+4y&=1\\end{cases}$"
   ]
  },
  {
   "cell_type": "code",
   "execution_count": null,
   "metadata": {
    "collapsed": false
   },
   "outputs": [],
   "source": [
    "print(M1)"
   ]
  },
  {
   "cell_type": "markdown",
   "metadata": {},
   "source": [
    "### 2.4. Les applications possibles en statistiques :"
   ]
  },
  {
   "cell_type": "markdown",
   "metadata": {},
   "source": [
    "Une série statistique étant entrée sous forme de tableau, la bibliothèque numpy permet de calculer l'ensemble des paramètres de position et de dispersion mais également, dans le cas de séries doubles, les coefficients de corrélation ou encore les coefficients de la droite de régression.  \n",
    "  \n",
    "Prenons l'exemple suivant, tiré de *Mathématiques et statistiques pour les sciences de la nature*, G. Biau, J. Droniou, M. Herslich (*E.D.P. Sciences*, 2010), p. 250"
   ]
  },
  {
   "cell_type": "markdown",
   "metadata": {},
   "source": [
    "\"Une équipe de chimistes a mis au point un alliage de fer et de carbone capable de résister à des conditions extrêmes et souhaite modéliser sa résistance en fonction de la teneur en carbone\".  \n",
    "Dix teneurs en carbonnes ont été testées (exprimées en nombre d'unités pour 100 :  \n",
    "$x_i$ : 0.3,0.7,1,1.1,1.2,2.5,2.7,3,5,5.2  \n",
    "pour lesquelles la \"charge de rupture\" du nouvel alliage (en tonnes) a été déterminée :  \n",
    "$y_i$ : 0.8,1.77,2.13,2.42,2.87,5.34,5.5,6.41,10.31,10.47  \n",
    "1. Déterminer la moyenne, la médiane, le premier et troisième quartile, la variance de chacune des séries.\n",
    "2. Calculer le coefficient de corrélation ainsi que les coefficients de la droite de régression."
   ]
  },
  {
   "cell_type": "code",
   "execution_count": null,
   "metadata": {
    "collapsed": false
   },
   "outputs": [],
   "source": [
    "# Pensez à importer le module numpy si vous ne l'avez pas encore fait !\n",
    "TX = np.array([0.3,0.7,1,1.1,1.2,2.5,2.7,3,5,5.2])\n",
    "TY = np.array([0.8,1.77,2.13,2.42,2.87,5.34,5.5,6.41,10.31,10.47])\n",
    "print('Pour X, les principaux paramètres de position et de dispersions sont :')\n",
    "print('le minimum de X vaut : ',np.min(TX),' et son maximum vaut : ',np.max(TX))\n",
    "print('la moyenne de X vaut : ',np.mean(TX))\n",
    "print('la médiane de X vaut : ',np.median(TX))\n",
    "print('le premier quartile vaut :',np.percentile(TX,25))\n",
    "print('le troisième quartile vaut :',np.percentile(TX,75))\n",
    "print('la variance de X vaut : ',np.var(TX))\n",
    "print(\"l'écart-type de X vaut : \",np.std(TX))\n",
    "print('Pour la série multivariée (X,Y) on obtient les paramètres suivants :')\n",
    "print('La coefficient de corrélation du couple (X,Y) vaut : ',np.corrcoef(TX,TY)[0,1]) # matrice symétrique\n",
    "print('Les coefficients a et b de la droite de régression y = ax+b sont ',np.polyfit(TX,TY,1))"
   ]
  },
  {
   "cell_type": "markdown",
   "metadata": {},
   "source": [
    "### 2.5. Le calcul polynômial."
   ]
  },
  {
   "cell_type": "markdown",
   "metadata": {},
   "source": [
    "Le module numpy permet de travailler simplement sur les polynômes. Toutes les opérations au programme sont possibles : détermination du degré, multiplication d'un polynôme par un scalaire, addition et somme de deux polynômes, recherche des racines, dérivation.  \n",
    "**Attention :** Un polynôme $P=\\displaystyle\\sum_{k=0}^na_kX^k=a_0+a_1X+\\cdots+a_nX^n$ est caractérisé, sous Python, par la liste de ses coefficients **d'indices décroissants**.  \n",
    "A titre d'exemple, nous allons travailler ci-dessous avec $P=X^2-2X+1$, $Q=X^2+2X+3$ et $R=X^2+1$.  "
   ]
  },
  {
   "cell_type": "code",
   "execution_count": null,
   "metadata": {
    "collapsed": true
   },
   "outputs": [],
   "source": [
    "# votre module numpy est importé ?\n",
    "import numpy as np"
   ]
  },
  {
   "cell_type": "code",
   "execution_count": null,
   "metadata": {
    "collapsed": false
   },
   "outputs": [],
   "source": [
    "P = np.poly1d([1,-2,1])\n",
    "print(np.poly1d(P))"
   ]
  },
  {
   "cell_type": "code",
   "execution_count": null,
   "metadata": {
    "collapsed": false
   },
   "outputs": [],
   "source": [
    "Q = np.poly1d([1,2,3],variable='Z')\n",
    "print(np.poly1d(Q))"
   ]
  },
  {
   "cell_type": "markdown",
   "metadata": {},
   "source": [
    "On peut aussi **définir un polynôme à partir de ses racines** si on ajoute un second paramètre égale à True.  \n",
    "  \n",
    "*Par exemple :*"
   ]
  },
  {
   "cell_type": "code",
   "execution_count": null,
   "metadata": {
    "collapsed": false
   },
   "outputs": [],
   "source": [
    "P2 = np.poly1d([1,-2,1],True)\n",
    "print(np.poly1d(P2))"
   ]
  },
  {
   "cell_type": "markdown",
   "metadata": {},
   "source": [
    "Il s'agit bien du polynôme $P_2(X)=X^3-3X+2$ dont $-2$ est racine simple car $P_2(-2)=0$ et $1$ est racine double car $P_2(1)=P_2'(1)=0$, soit $P_2(X)=(X-1)^2(X-2)$."
   ]
  },
  {
   "cell_type": "markdown",
   "metadata": {},
   "source": [
    "Pour le calcul de $P(a)$ où $a\\in\\mathbb{R}$, il suffit d'appeler $P(a)$ mais **surtout pas** $P[a]$ qui désigne, pour peu que $a$ soit un entier, la valeur du coefficient d'indice $a$ du polynôme $P$ interprété comme une liste."
   ]
  },
  {
   "cell_type": "code",
   "execution_count": null,
   "metadata": {
    "collapsed": false
   },
   "outputs": [],
   "source": [
    "print(Q[1]) # deuxième coefficient de Q\n",
    "print(Q(1)) # valeur de Q(1)\n",
    "print(np.polyval(Q,1)) # même chose que précédemment\n",
    "print(np.polyval(Q,np.arange(11))) # Pour évaluer le polynôme Q en 0,1,2,...,10. Résultat affiché sous forme de liste."
   ]
  },
  {
   "cell_type": "code",
   "execution_count": null,
   "metadata": {
    "collapsed": false
   },
   "outputs": [],
   "source": [
    "print(P.order) #degré de P\n",
    "print(P.c) # coefficients de P - sous forme de liste.\n",
    "print(P.r) # racines de P"
   ]
  },
  {
   "cell_type": "markdown",
   "metadata": {},
   "source": [
    "Essayez avec les autres polynômes.  \n",
    "Les racines complexes sont bien évidement retournées ! Le vérifier avec $R(X)=X^2+1$"
   ]
  },
  {
   "cell_type": "markdown",
   "metadata": {},
   "source": [
    "Quant à la **dérivation**, il suffit de faire appel à la méthode 'deriv' qui dérive à l'ordre indiqué."
   ]
  },
  {
   "cell_type": "code",
   "execution_count": null,
   "metadata": {
    "collapsed": false
   },
   "outputs": [],
   "source": [
    "P = np.poly1d([2,1,-3,4])\n",
    "Pp1=np.poly1d.deriv(P,m=1)\n",
    "Pp2=np.poly1d.deriv(P,m=2)\n",
    "Pp3=np.poly1d.deriv(P,m=3)\n",
    "print(np.poly1d(P))\n",
    "print(np.poly1d(Pp1))\n",
    "print(np.poly1d(Pp2))\n",
    "print(np.poly1d(Pp3))"
   ]
  },
  {
   "cell_type": "markdown",
   "metadata": {},
   "source": [
    "## 3. Le module matplotlib.pyplot"
   ]
  },
  {
   "cell_type": "markdown",
   "metadata": {
    "collapsed": true
   },
   "source": [
    "Faire des calculs, obtenir des listes ou des tableaux de résultats est une chose mais que ce soit pour émettre des hypothèses, appuyer vos commentaires ou discuter les valeurs obtenues, il est indispensable de pouvoir proposer des représentations graphiques.  \n",
    "On importera pour ça le module `matplotlib.pyplot` qui offre une large palette d'affichages possibles et se prête à de nombreux champs d'applications (analyse,statistiques,traitement d'images, etc.)\n"
   ]
  },
  {
   "cell_type": "code",
   "execution_count": 2,
   "metadata": {
    "collapsed": true
   },
   "outputs": [],
   "source": [
    "# Cette ligne configure matploblib pour montrer les figures \"encapsulées\" dans le notebook  \n",
    "# au lieu d'ouvrir une nouvelle fenêtre pour chaque figure.  \n",
    "# Elle ne sera pas à utiliser sous Pyzo où on se contentera d'importer matplotlib.pyplot\n",
    "%matplotlib inline"
   ]
  },
  {
   "cell_type": "code",
   "execution_count": 3,
   "metadata": {
    "collapsed": true
   },
   "outputs": [],
   "source": [
    "import matplotlib.pyplot as plt\n",
    "# Assurez-vous d'avoir importé le module numpy as np...!"
   ]
  },
  {
   "cell_type": "markdown",
   "metadata": {},
   "source": [
    "### 3.1. Les représentations graphique en analyse :"
   ]
  },
  {
   "cell_type": "markdown",
   "metadata": {},
   "source": [
    "#### a) Les suites numériques"
   ]
  },
  {
   "cell_type": "markdown",
   "metadata": {},
   "source": [
    "Donnons une représentation des dix premiers termes de la suite géométrique : $u_{n}=3\\left(\\cfrac{2}{3}\\right)^n$, $\\forall n\\in\\mathbb{N}$ :"
   ]
  },
  {
   "cell_type": "code",
   "execution_count": 12,
   "metadata": {
    "collapsed": false
   },
   "outputs": [
    {
     "data": {
      "text/plain": [
       "<matplotlib.text.Text at 0x6e2ca32710>"
      ]
     },
     "execution_count": 12,
     "metadata": {},
     "output_type": "execute_result"
    },
    {
     "data": {
      "image/png": "[encoded data removed]",
      "text/plain": [
       "<matplotlib.figure.Figure at 0x6e2cae0550>"
      ]
     },
     "metadata": {},
     "output_type": "display_data"
    }
   ],
   "source": [
    "U = [(2/3)**n for n in range(10)]\n",
    "plt.plot(np.arange(10),U,'ro')\n",
    "plt.title('Représentation des 10 premiers termes de $(u_n)$')\n",
    "plt.xlabel('n')\n",
    "plt.ylabel('$u_n$')"
   ]
  },
  {
   "cell_type": "markdown",
   "metadata": {},
   "source": [
    "Pour comprendre la deuxième ligne de la cellule qui précède, on se reportera à la documentation de la fonction `plot()` en exécutant `help(plt.plot)` dans la cellule ci-dessous.  \n",
    "\n",
    "** Exercice 1 : ** Modifiez ensuite la précédente cellule pour tracer les termes de la suite avec des carrés verts à la place des ronds rouges."
   ]
  },
  {
   "cell_type": "code",
   "execution_count": null,
   "metadata": {
    "collapsed": false
   },
   "outputs": [],
   "source": [
    "help(plt.plot)"
   ]
  },
  {
   "cell_type": "markdown",
   "metadata": {},
   "source": [
    "**Exercice 2 :** Reprenez le script précédent et, en vous appuyant sur vos T.D. de BCPST1, tracer les premiers termes de suites arithmétiques, géométriques, arithmético-géométriques, récurrentes linéaires d'ordre 2 dont vous avez obtenus la forme explicite. Faire des hypothèses graphiques sur leur convergence ou leur divergence que vous validerez par un calcul de limite."
   ]
  },
  {
   "cell_type": "markdown",
   "metadata": {},
   "source": [
    "#### b) Les représentations graphiques de fonctions d'une variable réelle."
   ]
  },
  {
   "cell_type": "markdown",
   "metadata": {},
   "source": [
    "Rappelons en préalable qu'il est possible de définir de façon simple et rapide de telles fonctions grâce au mot clé `lambda`.  \n",
    "*Exemple avec $f_1$ définie sur $\\mathbb{R}$ par $f_1(x)=e^x-1$ :*"
   ]
  },
  {
   "cell_type": "code",
   "execution_count": null,
   "metadata": {
    "collapsed": true
   },
   "outputs": [],
   "source": [
    "f1 = lambda x:np.exp(x)-1"
   ]
  },
  {
   "cell_type": "code",
   "execution_count": null,
   "metadata": {
    "collapsed": false
   },
   "outputs": [],
   "source": [
    "print(f1(1))"
   ]
  },
  {
   "cell_type": "code",
   "execution_count": null,
   "metadata": {
    "collapsed": false
   },
   "outputs": [],
   "source": [
    "X = np.linspace(0,2,10)\n",
    "f1(X)"
   ]
  },
  {
   "cell_type": "markdown",
   "metadata": {},
   "source": [
    "**Attention !** Si vous aviez défini `f1` par `f1 = lambda x:exp(x)-1` vous auriez eu dans le calcul de `f1(X)` un message d'erreur car `X` est de type `np.array` et la fonction exponentielle utilisée doit également appartenir au module numpy."
   ]
  },
  {
   "cell_type": "markdown",
   "metadata": {},
   "source": [
    "Il est désormais possible de tracer l'allure de la courbe représentant `f1` sur l'intervalle $[a,b]$ de son choix :"
   ]
  },
  {
   "cell_type": "code",
   "execution_count": null,
   "metadata": {
    "collapsed": false
   },
   "outputs": [],
   "source": [
    "a,b = -1,2\n",
    "X = np.linspace(a,b,100)\n",
    "plt.plot(X,f1(X),'b')\n",
    "plt.grid()\n",
    "plt.title('Graphe de $f_1$')\n",
    "plt.xlabel('x')\n",
    "plt.ylabel('y')"
   ]
  },
  {
   "cell_type": "markdown",
   "metadata": {},
   "source": [
    "Il est possible de tracer le graphe de deux fonctions dans une même fenêtre et leur affecter des caractéristiques de couleur, d'épaisseur de trait, de style, etc. différents.  \n",
    "Deux méthodes sont possibles que nous allons illustrer en cherchant à déterminer les graphiquement les valeurs de $x\\in\\mathbb{R}$ telles que $e^x-1=2x$ :"
   ]
  },
  {
   "cell_type": "code",
   "execution_count": null,
   "metadata": {
    "collapsed": false
   },
   "outputs": [],
   "source": [
    "a,b = -1,2\n",
    "X = np.linspace(a,b,100)\n",
    "plt.plot(X,f1(X),'b',X,2*X,'r--')\n",
    "plt.grid()\n",
    "plt.title('Graphe de $f_1$')\n",
    "plt.xlabel('x')\n",
    "plt.ylabel('y')"
   ]
  },
  {
   "cell_type": "markdown",
   "metadata": {},
   "source": [
    "Le problème de la rédaction précédente est qu'elle ne permet pas de légender les courbes tracées.  \n",
    "On préfèrera donc :"
   ]
  },
  {
   "cell_type": "code",
   "execution_count": null,
   "metadata": {
    "collapsed": false
   },
   "outputs": [],
   "source": [
    "a,b = -1,2\n",
    "X = np.linspace(a,b,100)\n",
    "plt.plot(X,f1(X),'b',label='$y=e^x-1$') # le label est une façon d'étiqueter la courbe de f1\n",
    "plt.plot(X,2*X,'r--',lw=2,label='$y=2x$') # lw pour \"linewidth\"\n",
    "plt.grid()\n",
    "plt.title('Graphe de $f_1$')\n",
    "plt.legend(loc='best') # d'autres choix de placements de la légendes peuvent être faits (cf help(plt.legend))\n",
    "plt.xlabel('x')\n",
    "plt.ylabel('y')"
   ]
  },
  {
   "cell_type": "markdown",
   "metadata": {},
   "source": [
    "Il est aussi possible de découper une fenêtre graphique en autant de sous-fenêtres qu'on le souhaite à l'aide de la fonction `subplot(nl,nc,i)` où `nl` et `nc` désignent respectivement le nombre de lignes et de colonnes de la fenêtre principale découpée comme un tableau et `i` indique le numéro de la sous-fenêtre dans laquelle on se place.  \n",
    "\n",
    "**Exemple 1** : Deux sous-fenêtres, l'une au dessus de l'autre à l'aide de `subplot(2,1,i)`."
   ]
  },
  {
   "cell_type": "code",
   "execution_count": 13,
   "metadata": {
    "collapsed": false
   },
   "outputs": [
    {
     "data": {
      "text/plain": [
       "<matplotlib.text.Text at 0x6e2cb42080>"
      ]
     },
     "execution_count": 13,
     "metadata": {},
     "output_type": "execute_result"
    },
    {
     "data": {
      "image/png": "[encoded data removed]",
      "text/plain": [
       "<matplotlib.figure.Figure at 0x6e2caa2390>"
      ]
     },
     "metadata": {},
     "output_type": "display_data"
    }
   ],
   "source": [
    "x = np.linspace(0,3)\n",
    "\n",
    "y1 = np.cos(2*np.pi*x)*np.exp(-x)\n",
    "y2 = np.cos(2*np.pi*x)\n",
    "\n",
    "plt.subplot(211) # Forme abrégée de 'plt.subplot(2,1,1)'\n",
    "plt.plot(x, y1, 'yo-')\n",
    "plt.title(\"Exemple avec subplot 2 lignes, 1 colonne\")\n",
    "plt.ylabel('Oscillations amorties')\n",
    "\n",
    "plt.subplot(212) # Forme abrégée de 'plt.subplot(2,1,2)'\n",
    "plt.plot(x, y2, 'r.-')\n",
    "plt.xlabel('time (s)')\n",
    "plt.ylabel('Non amorties')\n"
   ]
  },
  {
   "cell_type": "markdown",
   "metadata": {},
   "source": [
    "**Exemple 2** On cherche, dans quatre fenêtres distinctes, à confronter le graphe de la fonction $x\\longmapsto e^x$ avec la partie régulière de ses développements limités au voisinage de $0$ à l'ordre $1$, $2$, $3$ et $4$."
   ]
  },
  {
   "cell_type": "code",
   "execution_count": null,
   "metadata": {
    "collapsed": false
   },
   "outputs": [],
   "source": [
    "x = np.linspace(-2,2,50)\n",
    "y = np.exp(x)\n",
    "P1 = lambda t:1+t\n",
    "P2 = lambda t:1+t+t**2/2\n",
    "P3 = lambda t:1+t+t**2/2+t**3/6\n",
    "P4 = lambda t:1+t+t**2/2+t**3/6+t**4/24\n",
    "couleur = ['r','g','b','m']\n",
    "plt.subplots(figsize=(12, 8)) # permet de définir la taille de la fenêtre principale\n",
    "for i in range(1,5):\n",
    "    plt.subplot(2,2,i)\n",
    "    plt.plot(x,y,'k--',lw=3)\n",
    "    plt.plot(x,eval('P'+str(i))(x),couleur[i-1])\n",
    "    plt.title(\"D.L. au voisinage de 0 à l'ordre \"+str(i))"
   ]
  },
  {
   "cell_type": "markdown",
   "metadata": {},
   "source": [
    "**Exercice :** Rappeler le développement limité à l'ordre $3$ au voisinage de $0$ de $f:x\\longmapsto\\ln(1+x)$ et compléter le code ci-dessous pour tracer dans trois fenêtres **consécutives** alignées le graphe de $f$ confronté à celui des parties régulières de ses développements limités à l'ordre $1$ (première fenêtre), à l'ordre $2$ (deuxième fenêtre) et à l'ordre $3$ (troisième fenêtre)."
   ]
  },
  {
   "cell_type": "code",
   "execution_count": null,
   "metadata": {
    "collapsed": false
   },
   "outputs": [],
   "source": [
    "x = np.linspace(-0.8,2)\n",
    "y = # à compléter\n",
    "P1 = lambda t:t\n",
    "P2 = lambda # à compléter\n",
    "P3 = lambda # à compléter\n",
    "plt.subplots(figsize=(12, 4)) # entraînez-vous en supprimant cette ligne ou en modifiant les valeurs.\n",
    "plt.subplot(131)\n",
    "plt.plot(x,y,'k',x,P1(x),'r')\n",
    "plt.ylabel('y')\n",
    "plt.subplot(# à compléter)\n",
    "plt.plot(x,y,'k',x,P2(x),'g')\n",
    "plt.ylabel('y')\n",
    "plt.subplot(# à compléter)\n",
    "plt.plot(x,y,'k',x,P3(x),'b')\n",
    "plt.ylabel('y')\n",
    "plt.tight_layout() # mettre cette ligne en commentaire et relancer pour vérifier que les textes se chevauchent."
   ]
  },
  {
   "cell_type": "markdown",
   "metadata": {},
   "source": [
    "Puis on peut compléter ses graphes par du texte, à l'intérieur ou à l'extérieur de la figure, ou bien même colorer certaines partie d'un graphique comme le montre ci-dessous un exemple de représentation d'une aire sous la courbe associées à un calcul intégrale ()"
   ]
  },
  {
   "cell_type": "code",
   "execution_count": 4,
   "metadata": {
    "collapsed": false
   },
   "outputs": [
    {
     "data": {
      "text/plain": [
       "<matplotlib.text.Text at 0xfeb64c9e80>"
      ]
     },
     "execution_count": 4,
     "metadata": {},
     "output_type": "execute_result"
    },
    {
     "data": {
      "image/png": "[encoded data removed]",
      "text/plain": [
       "<matplotlib.figure.Figure at 0xfeb60bb828>"
      ]
     },
     "metadata": {},
     "output_type": "display_data"
    }
   ],
   "source": [
    "from matplotlib.patches import Polygon\n",
    "# d'après Pyx - Python Graphic Package \n",
    "# exemple repris dans http://jeffskinnerbox.me/notebooks/running-code-in-the-ipython-notebook.html\n",
    "\n",
    "func = lambda x:(x-3)*(x-5)*(x-7)+85\n",
    " \n",
    "a, b = 2, 9 # bornes du calcul intégral\n",
    "x = np.arange(0, 10, 0.01) # tableau des abscisses de 0 à 10 par pas de h = 0.01\n",
    "y = func(x)\n",
    "plt.plot(x, y, linewidth=1,label='$(x-3)*(x-5)*(x-7)+85$')\n",
    "plt.legend(loc='best')\n",
    "# Traçons en ombré l'aire sous la courbe grâce à la construction d'un polygone :\n",
    "ix = np.arange(a, b, 0.01) # le tableau des abscisses concernées\n",
    "iy = func(ix)\n",
    "verts = [(a,0)] + list(zip(ix,iy)) + [(b,0)] # création des couples reliés par le polygone.\n",
    "poly = Polygon(verts, facecolor='0.8', edgecolor='k')\n",
    "plt.subplot(111).add_patch(poly) # On colle dans la fenêtre le polygone dont la surface est grisée\n",
    "\n",
    "plt.text(0.5 * (a + b), 30,\n",
    "     r\"$\\int_a^b f(x)\\mathrm{d}x$\", horizontalalignment='center',\n",
    "     fontsize=16) # pour mettre le texte de son choix dans le graphe\n",
    "\n",
    "plt.axis([0,10, 0, 180])\n",
    "plt.figtext(0.9, 0.05, 'x') # Pour placer le texte à l'extérieur de la figure\n",
    "plt.figtext(0.05, 0.8, 'y')"
   ]
  },
  {
   "cell_type": "markdown",
   "metadata": {},
   "source": [
    "Le calcul, quant à lui, se fait aisément grâce au module `scipy.integrate` de la manière suivante :"
   ]
  },
  {
   "cell_type": "code",
   "execution_count": 5,
   "metadata": {
    "collapsed": false
   },
   "outputs": [
    {
     "name": "stdout",
     "output_type": "stream",
     "text": [
      "L'intégrale cherchée vaut  624.7499999999999  et l'erreur commise vaut : 6.936118346345664e-12\n"
     ]
    }
   ],
   "source": [
    "from scipy import integrate\n",
    "func = lambda x:(x-3)*(x-5)*(x-7)+85\n",
    "a,b = 2,9\n",
    "I,e = integrate.quad(func,a,b)\n",
    "print(\"L'intégrale cherchée vaut \",I,\" et l'erreur commise vaut :\",e)"
   ]
  },
  {
   "cell_type": "markdown",
   "metadata": {},
   "source": [
    "**Double échelle des ordonnées :** Il est possible de mettre en place un double système d'axes.  \n",
    "Imaginons qu'on dispose de précipitations et de températures qu'on souhaite représenter sur une même figure :"
   ]
  },
  {
   "cell_type": "code",
   "execution_count": null,
   "metadata": {
    "collapsed": false
   },
   "outputs": [],
   "source": [
    "T = [12,15,9,8,10,11.5,13,15,11,9.3]\n",
    "P = [3,5,0,0,4,11,9,1,0,5]\n",
    "t = np.arange(1,11) \n",
    "plt.ylabel(\"Précipitations\", color = \"b\")\n",
    "plt.ylim(0,12.0)\n",
    "plt.bar(t,P,color=\"b\")\n",
    "plt.twinx() # second système d'axes :\n",
    "plt.ylabel(\"Températures\", color=\"r\")\n",
    "plt.ylim(0,20)\n",
    "plt.plot(t, T, \"o-r\")"
   ]
  },
  {
   "cell_type": "markdown",
   "metadata": {},
   "source": [
    "#### c) Les nuages de points (scatter)."
   ]
  },
  {
   "cell_type": "code",
   "execution_count": 5,
   "metadata": {
    "collapsed": false
   },
   "outputs": [
    {
     "data": {
      "image/png": "[encoded data removed]",
      "text/plain": [
       "<matplotlib.figure.Figure at 0x733652e048>"
      ]
     },
     "metadata": {},
     "output_type": "display_data"
    },
    {
     "data": {
      "text/plain": [
       "<matplotlib.collections.PathCollection at 0x73367aceb8>"
      ]
     },
     "execution_count": 5,
     "metadata": {},
     "output_type": "execute_result"
    },
    {
     "data": {
      "image/png": "[encoded data removed]",
      "text/plain": [
       "<matplotlib.figure.Figure at 0x733675a518>"
      ]
     },
     "metadata": {},
     "output_type": "display_data"
    }
   ],
   "source": [
    "x = np.random.randn(500) # 500 tirages selon la loi normale centrée réduite.\n",
    "y = np.random.randn(500) # idem\n",
    "plt.figure(figsize=(10,5))\n",
    "plt.scatter(x, y, s=100, c=\"PowderBlue\") # taille des disques constante égale à 100\n",
    "plt.show()\n",
    "sizes = np.abs((100*np.random.randn(500))) # tailles au hasard entre 0 et 100\n",
    "colors = np.random.randn(500)\n",
    "plt.figure(figsize=(10,5))\n",
    "plt.scatter(x, y, s=sizes, c=colors)"
   ]
  },
  {
   "cell_type": "markdown",
   "metadata": {},
   "source": [
    "### 3.2. Les représentations graphiques en statistiques :"
   ]
  },
  {
   "cell_type": "markdown",
   "metadata": {},
   "source": [
    "Reprendons l'exemple 2.4 pour lequel dix teneurs en carbonnes avaient été testées (exprimées en nombre d'unités pour 100 :  \n",
    "$x_i$ : 0.3,0.7,1,1.1,1.2,2.5,2.7,3,5,5.2  \n",
    "et pour lesquelles la \"charge de rupture\" du nouvel alliage (en tonnes) avait été déterminée :  \n",
    "$y_i$ : 0.8,1.77,2.13,2.42,2.87,5.34,5.5,6.41,10.31,10.47 "
   ]
  },
  {
   "cell_type": "code",
   "execution_count": null,
   "metadata": {
    "collapsed": false
   },
   "outputs": [],
   "source": [
    "TX = np.array([0.3,0.7,1,1.1,1.2,2.5,2.7,3,5,5.2])\n",
    "TY = np.array([0.8,1.77,2.13,2.42,2.87,5.34,5.5,6.41,10.31,10.47])"
   ]
  },
  {
   "cell_type": "markdown",
   "metadata": {},
   "source": [
    "ceci est un exemple"
   ]
  },
  {
   "cell_type": "markdown",
   "metadata": {},
   "source": [
    "Il est possible de tracer les histogrammes des fréquences, des fréquences relatives et des fréquences cumulées de chacun de ces tableaux mais aussi de représenter une \"boite à moustaches\" qui permet de visualiser notamment la médiane, le premier et le troisième quartile d'une série statistique."
   ]
  },
  {
   "cell_type": "code",
   "execution_count": null,
   "metadata": {
    "collapsed": false
   },
   "outputs": [],
   "source": [
    "plt.hist(TX,color=\"RoyalBlue\") # par défaut les fréquences sont réparties en 10 classes"
   ]
  },
  {
   "cell_type": "code",
   "execution_count": null,
   "metadata": {
    "collapsed": false
   },
   "outputs": [],
   "source": [
    "plt.hist(TX,4,normed=True,color=\"PowderBlue\") # fréq. relatives, réparties en 4 classes (bornes sont dans le 2nd tableau donné en sortie)\n",
    "# ATTENTION : les calculs sont faits de telle façon que la somme des aires soit égale à 1"
   ]
  },
  {
   "cell_type": "code",
   "execution_count": null,
   "metadata": {
    "collapsed": false
   },
   "outputs": [],
   "source": [
    "plt.hist(TX,4,normed=True,cumulative=True) # histogramme des fréquences cumulées réparties en 4 classes."
   ]
  },
  {
   "cell_type": "code",
   "execution_count": null,
   "metadata": {
    "collapsed": false
   },
   "outputs": [],
   "source": [
    "plt.boxplot(TX)"
   ]
  },
  {
   "cell_type": "markdown",
   "metadata": {},
   "source": [
    "La boite à moustache représente par un trait rouge horizontale la **médiane** de la série statistique tandis que les bornes inférieures et supérieures de la boite représentent respectivement le **premier et le troisième quartile** de cette même série.  \n",
    "On appelle *moustaches* les traits en pointillés terminés par un court segment horizontale. Ils indiquent l'amplitude de la série en indiquant son minimum et son maximum sous réserve qu'ils soient contenus entre deux bornes associés par défaut à 1.5 fois l'intervalle inter-quartile. Par exemple, si $Q_3$ désigne le troisième quartile, alors la borne supérieure des moustaches représente $(Q_3+1.5(Q_3-Q_1)$.  \n",
    "Toute valeur au-delà de ces bornes sera représentée individuellement par des disques au delà des moustaches. Elles sont considérées comme des valeurs exceptionnelles ou atypiques et apparaissent de façon distincte pour aider la discussion de l'amplitude de la série.   \n",
    "On notera qu'il n'existe pas de telles valeurs sur la série des teneurs en carbone.  \n",
    "\n",
    "*Note :*  Ce type de représentation est particulièrement utile pour comparer deux séries de données.  \n",
    "Imaginons qu'on cherche à comparer la charge de rupture en fonction de différents alliage avec la variation de charge de rupture pour un alliage dit *témoin*, valeurs enregistrées dans un tableau `TY_temoin`. On écrira :"
   ]
  },
  {
   "cell_type": "code",
   "execution_count": null,
   "metadata": {
    "collapsed": false
   },
   "outputs": [],
   "source": [
    "TY_temoin = np.array([4.8,3.77,1.24,3.56,2.87,5.04,4.5,6.13,3.81,4.74])\n",
    "plt.boxplot([TY,TY_temoin])"
   ]
  },
  {
   "cell_type": "markdown",
   "metadata": {},
   "source": [
    "**Que pouvons-nous conclure ?** On commence par noter que les médianes sont sensiblement égales, proche de $4$.  \n",
    "Assez naturellement, l'amplitude de la série de données associées à l'alliage témoin est bien moindre.     \n",
    "Il semble par ailleurs que $1.24$ puisse être considérée comme une valeur aberrante (erreur expérimentale, de lecture, etc.). Il s'agira d'en discuter en observant les raisons de ce résultat mais, dans la discution comparée de ces deux séries, on retiendra une amplitude du témoin comprise entre $2.87$ et $6.13$."
   ]
  },
  {
   "cell_type": "markdown",
   "metadata": {},
   "source": [
    "**Etude de régression linéaire simple :** Nous considérons désormais que les différents alliages représentés par `TX` constitue la *variable explicative* qui pilote le phénomène *charge de rupture* représenté par `TY`, la *variable expliquée*.  \n",
    "Il est clair que `TX` et `TY` ne sont pas indépendantes et il est naturel de vouloir estimer une relation entre la teneur en carbone et la charge de rupture.  C'est même l'enjeu de notre protocole expérimental !  \n",
    "Pour ça, on commence par tracer un nuage des points $M_i=(x_i,y_i)$  :"
   ]
  },
  {
   "cell_type": "code",
   "execution_count": null,
   "metadata": {
    "collapsed": false
   },
   "outputs": [],
   "source": [
    "plt.plot(TX,TY,'ro')"
   ]
  },
  {
   "cell_type": "markdown",
   "metadata": {},
   "source": [
    "La forme \"allongée\" du nuage de points suggère une relation linéaire entre les deux séries.  \n",
    "On détermine donc les coefficients de la droite de régression comme indiqué au paragraphe 3. avant de tracer la droite sur la représentation graphique précédente :"
   ]
  },
  {
   "cell_type": "code",
   "execution_count": null,
   "metadata": {
    "collapsed": false
   },
   "outputs": [],
   "source": [
    "a,b = np.polyfit(TX,TY,1)\n",
    "print(a,b)\n",
    "plt.plot(TX,TY,'ro',TX,a*TX+b,'b--')"
   ]
  },
  {
   "cell_type": "markdown",
   "metadata": {},
   "source": [
    "La preuve graphique d'une relation linéaire de la forme $y_i=1.98 x_i+0.3$ est par ailleurs confirmée par la donnée du coefficient de corrélation :"
   ]
  },
  {
   "cell_type": "code",
   "execution_count": null,
   "metadata": {
    "collapsed": false
   },
   "outputs": [],
   "source": [
    "print('le coefficient de corrélation vaut : ',np.corrcoef(TX,TY)[0,1])"
   ]
  },
  {
   "cell_type": "markdown",
   "metadata": {},
   "source": [
    "** Les courbes avec barres d'erreurs : **"
   ]
  },
  {
   "cell_type": "code",
   "execution_count": null,
   "metadata": {
    "collapsed": false
   },
   "outputs": [],
   "source": [
    "print(0.2*np.random.rand(10))"
   ]
  },
  {
   "cell_type": "code",
   "execution_count": null,
   "metadata": {
    "collapsed": false
   },
   "outputs": [],
   "source": [
    "x = np.linspace(0, 3, 10) # abscisses : 10 pts dans [0, 3]\n",
    "y = np.exp(-x) # ordonnées\n",
    "e1 = 0.2*np.random.rand(len(x)) # erreurs au hasard dans ]0,0.2[\n",
    "e2 = 0.2*np.random.rand(len(x)) # idem\n",
    "# Taille de l'image à afficher :\n",
    "fig = plt.figure(figsize=(10,8))\n",
    "# barre d\"erreur Y symétrique\n",
    "plt.axis([0, 3, 0, 1.2])\n",
    "plt.subplot(311)\n",
    "plt.errorbar(x, y, yerr=e1, fmt=\"go-\", ecolor=\"b\")\n",
    "# barre d\"erreur X symétrique\n",
    "plt.axis([0, 3, 0, 1.2])\n",
    "plt.subplot(312)\n",
    "plt.errorbar(x, y, xerr=e1, fmt=\"go-\", ecolor=\"b\")\n",
    "# barre d\"erreur Y asymétrique\n",
    "plt.axis([0, 3, 0, 1.2])\n",
    "plt.subplot(313)\n",
    "plt.errorbar(x, y, yerr=[e1,e2], fmt=\"go-\", ecolor=\"b\")"
   ]
  },
  {
   "cell_type": "markdown",
   "metadata": {},
   "source": [
    "** Tracé d'un camembert : **"
   ]
  },
  {
   "cell_type": "code",
   "execution_count": null,
   "metadata": {
    "collapsed": false
   },
   "outputs": [],
   "source": [
    "# distribution des fréquences des voyelles dans un texte rédigé en français\n",
    "# commprenant 764 voyelles.\n",
    "x = [115, 319, 120, 96, 108, 6]\n",
    "plt.figure(figsize=(5,5))\n",
    "L = [\"A\", \"E\",\"I\", \"O\", \"U\", \"Y\"]\n",
    "plt.pie(x, labels=L)\n",
    "plt.show()\n",
    "# Labels dans les 'portions':\n",
    "plt.figure(figsize=(5,5))\n",
    "plt.pie(x, labels=L, autopct=\"%.2f %%\")\n",
    "plt.show()\n",
    "# Explosion de certaines portions:\n",
    "e = [0.1, 0, 0.2, 0, 0.1, 0]\n",
    "plt.figure(figsize=(5,5))\n",
    "plt.pie(x, labels=L, autopct=\"%.2f %%\", explode=e)\n",
    "plt.show()"
   ]
  },
  {
   "cell_type": "markdown",
   "metadata": {},
   "source": [
    "## 4. Le module random"
   ]
  },
  {
   "cell_type": "markdown",
   "metadata": {
    "collapsed": true
   },
   "source": [
    "Cette bibliothèque, associée à `scipy.stats` est particulièrement utile pour toutes les questions qui concernent les dénombrements et les probabilités (cf. paragraphe 5.).\n",
    "\n",
    "Commençons importer la bibiothèque `random` :"
   ]
  },
  {
   "cell_type": "code",
   "execution_count": null,
   "metadata": {
    "collapsed": true
   },
   "outputs": [],
   "source": [
    "import random as rdm"
   ]
  },
  {
   "cell_type": "markdown",
   "metadata": {},
   "source": [
    "La fonction la plus utile est, de loin, la fonction `rdm.random()` qui simule un nombre réel pris dans l'intervalle $[0,1[$ selon une loi uniforme."
   ]
  },
  {
   "cell_type": "code",
   "execution_count": null,
   "metadata": {
    "collapsed": false
   },
   "outputs": [],
   "source": [
    "print(rdm.random())\n",
    "print([rdm.random() for k in range(10)]) # les appels successifs seront supposés indépendants."
   ]
  },
  {
   "cell_type": "markdown",
   "metadata": {},
   "source": [
    "*Remarque :* On peut vérifie en faisant 10000 appels successifs à cette fonction que les fréquences relatives de chaque intervalle de longueur $0.1$ sont sensiblement identiques. "
   ]
  },
  {
   "cell_type": "code",
   "execution_count": null,
   "metadata": {
    "collapsed": false
   },
   "outputs": [],
   "source": [
    "plt.hist([rdm.random() for k in range(10000)],normed=True)"
   ]
  },
  {
   "cell_type": "markdown",
   "metadata": {},
   "source": [
    "Il est également utile, notamment en dénombrement, de savoir simuler le tirage au hasard dans une liste d'entiers compris entre $a$ et $b$ (par exemple un tirage d'une boule dans une urne composée de boules numérotées entre $a$ et $b$).  \n",
    "On fera alors :"
   ]
  },
  {
   "cell_type": "code",
   "execution_count": null,
   "metadata": {
    "collapsed": false
   },
   "outputs": [],
   "source": [
    "a,b = 1,6\n",
    "print(rdm.randint(a,b)) # peut être interprété comme la simulation d'un lancer de dé.\n",
    "print([rdm.randint(a,b) for k in range(10)]) # simulation de 10 lancers indépendants d'un dé équilibré"
   ]
  },
  {
   "cell_type": "markdown",
   "metadata": {},
   "source": [
    "** Attention ** Noter que, exceptionnellement dans le cas de la fonction `randint(a,b)` les valeurs de $a$ et de $b$ sont incluses, autrement dit, cette fonction retourne un entier dans l'ensemble $\\{a,a+1,\\cdots,b-1,b\\}$."
   ]
  },
  {
   "cell_type": "markdown",
   "metadata": {},
   "source": [
    "**Application :** Une urne est composée de boules numérotées entre $1$ et $10$. On effectue deux tirages avec remise dans cette urne. Estimer la probabilité que la somme des numéros obtenus soit égale à $5$ "
   ]
  },
  {
   "cell_type": "code",
   "execution_count": null,
   "metadata": {
    "collapsed": false
   },
   "outputs": [],
   "source": [
    "m = 1000 # on va recommencer m fois l'expérience\n",
    "LS = [] # initialisation de la liste des sommes obtenues à chacune de ces expériences\n",
    "for k in range(m):\n",
    "    S = 0\n",
    "    for tirage in range(2):\n",
    "        S= S+rdm.randint(1,10)\n",
    "    LS.append(S) # on ajoute à la liste LS toute nouvelle somme de deux numéros obtenus.\n",
    "print('la proportion de somme égale à 5 vaut : ',LS.count(5)/m)\n",
    "print(\"la probabilité d'obtenir 5 vaut quant à elle : \",str(1/25))"
   ]
  },
  {
   "cell_type": "markdown",
   "metadata": {},
   "source": [
    "Pourquoi une probabilité de $1/25$ ?  \n",
    "Il suffit d'écrire que :  \n",
    "$\\mathbb{P}(X+Y=5)=\\mathbb{P}((X=1)\\cap(Y=4))+\\mathbb{P}((X=2)\\cap(Y=3))+\\mathbb{P}((X=3)\\cap(Y=2))+\\mathbb{P}((X=4)\\cap(Y=1))$  \n",
    "Or les tirages sont indépendants, donc $\\mathbb{P}((X=i)\\cap(Y=j))=\\mathbb{P}(X=i)\\cdot \\mathbb{P}(Y=j)=\\cfrac{1}{10}\\cdot\\cfrac{1}{10}=\\cfrac{1}{100}$.  \n",
    "*Conclusion :* $\\mathbb{P}(X+Y=5)=\\cfrac{4}{100}=\\cfrac{1}{25}$..."
   ]
  },
  {
   "cell_type": "markdown",
   "metadata": {},
   "source": [
    "**Important !** On peut aussi définir un ensemble (sous forme de liste) et demander de choisir un élément de cet ensemble."
   ]
  },
  {
   "cell_type": "code",
   "execution_count": null,
   "metadata": {
    "collapsed": false
   },
   "outputs": [],
   "source": [
    "couleurs = ['coeur','pique','trèfle','carreau']\n",
    "print(rdm.choice(couleurs))\n",
    "print([rdm.choice(couleurs) for k in range(10)])"
   ]
  },
  {
   "cell_type": "markdown",
   "metadata": {},
   "source": [
    "**Application : **  On dispose d'un jeu de $32$ cartes dans lequel on prélève 1 carte.  \n",
    "Estimer la probabilité d'obtenir un Roi de coeur, d'obtenir un coeur :"
   ]
  },
  {
   "cell_type": "code",
   "execution_count": null,
   "metadata": {
    "collapsed": false
   },
   "outputs": [],
   "source": [
    "hauteurs = [1,7,8,9,10,'Valet','Dame','Roi']\n",
    "couleurs = ['coeur','pique','trèfle','carreau']\n",
    "univers=[str(v)+' '+c for v in hauteurs for c in couleurs]\n",
    "m = 10000\n",
    "nbeAsP = 0\n",
    "nbCoeurs = 0\n",
    "for n in range(m):\n",
    "    if rdm.choice(univers) == '1 pique':\n",
    "        nbAsP = nbAsP + 1\n",
    "    if rdm.choice(couleurs) == 'coeur':\n",
    "        nbCoeurs += 1\n",
    "\n",
    "print(\"la probabilité d'obenir un As de pique est estimée à : \",nbAsP/m)\n",
    "print('La probabilité exacte vaut : ',1/32)\n",
    "print(\"la probabilité d'obenir un coeur est estimée à : \",nbCoeurs/m)\n",
    "print('La probabilité exacte vaut : ',1/4)"
   ]
  },
  {
   "cell_type": "markdown",
   "metadata": {},
   "source": [
    "## 5. Le module scipy.stats"
   ]
  },
  {
   "cell_type": "markdown",
   "metadata": {},
   "source": [
    "Python permet de travailler simplement sur l'ensemble des lois de probabilité au programme des deux années de BCPST.  \n",
    "On citera pour mémoire les lois discrètes qui sont vues en première année :\n",
    "* La loi uniforme\n",
    "* La loi de bernoulli\n",
    "* La loi binomiale\n",
    "* La loi hypergéométrique  \n",
    "\n",
    "Si $X$ est une variable aléatoire qui suit l'une de ces lois, alors on doit savoir :  \n",
    "1) Déterminer $\\mathbb{P}(X=k)$, $\\forall k\\in X(\\Omega)$.  \n",
    "2) Expliciter et tracer la fonction de répartition définie par : $F_X(x)=\\mathbb{P}(X\\leq x)$, $\\forall x\\in\\mathbb{R}$. \n",
    "3) Connaître l'espérance et la variance (sauf pour la loi hypergéométrique).  \n",
    "\n",
    "Il suffit, pour chacun de ces trois points, d'importer la loi qui nous intéresse grâce à :  \n",
    "`from scipy.stats import nom_de_la_loi`  \n",
    "Alors :  \n",
    "1) `nom_de_la_loi.pmf(k)` pour *Probability Mass Function* permet de calculer $\\mathbb{P}(X=k)$.  \n",
    "2) `nom_de_la_loi.cdf(x)` pour *Cumulative Density Function* permet de calculer $F_X(x)$.  \n",
    "3) `nom_de_la_loi.stats(..,moments='mv')` retourne la `m`-oyenne et la `v`-ariance.  \n",
    "\n",
    "On lira avec profit la documentation associée au module [`scipy.stats`](http://docs.scipy.org/doc/scipy/reference/stats.html) en insistant notamment sur la rubrique *Discrete distributions* de la table des matières. "
   ]
  },
  {
   "cell_type": "markdown",
   "metadata": {},
   "source": [
    "**Exemple : ** La loi binomiale de paramètres $n=5$ et $p=0.4$.  \n",
    "Déterminons $\\mathbb{P}(X=k)$ pour $k\\in \\{0,\\cdots,5\\}$ ainsi que sa loi de probabilité :"
   ]
  },
  {
   "cell_type": "code",
   "execution_count": null,
   "metadata": {
    "collapsed": false
   },
   "outputs": [],
   "source": [
    "from scipy.stats import binom\n",
    "n,p = 5,0.4\n",
    "k = 3\n",
    "print('P(X = ',k,') = ',binom.pmf(k,n,p)) # attention à l'ordre des arguments (cf. la documentation)\n",
    "# n'hésitez pas à essayer avec d'autres valeurs de k puis d'autres valeurs de n et de p !"
   ]
  },
  {
   "cell_type": "markdown",
   "metadata": {},
   "source": [
    "Donner une représentation graphique de la loi de probabilité de $X\\hookrightarrow\\mathcal{B}(n,p)$ :"
   ]
  },
  {
   "cell_type": "code",
   "execution_count": null,
   "metadata": {
    "collapsed": false
   },
   "outputs": [],
   "source": [
    "n,p = 5,0.4\n",
    "Xom = range(n+1) # X(Omega)={0,...,n}\n",
    "LoiX = [binom.pmf(k,n,p) for k in Xom]\n",
    "plt.plot(Xom,LoiX, 'ro')\n",
    "plt.vlines(Xom,0,LoiX, colors='k',lw=2) # faire help(plt.vlines) pour l'emploi de cette primitive.\n",
    "plt.xlim(xmin=-0.5,xmax=n+0.5) # Pas indispensable... juste si on veut modifier le tracer des bornes des abscisses"
   ]
  },
  {
   "cell_type": "markdown",
   "metadata": {},
   "source": [
    "Donner une représentation graphique de la fonction de répartition de $X\\hookrightarrow\\mathcal{B}(n,p)$ :"
   ]
  },
  {
   "cell_type": "code",
   "execution_count": null,
   "metadata": {
    "collapsed": false
   },
   "outputs": [],
   "source": [
    "n,p = 5,0.4\n",
    "Xom = range(n+1) # X(Omega)={0,...,n}\n",
    "largeur = 1\n",
    "plt.bar(Xom,binom.cdf(Xom,n,p),width = largeur,color='r',alpha = 0.6)\n",
    "plt.title('Fonction de répartition de la loi binomiale de paramètres '+str(n)+' et '+str(p))"
   ]
  },
  {
   "cell_type": "markdown",
   "metadata": {},
   "source": [
    "Enfin pour l'**espérance** et la **variance** de la loi binomiale, on écrira :"
   ]
  },
  {
   "cell_type": "code",
   "execution_count": null,
   "metadata": {
    "collapsed": false
   },
   "outputs": [],
   "source": [
    "n,p = 5,0.4\n",
    "binom.stats(n,p,moments='mv')"
   ]
  },
  {
   "cell_type": "markdown",
   "metadata": {},
   "source": [
    "On vérifie qu'on a bien $\\mathbb{E}(X)=np=5\\times 0.4=2$ et $\\mathbb{V}(X)=npq=5\\times 0.4\\times 0.6=1.2$"
   ]
  },
  {
   "cell_type": "markdown",
   "metadata": {},
   "source": [
    "** A vous de vous entraîner avec d'autres paramètres ou avec les autres lois au programme !**"
   ]
  },
  {
   "cell_type": "markdown",
   "metadata": {},
   "source": [
    "## 6. Le module IPython.display"
   ]
  },
  {
   "cell_type": "markdown",
   "metadata": {},
   "source": [
    "Anecdotique mais peut être utile si on souhaite importer ou lire des pages HTML ou encore des vidéos.  \n",
    "Par exemple, pour introduction au module `Turtle` :"
   ]
  },
  {
   "cell_type": "code",
   "execution_count": null,
   "metadata": {
    "collapsed": false
   },
   "outputs": [],
   "source": [
    "from IPython.display import YouTubeVideo\n",
    "# Pour une petite introduction au module `Turtle`.\n",
    "YouTubeVideo('fmyeDwQeyQY')"
   ]
  },
  {
   "cell_type": "code",
   "execution_count": null,
   "metadata": {
    "collapsed": true
   },
   "outputs": [],
   "source": []
  }
 ],
 "metadata": {
  "kernelspec": {
   "display_name": "Python 3",
   "language": "python",
   "name": "python3"
  },
  "language_info": {
   "codemirror_mode": {
    "name": "ipython",
    "version": 3
   },
   "file_extension": ".py",
   "mimetype": "text/x-python",
   "name": "python",
   "nbconvert_exporter": "python",
   "pygments_lexer": "ipython3",
   "version": "3.5.2"
  }
 },
 "nbformat": 4,
 "nbformat_minor": 0
}

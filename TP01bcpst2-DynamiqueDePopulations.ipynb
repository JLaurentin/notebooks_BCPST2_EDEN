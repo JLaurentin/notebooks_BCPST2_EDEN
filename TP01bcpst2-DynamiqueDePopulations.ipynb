{
 "cells": [
  {
   "cell_type": "markdown",
   "metadata": {},
   "source": [
    "# TP01 - Modèles discrets de dynamique de populations"
   ]
  },
  {
   "cell_type": "markdown",
   "metadata": {},
   "source": [
    "Il s'agit dans ce TP de modéliser l'évolution au cours du temps d'un organisme. Il peut s'agir d'une population bactérienne, de mammifères, d'oiseaux ou encore d'espèces végétales. Nous choisissons ici d'évacuer toute idée d'organisation spatiale pour nous consacrer exclusivement à leurs changements d'effectif.  \n",
    "Pour cela différents modèles se sont mis en place au cours du temps et nous allons découvrir les premiers d'entre eux, relativement simples mais essentiels pour comprendre les outils mathématiques et informatiques dont ils relèvent."
   ]
  },
  {
   "cell_type": "markdown",
   "metadata": {},
   "source": [
    "## Importation préalable des outils Python nécessaires :"
   ]
  },
  {
   "cell_type": "code",
   "execution_count": null,
   "metadata": {},
   "outputs": [],
   "source": [
    "import numpy as np\n",
    "# %matplotlib inline\n",
    "# %matplotlib notebook\n",
    "import matplotlib.pyplot as plt"
   ]
  },
  {
   "cell_type": "markdown",
   "metadata": {},
   "source": [
    "## I/ Le modèle malthusien.  \n",
    "  \n",
    "Il semble raisonnable de supposer que, chaque unité de temps (secondes, heures, jours ou années selon la population étudiée...), l'effectif change suite à de nouvelles naissances et que, sous cette seule hypothèse, il augmente par addition d'un certain multiple $f$ de la population lié à la fécondité. Sur cette même durée, on suppose qu'une fraction constante $d$ de la population va mourir.  \n",
    "\n",
    "On admet en conséquence que si $P_n$ désigne le nombre d'individus à l'instant $t=n$ ($n\\in\\mathbb{N}$), alors  \n",
    "$$\\Delta P=P_{n+1}-P_n=fP_n-dP_n=(f-d)P_n=rP_n$$ où $$r=f-d$$  \n",
    "On parle de **modèle linéaire**."
   ]
  },
  {
   "cell_type": "markdown",
   "metadata": {},
   "source": [
    "**Question I.1 :** On qualifie également ce modèle de *modèle géométrique*. Pourquoi ?  \n",
    "Justifier pourquoi $d\\in ]0,1[$, $f\\in\\mathbb{R}_+$ et dire à quel intervalle appartient la raison $\\lambda$ de ce modèle définie par : $$P_{n+1}=\\lambda P_n,\\quad n\\in\\mathbb{N}$$"
   ]
  },
  {
   "cell_type": "markdown",
   "metadata": {},
   "source": [
    "**Question I.2 :** Considérons la population de mouches installée dans cette classe durant l'été et dont $P_0=10$ individus distincts ont été dénombrés le jour de la rentrée. Les paramètres démographiques nous permettent d'estimer que $f=0.13$ et $d=0.07$ sur un pas de temps d'une journée.  \n",
    "Compléter la fonction ci-dessous qui permet de modéliser l'évolution de la population entre le 1er et le 30 septembre et retourne les effectifs quotidiens sous forme, au choix, d'une liste P :"
   ]
  },
  {
   "cell_type": "code",
   "execution_count": null,
   "metadata": {},
   "outputs": [],
   "source": [
    "def evolution1(N,n,f,d):\n",
    "    # Utilisation de la forme récurrente pour retourner la liste P\n",
    "    # N : réel égale à la population initiale.\n",
    "    # n : nombre de jours simulés.\n",
    "    # f et d sont respectivement les taux de fécondité et de mortalité\n",
    "    P = ... # A compléter à partir de cette ligne - il s'agit d'initialiser la liste P\n",
    "    for k in range(.,.): \n",
    "        ...\n",
    "    return P"
   ]
  },
  {
   "cell_type": "code",
   "execution_count": null,
   "metadata": {},
   "outputs": [],
   "source": [
    "def evolution1b(N,n,f,d):\n",
    "    # pour l'utilisation de la forme explicite :\n",
    "    P= [0]*n\n",
    "    P[0] = N\n",
    "    for n in range():\n",
    "        P[n] = ...\n",
    "    return P"
   ]
  },
  {
   "cell_type": "markdown",
   "metadata": {},
   "source": [
    "Testez votre réponse grâce aux lignes de code qui suivent :"
   ]
  },
  {
   "cell_type": "code",
   "execution_count": null,
   "metadata": {},
   "outputs": [],
   "source": [
    "P = evolution1(...)\n",
    "print('le nombre de mouches à la fin du mois vaut : ',...)\n",
    "Temps = np.arange(1,31)\n",
    "plt.figure(\"Evolution durant 1 mois\")\n",
    "plt.plot(Temps,P,'bo-')\n",
    "plt.title('Nombre de mouches en fonction du temps')"
   ]
  },
  {
   "cell_type": "markdown",
   "metadata": {},
   "source": [
    "Vous avez dû obtenir de l'ordre de 54 mouches à la fin du mois de septembre. Il était temps qu'on rentre et qu'on ouvre les fenêtres !"
   ]
  },
  {
   "cell_type": "markdown",
   "metadata": {},
   "source": [
    "**Question I.3 :** On s'intéresse aux femelles d'une population d'insectes dont le développement s'effectue par stades. Chaque femelle pond en moyenne $200$ oeufs avant de mourir. Au moment de l'éclosion, seuls $3\\%$ survivent pour devenir à leur tour des femelles adultes, le reste devenant des mâles ou mourant.  \n",
    "On mesure cette fois le temps $t$ en générations.  \n",
    "\n",
    "1. Exprimer l'équation correspondant au modèle malthusien. La population va-t-elle croître ou décroître ?  \n",
    "2. Supposons que nous ne connaissions pas la fécondité mais sachions seulement que la population reste stable au cours du temps. Estimer le taux de survie $t_s$ dans ce cas.  \n",
    "3. quels cas ignorer le mâles pour suivre l'évolution d'une population serait une mauvaise idée ?"
   ]
  },
  {
   "cell_type": "markdown",
   "metadata": {},
   "source": [
    "*Réponse :* En 2. le taux de survie vaut $t_s = $ ?"
   ]
  },
  {
   "cell_type": "markdown",
   "metadata": {},
   "source": [
    "**Question I.4 :** On imagine une population dont la dynamique est modélisée annuellement par l'équation : $$P_{n+1}=0.9P_n\\text{ et }P_0=100$$\n",
    "Dire, sans calcul, si la population va croître ou décroître.  \n",
    "On suppose qu'une immigration constante notée $c$ a lieu à chaque intervalle de temps. Compléter la fonction Python `modLinIm.py` ci-dessous afin de modéliser l'évolution de cette population en fonction des valeurs de $c$ et préciser dans un second temps à partir de quelle valeur de $c$ la population va adopter un comportement différent.  "
   ]
  },
  {
   "cell_type": "code",
   "execution_count": null,
   "metadata": {},
   "outputs": [],
   "source": [
    "def modLinIm(c,n):\n",
    "    # c : réel désigne le coefficient d'immigration\n",
    "    # n : entier. Nombre d'années sur lequel porte la modélisation\n",
    "    P=[0]*n;# initialisation d'une liste formée de n zéros\n",
    "    N=100;  # Population initiale de 100 individus\n",
    "    P[0] = ... # initialisation de P \n",
    "    for i in range(...):\n",
    "        ... # A compléter\n",
    "    return P"
   ]
  },
  {
   "cell_type": "code",
   "execution_count": null,
   "metadata": {},
   "outputs": [],
   "source": [
    "c=0 # Immigration initialement nulle\n",
    "n=50 #Nombre d'intervalles de temps simulés\n",
    "\n",
    "Pop=modLinIm(c,n) # création de la liste des individus\n",
    "\n",
    "def graphe():\n",
    "    Temps = np.arange(...) # A compléter  \n",
    "    plt.figure(\"Evolution avec phénomène migratoire\")\n",
    "    plt.grid()\n",
    "    plt.plot(Temps,Pop,'ro',label='Effectif')\n",
    "    plt.ylim(ymin = 0.)\n",
    "    plt.legend(loc='upper right')\n",
    "    plt.xlabel('temps (en années)')\n",
    "    plt.ylabel('nombre d''individus')\n",
    "    plt.title('Evolution de population')\n",
    "    \n",
    "graphe()"
   ]
  },
  {
   "cell_type": "markdown",
   "metadata": {},
   "source": [
    "Justifier mathématiquement votre résultat :"
   ]
  },
  {
   "cell_type": "markdown",
   "metadata": {},
   "source": [
    "# II/ Les modèles non linéaires."
   ]
  },
  {
   "cell_type": "markdown",
   "metadata": {},
   "source": [
    "Les modèles malthusiens prédisent une croissance géométrique des populations. On conçoit aisément les limites d'un tel modèle qui suppose en particulier que les taux de fécondité et de mortalité sont indépendants de la taille de la population. Pourtant on sait que les paramètres démographiques d'une population dépendent notamment de la capacité d'accueil du milieu qui impose en particulier que le taux de mortalité augmente (pour des raisons de ressources par exemple) si l'effectif s'approche de cette capacité maximum."
   ]
  },
  {
   "cell_type": "markdown",
   "metadata": {},
   "source": [
    "## II.1. Création d'un modèle non linéaire :"
   ]
  },
  {
   "cell_type": "markdown",
   "metadata": {},
   "source": [
    "Observons la variation relative de population par individu au cours d'un pas de temps : $\\cfrac{\\Delta P}{P}$.  \n",
    "Dans le modèle malthusien, ce rapport est indépendant de $P$ et vaut la constante $r=f-d$.  \n",
    "On suppose désormais que, lorsque l'effectif de la population est faible au regard de la capacité d'accueil de l'environnement, les ressources disponibles n'ont pas d'impact sur la dynamique qui peut être considérée comme malthusienne.  \n",
    "\n",
    "A l'inverse, pour de grandes valeurs de $P$, la compétition entre individus, à la fois pour de la nourriture et de l'espace modifie largement $\\cfrac{\\Delta P}{P}$.  \n",
    "\n",
    "Une façon simple de représenter l'accroissement de population par individu en fonction de la taille de la population est une fois encore de considérer un modèle linéaire.  le principe est le suivant :  \n",
    "\n",
    "<img src=\"https://anaconda.org/JLaurentin/images-tp1/1/download/CroissParIndiv.png\">"
   ]
  },
  {
   "cell_type": "markdown",
   "metadata": {},
   "source": [
    "**Question II.1 :**    Utiliser le graphe ci-dessus pour déterminer $a$ et $b$ en fonction de $r$ et de $K$."
   ]
  },
  {
   "cell_type": "markdown",
   "metadata": {},
   "source": [
    "**Question II.2 :**  On s'intéresse à une population de carpes dans un étang dont la population est évaluée en tonnes.  \n",
    "L'équation logistique obtenue est : $P_{n+1}=P_n\\cdot\\left(1+0.7\\left(1-\\cfrac{P_n}{10}\\right)\\right)$ avec un pas de temps d'une année.  \n",
    "Déterminer $r$ et $K$ dans ce cas précis.  "
   ]
  },
  {
   "cell_type": "markdown",
   "metadata": {},
   "source": [
    "r =  \n",
    "K = "
   ]
  },
  {
   "cell_type": "markdown",
   "metadata": {},
   "source": [
    "**Question II.3 :** Dans le cas général, pour tout $n\\in\\mathbb{N}$, on a : $$P_{n+1}=f(P_n)\\text{ où }f(x)=x\\left(1+r\\left(1-\\cfrac{x}{K}\\right)\\right)$$  \n",
    "Étudier succinctement la fonction $f$ sur un intervalle $[a,b]$ qu'on précisera sur lequel elle est positive.   \n",
    "\n",
    "1. Déterminer son maximum $P_{max}$ ainsi que ses éventuels points fixes (valeurs réelles $l$ telles que $f(l)=l$).  \n",
    "Soit $x_1$ l'abscisse de son maximum. Utiliser les lignes de code ci-dessous pour tracer le graphe de $f$ en distinguant trois cas, selon que $x_1<K$, $x_1=K$ et $x_1>K$ (On montrera pour ça que ces trois cas peuvent se ramener à une condition sur $r$ qu'on précisera).  \n",
    "  \n",
    "2. Quelle limite au modèle proposé envisagez-vous à partir de l'étude de $f$ ? Pourquoi désignera-t-on désormais $b$ par $P_{limite}$ ?\n",
    "3. Pour quelle taille de la population l'accroissement est-il maximal et que vaut-il ?"
   ]
  },
  {
   "cell_type": "code",
   "execution_count": null,
   "metadata": {},
   "outputs": [],
   "source": [
    "r = 0.7\n",
    "K = 10\n",
    "f = lambda x:x*(1+r*(1-x/K)) # créer la fonction f définie ci-dessus\n",
    "a,b = 0,K*(r+1)/r # à compléter\n",
    "x1 = b/2\n",
    "X = np.linspace(a,b,100)\n",
    "plt.figure(\"modèle logistique\")\n",
    "plt.plot(X,f(X),'b-',label='Graphe de f')\n",
    "plt.plot(X,X,'k-',label='Droite (y=x)')\n",
    "plt.ylim(ymin=0) # définir les bornes de l'intervalle des valeurs prises par y\n",
    "plt.axvline() # axe des ordonnées\n",
    "plt.grid()\n",
    "plt.vlines(x1,0,K*(r+1)**2/(4*r),lw=5,linestyle='-') # segment vertical d'abscisse x1\n",
    "plt.text(x1+0.3,0.7,'x1')\n",
    "plt.legend(loc='best')"
   ]
  },
  {
   "cell_type": "markdown",
   "metadata": {},
   "source": [
    "**Question II.3 :** On considère à nouveau l'exemple de la population de carpes dans un étang dont l'équation est données par : $$P_{n+1}=P_n\\left(1+0.7*\\left(1-\\cfrac{P_n}{10}\\right)\\right)$$\n",
    "Compléter la fonction `EvolPop1.py` afin de simuler l'évolution au cours du temps de la population."
   ]
  },
  {
   "cell_type": "code",
   "execution_count": null,
   "metadata": {},
   "outputs": [],
   "source": [
    "r = 0.7\n",
    "K = 10.\n",
    "\n",
    "def EvolPop1(P0,n):\n",
    "    # P0 : entier égale à la population initiale.\n",
    "    # n : entier égale au nombre d'années de la modélisation\n",
    "    P = np.zeros(...)# à compléter\n",
    "    P[0] = P0\n",
    "    for pas in range(...):\n",
    "        P[pas+1] = ...# Rentrer votre code ici\n",
    "    return P"
   ]
  },
  {
   "cell_type": "markdown",
   "metadata": {},
   "source": [
    "Testez votre fonction sur vingt années en prenant successivement $P_0=0.4346$, $P_0=2.3$, $P_0=13.245$, $P_0=18$, $P_0=10$ et $P_0=26$ dans la ligne de code ci-dessous.  \n",
    "Retrouver au terme de ces essais les limites du modèle logistique."
   ]
  },
  {
   "cell_type": "code",
   "execution_count": null,
   "metadata": {},
   "outputs": [],
   "source": [
    "n = 20\n",
    "P0 = 0.002\n",
    "pop = EvolPop1(P0,n)\n",
    "temps = np.arange(n+1)# tableau d'entiers de 0 à n\n",
    "plt.figure(\"Evolution avec P_0 = \"+str(P0))\n",
    "plt.plot(temps,pop,'ro-',label='effectif')\n",
    "plt.legend(loc='best')\n",
    "plt.grid()\n",
    "plt.xlabel('temps')\n",
    "plt.ylabel('nombre d''individus')\n",
    "plt.ylim(ymin = 0.)\n",
    "plt.title('Evolution de population')\n"
   ]
  },
  {
   "cell_type": "markdown",
   "metadata": {},
   "source": [
    "Justifier mathématiquement ces différents comportements en étudiant la suite récurrente $(P_n)_{n\\in\\mathbb{N}}$ selon les valeurs de $P_0$.  \n",
    "On pourra s'aider pour ça de la fonction `suiteRec.py` ci-dessous (qui n'est pas à savoir écrire) et du graphe de $f$ tracé à la question II.3."
   ]
  },
  {
   "cell_type": "code",
   "execution_count": null,
   "metadata": {
    "scrolled": false
   },
   "outputs": [],
   "source": [
    "# Fonction de récurrence :\n",
    "r = 0.7 # valeur fixée\n",
    "K = 10\n",
    "f = lambda x:x*(1+r*(1-x/K))\n",
    "# Paramètres du modèle :\n",
    "P0 = 12\n",
    "n = 10\n",
    "P_limite = K*(1+r)/r\n",
    "# Valeurs utiles pour le tracé de f :\n",
    "X=np.linspace(0,P_limite,100)\n",
    "Y=f(X)\n",
    "\n",
    "def suiteRec(u,n):\n",
    "    U = [u]\n",
    "    v = f(u)\n",
    "    A,O = [u],[v] # initialisation des Abscisses et des Ordonnées\n",
    "    for k in range(1,n):\n",
    "        U.append(v)\n",
    "        A.extend([v,v])\n",
    "        u = v\n",
    "        v = f(u)\n",
    "        O.extend([u,v])\n",
    "    A.append(v)\n",
    "    O.append(v)\n",
    "    return A,O,U\n",
    "    \n",
    "Abs,Ord,U=suiteRec(P0,n)\n",
    "\n",
    "def trace_graphe():\n",
    "    plt.subplots(figsize=(12, 8))\n",
    "    plt.subplot(211)\n",
    "    plt.plot(X,Y,'b-',X,X,'k-',Abs,Ord,'red',label='$p_{n+1}=f(p_n)$')\n",
    "    plt.ylim(ymin = 0.)\n",
    "    plt.xlabel('effectif de population $p_n$')\n",
    "    plt.ylabel('$f(p_n)$')\n",
    "    plt.subplot(212)\n",
    "    plt.plot(np.arange(n),U,'ro-')\n",
    "    plt.xlabel('Temps')\n",
    "    plt.ylabel('effectif de population $p_n$')\n",
    "    plt.show()\n",
    "    \n",
    "trace_graphe()   "
   ]
  },
  {
   "cell_type": "markdown",
   "metadata": {
    "collapsed": true
   },
   "source": [
    "On se pose maintenant la question de savoir ce qui se passe si on fait varier $r$ et notamment quel est l'impact sur l'évolution de la suite $(P_n)_{n\\in\\mathbb{N}}$ de la distinction de cas observée à la question II.2 : $r<1$ et $r>1$"
   ]
  },
  {
   "cell_type": "markdown",
   "metadata": {},
   "source": [
    "**Question II.4:** On considère cette fois l'équation logistique $\\Delta P=rP(1-P/10)$.  \n",
    "Utiliser comme ci-dessous `suiteRec.py` et `trace_graphe()` écrites à la question II.3  afin d'étudier sur le long terme ($n=50$ années) et selon les valeurs de $P_0$ qu'on fera varier le comportement de la population pour $r=0.2,0.8,1.9,2.2,2.5$, $2.55$ et $2.95$ successivement."
   ]
  },
  {
   "cell_type": "code",
   "execution_count": null,
   "metadata": {
    "scrolled": false
   },
   "outputs": [],
   "source": [
    "# Fonction de récurrence :\n",
    "r = 2.95 # valeur \n",
    "f = lambda x:x*(1+r*(1-x/10))\n",
    "# Paramètres du modèle :\n",
    "P0 = 4.52\n",
    "n = 50\n",
    "P_limite = 10*(1+r)/r\n",
    "# Valeurs utiles pour le tracé de f :\n",
    "X=np.linspace(0,P_limite,100)\n",
    "Y=f(X)\n",
    "\n",
    "Abs,Ord,U=suiteRec(P0,n)\n",
    "trace_graphe()"
   ]
  },
  {
   "cell_type": "markdown",
   "metadata": {},
   "source": [
    "**Question II.5 : Estimation des paramètres.**  \n",
    "On suppose avoir relevé les variations d'une population d'insectes au cours du temps. Les données obtenues sont les suivantes :\n",
    "\n",
    "\n",
    "|  $n$  |   0  |  1  |  2  |  3  |  4  |  5  |  6  |  7  |  8  |  9  |  10  |\n",
    "|-------|------|-----|-----|-----|-----|-----|-----|-----|-----|-----|------|\n",
    "| $P_n$ | 0.97 | 1.52| 2.31| 3.36| 4.63| 5.94| 7.04| 7.76| 8.13| 8.3 | 8.36 |\n",
    "\n",
    "1. Représenter par des points l'évolution de cette population.  \n",
    "2. On souhaite simuler cette évolution en utilisant le modèle logistique pour lequel $r=0.8$ et $K=10$. Donner les dix premières valeurs obtenues à l'aide de l'équation logistique correspondante et les tracer sur le même graphe que précédemment. Ce modèle vous semble-t-il adapté ?  \n",
    "3. Proposez des valeurs de $r$ et de $K$ permettant d'approcher au mieux les valeurs expérimentales. Justifier votre démarche et la confirmer par une représentation graphique."
   ]
  },
  {
   "cell_type": "code",
   "execution_count": null,
   "metadata": {},
   "outputs": [],
   "source": []
  },
  {
   "cell_type": "markdown",
   "metadata": {},
   "source": [
    "#  III. Analyse des modèles logistiques non linéaires"
   ]
  },
  {
   "cell_type": "markdown",
   "metadata": {},
   "source": [
    "## 3.1 Introduction."
   ]
  },
  {
   "cell_type": "markdown",
   "metadata": {
    "collapsed": true
   },
   "source": [
    "Nous avons pu constater dans les sections précédentes que l'évolution du modèle était sensible à la fois aux conditions initiales ($P_0$) mais aussi aux paramètres choisis, notamment $r$.  \n",
    "Dans l'exemple du suivi de la population de carpes dont le modèle était : $$P_{n+1}=P_n\\left(1+r\\left(1-\\cfrac{P_n}{10}\\right)\\right)=f_r(P_n)\\text{ avec }r=0.7$$ toute valeur de $P_0$ conduisait à un comportement à long terme identique, à savoir, la convergence vers $P^*=10=K$.  \n",
    "A la question II.4. on a constaté que pour toute valeur de $r<2$ cette même valeur $P^*$ d'équilibre semble être atteinte.  \n",
    "  \n",
    "Notons pour la suite : $$f_r(x)=x\\left(1+r\\left(1-\\cfrac{x}{K}\\right)\\right)$$\n",
    "Conformément au cours sur les suites récurrentes, la fonction $f_r$ étant continue sur $\\mathbb{R}_+$, en cas de convergence de la suite $(P_n)$ sa limite vérifie $f_r(P^*)=P^*$.  \n",
    "C'est un point fixe de $f_r$."
   ]
  },
  {
   "cell_type": "markdown",
   "metadata": {},
   "source": [
    "**Définition 1 :** On appelle **état stationnaire** toute solution constante du modèle. On parle aussi de valeur d'équilibre ou de point fixe du modèle."
   ]
  },
  {
   "cell_type": "markdown",
   "metadata": {},
   "source": [
    "Toute valeur d'équilibre se situe donc graphiquement à l'intersection de la courbe représentant $f_r$ et de la droite d'équation $(y=x)$.\\\\\n",
    "Pour le modèle logistique on dénombre donc deux états stationnaires : $P_1^*=0$ et $P_1^*=K$.  \n",
    "\n",
    "Les équilibres, pour autant, peuvent présenter différentes caractéristiques. Ainsi, dans l'exemple ci-dessus, une population proche de $0$ tend à s'éloigner de cet effectif nul tandis qu'une population proche de $K$ tend à se rapprocher de $K$. On dira que $N^*=0$ est un état stationnaire **instable** tandis que $N^*=K$ est un état stationnaire **stable**."
   ]
  },
  {
   "cell_type": "markdown",
   "metadata": {},
   "source": [
    "**Définition 2 :** On dit qu'un état stationnaire $N^*$ d'un modèle logistique est **stable** lorsque toute suite $(P_n)$ solution de ce modèle ayant pour condition initiale $N_0$ proche de $N^*$ tend vers $N^*$ lorsque $n$ tend vers l'infini. Un état stationnaire qui n'est pas stable au sens de cette définition sera dit **instable**."
   ]
  },
  {
   "cell_type": "markdown",
   "metadata": {},
   "source": [
    "Tout système écologique étant soumis à de légères perturbations, on peut estimer que ce sont les équilibres stables que nous devrions observer dans la nature et que l'étude de nos modèles devra se focaliser sur ces états stationnaires s'ils existent."
   ]
  },
  {
   "cell_type": "markdown",
   "metadata": {},
   "source": [
    "## 3.2 Principe de linéarisation."
   ]
  },
  {
   "cell_type": "markdown",
   "metadata": {},
   "source": [
    "L'objectif est de déterminer analytiquement si un état stationnaire est stable ou instable.  \n",
    "On pose $P_n=P^*+\\epsilon_n$ où $\\epsilon_n$ désigne la perturbation par rapport à l'équilibre à l'instant $t=n$.  \n",
    "\n",
    "La relation $P_{n+1}=P^*+\\epsilon_{n+1}=f_r(P_n)=f_r(P^*+\\epsilon_n)$ pour tout $n\\geq 0$ permet d'obtenir $\\epsilon_{n+1}$ en fonction de $\\epsilon_n$.  \n",
    "Si $|\\epsilon_{n+1}|>|\\epsilon_n|$ alors $P_{n+1}$ s'est éloigné de l'équilibre, sinon il s'en est rapproché. Il sera dit stable."
   ]
  },
  {
   "cell_type": "markdown",
   "metadata": {},
   "source": [
    "**Exemple :** Considérons à nouveau l'exemple de la population de carpes pour lequel $r=0.7$ et $K=10$  \n",
    "Dans le cadre du modèle logistique associé, posons $P^*_1=0$ et $P^*_2=10$ et commençons par observer l'état stationnaire $P^*_2$.  \n",
    "Dans ce cas : $P_n=P^*_2+\\epsilon_n=10+\\epsilon_n$.  \n",
    "\n",
    "Alors :\n",
    "\\begin{equation}\n",
    "\\begin{split}\n",
    "P_{n+1}&=10+\\epsilon_{n+1}=f_r(P_n)=(10+\\epsilon_n)\\left(1+0.7\\left(1-\\cfrac{10+\\epsilon_n}{10}\\right)\\right)\\\\\n",
    "&=(10+\\epsilon_n)(1-0.07\\epsilon_n)=10+0.3\\epsilon_n-0.07\\epsilon_n^2\n",
    "\\end{split}\n",
    "\\end{equation}\n",
    "\n",
    "D'où $$\\epsilon_{n+1}=0.3\\epsilon_n-0.7\\epsilon_n^2$$\n",
    "\n",
    "Mais comme on s'intéresse à de petites perturbations autour de $N^*_2$, on a $\\epsilon_n$ proche de zéro et donc $$\\epsilon_{n+1}\\underset{\\epsilon_n\\to 0}{\\sim} 0.3\\epsilon_n$$ ou encore $$|\\epsilon_{n+1}|<|\\epsilon_n|$$\n",
    "\n",
    "On peut donc conclure à une compression des perturbations, ce qui confirme que $N^*_2=10$ est un état stable."
   ]
  },
  {
   "cell_type": "markdown",
   "metadata": {},
   "source": [
    "**Question 3.1 :** Vérifier qu'au voisinage de $P^*_1=0$, $|\\epsilon_{n+1}| > |\\epsilon_n|$ lorsque $\\epsilon_n$ proche de zéro.  \n",
    "Conclure que les perturbations sont augmentées, ce qui assure le caractère instable de $N^*_1=0$."
   ]
  },
  {
   "cell_type": "markdown",
   "metadata": {},
   "source": [
    "**Argument général :** L'instabilité ou non d'un état stationnaire repose sur le fait que $\\left|\\cfrac{\\epsilon_{n+1}}{\\epsilon_n}\\right|$ est supérieur ou pas à $1$ lorsque $\\epsilon_n$ tend vers $0$.  \n",
    "\n",
    "Une autre caractérisation de la stabilité devient donc possible :\n",
    "$$\\cfrac{\\epsilon_{n+1}}{\\epsilon_n}=\\cfrac{P_{n+1}-P^*}{P_n-P^*}=\\cfrac{f_r(P_n)-f_r(P^*)}{P_n-P^*}$$\n",
    "puisque $P^*$ est un point fixe.  \n",
    "Dès lors, $f_r$ étant dérivable sur $\\mathbb{R}_+$ : $$\\underset{\\epsilon_n\\rightarrow 0}{lim}\\cfrac{\\epsilon_{n+1}}{\\epsilon_n}=\\underset{P_n\\rightarrow P^*}{lim}\\cfrac{f_r(P_n)-f_r(P^*)}{P_n-P^*}=f_r'(P^*)$$  \n",
    "\n",
    "**Théorème 1 :** Si un modèle $P_{n+1}=f_r(P_n)$ possède un état stationnaire $P^*$, alors $\\left|f'_r(P^*)\\right|>1$ implique que $P^*$ est instable tandis que $\\left|f'_r(P^*)\\right|<1$ implique que $P^*$ est stable.  \n",
    "*Remarque :* Si $\\left|f'_r(P^*)\\right|=1$ alors cette information n'est pas suffisante pour conclure sur la stabilité de cet état."
   ]
  },
  {
   "cell_type": "markdown",
   "metadata": {},
   "source": [
    "**Question 3.2 :** Vérifier ce théorème au regard des évolutions modélisées à la question II.4."
   ]
  },
  {
   "cell_type": "code",
   "execution_count": null,
   "metadata": {},
   "outputs": [],
   "source": []
  }
 ],
 "metadata": {
  "anaconda-cloud": {
   "attach-environment": true,
   "summary": "Application des suites récurrentes",
   "url": "https://anaconda.org/jlaurentin/tp01bcpst2-dynamiquedepopulations"
  },
  "kernelspec": {
   "display_name": "Python 3",
   "language": "python",
   "name": "python3"
  },
  "language_info": {
   "codemirror_mode": {
    "name": "ipython",
    "version": 3
   },
   "file_extension": ".py",
   "mimetype": "text/x-python",
   "name": "python",
   "nbconvert_exporter": "python",
   "pygments_lexer": "ipython3",
   "version": "3.6.6"
  }
 },
 "nbformat": 4,
 "nbformat_minor": 1
}

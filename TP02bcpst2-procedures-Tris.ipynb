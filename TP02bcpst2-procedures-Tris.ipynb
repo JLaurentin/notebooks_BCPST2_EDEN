{
 "cells": [
  {
   "cell_type": "markdown",
   "metadata": {},
   "source": [
    "# TP02 - Procédures de tris"
   ]
  },
  {
   "cell_type": "markdown",
   "metadata": {},
   "source": [
    "Il s'agit dans ce TP de présenter quatre méthodes usuelles pour trier une liste de façon **croissante**.  \n",
    "Notre objectif est de pouvoir, lors d'épreuves d'écrit ou d'oral, réécrire les fonctions qui permettent de trier des tableaux à une dimension de valeurs numériques ainsi que le recommande le programme officiel.  \n",
    "Les procédures à connaître sont au nombre de quatre : Il s'agit du *tri par sélection*, du *tri par insertion*, du *tri à bulles* vus en première année et enfin du *tri rapide* connu également sous le nom de *quicksort* au programme de deuxième année.  "
   ]
  },
  {
   "cell_type": "markdown",
   "metadata": {},
   "source": [
    "## Importation préalable des outils Python nécessaires :"
   ]
  },
  {
   "cell_type": "code",
   "execution_count": null,
   "metadata": {
    "collapsed": true
   },
   "outputs": [],
   "source": [
    "import numpy as np\n",
    "import random as rdm\n",
    "from time import clock\n",
    "%matplotlib inline\n",
    "import matplotlib.pyplot as plt"
   ]
  },
  {
   "cell_type": "markdown",
   "metadata": {},
   "source": [
    "## I/ Les méthodes Python.  "
   ]
  },
  {
   "cell_type": "markdown",
   "metadata": {},
   "source": [
    "### 1. les méthodes usuelles."
   ]
  },
  {
   "cell_type": "markdown",
   "metadata": {},
   "source": [
    "On commence par créer une liste de vingt entiers pris au hasard entre 1 et 10 (compris) :"
   ]
  },
  {
   "cell_type": "code",
   "execution_count": null,
   "metadata": {},
   "outputs": [],
   "source": [
    "L = [rdm.randint(1,10) for k in range(20)]\n",
    "print(L)"
   ]
  },
  {
   "cell_type": "markdown",
   "metadata": {},
   "source": [
    "Deux tris sont possibles :"
   ]
  },
  {
   "cell_type": "code",
   "execution_count": null,
   "metadata": {},
   "outputs": [],
   "source": [
    "L.sort()\n",
    "print(L)"
   ]
  },
  {
   "cell_type": "code",
   "execution_count": null,
   "metadata": {},
   "outputs": [],
   "source": [
    "L.sort(reverse=True)\n",
    "print(L)"
   ]
  },
  {
   "cell_type": "markdown",
   "metadata": {},
   "source": [
    "Toutes ces *méthodes* font des listes des objets **mutables**. On ne créé pas grâce à elles de nouveaux objets, on les modifie en perdant la liste initiale... Si on veut garder la liste originale, il faut commencer par la copier (`L1=list(L)` ou `L1=L[:]`) ou bien choisir d'écrire `L1=sorted(L)` pour trier `L`.  "
   ]
  },
  {
   "cell_type": "code",
   "execution_count": null,
   "metadata": {},
   "outputs": [],
   "source": [
    "L = [rdm.randint(1,10) for k in range(15)]\n",
    "print('L =',L)\n",
    "L1 = list(L)\n",
    "L2 = L[:]\n",
    "L1.sort()\n",
    "print('L1 = ',L1,' et\\n L = ',L)\n",
    "L2.sort(reverse=True)\n",
    "print('L2 = ',L2,' et\\n L = ',L)\n",
    "L3 = sorted(L)\n",
    "print('L3 = ',L3,' et\\n L = ',L)"
   ]
  },
  {
   "cell_type": "markdown",
   "metadata": {},
   "source": [
    "### 2. Des méthodes sur les listes plus raffinées."
   ]
  },
  {
   "cell_type": "markdown",
   "metadata": {},
   "source": [
    "Il est possible de trier une liste selon un critère défini sous forme de \"clef\" qu'on passe en paramètre dans la méthode `sort` appliquée à la liste."
   ]
  },
  {
   "cell_type": "markdown",
   "metadata": {},
   "source": [
    "*Exemple :* Imaginons des points donnés par leurs coordonnées GPS avec latitude et longitude. On souhaite trier ces points selon leurs longigudes..."
   ]
  },
  {
   "cell_type": "code",
   "execution_count": null,
   "metadata": {},
   "outputs": [],
   "source": [
    "coordonnees = [(43,7,'A2'),(46,-7,'A1'),(45,0,'A3')]\n",
    "def C2(triplet):# création de la clef\n",
    "    return triplet[1]\n",
    "def latitude(point):\n",
    "    return point[0]\n",
    "def site(point):\n",
    "    return point[2]\n",
    "coordonnees.sort(key=C2) # opère le tri selon les longitudes\n",
    "print(coordonnees)"
   ]
  },
  {
   "cell_type": "markdown",
   "metadata": {},
   "source": [
    "Il est également possible de trier des **chaînes de caractères**. Il faut pourtant, dans ce cas, avoir conscience de certains pièges..."
   ]
  },
  {
   "cell_type": "code",
   "execution_count": null,
   "metadata": {},
   "outputs": [],
   "source": [
    "L=['biologie','chimie','science','terre','bcpst']\n",
    "print(L)\n",
    "L.sort()\n",
    "print(L)"
   ]
  },
  {
   "cell_type": "code",
   "execution_count": null,
   "metadata": {},
   "outputs": [],
   "source": [
    "L=['biologie','Chimie','science','terre','bcpst']\n",
    "print(L)\n",
    "L.sort()\n",
    "print(L)"
   ]
  },
  {
   "cell_type": "code",
   "execution_count": null,
   "metadata": {},
   "outputs": [],
   "source": [
    "M = 'zèbre'\n",
    "print(M[:-2])"
   ]
  },
  {
   "cell_type": "code",
   "execution_count": null,
   "metadata": {},
   "outputs": [],
   "source": [
    "L = ['zèbre','mouton','ane']\n",
    "L.sort()\n",
    "print(L)\n",
    "L=[' zèbre','mouton','ane']\n",
    "L.sort()\n",
    "print(L)"
   ]
  },
  {
   "cell_type": "markdown",
   "metadata": {},
   "source": [
    "### 3. Tris sur les tableaux"
   ]
  },
  {
   "cell_type": "code",
   "execution_count": null,
   "metadata": {},
   "outputs": [],
   "source": [
    "T = np.array([[1,5,3],[2,4,1]])\n",
    "print(T)"
   ]
  },
  {
   "cell_type": "markdown",
   "metadata": {},
   "source": [
    "Tri par défaut selon les lignes :"
   ]
  },
  {
   "cell_type": "code",
   "execution_count": null,
   "metadata": {},
   "outputs": [],
   "source": [
    "np.sort(T)"
   ]
  },
  {
   "cell_type": "markdown",
   "metadata": {},
   "source": [
    "Tri du tableau mis \"à plat\" (flattened):"
   ]
  },
  {
   "cell_type": "code",
   "execution_count": null,
   "metadata": {},
   "outputs": [],
   "source": [
    "np.sort(T,axis=None)"
   ]
  },
  {
   "cell_type": "markdown",
   "metadata": {},
   "source": [
    "Tri du tableau selon les colonnes :"
   ]
  },
  {
   "cell_type": "code",
   "execution_count": null,
   "metadata": {},
   "outputs": [],
   "source": [
    "np.sort(T,axis=0)"
   ]
  },
  {
   "cell_type": "markdown",
   "metadata": {},
   "source": [
    "Le défaut des méthodes précédentes est que, si les lignes sont associées (par exemple sur la ligne $L_0$ le numéro des individus et sur la seconde ligne $L_1$ leur \" score \" (quel qu'il soit), alors les tris perdent cette association...   \n",
    "Voici une façon de gérer ce problème :"
   ]
  },
  {
   "cell_type": "code",
   "execution_count": null,
   "metadata": {},
   "outputs": [],
   "source": [
    "print('le tableau de départ vaut : \\n',T)\n",
    "ordreIndice = T[0,:].argsort()\n",
    "print('les indices triés sont : ',ordreIndice)\n",
    "T1 = T[:,ordreIndice]\n",
    "print('Tri croissant selon la 1ère ligne : \\n',T1)\n",
    "# et si on veut trier dans l'ordre décroissant :\n",
    "ordreInv = T[0,:].argsort()[::-1]\n",
    "T2 = T[:,ordreInv]\n",
    "print('Tri décroissant selon la 1ère ligne : \\n',T2)"
   ]
  },
  {
   "cell_type": "markdown",
   "metadata": {},
   "source": [
    "## II. Les méthodes de tri à connaître."
   ]
  },
  {
   "cell_type": "markdown",
   "metadata": {},
   "source": [
    "### 1. Tri par sélection"
   ]
  },
  {
   "cell_type": "markdown",
   "metadata": {},
   "source": [
    "On parle parfois de *tri naïf* parce que c'est l'une des plus intuitives.  \n",
    "  \n",
    "Soit `L` la liste à trier de longueur *n*. L'idée est de commencer par chercher le plus grand élément de la liste puis de le placer à la *n*-ième position en l'échangeant avec le dernier élément de celle-ci.  \n",
    "Il suffit alors de recommencer l'opération avec les *n-1* premiers éléments puisque le dernier élément de la liste est correctement placé. On réitère cette opération jusqu'à ce qu'il ne reste plus que deux éléments à trier."
   ]
  },
  {
   "cell_type": "markdown",
   "metadata": {},
   "source": [
    "**Exercice 1 :**  \n",
    "**Question 1.1 :** Compléter la fonction `maxi(L,n)` ci-dessous qui prend en argument une liste `L` et un entier `n` et qui retourne l'indice du premier maximum au sein des $n$ premiers éléments de la liste (on notera que `n <= len(L)`)."
   ]
  },
  {
   "cell_type": "code",
   "execution_count": null,
   "metadata": {
    "collapsed": true
   },
   "outputs": [],
   "source": [
    "def maxi(L,n):\n",
    "    # L est une liste ; n est un entier\n",
    "    # retourne l'indice du premier maximum parmi les n premières valeurs de L\n",
    "    indice=0\n",
    "    for i in range(1,n):\n",
    "        if ...: # à compléter\n",
    "            indice = ... # à compléter\n",
    "    return indice"
   ]
  },
  {
   "cell_type": "code",
   "execution_count": null,
   "metadata": {},
   "outputs": [],
   "source": [
    "L = [1,5,2,9,3]\n",
    "maxi(L,2)"
   ]
  },
  {
   "cell_type": "markdown",
   "metadata": {},
   "source": [
    "**Question 1.2 :** En utilisant la fonction `maxi`, écrire une fonction `tri_selec()` qui trie une liste selon la méthode décrite ci-dessus."
   ]
  },
  {
   "cell_type": "code",
   "execution_count": null,
   "metadata": {
    "collapsed": true
   },
   "outputs": [],
   "source": [
    "def tri_select(L):\n",
    "    t0=clock()\n",
    "    i=len(L)-1\n",
    "    while i>0:\n",
    "        j=maxi(L,i+1)\n",
    "        if ... : # à compléter\n",
    "            ...# echange de L[i] et de L[j]\n",
    "        i = i-1\n",
    "    t1=clock()\n",
    "    duree=t1-t0\n",
    "    return L,duree"
   ]
  },
  {
   "cell_type": "markdown",
   "metadata": {},
   "source": [
    "**Question 1.3 :** Appliquer la fonction précédente à des listes de $n=20$, $200$, $2000$ et $20000$ entiers pris au hasard entre 1 et 100 (on affichera la réponse que dans le cas $n=20$) :"
   ]
  },
  {
   "cell_type": "code",
   "execution_count": null,
   "metadata": {},
   "outputs": [],
   "source": [
    "L = [rdm.randint(1,100) for k in range(20000)]\n",
    "#print(L)\n",
    "L1,d = tri_select(L)\n",
    "#print('la liste triée vaut : ',L1)\n",
    "print('le temps pour la trier a été de ',d,' secondes')"
   ]
  },
  {
   "cell_type": "markdown",
   "metadata": {},
   "source": [
    "** *REMARQUE :* **En dehors même des procédures de tri, il est utile de savoir retourner l'indice du maximum ou du minimum d'une liste.  Une application **classique** de la recherche du minimum et de son index consiste à déterminer l'intersection de deux courbes.  \n",
    "A titre d'exemple, cherchons une valeur approchée à $10^{-2}$ près de $x\\in[1,2]$ telle que $2-x=\\cfrac{1}{2}\\ln(x)$ dont on rappelle qu'elle a déjà été obtenue grâce aux suites récurrentes (cf. fiche de synthèse sur les suites récurrentes), aux algorithmes de dichotomie ou de Newton dans le TP2 qui précède."
   ]
  },
  {
   "cell_type": "code",
   "execution_count": null,
   "metadata": {
    "collapsed": true
   },
   "outputs": [],
   "source": [
    "def mini(L):\n",
    "    # L est une liste ;\n",
    "    # retourne l'indice du premier minimum rencontré dans L\n",
    "    indice=0\n",
    "    for i in range(1,len(L)):\n",
    "        if L[i]<L[indice]:\n",
    "            indice=i\n",
    "    return indice"
   ]
  },
  {
   "cell_type": "code",
   "execution_count": null,
   "metadata": {},
   "outputs": [],
   "source": [
    "X = np.linspace(1,2,100)\n",
    "Y1,Y2 = 2-X,np.log(X)/2\n",
    "iMin = mini(np.abs(Y1-Y2))\n",
    "abscInter = X[iMin]\n",
    "plt.plot(X,Y1,'r-',X,Y2,'b-')\n",
    "plt.scatter(X[iMin],Y1[iMin],20,alpha=0.9)\n",
    "plt.grid()\n",
    "print(\"l'intersection a lieu au point d'abscisse \",round(abscInter,2))"
   ]
  },
  {
   "cell_type": "markdown",
   "metadata": {},
   "source": [
    "###  2. Tri à bulles"
   ]
  },
  {
   "cell_type": "markdown",
   "metadata": {},
   "source": [
    "Cette méthode consiste à parcourir une première fois l'ensemble du tableau et à faire  \"remonter\" son plus grand élément en dernière place à l'aide d'échanges deux à deux.  \n",
    "On recommence ensuit cette opération sur les $(n-1)$ premiers termes du tableau, les $(n-2)$ premiers termes, etc. jusqu'aux deux premiers termes d'indices $0$ et $1$.  "
   ]
  },
  {
   "cell_type": "markdown",
   "metadata": {},
   "source": [
    "** Exercice 2 :** Compléter la fonction suivante et en faire l'application à une liste au hasard de votre choix :"
   ]
  },
  {
   "cell_type": "code",
   "execution_count": null,
   "metadata": {},
   "outputs": [],
   "source": [
    "print([k for k in range(5,0,-1)])"
   ]
  },
  {
   "cell_type": "code",
   "execution_count": null,
   "metadata": {
    "collapsed": true
   },
   "outputs": [],
   "source": [
    "def tri_bulles(l):\n",
    "    t0 = clock()\n",
    "    n=len(l)\n",
    "    for k in range(...):# k de n-1 à 1 par pas de -1\n",
    "        for i in range(...): # i de 0 à k-1\n",
    "            if l[i]>l[i+1]:\n",
    "                ... # échange\n",
    "    t1 = clock()\n",
    "    duree=t1-t0\n",
    "    return l,duree"
   ]
  },
  {
   "cell_type": "code",
   "execution_count": null,
   "metadata": {},
   "outputs": [],
   "source": [
    "L = [rdm.randint(1,100) for k in range(20)]\n",
    "print(L)\n",
    "L2,d2 = tri_bulles(L)\n",
    "print('la liste triée vaut : ',L2)\n",
    "print('le temps pour la trier a été de ',d2,' secondes')"
   ]
  },
  {
   "cell_type": "markdown",
   "metadata": {},
   "source": [
    "### 3. Tri par insertion"
   ]
  },
  {
   "cell_type": "markdown",
   "metadata": {},
   "source": [
    "Cette méthode de tri est celle du joueur de carte qui reçoit successivement les cartes qui lui sont distribuées. Une fois la première carte prise, il insère la seconde à sa place pour un tri croissant. Ensuite, à chaque nouvelle carte, il l'insère dans l'ordre en plaçant dans sa main triée chaque élément à sa bonne place.  \n",
    "\n",
    "Pour programmer un tel tri, on traite les éléments de la liste tour à tour. On les compare aux éléments précédents préalablement triés jusqu'à trouver la sa place. Il suffit alors de décaler les éléments du tableau pour insérer l'élément considéré à sa place."
   ]
  },
  {
   "cell_type": "markdown",
   "metadata": {},
   "source": [
    "** Exercice 3 :**  \n",
    "**Question 3.1 :** Écrire une fonction `insertion(L,i)` qui prend en argument une liste `L` dont on suppose que les $(i-1)$ premiers éléments sont triés et qui insère l'élément `L[i]` à sa place pour que les $i$ premiers éléments de `L` soient triés."
   ]
  },
  {
   "cell_type": "code",
   "execution_count": null,
   "metadata": {
    "collapsed": true
   },
   "outputs": [],
   "source": [
    "def insertion(L,i):\n",
    "    while ...:\n",
    "        ... # echange L[i] et L[i-1]\n",
    "        i -= 1\n",
    "    return L"
   ]
  },
  {
   "cell_type": "code",
   "execution_count": null,
   "metadata": {},
   "outputs": [],
   "source": [
    "L = [1,3,8,4]\n",
    "print(L)\n",
    "insertion(L,3)\n",
    "print(L)"
   ]
  },
  {
   "cell_type": "markdown",
   "metadata": {},
   "source": [
    "**Question 3.2 :** Compléter la fonction `tri\\_insert(L)` qui effectue un tri par insertion de la liste `L`."
   ]
  },
  {
   "cell_type": "code",
   "execution_count": null,
   "metadata": {
    "collapsed": true
   },
   "outputs": [],
   "source": [
    "def tri_insert(L):\n",
    "    t0=clock()\n",
    "    n=len(L)\n",
    "    for i in range(...):\n",
    "        L = insertion(L,i)\n",
    "    t1=clock()\n",
    "    duree=t1-t0\n",
    "    return L,duree"
   ]
  },
  {
   "cell_type": "markdown",
   "metadata": {},
   "source": [
    "*Application :*"
   ]
  },
  {
   "cell_type": "code",
   "execution_count": null,
   "metadata": {},
   "outputs": [],
   "source": [
    "L = [rdm.randint(1,100) for k in range(20)]\n",
    "print(L)\n",
    "L3,d3 = tri_insert(L)\n",
    "print('la liste triée vaut : ',L3)\n",
    "print('le temps pour la trier a été de ',d3,' secondes')"
   ]
  },
  {
   "cell_type": "markdown",
   "metadata": {},
   "source": [
    "### 4.  Tri rapide - quickSort"
   ]
  },
  {
   "cell_type": "markdown",
   "metadata": {},
   "source": [
    "Le *tri rapide* est une méthode récursive de tri.  \n",
    "Elle consiste à prendre un élément au hasard (le plus souvent le premier de la liste) appelé *pivot* et de le mettre à sa place en plaçant tous les éléments plus petits à sa gauche et les plus grands à sa droite.  \n",
    "On recommence alors sur les deux sous-listes obtenues jusqu'à obtenir des sous-listes vides.   La liste est alors triée.  "
   ]
  },
  {
   "cell_type": "markdown",
   "metadata": {},
   "source": [
    "**Exemple :**  \n",
    "1. On suppose `L=[15,19,3,20,5,1,6,11]`  \n",
    "2. Le pivot est `15`. On place dans `L1` les éléments qui lui sont plus petits, dans `L2` sont qui lui sont plus grands.  \n",
    "\t$$ \\texttt{[3,5,1,6,11] + }\\underline{[15]}\\texttt{ + [19,20]} $$\n",
    "3. On répète la même opération sur les deux sous-listes `L1` et `L2` :\n",
    "\t$$ \\texttt{[1] + }\\underline{[3]}\\texttt{ + [5,6,11] + }\\underline{[15]}\\texttt{ + }\\underline{[19]}\\texttt{ + [20]} $$\n",
    "4. On termine en traitant de la même manière les trois sous-listes restantes. "
   ]
  },
  {
   "cell_type": "markdown",
   "metadata": {},
   "source": [
    "**Exercice 4 :** Écrire une fonction Python récursive `triRapide(L)` permettant de trier une liste `L` selon cette procédure."
   ]
  },
  {
   "cell_type": "code",
   "execution_count": null,
   "metadata": {
    "collapsed": true
   },
   "outputs": [],
   "source": [
    "def trirapide(L):\n",
    "    if L==[]:\n",
    "        return []\n",
    "    else:\n",
    "        n=len(L)\n",
    "        L1=[]\n",
    "        L2=[]\n",
    "        for k in range(1,n):\n",
    "            if ...:\n",
    "                ... \n",
    "            else:\n",
    "                ... \n",
    "        L=trirapide(L1)+[L[0]]+trirapide(L2)\n",
    "        return L"
   ]
  },
  {
   "cell_type": "markdown",
   "metadata": {},
   "source": [
    "**Exercice 5 :** Vérifier sur des listes de longueur $2000$ le bien-fondé de son nom..."
   ]
  },
  {
   "cell_type": "code",
   "execution_count": null,
   "metadata": {
    "collapsed": true
   },
   "outputs": [],
   "source": [
    "def tpsTrirapide(L):\n",
    "    t0=clock()\n",
    "    Lt=trirapide(L)\n",
    "    t1=clock()\n",
    "    duree=t1-t0\n",
    "    return Lt,duree"
   ]
  },
  {
   "cell_type": "code",
   "execution_count": null,
   "metadata": {
    "collapsed": true
   },
   "outputs": [],
   "source": [
    "L = [rdm.randint(1,100) for k in range(2000)]\n",
    "La,Lb,Lc,Ld = L[:],L[:],L[:],L[:]\n",
    "L1,d1 =  tri_select(La)\n",
    "L2,d2 = tri_bulles(Lb)\n",
    "L3,d3 = tri_insert(Lc)\n",
    "L4,d4 = tpsTrirapide(Ld)\n",
    "print('les temps respectifs sont :\\n',d1,'s ,',d2,'s ,',d3,'s et',d4,'s ,')"
   ]
  },
  {
   "cell_type": "markdown",
   "metadata": {},
   "source": [
    "**Remarque :** Si jamais la liste est déjà partiellement triée, le tri par insertion sera plus rapide que le Quiksort. On pourra le vérifier sur L.sort()"
   ]
  },
  {
   "cell_type": "markdown",
   "metadata": {},
   "source": [
    "## III. Une application  : recherche du $k$-mère le plus fréquent"
   ]
  },
  {
   "cell_type": "markdown",
   "metadata": {
    "collapsed": true
   },
   "source": [
    "Considérons à titre d'exemple la recherche des $2$-mères les plus fréquents au sein de la séquence  \n",
    "$$\\texttt{S = 'AAGCAAAGGTGGG'}$$  \n",
    "\n",
    "Commençons par considérer $k=2$ :  \n",
    "On liste tous les $2$-mères parmi les $4^2=16$ possibles, dans l'ordre d'apparition dans la chaîne de caractère $\\texttt{S}$.\n",
    "\n",
    "|     $2$-mères de 'S'      |   AA  |  AG  |  GC  |  CA  |  AA  |  AA  |  AG  |  GG  |  GT  |  TG  |  GG  |  GG  |\n",
    "|---------------------------------------------------------------------------------------------------------|\n"
   ]
  },
  {
   "cell_type": "markdown",
   "metadata": {
    "collapsed": true
   },
   "source": [
    "Revenons maintenant aux $16$ 2-mères possibles auxquels nous allons associer une valeur entière comprise entre $0$ et $15$ selon le codage ci-dessous :  \n",
    "\n",
    "|  $2$-mères  |  AA  |  AC  |  AG  |  AT  |  CA  |  CC  |  CG  |  CT  |  GA  |  GC  |  GG  |  GT  |  TA  |  TC  |  TG  |  TT  |\n",
    "|-------|-----|-----|-----|-----|-----|-----|-----|-----|-----|-----|-----|-----|-----|-----|-----|-----|-----|\n",
    "|    Index    |  0   |  1   |  2   |  3   |  4   |  5   |  6   |  7   |  8   |  9   |  10  |  11  |  12  |  13  |  14  |  15  |\n",
    "\n",
    "L'idée est d'associer à chaque lettre une valeur entre $0$ et $4$. On choisit pour notre part de prendre : $A:0$, $C:1$, $G:2$, $T:3$ et on a applique l'idée suivante :  \n",
    "$$\\forall n \\in \\{0,1,\\cdots,15\\}, \\exists ! (a_0,a_1)\\in\\{0,3\\}^2/ n = 4a_1+a_0$$  \n",
    "Récriproquement, à tout couple $(a_0,a_1)\\in\\{0,3\\}^2$ correspond un unique $n\\in\\{0,\\cdots,15\\}/n=a_1\\cdot4+a_0$  \n",
    "\n",
    "Ainsi : $AA=0*4^1+0*4^0=0$, $CA=1*4^1+0*4^0=4$ ou encore $GC=2*4^1+1*4^0=9$  \n",
    "\n",
    "Cette écriture en base $4$ se généralise et, à titre d'exemple, on pourra associer à tout $3$-mère un entier $n=a_2\\cdot 4^2+a_\\cdot 4+a_0$ où $a_0,a_1,a_2\\in\\{0\\cdot,3\\}$.  \n",
    "Ainsi : $$GCT=2*4^2+1*4^1+3*4^0=39$$  "
   ]
  },
  {
   "cell_type": "markdown",
   "metadata": {},
   "source": [
    "**Question 1 :** Écrire une fonction `motif2Nb` permettant d'associer à chaque mot de $k$ lettre un entier naturel formé selon cette procédure :"
   ]
  },
  {
   "cell_type": "code",
   "execution_count": null,
   "metadata": {
    "collapsed": true
   },
   "outputs": [],
   "source": [
    "def motif2Nb(mot):\n",
    "    n=len(mot)\n",
    "    mn=0\n",
    "    for k in range(...):\n",
    "        nucl = mot[...]\n",
    "        if nucl == 'C':\n",
    "            val = 1\n",
    "        elif nucl == 'G':\n",
    "            val = 2\n",
    "        elif nucl == 'T':\n",
    "            val = 3\n",
    "        else:\n",
    "            val = 0\n",
    "        mn += ...\n",
    "    return mn"
   ]
  },
  {
   "cell_type": "code",
   "execution_count": null,
   "metadata": {
    "collapsed": true
   },
   "outputs": [],
   "source": [
    "motif2Nb('CT')"
   ]
  },
  {
   "cell_type": "markdown",
   "metadata": {},
   "source": [
    "On peut désormais convertir chaque $2$-mère rencontrés dans notre séquence `S` en un entier grâce à la fonction `motif2Nb` pour produire un tableau `index` comme ci-dessous :\n",
    "\n",
    "|     $2$-mères de 'S'      |  AA  |  AG  |  GC  |  CA  |  AA  |  AA  |  AG  |  GG  |  GT  |  TG  |  GG  |  GG  |\n",
    "|---------------------------|------|------|------|------|------|------|------|------|------|------|------|------|\n",
    "|         Index             |  0   |  2   |  9   |  4   |  0   |  0   |  2   |  10  |  11  |  14  |  10  |  10  |\n",
    "\n",
    "Il suffit alors de trier les indexes de façon croissante.  \n",
    "Sur l'exemple précédent, on obtient :\n",
    "\n",
    "|     $2$-mères de 'S'      |  AA  |  AA  |  AA  |  AG  |  AG  |  CA  |  GC  |  GG  |  GG  |  GG  |  GT  |  TG  |\n",
    "|---------------------------|------|------|------|------|------|------|------|------|------|------|------|------|\n",
    "|         Index             |  0   |  0   |  0   |  2   |  2   |  4   |  9   |  10  |  10  |  10  |  11  |  14  |\n",
    "\n",
    "Comme les $k$-mères identiques sont accolés dans l'index trié (comme par exemple $(0,0,0)$ ou $(10,10,10)$) les $k$-mères les plus fréquents sont révélés par la plus longue chaîne d'entiers égaux dans la liste `indexTrie`.   \n",
    "Il suffit alors de créer une liste `compte` qui dénombre les apparitions consécutives d'un même $k$-mère à partir de `indexTrie` puis d'en rechercher le maximum.  \n",
    "  \n",
    "Enfin il faut pouvoir écrire la réciproque de la fonction `motif2Nb` pour pouvoir retourner, à partir d'un entier naturel, le motif correspondant de longueur $k$.  "
   ]
  },
  {
   "cell_type": "markdown",
   "metadata": {
    "collapsed": true
   },
   "source": [
    "**Question 2 :**Ecrire une fonction `nb2Motif` dont les variables d'entrée sont deux entiers $n$ et $k$ et retournant le motif associé.  \n",
    "*Note :* On rappelle que si $p$ et $n$ sont deux entiers naturels, avec $p\\leq n$ alors `n//p` désigne le quotient de la division euclidienne de $n$ par $p$ et `n%p` est le reste de cette division."
   ]
  },
  {
   "cell_type": "code",
   "execution_count": null,
   "metadata": {
    "collapsed": true
   },
   "outputs": [],
   "source": [
    "def nb2Motif(n,k):\n",
    "    mot = ''\n",
    "    for i in range(k):\n",
    "        \n",
    "        ...\n",
    "        \n",
    "    return mot"
   ]
  },
  {
   "cell_type": "code",
   "execution_count": null,
   "metadata": {
    "collapsed": true
   },
   "outputs": [],
   "source": [
    "nb2Motif(39,3)"
   ]
  },
  {
   "cell_type": "markdown",
   "metadata": {},
   "source": [
    "On donne ci-dessous l'algorithme permettant de rechercher les mots les plus fréquents de $k$ lettres dans un `Texte` donné.  \n",
    "**Question 3 :** Le traduire en langage Python avant de l'appliquer à la séquence `S` donnée en introduction.\n",
    "\n",
    "`mots_frequents_par_tri(Texte,k)    \n",
    "motsFrequents <-un ensemble vide  \n",
    "index <- une liste de (n-k+1) zéros\n",
    "compte <- une liste de (n-k+1) zéros\n",
    "Pour i <- 0 à |Texte| - k   \n",
    "    motif <- Texte(i,k)  # texte commençant en i de longueur k\n",
    "    index(i) <- motif2Nb(motif)  \n",
    "    compte(i) <- 1   \n",
    "indexTrie <- triRapide(index)  \n",
    "Pour i <- 1 à |Texte| - k  \n",
    "    Si indexTrie(i) = indexTrie(i-1)  \n",
    "        compte(i) <- compte(i-1)+1  \n",
    "compteMax <- valeur maximum dans compte \n",
    "Pour i <- 0 à |Texte| - k  \n",
    "   Si compte(i) = compteMax  \n",
    "        motif <- nbr2Motif(indexTrie(i),k)  \n",
    "        ajouter motif à l'ensemble motsFrequents  \n",
    "return motsFrequents`   "
   ]
  },
  {
   "cell_type": "code",
   "execution_count": null,
   "metadata": {
    "collapsed": true
   },
   "outputs": [],
   "source": [
    "def motsFrequentsRapide(Text,k):\n",
    "    \n",
    "    ...\n",
    "    \n",
    "    return set(motifsFreq),effMax"
   ]
  },
  {
   "cell_type": "code",
   "execution_count": null,
   "metadata": {
    "collapsed": true
   },
   "outputs": [],
   "source": [
    "S = 'AAGCAAAGGTGGG'\n",
    "mF,effMax=motsFrequentsRapide(S,2)\n",
    "print(mF)\n",
    "print(effMax)"
   ]
  }
 ],
 "metadata": {
  "anaconda-cloud": {
   "environment": null,
   "summary": "TP02 - BCPST2 - procédures de tris"
  },
  "kernelspec": {
   "display_name": "Python [default]",
   "language": "python",
   "name": "python3"
  },
  "language_info": {
   "codemirror_mode": {
    "name": "ipython",
    "version": 3
   },
   "file_extension": ".py",
   "mimetype": "text/x-python",
   "name": "python",
   "nbconvert_exporter": "python",
   "pygments_lexer": "ipython3",
   "version": "3.6.1"
  }
 },
 "nbformat": 4,
 "nbformat_minor": 1
}

{
 "cells": [
  {
   "cell_type": "markdown",
   "metadata": {},
   "source": [
    "# TD 03 - DENOMBREMENTS\n",
    "\n",
    "\n",
    "** *Les objectifs* **: Cardinal d'une union (disjointe ou pas) ; Cardinal d'un produit cartésien, des $p$-listes, des $p$-listes sans répétition, des permutations et des $p$-combinaisons d'un ensemble $E$ à $n$ éléments.  \n",
    "*Capacités :* Modéliser une situation combinatoire au moyen d'un vocabulaire précis ; mener un calcul de dénombrement;"
   ]
  },
  {
   "cell_type": "code",
   "execution_count": null,
   "metadata": {
    "collapsed": true
   },
   "outputs": [],
   "source": [
    "%pylab inline\n",
    "import numpy as np\n",
    "import matplotlib.pyplot as plt\n",
    "import random as rdm"
   ]
  },
  {
   "cell_type": "code",
   "execution_count": null,
   "metadata": {
    "collapsed": true
   },
   "outputs": [],
   "source": [
    "print([rdm.randint(1,3) for k in range(10)],' ')"
   ]
  },
  {
   "cell_type": "code",
   "execution_count": null,
   "metadata": {
    "collapsed": true
   },
   "outputs": [],
   "source": [
    "S = ['P','F']\n",
    "[rdm.choice(S) for k in range(10)]"
   ]
  },
  {
   "cell_type": "code",
   "execution_count": null,
   "metadata": {
    "collapsed": true
   },
   "outputs": [],
   "source": [
    "S = range(10)\n",
    "rdm.sample(S,10)"
   ]
  },
  {
   "cell_type": "markdown",
   "metadata": {},
   "source": [
    "### III/ Modélisations proposées dans l'exercice 2 : \n",
    "On précise que `randint(start,stop)` de la bibliothèque `random` fournit un nombre entier aléatoire compris entre `start` et `stop` (ces deux valeurs étant incluses) et que `random()` fournit un nombre réel aléatoire compris dans l'intervalle $[0,1[$."
   ]
  },
  {
   "cell_type": "markdown",
   "metadata": {},
   "source": [
    "#### *Modélisation 1 :* Lancer d'une pièce de monnaie."
   ]
  },
  {
   "cell_type": "markdown",
   "metadata": {},
   "source": [
    "On lance $n$ fois une pièce de monnaie équilibrée. Écrire une fonction qui simule cette expérience aléatoire et retourne une liste formée de $1$ si \"Pile\" est obtenu, de $0$ sinon."
   ]
  },
  {
   "cell_type": "code",
   "execution_count": null,
   "metadata": {
    "collapsed": true
   },
   "outputs": [],
   "source": [
    "rdm.randint(0,1)"
   ]
  },
  {
   "cell_type": "code",
   "execution_count": null,
   "metadata": {
    "collapsed": true
   },
   "outputs": [],
   "source": [
    "def simulLancers(n):\n",
    "    return [rdm.randint(0,1) for k in range(n)]"
   ]
  },
  {
   "cell_type": "code",
   "execution_count": null,
   "metadata": {
    "collapsed": true
   },
   "outputs": [],
   "source": [
    "print(simulLancers(10))"
   ]
  },
  {
   "cell_type": "markdown",
   "metadata": {},
   "source": [
    "ou encore :"
   ]
  },
  {
   "cell_type": "code",
   "execution_count": null,
   "metadata": {
    "collapsed": true
   },
   "outputs": [],
   "source": [
    "def simulLancers2(n):\n",
    "    S = ['P','F'] # à compléter\n",
    "    L = [rdm.choice(S) for k in range(n)]\n",
    "    Lf = [0]*n\n",
    "    for i in range(n):\n",
    "        if L[i] == 'P':\n",
    "            Lf[i] = 1\n",
    "    return L,Lf\n",
    "print(simulLancers2(10))"
   ]
  },
  {
   "cell_type": "code",
   "execution_count": null,
   "metadata": {
    "collapsed": true
   },
   "outputs": [],
   "source": [
    "L,Lf = simulLancers2(10)\n",
    "print(Lf.count(1))"
   ]
  },
  {
   "cell_type": "markdown",
   "metadata": {},
   "source": [
    "Compléter la fonction ci-dessous pour obtenir une fonction `nbePile(n)` qui retourne à la fois la liste des résultats (avec 1 pour \"Pile\", 0 pour \"Face\") et le nombre de \"Pile\" obtenus au cours de ces $n$ lancers"
   ]
  },
  {
   "cell_type": "code",
   "execution_count": null,
   "metadata": {
    "collapsed": true
   },
   "outputs": [],
   "source": [
    "def nbePile(n):\n",
    "    # retourne la liste des tirages et le nombre de pile\n",
    "    LT = ... # liste de n valeurs prises dans {0,1} selon une loi uniforme\n",
    "    return LT,... # A compléter\n",
    "L,nP = nbePile(10)\n",
    "print(L,'| nombre de 1 = ',nP)"
   ]
  },
  {
   "cell_type": "markdown",
   "metadata": {},
   "source": [
    "Une autre écriture possible est la suivante :"
   ]
  },
  {
   "cell_type": "code",
   "execution_count": null,
   "metadata": {
    "collapsed": true
   },
   "outputs": [],
   "source": [
    "def freqPile(n):\n",
    "    # Autre façon d'écrire la fonction précédente.\n",
    "    nP = 0\n",
    "    LT = []\n",
    "    for k in range(n):\n",
    "        has = rdm.randint(0,1)\n",
    "        LT.append(has)\n",
    "        nP += has # nP = nP + has\n",
    "    return LT,nP\n",
    "L1,n1 = freqPile(5)\n",
    "print(L1,'| nombre de piles = ',n1)"
   ]
  },
  {
   "cell_type": "markdown",
   "metadata": {},
   "source": [
    "On effectue $n$ lancers d'une pièce équilibrée. Ecrire une fonction permettant d'obtenir sous forme de liste la fréquence relative du nombre $k$ de \"Pile\" obtenus ($0\\leq k \\leq n$) lorsqu'on réalise $m$ fois cette expérience (avec $m$ grand)."
   ]
  },
  {
   "cell_type": "code",
   "execution_count": null,
   "metadata": {
    "collapsed": true
   },
   "outputs": [],
   "source": [
    "def freqNbePile(m,n):\n",
    "    # retourne la fréquence relative du nombre k de pile (0 <= k <= n) au cours de m répétitions de n lancers\n",
    "    F = [0]*(n+1)\n",
    "    for k in range(m):\n",
    "        L,nP = nbePile(n)\n",
    "        F[...] = F[...]+1 # Compléter\n",
    "    return [F[i]/m for i in range(n+1)] # ou F/m si on a initialisé F = np.zeros(n+1)"
   ]
  },
  {
   "cell_type": "code",
   "execution_count": null,
   "metadata": {
    "collapsed": true
   },
   "outputs": [],
   "source": [
    "freqNbePile(10000,5)"
   ]
  },
  {
   "cell_type": "code",
   "execution_count": null,
   "metadata": {
    "collapsed": true
   },
   "outputs": [],
   "source": [
    "T = nbePile(3)\n",
    "print(T[0])\n",
    "print(T[1])"
   ]
  },
  {
   "cell_type": "code",
   "execution_count": null,
   "metadata": {
    "collapsed": true
   },
   "outputs": [],
   "source": [
    "LnP = [nbePile(5)[1] for k in range(10)]\n",
    "print(LnP)"
   ]
  },
  {
   "cell_type": "code",
   "execution_count": null,
   "metadata": {
    "collapsed": true
   },
   "outputs": [],
   "source": [
    "def freqNbePile2(m,n):\n",
    "    LnP = [nbePile(n)[1] for k in range(m)] # Liste formée du nbe de Piles à chaque épreuve\n",
    "    H = plt.hist(LnP,np.arange(n+2),normed = 'True')\n",
    "    return H[0] # H est un tupple avec H[1] qui contient les bornes des classes..."
   ]
  },
  {
   "cell_type": "code",
   "execution_count": null,
   "metadata": {
    "collapsed": true
   },
   "outputs": [],
   "source": [
    "freqNbePile2(10000,5)"
   ]
  },
  {
   "cell_type": "code",
   "execution_count": null,
   "metadata": {
    "collapsed": true
   },
   "outputs": [],
   "source": [
    "from scipy.stats import binom\n",
    "n = 5\n",
    "print([binom.pmf(k,n,1/2) for k in range(n+1)])"
   ]
  },
  {
   "cell_type": "markdown",
   "metadata": {},
   "source": [
    "Déterminer la moyenne du nombre de \"Pile\" obtenus lors de $m$ répétitions de $n$ lancers. "
   ]
  },
  {
   "cell_type": "markdown",
   "metadata": {},
   "source": [
    "* Réponse 1 : On applique la formule de la moyenne à partir du tableau des fréquences relatives obtenues précédemment."
   ]
  },
  {
   "cell_type": "code",
   "execution_count": null,
   "metadata": {
    "collapsed": true
   },
   "outputs": [],
   "source": [
    "n = 10\n",
    "F = freqNbePile(10000,n)\n",
    "print(np.sum([... for i in range(...)])) # A compléter"
   ]
  },
  {
   "cell_type": "markdown",
   "metadata": {},
   "source": [
    "* Réponse 2 : On écrit une fonction qui détermine la liste du nombre de \"Pile\" obtenus au cours de chacune des $m$ répétitions de $n$ lancers et on en fait la moyenne."
   ]
  },
  {
   "cell_type": "code",
   "execution_count": null,
   "metadata": {
    "collapsed": true
   },
   "outputs": [],
   "source": [
    "def moyPile(m,n):\n",
    "    # on répète m fois une série de n lancers\n",
    "    # on retourne le nombre moyen de \"Pile\".\n",
    "    LNbPile = []\n",
    "    for i in range(m):\n",
    "        LT,nP = nbePile(n)\n",
    "        LNbPile.append(nP)\n",
    "    return np.mean(LNbPile)"
   ]
  },
  {
   "cell_type": "code",
   "execution_count": null,
   "metadata": {
    "collapsed": true
   },
   "outputs": [],
   "source": [
    "n = 10\n",
    "print(moyPile(10000,n))"
   ]
  },
  {
   "cell_type": "markdown",
   "metadata": {},
   "source": [
    "#### *Modélisation 2 :*  Tirages avec remise.\n",
    "* Version 1 : On effectue $n$ tirages avec remise  dans une urne composée de $7$ boules blanches et $3$ boules noires. Écrire une fonction `tirageARv1.py` qui utilise la fonction `randint()` et simule cette expérience aléatoire en retourne une liste formée de $1$ à chaque fois qu'une boules blanches est tirée, $0$ sinon."
   ]
  },
  {
   "cell_type": "code",
   "execution_count": null,
   "metadata": {
    "collapsed": true
   },
   "outputs": [],
   "source": [
    "Nb = 7 # Nombre de boules blanches\n",
    "N = 10 # Nombre de boules dans l'urne (p1 = Nb/N et p2 = (N-Nb)/N)def tirageARv1(n):\n",
    "\n",
    "def tirageARv1(n):\n",
    "    # retourne une liste avec 1 si blanche, 0 sinon\n",
    "    tirages=[0]*n # initialisation d'une liste de zéros\n",
    "    for k in range(n):\n",
    "        has=rdm.randint(1,N) # tirage dans l'urne\n",
    "        if has <= ...: # A compléter (On a une blanche)\n",
    "            tirages[k] = ... # A compléter        \n",
    "    return tirages\n",
    "\n",
    "tirageARv1(10)"
   ]
  },
  {
   "cell_type": "code",
   "execution_count": null,
   "metadata": {
    "collapsed": true
   },
   "outputs": [],
   "source": [
    "def represente_tirage(T):\n",
    "    plt.clf()\n",
    "    for x in range(n):\n",
    "        if T[x]==1:\n",
    "            plt.scatter(x, 0, s=800 , c = 'w', edgecolors = 'k')\n",
    "        else:\n",
    "            plt.scatter(x, 0, s=800 , c = 'k')    \n",
    "    plt.xlabel(['Tirages avec remise de '+str(n)+' boules'])"
   ]
  },
  {
   "cell_type": "code",
   "execution_count": null,
   "metadata": {
    "collapsed": true
   },
   "outputs": [],
   "source": [
    "n = 10\n",
    "T1 = tirageARv1(n)\n",
    "represente_tirage(T1)"
   ]
  },
  {
   "cell_type": "markdown",
   "metadata": {},
   "source": [
    "* Version 2 : Une urne est composée de boules blanches en proportion $p_1$ ($0<p_1<1$). On effectue $n$ tirages avec remise dans cette urne. Écrire une fonction `tirageARv2.py` dont les paramètres d'entrée sont $p_1$ et $n$, qui utilise cette fois la fonction `random()` et qui modélise sous forme de liste le résultats de ce tirage."
   ]
  },
  {
   "cell_type": "code",
   "execution_count": null,
   "metadata": {
    "collapsed": true
   },
   "outputs": [],
   "source": [
    "def tirageARv2(n):\n",
    "    # retourne une liste avec 1 si blanche, 0 sinon\n",
    "    tirages=[0]*n # initialisation d'une liste de zéros\n",
    "    p1 = Nb/N # proportion de blanches\n",
    "    p2 = 1-p1\n",
    "    for k in range(n):\n",
    "        has=rdm.random() # valeur dans ]0,1[ ;tirage dans l'urne\n",
    "        if has <= ... : # A compléter (On a une blanche)\n",
    "            tirages[k]=1          \n",
    "    return tirages\n",
    "tirageARv2(10)"
   ]
  },
  {
   "cell_type": "markdown",
   "metadata": {},
   "source": [
    "* Proposer une fonction Python `freqBoulesBlanches(m,n,p)` permettant de simuler $m$ expériences (avec $m$ grand) telles que celle décrite ci-dessus et retournant la fréquence d'apparition de $k$ boules blanches pour $0\\leq k \\leq n$."
   ]
  },
  {
   "cell_type": "code",
   "execution_count": null,
   "metadata": {
    "collapsed": true
   },
   "outputs": [],
   "source": [
    "def freqBoulesBlanches(m,n):\n",
    "    # retourne la fréquence du nombre k de boules blanches (0 <= k <= n) en proportion p1 dans l'urne\n",
    "    F = [0]*(n+1)\n",
    "    for k in range(m):\n",
    "        tirages = tirageARv2(n)\n",
    "        nb = ... # Nbre de boules blanches\n",
    "        F[...] = ... # A compléter\n",
    "    return [F[i]/m for i in range(n+1)]"
   ]
  },
  {
   "cell_type": "code",
   "execution_count": null,
   "metadata": {
    "collapsed": true
   },
   "outputs": [],
   "source": [
    "m,n = 100000,4\n",
    "F1 = freqBoulesBlanches(m,n)\n",
    "print(F1)"
   ]
  },
  {
   "cell_type": "markdown",
   "metadata": {},
   "source": [
    "On reconnait un shéma binomial et les résultats précédents pourront être comparés à :"
   ]
  },
  {
   "cell_type": "code",
   "execution_count": null,
   "metadata": {
    "collapsed": true
   },
   "outputs": [],
   "source": [
    "from scipy.stats import binom\n",
    "n = 4\n",
    "print([binom.pmf(k,n,7/10) for k in range(n+1)])"
   ]
  },
  {
   "cell_type": "markdown",
   "metadata": {},
   "source": [
    "* On suppose cette fois l'urne composée de $N$ boules de trois couleurs distinctes. Proposer une fonction `tirageAR-3C.py` qui modélise sous forme de liste $n$ tirages avec remise dans cette urne."
   ]
  },
  {
   "cell_type": "code",
   "execution_count": null,
   "metadata": {
    "collapsed": true
   },
   "outputs": [],
   "source": [
    "def tirageAR_3C(n,p1,p2):\n",
    "    # n : entier égale au nombre de tirages\n",
    "    # p1,p2 : réels égales aux proportions respectives de boules blanches et rouges (avec p3 = 1-p1-p2)\n",
    "    tirages=[0]*n\n",
    "    for k in range(n):\n",
    "        has=rdm.random()\n",
    "        if has <= ...: # A compléter - c'est une blanche\n",
    "            tirages[k]=1\n",
    "        elif has <= ...: # A compléter - c'est une rouge\n",
    "            tirages[k]=2\n",
    "    return tirages"
   ]
  },
  {
   "cell_type": "code",
   "execution_count": null,
   "metadata": {
    "collapsed": true
   },
   "outputs": [],
   "source": [
    "def tirageAR_3C_2(n,N,Nb,Nr):\n",
    "    # n : entier égale au nombre de tirages\n",
    "    # Nb, Nr : entiers égales aux nombre respectif de boules blanches et rouges (avec Nv = N-Nb-Nr)\n",
    "    tirages=[0]*n\n",
    "    for k in range(n):\n",
    "        has = rdm.randint(1,N) # à compléter\n",
    "        if has <= Nb:\n",
    "            tirages[k] = 1\n",
    "        elif has <= Nb+Nr:\n",
    "            tirages[k] = 2\n",
    "    return tirages"
   ]
  },
  {
   "cell_type": "code",
   "execution_count": null,
   "metadata": {
    "collapsed": true
   },
   "outputs": [],
   "source": [
    "N = 10\n",
    "Nb,Nr,Nv = 3,2,5\n",
    "p1,p2 = Nb/N,Nr/N # et p3 = Nv/N = 1-(p1+p2)\n",
    "T = tirageAR_3C(10,p1,p2)\n",
    "print(T)\n",
    "T2 = tirageAR_3C_2(10,N,Nb,Nr)\n",
    "print(T2)"
   ]
  },
  {
   "cell_type": "markdown",
   "metadata": {},
   "source": [
    "#### *Modélisation 3 :*  Tirages sans remise."
   ]
  },
  {
   "cell_type": "markdown",
   "metadata": {},
   "source": [
    "** Question 1 :** Compléter la fonction `tirage_sans_remise()` afin de modéliser un tirage successif sans remise de $n$ boules dans une urne composée de $N$ boules dont un proportion $p_1$ est blanche et $p_2$ est rouge (on notera que $N\\cdot p_1$ est le nombre de boules blanches tandis que $N\\cdot P_2$ est le nombre de boules rouges).  \n",
    "Cette fonction retournera une liste `tirages` formée de $0$ et de $1$ selon qu'une boule blanche est extraite ou pas."
   ]
  },
  {
   "cell_type": "code",
   "execution_count": null,
   "metadata": {
    "collapsed": true
   },
   "outputs": [],
   "source": [
    "def tirage_sans_remise(N,n,p1):\n",
    "    # On admettra que n <= N mais on pourrait le vérifier...\n",
    "    tirages=[0]*(n)\n",
    "    NT=N # nombre total initial de boules dans l'urne\n",
    "    Nb=NT*p1 # nombre de boules blanches initialement.\n",
    "    for k in range(n):\n",
    "        has=rdm.random()\n",
    "        if has <= Nb/NT: # on a tiré une blanche\n",
    "            tirages[k]=1\n",
    "            Nb = Nb-1\n",
    "        NT=NT-1\n",
    "    return tirages"
   ]
  },
  {
   "cell_type": "code",
   "execution_count": null,
   "metadata": {
    "collapsed": true
   },
   "outputs": [],
   "source": [
    "N=10 # A titre d'exemple dix boules dont 3 sont blanches.\n",
    "n=10\n",
    "p1 = 3/10 # proportion de boules blanches ou Nb = N*p1 = 3 blanches\n",
    "LT = tirage_sans_remise(N,n,p1)\n",
    "print(LT)\n",
    "represente_tirage(LT)"
   ]
  },
  {
   "cell_type": "markdown",
   "metadata": {},
   "source": [
    "**Question 2 :** Compléter la fonction `freqB-tirageSR.py` qui simule la réalisation de $m=1000$ tirages avec remise de $n$ boules dans une urne composée d'une proportion $p_1$ de boules blanches et qui retourne un tableau de $2$ lignes, $n+1$ colonnes, formé sur la première ligne du nombre de boules blanches possibles et sur la seconde des fréquences respectives du nombre de boules blanches obtenues au cours des $1000$ tirages."
   ]
  },
  {
   "cell_type": "code",
   "execution_count": null,
   "metadata": {
    "collapsed": true
   },
   "outputs": [],
   "source": [
    "# \n",
    "def freqB_tiragesSR(m,N,n,p1):\n",
    "    # fonction permettant de ... la variables sont...\n",
    "    tab=np.zeros((2,n+1))#tableau de 2 lignes, n+1 colonnes\n",
    "    tab[0,:]=range(n+1)# première ligne de 0 à n = nbre de boules blanches possibles\n",
    "    for j in range(m):\n",
    "        LT = tirage_sans_remise(N,n,p1)\n",
    "        nb = ... # valeur entre 0 et n\n",
    "        tab[1,...]=...\n",
    "    return tab"
   ]
  },
  {
   "cell_type": "code",
   "execution_count": null,
   "metadata": {
    "collapsed": true
   },
   "outputs": [],
   "source": [
    "N,p1 = 10,3/10\n",
    "n = 5\n",
    "Tab = freqB_tiragesSR(1000,N,n,p1)\n",
    "print(Tab)"
   ]
  },
  {
   "cell_type": "markdown",
   "metadata": {},
   "source": [
    "*Remarque :* On doit reconnaître un **shéma Hypergéométrique**.  \n",
    "Ce qu'on peut vérifier ci-dessous :"
   ]
  },
  {
   "cell_type": "code",
   "execution_count": null,
   "metadata": {
    "collapsed": true
   },
   "outputs": [],
   "source": [
    "from scipy.stats import hypergeom\n",
    "print([hypergeom.pmf(k,N,p1*N,n) for k in range(n+1)],end = \" \")\n",
    "# Remarque : Attention à l'ordre des paramètres. On écrit en France : X suit la loi H(N,n,p) "
   ]
  },
  {
   "cell_type": "code",
   "execution_count": null,
   "metadata": {
    "collapsed": true
   },
   "outputs": [],
   "source": []
  }
 ],
 "metadata": {
  "anaconda-cloud": {
   "environment": null,
   "summary": "Presentations des principaux modèles de dénombrement"
  },
  "kernelspec": {
   "display_name": "Python [default]",
   "language": "python",
   "name": "python3"
  },
  "language_info": {
   "codemirror_mode": {
    "name": "ipython",
    "version": 3
   },
   "file_extension": ".py",
   "mimetype": "text/x-python",
   "name": "python",
   "nbconvert_exporter": "python",
   "pygments_lexer": "ipython3",
   "version": "3.6.1"
  }
 },
 "nbformat": 4,
 "nbformat_minor": 1
}

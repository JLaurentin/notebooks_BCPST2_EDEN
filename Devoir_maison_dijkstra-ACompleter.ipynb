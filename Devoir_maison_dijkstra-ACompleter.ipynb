{
 "cells": [
  {
   "cell_type": "markdown",
   "metadata": {
    "collapsed": true,
    "slideshow": {
     "slide_type": "slide"
    }
   },
   "source": [
    "# Devoir maison : Algorithme de Dijkstra \n",
    "\n",
    "Devoir proposé en B.C.P.S.T.2 à l'Externat des enfants nantais par [J. Laurentin](<j.laurentin@worldonline.fr>). Il est à rendre pour la rentrée de janvier 2018.\n"
   ]
  },
  {
   "cell_type": "markdown",
   "metadata": {},
   "source": [
    "Importation des bibliothèques :"
   ]
  },
  {
   "cell_type": "code",
   "execution_count": null,
   "metadata": {
    "collapsed": true
   },
   "outputs": [],
   "source": [
    "import numpy as np\n",
    "%matplotlib inline\n",
    "import matplotlib.pyplot as plt"
   ]
  },
  {
   "cell_type": "markdown",
   "metadata": {},
   "source": [
    "## I/ Première approche"
   ]
  },
  {
   "cell_type": "markdown",
   "metadata": {},
   "source": [
    "Pour représenter le graphe sur lequel nous allons chercher à minimiser le poids d'un trajet, nous choisissons de travailler avec des listes construites de la façon suivante :  \n",
    "- $lS$ est la liste des sommets du graphe numérotés de $0$ à $nS-1$ si $nS$ désigne le nombre de sommets.\n",
    "- $liste\\_A$ est la liste des arêtes du graphe en insistant sur le fait que les arêtes ne sont pas orientées, autrement dit qu'il est possible de les parcourir dans les deux sens avec un poids identique.  \n",
    "Chaque arête sera représentée par une liste $[So,Sd,poids]$ où $So$ désigne le sommet d'origine, $Sd$ le sommet de destination et $poids$ la capacité de cet arc.  \n",
    "On retiendra que $liste\\_A$ est donc une liste de listes. On fera en sorte dans la suite qu'elles soient regroupées par sommets d'origine. \n",
    "\n",
    "A titre d'exemple, si le sommet $3$ est relié aux sommets $1$, $2$ et $5$ avec des poids respectifs de $3$, $3$ et de $2$, on aura : `liste_A[3] = [[3,1,3],[3,2,3],[3,5,2]]`\n",
    "\n",
    "Voici de quoi se familiariser avec ces listes :"
   ]
  },
  {
   "cell_type": "markdown",
   "metadata": {},
   "source": [
    "### I.1. Initialisation des listes."
   ]
  },
  {
   "cell_type": "markdown",
   "metadata": {},
   "source": [
    "On commence par initialiser des listes vides :"
   ]
  },
  {
   "cell_type": "code",
   "execution_count": null,
   "metadata": {
    "collapsed": true
   },
   "outputs": [],
   "source": [
    "def initialisation():\n",
    "    lS = []\n",
    "    liste_A = []\n",
    "    return lS,liste_A"
   ]
  },
  {
   "cell_type": "code",
   "execution_count": null,
   "metadata": {},
   "outputs": [],
   "source": [
    "lS,liste_A = initialisation()\n",
    "print('lS = ',lS)\n",
    "print('liste_Aretes = ',liste_A)"
   ]
  },
  {
   "cell_type": "markdown",
   "metadata": {},
   "source": [
    "Il va maintenant falloir ajouter des sommets à la liste $lS$ des sommets et, dans le même temps, initialiser une liste vide pour les arc issus de ce sommet qu'il s'agira de compléter dans un deuxième temps."
   ]
  },
  {
   "cell_type": "code",
   "execution_count": null,
   "metadata": {
    "collapsed": true
   },
   "outputs": [],
   "source": [
    "def ajouter_sommet(liste_Sommets,liste_A):\n",
    "    #On ajoute un nouveau numero de sommet a la liste des sommets\n",
    "    n = len(liste_Sommets) # nb de sommets déjà existant (0 si aucun)\n",
    "    liste_Sommets.append(n)\n",
    "    #On ajoute une nouvelle liste vide a la liste des listes des arcs partant de sommet\n",
    "    liste_A.append([])\n",
    "    return liste_Sommets,liste_A"
   ]
  },
  {
   "cell_type": "markdown",
   "metadata": {},
   "source": [
    "On retiendra que les arcs ne sont toujours pas créés.  \n",
    "Exemples :"
   ]
  },
  {
   "cell_type": "code",
   "execution_count": null,
   "metadata": {},
   "outputs": [],
   "source": [
    "lS,liste_A = ajouter_sommet(lS,liste_A)\n",
    "print('lS = ',lS)\n",
    "print('liste_aretes = ',liste_A)\n",
    "lS,liste_A = ajouter_sommet(lS,liste_A)\n",
    "print('lS = ',lS)\n",
    "print('liste_aretes = ',liste_A)"
   ]
  },
  {
   "cell_type": "markdown",
   "metadata": {},
   "source": [
    "Et plus généralement, si on connait le nombre de sommets $nS$ du graphe : "
   ]
  },
  {
   "cell_type": "code",
   "execution_count": null,
   "metadata": {},
   "outputs": [],
   "source": [
    "nS = 6 # nombre de sommets\n",
    "lS,liste_A = initialisation()\n",
    "[ajouter_sommet(lS,liste_A) for k in range(nS)]\n",
    "print(lS)\n",
    "print(liste_A)"
   ]
  },
  {
   "cell_type": "markdown",
   "metadata": {},
   "source": [
    "### 1.2. Création des arcs et des aretes."
   ]
  },
  {
   "cell_type": "markdown",
   "metadata": {},
   "source": [
    "On commence par créer une fonction permettant d'**ajouter un arc**, le sommet d'origine, sa destination et son poids étant connus :"
   ]
  },
  {
   "cell_type": "code",
   "execution_count": null,
   "metadata": {
    "collapsed": true
   },
   "outputs": [],
   "source": [
    "def ajouter_arc(liste_A, origine, destination, poids):\n",
    "    #On ajoute l'arc a la liste des arcs partant de origine\n",
    "    liste_A[origine].append([origine, destination, poids])\n",
    "    return liste_A"
   ]
  },
  {
   "cell_type": "markdown",
   "metadata": {},
   "source": [
    "On ajoute **une arête** d'un sommet $S_1$ vers un sommet $S_2$, son poids étant connu, en créant deux arcs, l'un de $S_1$ vers $S_2$ et l'autre de $S_2$ vers $S_1$ :"
   ]
  },
  {
   "cell_type": "code",
   "execution_count": null,
   "metadata": {
    "collapsed": true
   },
   "outputs": [],
   "source": [
    "def ajouter_arete(liste_A, s1, s2, poids):\n",
    "    liste_A = ajouter_arc(liste_A, s1, s2, poids)\n",
    "    liste_A = ajouter_arc(liste_A, s2, s1, poids)\n",
    "    return liste_A"
   ]
  },
  {
   "cell_type": "markdown",
   "metadata": {},
   "source": [
    "**Remarque ** Le graphe sur lequel je vous propose de travailler pour valider vos premières fonctions et rechercher le plus court chemin grâce à l'algorithme de Dijkstra celui proposé dans le document ressource."
   ]
  },
  {
   "cell_type": "markdown",
   "metadata": {},
   "source": [
    "Initialisons ce graphe grâce aux fonctions mises en place ci-dessus :"
   ]
  },
  {
   "cell_type": "code",
   "execution_count": null,
   "metadata": {
    "collapsed": true
   },
   "outputs": [],
   "source": [
    "nS = 6 # nombre de sommets\n",
    "lS,liste_A = initialisation()\n",
    "[ajouter_sommet(lS,liste_A) for k in range(nS)]\n",
    "liste_A = ajouter_arete(liste_A,0,1,3)\n",
    "liste_A = ajouter_arete(liste_A,0,2,1)\n",
    "liste_A = ajouter_arete(liste_A,1,3,2)\n",
    "liste_A = ajouter_arete(liste_A,1,2,1)\n",
    "liste_A = ajouter_arete(liste_A,2,3,3)\n",
    "liste_A = ajouter_arete(liste_A,2,4,5)\n",
    "liste_A = ajouter_arete(liste_A,3,4,1)\n",
    "liste_A = ajouter_arete(liste_A,3,5,3)\n",
    "liste_A = ajouter_arete(liste_A,4,5,1)"
   ]
  },
  {
   "cell_type": "code",
   "execution_count": null,
   "metadata": {},
   "outputs": [],
   "source": [
    "print(liste_A)"
   ]
  },
  {
   "cell_type": "markdown",
   "metadata": {},
   "source": [
    "Afficher le nombre de sommets voisins du sommet $4$ :"
   ]
  },
  {
   "cell_type": "code",
   "execution_count": null,
   "metadata": {
    "collapsed": true
   },
   "outputs": [],
   "source": [
    "print('le nombre de voisins du sommet 4 vaut : ',len(liste_A[4]))"
   ]
  },
  {
   "cell_type": "markdown",
   "metadata": {},
   "source": [
    "Affichage des arêtes issues du sommet $3$ :"
   ]
  },
  {
   "cell_type": "code",
   "execution_count": null,
   "metadata": {
    "collapsed": true
   },
   "outputs": [],
   "source": [
    "liste_A[3]"
   ]
  },
  {
   "cell_type": "markdown",
   "metadata": {},
   "source": [
    "Afficher le $3$ème voisin du sommet $3$ (à savoir $4$) ainsi que le poids de l'arc qui les relie (à savoir $1$) :"
   ]
  },
  {
   "cell_type": "code",
   "execution_count": null,
   "metadata": {},
   "outputs": [],
   "source": [
    "print('le 3ème voisin du sommet 3 est : ',liste_A[3][2][1])\n",
    "print(\"le poids de l'arc vaut : \",liste_A[3][2][2])"
   ]
  },
  {
   "cell_type": "markdown",
   "metadata": {},
   "source": [
    "### 1.3. Fonctions permettant de rechercher un arc :"
   ]
  },
  {
   "cell_type": "markdown",
   "metadata": {},
   "source": [
    "Fonction permettant d'obtenir le poids de l'arc joignant les sommets $So$ et $Sj$ :"
   ]
  },
  {
   "cell_type": "code",
   "execution_count": null,
   "metadata": {
    "collapsed": true
   },
   "outputs": [],
   "source": [
    "def chercher_poids_arc(liste_A, So, Sd):\n",
    "    #On parcourt toute la liste des arcs de So vers Sd\n",
    "    for arc in liste_A[So]:\n",
    "        #Des que l'on trouve l'arc qui permet de rejoindre le voisin recherche :\n",
    "        if arc[1] == ...: # A compléter\n",
    "            return ... # on retourne son poids"
   ]
  },
  {
   "cell_type": "code",
   "execution_count": null,
   "metadata": {
    "collapsed": true
   },
   "outputs": [],
   "source": [
    "p1 = chercher_poids_arc(liste_A,2,3)\n",
    "print(p1)\n",
    "p2 = chercher_poids_arc(liste_A,5,1)\n",
    "print(p2)"
   ]
  },
  {
   "cell_type": "markdown",
   "metadata": {},
   "source": [
    "## II/ Listes d'adjacence."
   ]
  },
  {
   "cell_type": "markdown",
   "metadata": {},
   "source": [
    "Un graphe est souvent donné sous la forme d'une liste d'adjacence, plus compacte. Il s'agit d'une liste de listes de la forme `[Sd,Sf,poids]` contenant les sommets reliés par une arête (départ et arrivée) et son poids.  \n",
    "Ainsi le graphe donné à titre d'exemple peut s'écrire simplement :"
   ]
  },
  {
   "cell_type": "code",
   "execution_count": null,
   "metadata": {
    "collapsed": true
   },
   "outputs": [],
   "source": [
    "Graphe1=[['A','B',3],['A','C',1],['B','C',1],['B','D',2],['C','D',3],\n",
    "         ['C','E',5],['D','E',1],['D','F',3],['E','F',1]]"
   ]
  },
  {
   "cell_type": "markdown",
   "metadata": {},
   "source": [
    "*Remarque :* Si les sommets sont donnés par des lettres alphabétiques et non par des entiers, il peut être utile d'utiliser les fonctions Python `chr()` et sa réciproque `ord()`"
   ]
  },
  {
   "cell_type": "code",
   "execution_count": null,
   "metadata": {},
   "outputs": [],
   "source": [
    "print([chr(i) for i in range(65,65+6)])"
   ]
  },
  {
   "cell_type": "code",
   "execution_count": null,
   "metadata": {},
   "outputs": [],
   "source": [
    "print([ord('A'),ord('B'),ord('C')])"
   ]
  },
  {
   "cell_type": "markdown",
   "metadata": {},
   "source": [
    "Compléter la fonction `acquisition()` d'argments le nombre de sommets `nS` et la liste d'adjacence `Graphe` (dont un exemple est donné par `Graphe1`) et  retournant le couple `lS`, `liste_A`."
   ]
  },
  {
   "cell_type": "code",
   "execution_count": null,
   "metadata": {
    "collapsed": true
   },
   "outputs": [],
   "source": [
    "def acquisition(nS,Graphe):\n",
    "    lS,liste_A = initialisation()\n",
    "    [ajouter_sommet(lS,liste_A) for k in range(nS)]\n",
    "    for k in range(len(Graphe)):\n",
    "        Sd,Sf,poids = ord(Graphe[k][0])-65,...,... # compléter ici\n",
    "        liste_A = ajouter_arete(liste_A,...,...,...) # et là\n",
    "    return lS,liste_A"
   ]
  },
  {
   "cell_type": "code",
   "execution_count": null,
   "metadata": {},
   "outputs": [],
   "source": [
    "lS2,liste_A2 = acquisition(Graphe1)\n",
    "print(liste_A2)"
   ]
  },
  {
   "cell_type": "markdown",
   "metadata": {},
   "source": [
    "## II. Retour sur l'algorithme de Dijkstra."
   ]
  },
  {
   "cell_type": "markdown",
   "metadata": {},
   "source": [
    "### 2.1. La recherche du plus court trajet de la source vers le puits."
   ]
  },
  {
   "cell_type": "markdown",
   "metadata": {},
   "source": [
    "*Remarque :* On introduira l'infini avec Python en utilisant l'instruction `float('inf')` :"
   ]
  },
  {
   "cell_type": "code",
   "execution_count": null,
   "metadata": {},
   "outputs": [],
   "source": [
    "print(float('inf'))"
   ]
  },
  {
   "cell_type": "code",
   "execution_count": null,
   "metadata": {
    "collapsed": true
   },
   "outputs": [],
   "source": [
    "def dijkstra(lS,liste_A,source,puits,n):\n",
    "    DU = [float('inf')]*len(lS)\n",
    "    DU[source]=0 #Le sommet origine est à une distance nulle.\n",
    "    D_opt = 0\n",
    "    DS = ['x']*len(lS)\n",
    "    SP = list(lS) # copie de lS car au début tous les sommets possibles\n",
    "    S_selec = source\n",
    "    #Tant qu'on n'a pas atteint le puits...\n",
    "    while S_selec != puits:\n",
    "        #On supprime l'élément sélectionné des sommets possibles.\n",
    "        SP.remove(S_selec)\n",
    "        DU[S_selec] = 'S' # pour 'Selectionne'\n",
    "        for j in range(len(liste_A[S_selec])): # voisins de S_selec\n",
    "            voisin = liste_A[S_selec][j][1]\n",
    "            if voisin in SP: # si ce voisin n'a pas déjà été seléctionné\n",
    "                poids = liste_A[S_selec][j][2]\n",
    "                DPartielle = ...\n",
    "                if DU[voisin] > DPartielle:\n",
    "                    DU[voisin] = ...\n",
    "                    DS[voisin] = ...\n",
    "        D_opt = ...\n",
    "        S_selec = DU.index(D_opt) # on récupère le numéro du sommet\n",
    "    return DU,DS"
   ]
  },
  {
   "cell_type": "code",
   "execution_count": null,
   "metadata": {},
   "outputs": [],
   "source": [
    "dist,DS = dijkstra(lS,liste_A,0,5,6)\n",
    "print(dist)\n",
    "print(DS)"
   ]
  },
  {
   "cell_type": "code",
   "execution_count": null,
   "metadata": {
    "collapsed": true
   },
   "outputs": [],
   "source": [
    "def meilleur_trajet(lS,liste_A,source,puits,n):\n",
    "    DU,DS=dijkstra(lS,liste_A,source,puits,n)\n",
    "    Traj=[puits] \n",
    "    k=puits\n",
    "    while k != ...:\n",
    "        j=DS[...]\n",
    "        Traj.append(j)\n",
    "        k=...\n",
    "    Traj.reverse() # pour rétablir le trajet dans le \"bon\" sens\n",
    "    dmin=... # distance (ou poids) nécessaire pour effectuer ce trajet optimal.\n",
    "    return dmin,Traj"
   ]
  },
  {
   "cell_type": "code",
   "execution_count": null,
   "metadata": {},
   "outputs": [],
   "source": [
    "dmin,traj = meilleur_trajet(lS,liste_A,5,2,6)\n",
    "print(dmin)\n",
    "print(traj)"
   ]
  },
  {
   "cell_type": "markdown",
   "metadata": {
    "collapsed": true
   },
   "source": [
    "**Exercice 2 ** Le trajet en bus.  \n",
    "Pour s'entraîner avec le graphe du réseau de la TAN, on pourra utiliser la liste d'adjacence suivante :"
   ]
  },
  {
   "cell_type": "code",
   "execution_count": null,
   "metadata": {
    "collapsed": true
   },
   "outputs": [],
   "source": [
    "Graphe2=[['A','C',3],['A','G',7],['B','C',10],['B','D',4],\n",
    "         ['B','K',6],['C','I',5],['D','E',1],['E','J',6],['F','G',2],\n",
    "         ['F','H',2],['F','J',5],['G','H',5],['H','I',4],['H','K',3],\n",
    "         ['I','L',4],['J','N',3],['K','N',3],['L','M',2],['M','N',5]]"
   ]
  },
  {
   "cell_type": "code",
   "execution_count": null,
   "metadata": {
    "collapsed": true
   },
   "outputs": [],
   "source": []
  }
 ],
 "metadata": {
  "anaconda-cloud": {},
  "kernelspec": {
   "display_name": "Python [default]",
   "language": "python",
   "name": "python3"
  },
  "language_info": {
   "codemirror_mode": {
    "name": "ipython",
    "version": 3
   },
   "file_extension": ".py",
   "mimetype": "text/x-python",
   "name": "python",
   "nbconvert_exporter": "python",
   "pygments_lexer": "ipython3",
   "version": "3.6.1"
  }
 },
 "nbformat": 4,
 "nbformat_minor": 1
}

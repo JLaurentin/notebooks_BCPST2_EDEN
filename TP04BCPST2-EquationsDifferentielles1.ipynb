{
 "cells": [
  {
   "cell_type": "markdown",
   "metadata": {
    "collapsed": true,
    "slideshow": {
     "slide_type": "slide"
    }
   },
   "source": [
    "# TP06 -  EQUATIONS DIFFERENTIELLES"
   ]
  },
  {
   "cell_type": "markdown",
   "metadata": {},
   "source": [
    "L'objectif est d'aborder d'un point de vue numérique les équations différentielles d'ordre $1$ et d'ordre $2$ à coefficients constants qui sont au programme de BCPST1 mais plus généralement les équations différentielles d'ordre $n$ ($n\\in\\mathbb{N}^*$), qu'elles soient linéaires ou non, ainsi que des applications classiques prises dans le champ des sciences physiques et des sciences de la vie."
   ]
  },
  {
   "cell_type": "markdown",
   "metadata": {},
   "source": [
    "**Importation des bibliothèques utiles :**"
   ]
  },
  {
   "cell_type": "code",
   "execution_count": null,
   "metadata": {
    "collapsed": true
   },
   "outputs": [],
   "source": [
    "import numpy as np\n",
    "%matplotlib inline\n",
    "import matplotlib.pyplot as plt"
   ]
  },
  {
   "cell_type": "markdown",
   "metadata": {},
   "source": [
    "## I/ Les équations différentielles d'ordre $1$ - Le zoo des méthodes."
   ]
  },
  {
   "cell_type": "markdown",
   "metadata": {},
   "source": [
    "### I.1. Introduction."
   ]
  },
  {
   "cell_type": "markdown",
   "metadata": {},
   "source": [
    "Les équations différentielles du premier ordre peuvent se mettre, selon les cas, sous la forme générale  \n",
    "\n",
    "$$\\begin{cases} y'(t)&=f(y(t)), t\\in I\\\\ y(t_0)&=y_0 \\end{cases} (E_1)\\text{ ou }\\begin{cases} y'(t)&=f(t,y(t)), t\\in I\\\\ y(t_0)&=y_0 \\end{cases}(E_2 )$$  \n",
    "\n",
    "$y_0\\in J$ représente la condition à l'origine et $f\\in\\mathcal{C}^1(J)$ pour $(E_1)$, $f\\in\\mathcal{C}^1(I\\times J)$ pour $(E_2)$, est spécifique à chaque équation.  \n",
    "\n",
    "On dira que pour tout $(t_0,y_0)\\in I\\times J$, $y:I \\rightarrow \\mathbb{R}$ est une solution sur $I$ de  l'équation différentielle si $y$ est dérivable sur $I$ et $y'(t)=f(y(t))$ ou $y'(t)=f(t,y(t))$ selon les cas, avec $y(t_0)=y_0$.  \n",
    "\n",
    "On admettra que la solution au problème ainsi posé existe en tant que fonction définie sur $I$ et qu'elle est unique. Pour autant, dans la plupart des cas, on ne sait pas déterminer explicitement cette solution et nous allons donc mettre en place des méthodes numériques permettant d'approcher la solution de telles équations."
   ]
  },
  {
   "cell_type": "markdown",
   "metadata": {},
   "source": [
    "Une approche possible consiste à considérer un intervalle de temps $[t_n,t_{n+1}]$ où $t_{n+1}=t_n+h$ et à remarquer que :  \n",
    "\n",
    "$$y(t_{n+1})-y(t_n)=\\displaystyle\\int_{t_n}^{t_{n+1}}y'(t)dt=\\displaystyle\\int_{t_n}^{t_{n+1}}f[y(t)]dt$$ \n",
    "\n",
    "Si $t_{n+1}-t_n=h$ est petit, il est possible d'utiliser les méthodes d'approximation des intégrales vues dans le TP03, à savoir, la méthode des rectangles \"à gauche \", la méthode des rectangles \"à droite\" et la méthode des trapèzes.  \n",
    "\n",
    "**Méthode 1 = méthode des rectangles à gauche\" : **\n",
    "    $$\\displaystyle\\int_{t_n}^{t_{n+1}}f[y(t)]dt\\cong (t_{n+1}-t_n)f(y(t_n))\\text{ et donc }y_{n+1}\\approx y_n+h\\cdot f(y_n)\\text{ où } y_n=y(t_n)$$\n",
    "    On parle de méthode d'Euler *explicite*  \n",
    "    \n",
    "   *Remarque :* Cette méthode est souvent introduite sous une forme un peu différente. A vous de vous adapter selon l'énoncé...  \n",
    "    $f$ étant dérivable, on a : \n",
    "    $$\\cfrac{y(t_n+h)-y(t_n)}{h}\\cong y'(t_n)\\text{ soit }y(t_{n}+h)\\cong y(t_n)+h\\cdot f(y(t_n))$$\n",
    "\t\n",
    "**Méthode 2 = méthode des rectangles \" à droite \" : **\n",
    "\t$$\\displaystyle\\int_{t_n}^{t_{n+1}}f[y(t)]dt\\cong (t_{n+1}-t_n)f(y(t_{n+1}))\\text{ et donc }y_{n+1}\\approx y_n+h\\cdot f(y_{n+1})\\text{ où } y_n=y(t_n)$$ \n",
    "\tOn parle de méthode d'Euler *implicite* puisque $y_{n+1}$ n'étant pas connu, il s'agit de résoudre au préalable une équation pour calculer $y_{n+1}$ connaissant $y_n$ ou bien d'utiliser dans un premier temps Euler explicite pour évaluer $y_{n+1}$.  \n",
    "    \n",
    "**Méthode 3 = méthode des trapèzes : **  \n",
    "\t$$\\displaystyle\\int_{t_n}^{t_{n+1}}f[y(t)]dt\\cong (t_{n+1}-t_n)\\cfrac{f(y_n)+f(y_{n+1})}{2}\\text{ et donc }y_{n+1}\\cong y_n+h\\cdot \\cfrac{f(y_n)+f(y_{n+1})}{2}\\text{ où } y_n=y(t_n)$$  \n",
    "    \n",
    "On parle là aussi de *méthode des trapèzes*, méthode qui peut être considérée comme explicite si on utilise dans un premier temps la méthode d'Euler explicite pour évaluer $y_{n+1}$."
   ]
  },
  {
   "cell_type": "markdown",
   "metadata": {},
   "source": [
    "### I.2. La méthode d'Euler explicite pour $y'(t)=f(y(t))$, $y(t_0)=y_0$ :"
   ]
  },
  {
   "cell_type": "markdown",
   "metadata": {},
   "source": [
    "#### Mise en oeuvre :\n",
    "On considère une subdivision de $I$, suite de points $(t_n)_{n\\in\\mathbb{N}}$ définie par $t_n=t_0+nh\\in I$, $\\forall n\\in\\mathbb{N}$ et $h$ est un réel strictement positif qu'on pourra choisir aussi petit qu'on le souhaite.\n",
    "\n",
    "Si $y$ est la solution de $(E_1)$ alors on a pour tout $n\\in\\mathbb{N}$ : $y'(t_n)=f(y(t_n))$ et donc, pour $h$ petit :  \n",
    "\n",
    "$$\\forall t_n\\in I, y(t_{n+1})\\cong y(t_n)+h\\cdot f(y(t_n))$$"
   ]
  },
  {
   "cell_type": "markdown",
   "metadata": {},
   "source": [
    "#### Conclusion :\n",
    "Pour avoir une approximation de la solution sur $I_{+}=I\\cap [t_0,+\\infty[$, on considère la suite $(y_n)$ définie par son premier terme $y_0=y(t_0)$ (condition initiale) et vérifiant la relation de récurrence :  \n",
    "\n",
    "$$\\begin{cases} t_{n+1}&=t_n+h\\\\y_{n+1}&=y_n+h\\cdot f(y_n) \\end{cases}$$"
   ]
  },
  {
   "cell_type": "markdown",
   "metadata": {},
   "source": [
    "**Exercice 1.2 :** Considérons l'équation différentielles $(Eq_1)$ : $y'(t)=y(t)$, avec $y(0)=1$.  \n",
    "*Question 1 :* Déterminer sa solution $y_1$ et la tracer sur l'intervalle $I=[t_0,t_f]=[0,2]$ :"
   ]
  },
  {
   "cell_type": "code",
   "execution_count": null,
   "metadata": {
    "collapsed": true
   },
   "outputs": [],
   "source": [
    "y1 = lambda x:...\n",
    "t0,tf = ...\n",
    "T = ...\n",
    "plt.plot(T,y1(T),'r')"
   ]
  },
  {
   "cell_type": "markdown",
   "metadata": {},
   "source": [
    "*Question 2 :* Écrire une fonction `euler_explicite(h,y0,t0,tf)` dont les paramètres d'entrée sont le pas $h$, $y0$, les bornes de l'intervalle d'étude $[t_0,t_f]$ et qui retourne sous forme de liste l'ensemble des valeurs pris par les suites $(t_n)$ et $(y_n)$ approchant la solution en chaque point de la subdivision.  \n",
    "On tracera alors sur un même graphique à la fois une approximation numérique de la solution cherchée et la solution obtenue à la question 1."
   ]
  },
  {
   "cell_type": "code",
   "execution_count": null,
   "metadata": {
    "collapsed": true
   },
   "outputs": [],
   "source": [
    "def euler_explicite(t0,tf,y0,f,h):\n",
    "    n = ... # nombre de pas\n",
    "    T = ... # initialisation de la subdivision de la forme T = [0,0,...,0]\n",
    "    Y = ... # initialise la solution approchée Y = [0,0,...,0]\n",
    "    T[0],Y[0] = ...\n",
    "    for k in range(...):\n",
    "        T[k+1] = ...\n",
    "        Y[k+1] = ...\n",
    "    return T,Y"
   ]
  },
  {
   "cell_type": "markdown",
   "metadata": {},
   "source": [
    "Tracé de la solution approchée et de la solution exacte :"
   ]
  },
  {
   "cell_type": "code",
   "execution_count": null,
   "metadata": {
    "collapsed": true
   },
   "outputs": [],
   "source": [
    "t0,tf = ...\n",
    "h = ...\n",
    "f = lambda x:...\n",
    "y0 = ...\n",
    "Td,Y = euler_explicite(t0,tf,y0,f,h)\n",
    "plt.plot(Td,Y,'b-.',label='Euler explicite')\n",
    "T = np.linspace(t0,tf,100)\n",
    "plt.plot(T,y1(T),'r',label='Solution exacte')\n",
    "plt.legend(loc='best')"
   ]
  },
  {
   "cell_type": "markdown",
   "metadata": {},
   "source": [
    "** Question intermédiaire : ** Exécuter et commenter les lignes de codes suivantes :"
   ]
  },
  {
   "cell_type": "code",
   "execution_count": null,
   "metadata": {
    "collapsed": true
   },
   "outputs": [],
   "source": [
    "t0,tf,h = 0,2.1,0.5\n",
    "f = lambda x:x\n",
    "y0 = 1\n",
    "Td,Y = euler_explicite(t0,tf,y0,f,h)\n",
    "plt.plot(Td,Y,'b-.',label='Euler explicite')\n",
    "plt.ylim(ymin=0.5,ymax=5)\n",
    "T = np.linspace(t0,tf,100)\n",
    "n = int((tf-t0)/h)\n",
    "for k in range(n):\n",
    "    tk = t0+k*h\n",
    "    plt.scatter(tk,Y[k],s=20)\n",
    "    yk = lambda t:Y[k]*np.exp(t-tk)\n",
    "    plt.plot(T,yk(T),'k-',alpha=0.5)"
   ]
  },
  {
   "cell_type": "markdown",
   "metadata": {},
   "source": [
    "*Question 3 :* On souhaite estimer l'erreur commise en approchant le nombre dérivé par un taux d'accroissement.  \n",
    "En appliquant la méthode d'Euler explicite sur l'intervalle $[0,1]$, comparer la valeur estimée en $t=1$ à $\\exp(1)$ en retournant le logarithme décimal de l'erreur commise `err = |val_estimee - exp(1)|` pour des valeurs de $h$ prises dans l'ensemble $\\{10^{-k}, k\\in\\{1,\\cdots,6\\}\\}$."
   ]
  },
  {
   "cell_type": "code",
   "execution_count": null,
   "metadata": {
    "collapsed": true
   },
   "outputs": [],
   "source": [
    "def estimeErreur(): \n",
    "    # t0,tf = 0,1\n",
    "    Err = []\n",
    "    for k in range(1,7):\n",
    "        h = 10**(-k)\n",
    "        Td,Y = euler_explicite(0,1,1,f,h) # t0,tf,y0,f,h\n",
    "        val_estimee = Y[-1]\n",
    "        Err.append(np.abs(np.exp(1)-val_estimee))\n",
    "    return Err"
   ]
  },
  {
   "cell_type": "code",
   "execution_count": null,
   "metadata": {
    "collapsed": true
   },
   "outputs": [],
   "source": [
    "Err = estimeErreur()\n",
    "plt.plot(np.arange(1,7),np.log10(Err),'ro-.')"
   ]
  },
  {
   "cell_type": "markdown",
   "metadata": {},
   "source": [
    "### I.3. La méthode d'Euler explicite pour $y'(t)=f(t,y(t))$, $y(t_0)=y_0$ :"
   ]
  },
  {
   "cell_type": "markdown",
   "metadata": {},
   "source": [
    "On généralise la méthode précédente en écrivant que pour obtenir une approximation de la solution sur $I_{+}=I\\cap [t_0,+\\infty[$, on considère la suite $(y_n)$ définie par son premier terme $y_0$ (condition initiale) et vérifiant la relation de récurrence :  \n",
    "\n",
    "$$\\begin{cases} t_{n+1}&=t_n+h\\\\y_{n+1}&=y_n+h\\cdot f(t_n,y_n) \\end{cases}$$"
   ]
  },
  {
   "cell_type": "markdown",
   "metadata": {},
   "source": [
    "**Exercice 1.3 :**  \n",
    "*Question 1 :* Écrire une fonction `euler_expliciteG(h,y0,t0,tf)` dont les paramètres d'entrée sont le pas $h$, $y0$, les bornes de l'intervalle d'étude $[t_0,t_f]$ et qui retourne sous forme de liste l'ensemble des valeurs pris par les suites $(t_n)$ et $(y_n)$ approchant la solution en chaque point de la subdivision."
   ]
  },
  {
   "cell_type": "code",
   "execution_count": null,
   "metadata": {
    "collapsed": true
   },
   "outputs": [],
   "source": [
    "def euler_expliciteG(t0,tf,y0,f,h):\n",
    "    n = ... # nombre de pas\n",
    "    T = ... \n",
    "    Y = ... # initialise la solution approchée\n",
    "    T[0],Y[0] = ...\n",
    "    for k in range(...):\n",
    "        T[k+1] = ...\n",
    "        Y[k+1] = ...\n",
    "    return T,Y"
   ]
  },
  {
   "cell_type": "markdown",
   "metadata": {},
   "source": [
    "*Question 2-a) :* En faire l'application à  $\\begin{cases} (1+t)y'(t)+y(t)&=0, t\\in ]-1,+\\infty[\\\\ y(0)&=1 \\end{cases}$.  \n",
    "\n",
    "Confrontez graphiquement votre solution à la solution exacte sur l'intervalle $[0,3]$."
   ]
  },
  {
   "cell_type": "code",
   "execution_count": null,
   "metadata": {
    "collapsed": true
   },
   "outputs": [],
   "source": [
    "t0,tf = 0,3\n",
    "h = ...\n",
    "y0 = ...\n",
    "f = lambda t,y:...\n",
    "T1,Y1 = euler_expliciteG(t0,tf,y0,f,h)\n",
    "solution1 = lambda t:...\n",
    "plt.plot(T1,Y1,label='Euler explicite')\n",
    "T = np.linspace(t0,tf,100)\n",
    "plt.plot(T,solution1(T),'k-.',label='solution exacte')\n",
    "plt.legend(loc='best')"
   ]
  },
  {
   "cell_type": "markdown",
   "metadata": {},
   "source": [
    "*Question 2-b) :* En faire l'application à  $\\begin{cases} y'(t)+y(t)&=\\cfrac{1}{1+e^t}, t\\in \\mathbb{R}\\\\ y(0)&=\\ln(2) \\end{cases}$.  \n",
    "\n",
    "Confrontez graphiquement votre solution à la solution exacte sur l'intervalle $[0,6]$."
   ]
  },
  {
   "cell_type": "code",
   "execution_count": null,
   "metadata": {
    "collapsed": true
   },
   "outputs": [],
   "source": [
    "t0,tf = ...\n",
    "h = ...\n",
    "y0 = ...\n",
    "f = lambda t,y:...\n",
    "T1,Y1 = euler_expliciteG(t0,tf,y0,f,h)\n",
    "solution2 = lambda t:...\n",
    "plt.plot(T1,Y1,label='Euler explicite')\n",
    "T = np.linspace(t0,tf,100)\n",
    "plt.plot(T,solution2(T),'k-.',label='solution exacte')\n",
    "plt.legend(loc='best')"
   ]
  },
  {
   "cell_type": "markdown",
   "metadata": {},
   "source": [
    "*Question 3 :* On considère l'équation différentielle ($E_3$) : $y'(t)=\\cfrac{3}{t}y(t)-\\cfrac{5}{t^3}$ avec $y(1)=1$.  \n",
    "Tracer sur une même figure le graphe de la solution exacte et de sa solution numérique par méthode d'Euler.  \n",
    "Que constatez-vous ? Le justifier."
   ]
  },
  {
   "cell_type": "code",
   "execution_count": null,
   "metadata": {
    "collapsed": true
   },
   "outputs": [],
   "source": [
    "t0,tf = 1,20\n",
    "h = ...\n",
    "y0 = ...\n",
    "f = lambda t,y:...\n",
    "T1,Y1 = euler_expliciteG(t0,tf,y0,f,h)\n",
    "solution3 = lambda t:...\n",
    "plt.plot(T1,Y1,label='Euler explicite')\n",
    "T = np.linspace(t0,tf,100)\n",
    "plt.plot(T,solution3(T),'k-.',label='solution exacte')\n",
    "plt.legend(loc='best')"
   ]
  },
  {
   "cell_type": "markdown",
   "metadata": {},
   "source": [
    "### I.4. La méthode d'Euler implicite pour $y'(t)=f(y(t))$, $y(t_0)=y_0$ :"
   ]
  },
  {
   "cell_type": "markdown",
   "metadata": {},
   "source": [
    "#### Mise en oeuvre :\n",
    "On considère une subdivision de $I$, suite de points $(t_n)_{n\\in\\mathbb{N}}$ définie par $t_n=t_0+nh\\in I$, $\\forall n\\in\\mathbb{N}$ et $h$ est un réel strictement positif qu'on pourra choisir aussi petit qu'on le souhaite.\n",
    "\n",
    "Si $y$ est la solution de $(E_1)$ alors on a pour tout $n\\in\\mathbb{N}$ : $y'(t_n)=f(y(t_n))$ et donc, pour $h$ petit :  \n",
    "\n",
    "$$\\forall t_n\\in I, y(t_{n+1})\\cong y(t_n)+h\\cdot f(y(t_{n+1}))$$"
   ]
  },
  {
   "cell_type": "markdown",
   "metadata": {},
   "source": [
    "#### Conclusion :\n",
    "Pour avoir une approximation de la solution sur $I_{+}=I\\cap [t_0,+\\infty[$, on considère la suite $(y_n)$ définie par son premier terme $y_0=y(t_0)$ (condition initiale) et vérifiant la relation de récurrence :  \n",
    "\n",
    "$$\\begin{cases} t_{n+1}&=t_n+h\\\\y_{n+1}&=y_n+h\\cdot f(y_{n+1}) \\end{cases}$$"
   ]
  },
  {
   "cell_type": "markdown",
   "metadata": {},
   "source": [
    "**Exercice 1.4 :**  \n",
    "*Question 1 :* Ecrire un fonction `euler_implicite(h,y0,t0,tf)` qui approche la solution de $(Eq_2):y'(t)=-3y(t)$, $y(0)=2$ par cette méthode sur l'intervalle $[0,2]$.  \n",
    "Tracer la courbe obtenue pour différentes valeurs de $h$."
   ]
  },
  {
   "cell_type": "code",
   "execution_count": null,
   "metadata": {
    "collapsed": true
   },
   "outputs": [],
   "source": [
    "def euler_implicite(t0,tf,y0,f,h):\n",
    "    n = int((tf-t0)/h)\n",
    "    T = [0]*(n+1)\n",
    "    Y = [0]*(n+1) # initialise la solution approchée\n",
    "    T[0],Y[0] = t0,y0\n",
    "    \n",
    "    for k in range(n):\n",
    "        T[k+1] = ...\n",
    "        Y[k+1] = ...\n",
    "    return T,Y"
   ]
  },
  {
   "cell_type": "code",
   "execution_count": null,
   "metadata": {
    "collapsed": true,
    "scrolled": true
   },
   "outputs": [],
   "source": [
    "t0,tf = 0,2\n",
    "h = 0.1\n",
    "y0 = 2\n",
    "Td,y2 = euler_implicite(t0,tf,y0,f,h)\n",
    "plt.plot(Td,y2,label='Euler implicite')\n",
    "T = np.linspace(t0,tf,100)\n",
    "solution = lambda t:...\n",
    "plt.plot(T,solution(T),'k-.',label='solution exacte')\n",
    "plt.legend(loc='best')"
   ]
  },
  {
   "cell_type": "markdown",
   "metadata": {
    "collapsed": true
   },
   "source": [
    "### I.5. La méthode des trapèzes pour $y'(t)=f(y(t))$, $y(t_0)=y_0$ :"
   ]
  },
  {
   "cell_type": "markdown",
   "metadata": {},
   "source": [
    "#### Mise en oeuvre :\n",
    "Pour avoir une approximation de la solution sur $I_{+}=I\\cap [t_0,+\\infty[$, on considère la suite $(y_n)$ définie par son premier terme $y_0=y(t_0)$ (condition initiale) et vérifiant la relation de récurrence :  \n",
    "\n",
    "$$\\begin{cases} t_{n+1}&=t_n+h\\\\y_{n+1}&=y_n+h\\cdot \\cfrac{f(y_n)+f(y_{n+1})}{2} \\end{cases}$$"
   ]
  },
  {
   "cell_type": "markdown",
   "metadata": {},
   "source": [
    "**Exercice 1.5 :**  "
   ]
  },
  {
   "cell_type": "markdown",
   "metadata": {},
   "source": [
    "*Question 1 :* Écrire une fonction `trapeze(h,y0,t0,tf)` permettant d'obtenir une solution approchée de l'équation différentielle $y'(t) = f(y(t))$, $y(t_0)=y_0$ à l'aide des méthodes d'Euler et des trapèzes."
   ]
  },
  {
   "cell_type": "markdown",
   "metadata": {},
   "source": [
    "On parle de méthode de *prédiction-correction* puisqu'il s'agit dans un premier temps de calculer une valeur approchée provisoire de `Y[pas+1]` par la méthode d'Euler explicite avant de la corriger par la méthode des trapèzes."
   ]
  },
  {
   "cell_type": "code",
   "execution_count": null,
   "metadata": {
    "collapsed": true
   },
   "outputs": [],
   "source": [
    "def trapezes(t0,tf,y0,f,h):\n",
    "    n = int((tf-t0)/h)\n",
    "    Y = [0]*(n+1)\n",
    "    Td = [0]*(n+1)\n",
    "    Td[0],Y[0] = t0,y0\n",
    "    for pas in range(n):\n",
    "        Td[pas+1] = ...\n",
    "        z = ...# Estimation de Y[pas+1] par Euler explicite\n",
    "        Y[pas+1] = ...\n",
    "    return Td,Y "
   ]
  },
  {
   "cell_type": "markdown",
   "metadata": {},
   "source": [
    "*Question 2 :* Mettre en pratique la méthode des trapèzes pour approcher la solution de l'équation $(Eq_2)$ sur $[0,1]$ selon différentes valeurs de $h$."
   ]
  },
  {
   "cell_type": "code",
   "execution_count": null,
   "metadata": {
    "collapsed": true
   },
   "outputs": [],
   "source": [
    "# Définition de l'équation différentielle :\n",
    "f=lambda x:-3*x\n",
    "y0=2\n",
    "# paramètres  :\n",
    "t0 = 0\n",
    "tf = 3\n",
    "h = 1e-1\n",
    "# Solution analytique de l'équation différentielle :\n",
    "solution=lambda t:y0*np.exp(-3*t)\n",
    "# Approximations numériques :\n",
    "Td,y1 = euler_explicite(t0,tf,y0,f,h)\n",
    "Td,y2 = euler_implicite(t0,tf,y0,f,h)\n",
    "Td,y3 = trapezes(t0,tf,y0,f,h)\n",
    "# Affichage des solutions :\n",
    "def figure():\n",
    "    plt.plot(Td,y1,label='Euler explicite')\n",
    "    plt.plot(Td,y2,label='Euler implicite')\n",
    "    plt.plot(Td,y3,label='Trapèzes')\n",
    "    T = np.linspace(t0,tf,100)\n",
    "    plt.plot(T,solution(T),'k-.',label='solution exacte')\n",
    "    plt.legend(loc='best')\n",
    "figure()"
   ]
  },
  {
   "cell_type": "markdown",
   "metadata": {},
   "source": [
    "**Exercice 1.6 :** Confrontez la méthode d'Euler explicite et la méthode des trapèzes pour résoudre l'équation différentielle **non** linéaire : $y'(t)=2y(t)-y^2(t)$, avec $y(0)=1$ dont on peut montrer qu'une solution est $$y(t)=\\cfrac{2}{1+e^{-2t}}$$"
   ]
  },
  {
   "cell_type": "code",
   "execution_count": null,
   "metadata": {
    "collapsed": true
   },
   "outputs": [],
   "source": [
    "f = lambda x:...\n",
    "t0,tf = 0,3\n",
    "y0 = ...\n",
    "h = ...\n",
    "solution = lambda t:...\n",
    "Td1,Y1 = euler_explicite(t0,tf,y0,f,h)\n",
    "Td2,Y2 = trapezes(t0,tf,y0,f,h)\n",
    "plt.plot(Td1,Y1,'r',label='Euler explicite')\n",
    "plt.plot(Td2,Y2,'b',label='Trapèzes')\n",
    "T=np.linspace(t0,tf,100)\n",
    "plt.plot(T,solution(T),'b-.',label='Solution exacte')\n",
    "plt.legend(loc='best')"
   ]
  }
 ],
 "metadata": {
  "anaconda-cloud": {},
  "kernelspec": {
   "display_name": "Python [default]",
   "language": "python",
   "name": "python3"
  },
  "language_info": {
   "codemirror_mode": {
    "name": "ipython",
    "version": 3
   },
   "file_extension": ".py",
   "mimetype": "text/x-python",
   "name": "python",
   "nbconvert_exporter": "python",
   "pygments_lexer": "ipython3",
   "version": "3.6.1"
  }
 },
 "nbformat": 4,
 "nbformat_minor": 1
}

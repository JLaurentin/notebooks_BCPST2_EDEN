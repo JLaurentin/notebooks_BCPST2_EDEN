{
 "cells": [
  {
   "cell_type": "markdown",
   "metadata": {},
   "source": [
    "# T.D.08 - Révisions :  \n",
    "# \"Calcul matriciel\" et \"Systèmes linéaires\"."
   ]
  },
  {
   "cell_type": "markdown",
   "metadata": {},
   "source": [
    "On rappelle que sur l'ensemble des chapitres d'algèbre linéaire, la bibliothèque la plus utilisée est la bibliothèque `numpy` et son module `linalg` au sein duquel de nombreuses méthodes permettent de répondre aux questions les plus courantes.  \n",
    "\n",
    "On commencera donc par importer cette bibliothèque."
   ]
  },
  {
   "cell_type": "code",
   "execution_count": null,
   "metadata": {
    "collapsed": true
   },
   "outputs": [],
   "source": [
    "import numpy as np"
   ]
  },
  {
   "cell_type": "markdown",
   "metadata": {},
   "source": [
    "*Remarque :* L'ensemble des exercices qui suivent peuvent être résolus avec cette bibliothèque mais il faudra les traiter au préalable avec un papier et un crayon. Ce travail est indispensable car c'est tout ce dont vous disposerez sur les deux épreuves $A$ et $B$, le jour de l'écrit.  \n",
    "\n",
    "L'objectif de ce notebook est essentiellement de vous permette d'acquérir les réflexes qui vous permettront de gagner du temps sur ces calculs. Même s'ils sont parfois répétitifs, il faut les faire !  \n",
    "*Remarque :* Le cas échéant, si vous n'aboutissez pas, une correction des exercices est proposée en fin de notebook."
   ]
  },
  {
   "cell_type": "markdown",
   "metadata": {},
   "source": [
    "## I/ Exercices sur le produit matriciel."
   ]
  },
  {
   "cell_type": "markdown",
   "metadata": {},
   "source": [
    "Deux moyens s'offrent à vous pour créer un objet matriciel : `A = np.array(L)` ou `A = np.matrix(L)` où `L` est une liste d'entiers ou de réels.  \n",
    "Nous choisirons ici la deuxième possibilité car elle allège sensiblement l'écriture des produits matriciels (cf. le notebook : \"td0BCPST2b-lesPrincipauxModules\")."
   ]
  },
  {
   "cell_type": "markdown",
   "metadata": {},
   "source": [
    "**Exercice 5 **On considère les matrices à coefficients réels :  \n",
    "\n",
    "$A=\\begin{pmatrix} 1&2\\\\3&4\\end{pmatrix}$, $B=\\begin{pmatrix} -1&0&1\\\\2&2&3\\end{pmatrix}$, $C=\\begin{pmatrix} 1&0&1\\\\-3&-1&2\\\\5&2&1\\end{pmatrix}$, $D=\\begin{pmatrix} 1\\\\-1\\\\3\\end{pmatrix}$, $E=\\begin{pmatrix} 1&-1\\\\-1&2\\end{pmatrix}$  \n",
    "\n",
    "1. Calculer \"à la main\" les expressions suivantes lorsque c'est possible :  $A^2$, $AB$, $BA$, $AE$, $BD$, $CD$, $A(BC)D$, $A(B(DB))$, $A(B+2E)$, ${\\vphantom{D}}^{\\mathit{t}}{D}\\cdot D$ et $D\\cdot {\\vphantom{D}}^{\\mathit{t}}{D}$.  \n",
    "2. Utiliser Python pour vérifier vos calculs (on rappelle que `B=A.transpose()` permet d'étiqueter `B` la transposée de `A`)."
   ]
  },
  {
   "cell_type": "markdown",
   "metadata": {},
   "source": [
    "*Exemple*. Pour le premier calcul, on exécutera :"
   ]
  },
  {
   "cell_type": "code",
   "execution_count": null,
   "metadata": {
    "collapsed": true
   },
   "outputs": [],
   "source": [
    "A = np.matrix([[1,2],[3,4]])\n",
    "B = np.matrix([[-1,0,1],[2,2,3]])\n",
    "print(A**2)\n",
    "print(A*B)"
   ]
  },
  {
   "cell_type": "code",
   "execution_count": null,
   "metadata": {
    "collapsed": true
   },
   "outputs": [],
   "source": [
    "D = np.matrix([[1],[-1],[3]])\n",
    "Dt = D.transpose()\n",
    "print(D*Dt)"
   ]
  },
  {
   "cell_type": "markdown",
   "metadata": {},
   "source": [
    "**Exercice 6 :** Pour tout $n$ entier naturel, on définit la matrice carrée d'ordre $n$ :\n",
    "$$ A_n=\\begin{pmatrix} 1&1&\\cdots&1\\\\0&1&\\cdots&1\\\\ \\vdots&\\ddots&\\ddots&\\vdots\\\\0&\\dots&0&1\\end{pmatrix} $$ \n",
    "1. Utiliser Python pour calculer les produits $B_3=A_3^2$ et $A_3B_3$.  \n",
    "2. Déterminer pour tout $n$ les produits $B_n=A_n^2$ puis $A_nB_n$. Vérifier vos calculs pour certaines valeurs de $n$ grâce à Python."
   ]
  },
  {
   "cell_type": "code",
   "execution_count": null,
   "metadata": {},
   "outputs": [],
   "source": [
    "A3 = np.matrix([[1,1,1],[0,1,1],[0,0,1]])\n",
    "B3 = A3**2\n",
    "print(B3)\n",
    "print(A3*B3)"
   ]
  },
  {
   "cell_type": "markdown",
   "metadata": {},
   "source": [
    "**Exercice 7 :** On considère la matrice $$A=\\begin{pmatrix}-1&0&-2\\\\1&1&1\\\\1&0&2\\end{pmatrix}$$\n",
    "On cherche à résoudre l'équation d'inconnues réelles : $(xI_3+yA)^2=I_3$  \n",
    "où $I_3$ désigne la matrice identité de $\\mathcal{M}_3(\\mathbb{R})$.  \n",
    "\n",
    "1. Calculer $A^2$.  \n",
    "2. Soient $z,t\\in\\mathbb{R}$. Montrer que $zA+tI=0\\Leftrightarrow z=0=t$.  \n",
    "3. Conclure. Vous devriez obtenir quatre couples $(x,y)$ qu'il est possible de tester dans la ligne de commande ci-dessous :"
   ]
  },
  {
   "cell_type": "code",
   "execution_count": null,
   "metadata": {
    "collapsed": true
   },
   "outputs": [],
   "source": [
    "A = np.matrix([[-1,0,-2],[1,1,1],[1,0,2]])\n",
    "I3 = np.identity(3)\n",
    "# question 1. A^2 = ?\n",
    "x,y = ...# à compléter\n",
    "B = x*I3+y*A\n",
    "print(B**2==I3)"
   ]
  },
  {
   "cell_type": "markdown",
   "metadata": {},
   "source": [
    "## II/ Fonctions Python pour somme et produit de matrices."
   ]
  },
  {
   "cell_type": "markdown",
   "metadata": {},
   "source": [
    "Avec Python il est facile de faire des sommes et des produits de matrices lorsqu'ils sont possibles. Il peut néanmoins arriver (c'est au programme) qu'on demande d'écrire des fonctions Python permettant de faire ces opérations.  \n",
    "\n",
    "Rappelons ci-dessous deux façons possible d'écrire une fonction permettant d'**additionner**, quand leur taille le permet, deux matrices $A$ et $B$.  "
   ]
  },
  {
   "cell_type": "code",
   "execution_count": null,
   "metadata": {
    "collapsed": true
   },
   "outputs": [],
   "source": [
    "def sommeM1(A,B):\n",
    "    # version \"condensée\"...\n",
    "    l1,c1 = A.shape\n",
    "    l2,c2 = B.shape\n",
    "    if l1!=l2 or c1!=c2:\n",
    "        print('somme impossible')\n",
    "        return []\n",
    "    else:\n",
    "        return np.matrix([[A[i,j]+B[i,j] for j in range(c1)]for i in range(l1)])"
   ]
  },
  {
   "cell_type": "code",
   "execution_count": null,
   "metadata": {
    "collapsed": true
   },
   "outputs": [],
   "source": [
    "def sommeM2(A,B):\n",
    "    l1,c1 = A.shape\n",
    "    l2,c2 = B.shape\n",
    "    if l1!=l2 or c1!=c2:\n",
    "        print('somme impossible')\n",
    "        return []\n",
    "    else:\n",
    "        C = np.zeros((l1,c1)) # initialisation de la liste qui formera la somme A+B\n",
    "        for i in range(l1):\n",
    "            for j in range(c1):\n",
    "                C[i,j] = ... # A compléter.\n",
    "        return C"
   ]
  },
  {
   "cell_type": "markdown",
   "metadata": {},
   "source": [
    "On vérifie ces deux fonctions à l'aide des matrices de l'exercice 1 :"
   ]
  },
  {
   "cell_type": "code",
   "execution_count": null,
   "metadata": {
    "collapsed": true
   },
   "outputs": [],
   "source": [
    "A = np.matrix([[1,2],[3,4]])\n",
    "B = np.matrix([[-1,0,1],[2,2,3]])\n",
    "E = np.matrix([[1,-1],[-1,2]])\n",
    "C1 = sommeM1(A,B)\n",
    "C2 = sommeM2(A,E)\n",
    "print(C2)\n",
    "print(type(C2))\n",
    "print(C2 == A+E)"
   ]
  },
  {
   "cell_type": "markdown",
   "metadata": {},
   "source": [
    "Compléter maintenant les deux fonctions ci-dessous permettant respectivement de faire le produit de deux matrices $A$ et $B$ quand c'est possible et de calculer $A^n$ si $A$ est une matrice carrée et $n\\in\\mathbb{N}^*$.  \n",
    "On rappelle que si $A=(a_{i,j})\\in\\mathcal{M}_{n,p}(\\mathbb{R})$ et $B=(b_{i,j})\\in\\mathcal{M}_{p,m}(\\mathbb{R})$, alors les coefficients de $C=A*B$ sont :\n",
    "$$c_{i,j}=\\displaystyle\\sum_{k=1}^p a_{i,k}\\cdot b_{k,j}$$"
   ]
  },
  {
   "cell_type": "code",
   "execution_count": null,
   "metadata": {
    "collapsed": true
   },
   "outputs": [],
   "source": [
    "def produitM(A,B):\n",
    "    la,ca = A.shape\n",
    "    lb,cb = B.shape\n",
    "    if ... != ... : # compléter\n",
    "        print('produit impossible')\n",
    "        C = []\n",
    "    else:\n",
    "        C = np.zeros((...,...)) # Compléter\n",
    "        for i in range(la):\n",
    "            for j in range(cb):\n",
    "                for ...: # Compléter\n",
    "                    C[i,j] = ... # Compléter\n",
    "    return C"
   ]
  },
  {
   "cell_type": "code",
   "execution_count": null,
   "metadata": {
    "collapsed": true
   },
   "outputs": [],
   "source": [
    "C = produitM(A,B)\n",
    "print(C)\n",
    "print(type(C))\n",
    "print(A*B)\n",
    "D = produitM(B,E)"
   ]
  },
  {
   "cell_type": "code",
   "execution_count": null,
   "metadata": {
    "collapsed": true
   },
   "outputs": [],
   "source": [
    "def puissanceM(A,n):\n",
    "    # permet de calculer A**n\n",
    "    # on s'obligera à utiliser la fonction 'produitM()'\n",
    "    la,ca = A.shape\n",
    "    if la != ca:\n",
    "        print('Puissance de A impossible')\n",
    "        return []\n",
    "    else:\n",
    "        pA = A # initialisation de la puissance de A à A (n=1)\n",
    "        for k in range(2,n+1):\n",
    "            pA = produitM(pA,A)\n",
    "        return pA"
   ]
  },
  {
   "cell_type": "markdown",
   "metadata": {},
   "source": [
    "**Exercice 9 :** Utiliser la fonction précédente pour évaluer les puissances successives ($n=1,2,3,\\cdots$) pour les matrices suivantes :  \n",
    "\n",
    " $$A_1=\\begin{pmatrix} 4&2&2\\\\0&0&0\\\\-4&-2&-2\\end{pmatrix}, A_2=\\begin{pmatrix} 0&0&0\\\\3&4&3\\\\-3&-4&-3\\end{pmatrix},  A_3=\\begin{pmatrix} -4&-2&-2\\\\3&4&3\\\\1&-2&-1\\end{pmatrix}$$\n",
    " et \n",
    " $$A_4=\\begin{pmatrix} 2&1&-1\\\\1&2&-1\\\\0&0&1\\end{pmatrix}=B_4+3I_3$$\n",
    "\n",
    "Fournir ensuite une preuve algébrique de vos résultats."
   ]
  },
  {
   "cell_type": "code",
   "execution_count": null,
   "metadata": {},
   "outputs": [],
   "source": [
    "M=np.matrix([[4,2,2],[0,0,0],[-4,-2,-2]])\n",
    "pM = puissanceM(M,1)\n",
    "print(pM)"
   ]
  },
  {
   "cell_type": "markdown",
   "metadata": {},
   "source": [
    "**Exercice 10 :** On considère la matrice $$N=\\begin{pmatrix}2&-2&1\\\\2&-3&2\\\\-1&2&0\\end{pmatrix}$$\n",
    "1. Vérifier que $N^2=-2N+3I_3$  \n",
    "2. Montrer par récurrence qu'il existe deux suites $(u_n)_{n\\geq 0}$ et $(v_n)_{n\\geq 0}$ telle que :  \n",
    "\n",
    "$$N^{n+1}=u_nN+v_nI_3\\qquad \\forall n\\in\\mathbb{N}$$\n",
    "\n",
    "Préciser notamment la relation qui existe entre $(u_n,v_n)$ et $(u_{n+1},v_{n+1})$.  \n",
    "3. Vérifier que $u_{n+1}+v_{n+1}=u_n+v_n$.  \n",
    "4. En déduire que $u_{n+1}=-3u_n+1$.  \n",
    "5. Exprimer $(u_n,v_n)$ en fonction de $n$ et tester votre réponse en complétant les lignes de code ci-dessous : "
   ]
  },
  {
   "cell_type": "code",
   "execution_count": null,
   "metadata": {
    "collapsed": true
   },
   "outputs": [],
   "source": [
    "N = np.matrix([[2,-2,1],[2,-3,2],[-1,2,0]])\n",
    "I3 = np.identity(3)\n",
    "n = 2\n",
    "u,v = ... , ... # A compléter\n",
    "print(N**(n+1) == u*N+v*I3)"
   ]
  },
  {
   "cell_type": "markdown",
   "metadata": {},
   "source": [
    "## III/ Rang et inversibilité d'une matrice."
   ]
  },
  {
   "cell_type": "markdown",
   "metadata": {
    "collapsed": true
   },
   "source": [
    "Soit $A\\in\\mathcal{M}_{n,p}(\\mathbb{R})$. On appelle *rang* de la matrice $A$ et on note $\\textrm{rg}(A)$ le nombre de pivots (non nuls) à l'issue de l'application de l'algorithme dit \"du pivot de Gauss\".  \n",
    "\n",
    "A titre d'exemples :  \n",
    "*Exemple 1 :*$$\\textrm{rg}\\begin{pmatrix}1&1\\\\-1&1\\end{pmatrix}=\\textrm{rg}\\begin{pmatrix}1&1\\\\0&2\\end{pmatrix}=2\\qquad L_2\\leftarrow L_1+L_2$$  \n",
    "\n",
    ">*Remarque :* Dans le cas des **matrices d'ordre $2$**, il est en fait inutile de passer par un pivot de Gauss car $$\\textrm{rg}(A)=2\\Leftrightarrow \\det(A)\\neq 0$$\n",
    "Ici, $\\det\\begin{pmatrix}1&1\\\\-1&1\\end{pmatrix}=1+1=2\\neq 0$ donc on a directement $\\textrm{rg}(A)=2$.  \n",
    "\n",
    "*Exemple 2:* $$\\textrm{rg}\\begin{pmatrix}1&1&1\\\\1&1&1\\\\1&1&1\\end{pmatrix}=\\textrm{rg}\\begin{pmatrix}1&1&1\\\\0&0&0\\\\0&0&0\\end{pmatrix}=1\\qquad L_2\\leftarrow L_2-L_1,\\quad L_3\\leftarrow L_3-L_1$$"
   ]
  },
  {
   "cell_type": "markdown",
   "metadata": {},
   "source": [
    "*Remarque :* Quand c'est possible, on peut utiliser une fonction Python pour déterminer le rang d'une matrice : `np.linalg.matrix_rank(A)`  "
   ]
  },
  {
   "cell_type": "code",
   "execution_count": null,
   "metadata": {
    "collapsed": true
   },
   "outputs": [],
   "source": [
    "A = np.matrix([[1,1],[-1,1]])\n",
    "B = np.matrix([[1,1,1],[1,1,1],[1,1,1]])\n",
    "rA = np.linalg.matrix_rank(A)\n",
    "rB = np.linalg.matrix_rank(B)\n",
    "print('rang de A : ',rA,'et rang de B : ',rB)"
   ]
  },
  {
   "cell_type": "markdown",
   "metadata": {},
   "source": [
    "**Exercice 12 :** *Question 2*. Déterminer en utilisant la méthode du pivot de Gauss, le rang des matrices ci-dessous. Vérifier vos résultats grâce à la fonction `np.linalg.matrix_rank()`.  \n",
    " $$D=\\begin{pmatrix} 0&-1&0\\\\1&1&-1\\\\-2&-1&0\\end{pmatrix}; \\quad E=\\begin{pmatrix} 2&1&3\\\\1&3&-1\\\\3&-1&7\\end{pmatrix}; \\quad F=\\begin{pmatrix} -2&-2&2\\\\-1&2&2\\\\1&-2&3\\end{pmatrix}$$"
   ]
  },
  {
   "cell_type": "code",
   "execution_count": null,
   "metadata": {},
   "outputs": [],
   "source": [
    "D = np.matrix([[0,-1,0],[1,1,-1],[-2,-1,0]])\n",
    "np.linalg.matrix_rank(D)"
   ]
  },
  {
   "cell_type": "markdown",
   "metadata": {},
   "source": [
    "**Lien avec l'inversibilité :** Une matrice $A$ d'ordre $n$ (c'est-à-dire matrice carrée de $n$ lignes et $n$ colonnes) est **inversible** si et seulement si $\\textrm{rg}(A)=n$.  \n",
    "\n",
    "Dans l'exercice précédent, il est donc immédiat que $D$ et $F$ sont inversibles tandis que $E$ ne l'est pas."
   ]
  },
  {
   "cell_type": "markdown",
   "metadata": {},
   "source": [
    "**Exercice 12 :** *Question 3.* Déterminer les valeurs de $\\lambda$ réelles pour lesquelles les matrices ci-dessous ne **sont pas** inversibles.  \n",
    "*Attention :* Dans la méthode du pivot de Gauss, les pivots ne peuvent pas être nuls. \n",
    "$$M_{\\lambda}=\\begin{pmatrix} 3-\\lambda&-2&2\\\\3&-2-\\lambda&3\\\\2&-2&3-\\lambda\\end{pmatrix} ; \\qquad N_{\\lambda}=\\begin{pmatrix} 2-\\lambda&1&-7\\\\2&3-\\lambda&-8\\\\2&2&-7-\\lambda\\end{pmatrix}$$\n",
    "\n",
    "Vérifier vos réponses en vous assurant que pour ces valeurs de $\\lambda$, on obtient $\\textrm{rg}(A)<3$."
   ]
  },
  {
   "cell_type": "code",
   "execution_count": 11,
   "metadata": {},
   "outputs": [
    {
     "name": "stdout",
     "output_type": "stream",
     "text": [
      "3\n"
     ]
    }
   ],
   "source": [
    "a = 0# à modifier pour que le rang de M soit différent de 3\n",
    "M = np.matrix([[3-a,-2,2],[3,-2-a,3],[2,-2,3-a]]) # exemple pour la matrice $M$ ci-dessus.\n",
    "print(np.linalg.matrix_rank(M))"
   ]
  },
  {
   "cell_type": "markdown",
   "metadata": {},
   "source": [
    "### Inversion de matrices."
   ]
  },
  {
   "cell_type": "markdown",
   "metadata": {},
   "source": [
    "Dans le cas d'une matrice carrée d'ordre $n$ inversible (c'est-à-dire de rang $n$), il est indispensable de savoir produire son inverse rapidement.  \n",
    "Dans le cas d'une matrice d'ordre $2$, c'est immédiat car nous disposons d'une formule de cours à connaître par coeur.  \n",
    "Si $n>2$, nous passerons par la résolution d'un système."
   ]
  },
  {
   "cell_type": "markdown",
   "metadata": {},
   "source": [
    "#### (i) inversion des matrices carrées d'ordre 2."
   ]
  },
  {
   "cell_type": "markdown",
   "metadata": {},
   "source": [
    "> $A=\\begin{pmatrix}a&b\\\\c&d\\end{pmatrix}$ inversible $\\Leftrightarrow \\det(A)=ad-bc\\neq 0$ et dans ce cas :\n",
    "$$A^{-1}=\\cfrac{1}{ad-bc}\\begin{pmatrix}d&-b\\\\-c&a\\end{pmatrix}$$"
   ]
  },
  {
   "cell_type": "markdown",
   "metadata": {},
   "source": [
    "**Exercice 12 :** *Question 1.* Dire parmi ces matrices celles qui sont inversibles et donner leur inverse.  \n",
    "$$A=\\begin{pmatrix} 2&5\\\\-6&-16\\end{pmatrix} ;\\qquad B=\\begin{pmatrix} -2&5\\\\6&-15\\end{pmatrix} ; \\qquad C=\\begin{pmatrix} 3&1\\\\1&-2\\end{pmatrix}$$\n",
    "\n",
    "*Note :* Dans le cas des matrices inversibles, vous validerez votre réponse en exécutant : `np.linalg.inv(A)`"
   ]
  },
  {
   "cell_type": "code",
   "execution_count": null,
   "metadata": {
    "collapsed": true
   },
   "outputs": [],
   "source": []
  },
  {
   "cell_type": "markdown",
   "metadata": {},
   "source": [
    "#### (ii) Inversion des matrices carrées d'ordre strictement supérieur à 2 : "
   ]
  },
  {
   "cell_type": "markdown",
   "metadata": {},
   "source": [
    "> Si $A$ est une matrice **diagonale** dont les coefficients sont tous non nuls, alors elle est inversible et son inverse s'obtient en inversant chacun des termes de la diagonale. Soit :\n",
    "$$A=\\begin{pmatrix}a_1&0&\\cdots&0\\\\0&a_2&\\cdots&0\\\\ \\vdots&\\ddots&\\ddots&\\vdots\\\\ 0&\\cdots&0&a_n\\end{pmatrix},a_i\\in\\mathbb{R}^*\\Rightarrow A^{-1}=\\begin{pmatrix}1/a_1&0&\\cdots&0\\\\0&1/a_2&\\cdots&0\\\\ \\vdots&\\ddots&\\ddots&\\vdots\\\\ 0&\\cdots&0&1/a_n\\end{pmatrix}$$  \n",
    "> Sinon, comme tout système de la forme $A\\cdot X = B$ admet une unique solution égale à $X=A^{-1}B$, l'idée est d'exprimer l'unique solution $X$ de ce système en fonction des coordonnées de $B$.  \n",
    "\n",
    "*Exemple :* Déterminons l'inverse de $A_1=\\begin{pmatrix}2&-3&1\\\\4&-5&2\\\\5&-7&3\\end{pmatrix}$ en considèrant le système $(S)\\quad A_1X=B$ avec $X=\\begin{pmatrix}x\\\\y\\\\z\\end{pmatrix}$ et $B=\\begin{pmatrix}a\\\\b\\\\c\\end{pmatrix}$.  \n",
    "On applique la méthode du pivot de Gauss en commençant par $L_2\\leftarrow L_2-2L_1$ et $L_3\\leftarrow 2L_3-5L_1$ :  \n",
    "\n",
    "$$(S)\\Leftrightarrow \\begin{cases}2x-3y+z&=a\\\\4x-5y+2z&=b\\\\5x-7y+3z&=c\\end{cases}\\Leftrightarrow \\begin{cases}2x-3y+z&=a\\\\y&=b-2a\\\\y+z&=2c-5a\\end{cases}\\Leftrightarrow \\begin{cases}2x&=a+3y-z\\\\y&=-2a+b\\\\z&=-3a-b+2c\\end{cases}\\Leftrightarrow \\begin{cases}x&=-a+2b-c\\\\y&=-2a+b\\\\z&=-3a-b+2c\\end{cases}$$   \n",
    "\n",
    "*Conclusion :* $A^{-1}=\\begin{pmatrix}-1&2&-1\\\\-2&1&0\\\\-3&-1&2\\end{pmatrix}$."
   ]
  },
  {
   "cell_type": "code",
   "execution_count": null,
   "metadata": {
    "collapsed": true
   },
   "outputs": [],
   "source": [
    "# Vérifions avec Python :\n",
    "A = np.matrix([[2,-3,1],[4,-5,2],[5,-7,3]])\n",
    "np.linalg.inv(A)"
   ]
  },
  {
   "cell_type": "markdown",
   "metadata": {},
   "source": [
    "**Exercice 12 :** *Question 2 - suite.* Inverser les matrices qui le sont.\n",
    " $$D=\\begin{pmatrix} 0&-1&0\\\\1&1&-1\\\\-2&-1&0\\end{pmatrix}; \\quad E=\\begin{pmatrix} 2&1&3\\\\1&3&-1\\\\3&-1&7\\end{pmatrix}; \\quad F=\\begin{pmatrix} -2&-2&2\\\\-1&2&2\\\\1&-2&3\\end{pmatrix}$$"
   ]
  },
  {
   "cell_type": "code",
   "execution_count": null,
   "metadata": {
    "collapsed": true
   },
   "outputs": [],
   "source": []
  },
  {
   "cell_type": "markdown",
   "metadata": {
    "collapsed": true
   },
   "source": [
    "**Remarque importante :** Il est une autre méthode pour inverser une matrice $A$.  \n",
    "Elle repose sur la mise en évidence d'un polynôme $P=a_0+a_1X+\\cdots+a_nX^n\\in\\mathbb{R}[X]$ avec $a_0\\neq 0$ tel que $P(A)=0$.  \n",
    "En effet :  \n",
    "$$P(A)=a_0I+a_1A+\\cdots+a_nA^n=0\\Leftrightarrow A\\cdot\\left(-\\cfrac{1}{a_0}(a_1I+\\cdots+a_nA^{n-1})\\right)=I= \\left(-\\cfrac{1}{a_0}(a_1I+\\cdots+a_nA^{n-1})\\right)\\cdot A$$  \n",
    "$$\\Leftrightarrow A\\text{ inversible et }A^{-1}=-\\cfrac{1}{a_0}\\left(a_1I+\\cdots+a_nA^{n-1}\\right)$$"
   ]
  },
  {
   "cell_type": "markdown",
   "metadata": {},
   "source": [
    "**Exercice 12 :** *Question 4.* Soit la matrice $A=\\begin{pmatrix}0&1&1\\\\1&0&1\\\\1&1&0\\end{pmatrix}$.  \n",
    "1. Montrer qu'il existe $a,b\\in\\mathbb{R}$ tels que : $A^2=aA+bI$.  \n",
    "2. En déduire que $A$ est inversible et calculer $A^{-1}$."
   ]
  },
  {
   "cell_type": "code",
   "execution_count": null,
   "metadata": {
    "collapsed": true
   },
   "outputs": [],
   "source": []
  }
 ],
 "metadata": {
  "anaconda-cloud": {},
  "kernelspec": {
   "display_name": "Python [default]",
   "language": "python",
   "name": "python3"
  },
  "language_info": {
   "codemirror_mode": {
    "name": "ipython",
    "version": 3
   },
   "file_extension": ".py",
   "mimetype": "text/x-python",
   "name": "python",
   "nbconvert_exporter": "python",
   "pygments_lexer": "ipython3",
   "version": "3.6.1"
  }
 },
 "nbformat": 4,
 "nbformat_minor": 1
}

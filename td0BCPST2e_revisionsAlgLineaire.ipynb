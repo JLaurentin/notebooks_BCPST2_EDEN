{
  "nbformat": 4,
  "nbformat_minor": 0,
  "metadata": {
    "colab": {
      "name": "td0BCPST2e-revisionsAlgLineaire.ipynb",
      "version": "0.3.2",
      "provenance": [],
      "collapsed_sections": [
        "jRuFKyUpVr9n",
        "OJIccFJ0Vr-S",
        "eSxcXgfQVr-n",
        "VpgvWOkAVr-r",
        "eWd5-cPCVr-2",
        "wkSgHlDFVsAd",
        "hg0CHZE7VsAn",
        "H8gdORDFVsAw"
      ],
      "include_colab_link": true
    },
    "language_info": {
      "codemirror_mode": {
        "name": "ipython",
        "version": 3
      },
      "file_extension": ".py",
      "mimetype": "text/x-python",
      "name": "python",
      "nbconvert_exporter": "python",
      "pygments_lexer": "ipython3",
      "version": "3.6.1"
    },
    "kernelspec": {
      "display_name": "Python [default]",
      "language": "python",
      "name": "python3"
    }
  },
  "cells": [
    {
      "cell_type": "markdown",
      "metadata": {
        "id": "view-in-github",
        "colab_type": "text"
      },
      "source": [
        "<a href=\"https://colab.research.google.com/github/JLaurentin/notebooks_BCPST2_EDEN/blob/master/td0BCPST2e_revisionsAlgLineaire.ipynb\" target=\"_parent\"><img src=\"https://colab.research.google.com/assets/colab-badge.svg\" alt=\"Open In Colab\"/></a>"
      ]
    },
    {
      "cell_type": "markdown",
      "metadata": {
        "id": "_8Y_6d5KVr5O",
        "colab_type": "text"
      },
      "source": [
        "#Révisions :#\n",
        "# \"Calcul matriciel\", \"Espaces vectoriels\" et \"Applications linéaires\"."
      ]
    },
    {
      "cell_type": "markdown",
      "metadata": {
        "id": "iMDqgQvjVr5a",
        "colab_type": "text"
      },
      "source": [
        "On rappelle que sur l'ensemble des chapitres d'algèbre linéaire, la bibliothèque la plus utilisée est la bibliothèque `numpy` et son module `linalg` au sein duquel de nombreuses méthodes permettent de répondre aux questions les plus courantes.  \n",
        "\n",
        "On commencera donc par importer cette bibliothèque."
      ]
    },
    {
      "cell_type": "code",
      "metadata": {
        "id": "gjXj8DqoVr5h",
        "colab_type": "code",
        "colab": {}
      },
      "source": [
        "import numpy as np"
      ],
      "execution_count": 0,
      "outputs": []
    },
    {
      "cell_type": "markdown",
      "metadata": {
        "id": "Op0Dgj6CVr53",
        "colab_type": "text"
      },
      "source": [
        "*Remarque :* L'ensemble des exercices qui suivent peuvent être résolus avec cette bibliothèque mais il faudra les traiter au préalable avec un papier et un crayon. Ce travail est indispensable car c'est tout ce dont vous disposerez sur les deux épreuves $A$ et $B$, le jour de l'écrit.  \n",
        "\n",
        "L'objectif de ce notebook est essentiellement de vous permette d'acquérir les réflexes qui vous permettront de gagner du temps sur ces calculs. Même s'ils sont parfois répétitifs, il faut les faire !  \n",
        "*Remarque :* Le cas échéant, si vous n'aboutissez pas, une correction des exercices à partir du paragraphe \"2. Espaces vectoriels\" est proposée en fin de notebook."
      ]
    },
    {
      "cell_type": "markdown",
      "metadata": {
        "id": "Uy_uXFg3Vr58",
        "colab_type": "text"
      },
      "source": [
        "## 1. Calcul matriciel"
      ]
    },
    {
      "cell_type": "markdown",
      "metadata": {
        "id": "bz4qqY7eVr6B",
        "colab_type": "text"
      },
      "source": [
        "Deux moyens s'offrent à vous pour créer un objet matriciel : `A = np.array(L)` ou `A = np.matrix(L)` où `L` est une liste d'entiers ou de réels.  \n",
        "Nous choisirons ici la deuxième possibilité car elle allège sensiblement l'écriture des produits matriciels (cf. le notebook : \"td0BCPST2b-lesPrincipauxModules\")."
      ]
    },
    {
      "cell_type": "markdown",
      "metadata": {
        "id": "4CzcesCSVr6E",
        "colab_type": "text"
      },
      "source": [
        "### a) Les calculs élémentaires."
      ]
    },
    {
      "cell_type": "markdown",
      "metadata": {
        "id": "HdKjuXTeVr6I",
        "colab_type": "text"
      },
      "source": [
        "**Exercice 1.1 **On considère les matrices à coefficients réels :  \n",
        "\n",
        "$A=\\begin{pmatrix} 1&2\\\\3&4\\end{pmatrix}$, $B=\\begin{pmatrix} -1&0&1\\\\2&2&3\\end{pmatrix}$, $C=\\begin{pmatrix} 1&0&1\\\\-3&-1&2\\\\5&2&1\\end{pmatrix}$, $D=\\begin{pmatrix} 1\\\\-1\\\\3\\end{pmatrix}$, $E=\\begin{pmatrix} 1&-1\\\\-1&2\\end{pmatrix}$  \n",
        "\n",
        "1. Calculer \"à la main\" les expressions suivantes lorsque c'est possible :  $A^2$, $AB$, $BA$, $AE$, $BD$, $CD$, $A(BC)D$, $A(B(DB))$, $A(B+2E)$, ${\\vphantom{D}}^{\\mathit{t}}{D}\\cdot D$ et $D\\cdot {\\vphantom{D}}^{\\mathit{t}}{D}$.  \n",
        "2. Utiliser Python pour vérifier vos calculs (on rappelle que `B=A.T` ou `B=A.transpose()` permettent d'étiqueter `B` la transposée de `A`)."
      ]
    },
    {
      "cell_type": "markdown",
      "metadata": {
        "id": "GAcO5rLBVr6N",
        "colab_type": "text"
      },
      "source": [
        "*Exemple*. Pour le premier calcul, on exécutera :"
      ]
    },
    {
      "cell_type": "code",
      "metadata": {
        "scrolled": true,
        "id": "aOD3oDkPVr6S",
        "colab_type": "code",
        "colab": {}
      },
      "source": [
        "A = np.matrix([[1,2],[3,4]])\n",
        "print(A**2)\n",
        "B = np.matrix([[-1,0,1],[2,2,3]])\n",
        "print(A*B)\n",
        "print(B*A)"
      ],
      "execution_count": 0,
      "outputs": []
    },
    {
      "cell_type": "code",
      "metadata": {
        "id": "COHkI4ggVr6k",
        "colab_type": "code",
        "colab": {}
      },
      "source": [
        "D = np.matrix([[1],[-1],[3]])\n",
        "Dt = D.transpose()\n",
        "print(Dt*D)"
      ],
      "execution_count": 0,
      "outputs": []
    },
    {
      "cell_type": "markdown",
      "metadata": {
        "id": "DTuTEctpVr6w",
        "colab_type": "text"
      },
      "source": [
        "**Exercice 1.2 :** Pour tout $n$ entier naturel, on définit la matrice carrée d'ordre $n$ :\n",
        "$$ A_n=\\begin{pmatrix} 1&1&\\cdots&1\\\\0&1&\\cdots&1\\\\ \\vdots&\\ddots&\\ddots&\\vdots\\\\0&\\dots&0&1\\end{pmatrix} $$ \n",
        "1. Utiliser Python pour calculer les produits $B_3=A_3^2$ et $A_3B_3$.  \n",
        "2. Déterminer pour tout $n$ les produits $B_n=A_n^2$ puis $A_nB_n$. Vérifier vos calculs pour certaines valeurs de $n$ grâce à Python."
      ]
    },
    {
      "cell_type": "code",
      "metadata": {
        "id": "-TxenhalVr6z",
        "colab_type": "code",
        "colab": {}
      },
      "source": [
        ""
      ],
      "execution_count": 0,
      "outputs": []
    },
    {
      "cell_type": "markdown",
      "metadata": {
        "id": "-bscORgoVr7A",
        "colab_type": "text"
      },
      "source": [
        "**Exercice 1.3 :** Trouver toutes les matrices $X$ qui commutent avec la matrice $$A=\\begin{pmatrix} 1&2\\\\0&3\\end{pmatrix}$$\n",
        "Vérifier votre résultat en complétant le code de la fenêtre ci-dessous à l'aide de cas particuliers de matrices $X$ :"
      ]
    },
    {
      "cell_type": "code",
      "metadata": {
        "id": "WukeEpRrVr7G",
        "colab_type": "code",
        "outputId": "844cbeb5-b74f-480b-81c6-d03c3c341b45",
        "colab": {}
      },
      "source": [
        "A = np.matrix([[1,2],[0,3]])\n",
        "x,y = 1,20\n",
        "X = np.matrix([[x,y],[0,x+y]]) # à compléter.\n",
        "print(A*X == X*A)"
      ],
      "execution_count": 0,
      "outputs": [
        {
          "output_type": "stream",
          "text": [
            "[[ True  True]\n",
            " [ True  True]]\n"
          ],
          "name": "stdout"
        }
      ]
    },
    {
      "cell_type": "markdown",
      "metadata": {
        "id": "FeXNVmPQVr7a",
        "colab_type": "text"
      },
      "source": [
        "**Exercice 1.4 :** On considère la matrice $$A=\\begin{pmatrix}-1&0&-2\\\\1&1&1\\\\1&0&2\\end{pmatrix}$$\n",
        "On cherche à résoudre l'équation d'inconnues réelles : $(xI_3+yA)^2=I_3$  \n",
        "où $I_3$ désigne la matrice identité de $\\mathcal{M}_3(\\mathbb{R})$.  \n",
        "\n",
        "1. Calculer $A^2$.  \n",
        "2. Soient $z,t\\in\\mathbb{R}$. Montrer que $zA+tI=0\\Leftrightarrow z=0=t$.  \n",
        "3. Conclure. Vous devriez obtenir quatre couples $(x,y)$ qu'il est possible de tester dans la ligne de commande ci-dessous :"
      ]
    },
    {
      "cell_type": "code",
      "metadata": {
        "id": "U1hE3CByVr7f",
        "colab_type": "code",
        "colab": {}
      },
      "source": [
        ""
      ],
      "execution_count": 0,
      "outputs": []
    },
    {
      "cell_type": "code",
      "metadata": {
        "id": "QsRFFgrHVr71",
        "colab_type": "code",
        "outputId": "3306dea7-a2f6-4e44-8ec4-4a9fd8a4f201",
        "colab": {}
      },
      "source": [
        "A = np.matrix([[-1,0,-2],[1,1,1],[1,0,2]]) # à compléter\n",
        "I3 = np.identity(3)\n",
        "# question 1. A^2 = ?\n",
        "x,y = -1,2 # à compléter\n",
        "B = x*I3+y*A\n",
        "print(B**2==I3)"
      ],
      "execution_count": 0,
      "outputs": [
        {
          "output_type": "stream",
          "text": [
            "[[ True  True  True]\n",
            " [ True  True  True]\n",
            " [ True  True  True]]\n"
          ],
          "name": "stdout"
        }
      ]
    },
    {
      "cell_type": "markdown",
      "metadata": {
        "id": "ORRASoqLVr8E",
        "colab_type": "text"
      },
      "source": [
        "**Exercice 1.5 :** On considère la matrice $$N=\\begin{pmatrix}2&-2&1\\\\2&-3&2\\\\-1&2&0\\end{pmatrix}$$\n",
        "1. Vérifier que $N^2=-2N+3I_3$  \n",
        "2. Montrer par récurrence qu'il existe deux suites $(u_n)_{n\\geq 0}$ et $(v_n)_{n\\geq 0}$ telle que :  \n",
        "\n",
        "$$N^{n+1}=u_nN+v_nI_3\\qquad \\forall n\\in\\mathbb{N}$$\n",
        "\n",
        "Préciser notamment la relation qui existe entre $(u_n,v_n)$ et $(u_{n+1},v_{n+1})$.  \n",
        "3. Vérifier que $u_{n+1}+v_{n+1}=u_n+v_n$.  \n",
        "4. En déduire que $u_{n+1}=-3u_n+1$.  \n",
        "5. Exprimer $(u_n,v_n)$ en fonction de $n$ et tester votre réponse en complétant les lignes de code ci-dessous : "
      ]
    },
    {
      "cell_type": "code",
      "metadata": {
        "id": "UBSnWReQVr8H",
        "colab_type": "code",
        "colab": {}
      },
      "source": [
        "N = np.matrix([...]) # à compléter\n",
        "I3 = np.identity(3)\n",
        "n = ...\n",
        "u,v = ... , ...\n",
        "print(N**(n+1) == u*N+v*I3)"
      ],
      "execution_count": 0,
      "outputs": []
    },
    {
      "cell_type": "markdown",
      "metadata": {
        "id": "jxf3MaAIVr8P",
        "colab_type": "text"
      },
      "source": [
        "*Indication :* Vous avez dû obtenir `u,v = 1/4+3/4*(-3)**n,3/4-3/4*(-3)**n`"
      ]
    },
    {
      "cell_type": "markdown",
      "metadata": {
        "id": "X9Wf9KtvVr8R",
        "colab_type": "text"
      },
      "source": [
        "**Exercice 1.6 :** Avec Python il est facile de faire des sommes et des produits de matrices lorsqu'ils sont possibles. Il peut néanmoins arriver (c'est au programme) qu'on demande d'écrire des fonctions Python permettant de faire ces opérations.  \n",
        "\n",
        "Je rappelle ci-dessous deux façons possible d'écrire une fonction permettant d'**additionner**, quand leur taille le permet, deux matrices $A$ et $B$.  "
      ]
    },
    {
      "cell_type": "code",
      "metadata": {
        "id": "iNjlzMI7Vr8U",
        "colab_type": "code",
        "colab": {}
      },
      "source": [
        "def sommeM1(A,B):\n",
        "    l1,c1 = A.shape\n",
        "    l2,c2 = B.shape\n",
        "    if l1!=l2 or c1!=c2:\n",
        "        print('somme impossible')\n",
        "        return []\n",
        "    else:\n",
        "        return np.matrix([[A[i,j]+B[i,j] for j in range(c1)]for i in range(l1)])"
      ],
      "execution_count": 0,
      "outputs": []
    },
    {
      "cell_type": "code",
      "metadata": {
        "id": "BvaZPYmZVr8f",
        "colab_type": "code",
        "colab": {}
      },
      "source": [
        "def sommeM2(A,B):\n",
        "    l1,c1 = A.shape\n",
        "    l2,c2 = B.shape\n",
        "    if l1!=l2 or c1!=c2:\n",
        "        print('somme impossible')\n",
        "        return []\n",
        "    else:\n",
        "        C = np.zeros((l1,c1)) # initialisation de la liste qui formera la somme A+B\n",
        "        for i in range(l1):\n",
        "            for j in range(c1):\n",
        "                C[i,j]=A[i,j]+B[i,j]\n",
        "        return C"
      ],
      "execution_count": 0,
      "outputs": []
    },
    {
      "cell_type": "markdown",
      "metadata": {
        "id": "bc167rb3Vr8p",
        "colab_type": "text"
      },
      "source": [
        "On vérifie ces deux fonctions à l'aide des matrices de l'exercice 1 :"
      ]
    },
    {
      "cell_type": "code",
      "metadata": {
        "id": "630SLHaEVr8q",
        "colab_type": "code",
        "outputId": "8a73dfff-b395-4a04-b06c-70003d51aa20",
        "colab": {}
      },
      "source": [
        "A = np.matrix([[1,2],[3,4]])\n",
        "B = np.matrix([[-1,0,1],[2,2,3]])\n",
        "E = np.matrix([[1,-1],[-1,2]])\n",
        "C1 = sommeM1(A,B)\n",
        "C2 = sommeM2(A,E)\n",
        "print(C2)\n",
        "print(C2 == A+E)"
      ],
      "execution_count": 0,
      "outputs": [
        {
          "output_type": "stream",
          "text": [
            "somme impossible\n",
            "[[ 2.  1.]\n",
            " [ 2.  6.]]\n",
            "[[ True  True]\n",
            " [ True  True]]\n"
          ],
          "name": "stdout"
        }
      ]
    },
    {
      "cell_type": "markdown",
      "metadata": {
        "id": "k_WgcwXqVr88",
        "colab_type": "text"
      },
      "source": [
        "Compléter maintenant les deux fonctions ci-dessous permettant respectivement de faire le produit de deux matrices $A$ et $B$ quand c'est possible et de calculer $A^n$ si $A$ est une matrice carrée et $n\\in\\mathbb{N}^*$.  \n",
        "On rappelle que si $A=(a_{i,j})\\in\\mathcal{M}_{n,p}(\\mathbb{R})$ et $B=(b_{i,j})\\in\\mathcal{M}_{p,m}(\\mathbb{R})$, alors les coefficients de $C=A*B$ sont :\n",
        "$$c_{i,j}=\\displaystyle\\sum_{k=1}^p a_{i,k}\\cdot b_{k,j}$$"
      ]
    },
    {
      "cell_type": "code",
      "metadata": {
        "id": "z5dZJliiVr8-",
        "colab_type": "code",
        "colab": {}
      },
      "source": [
        "def produitM(A,B):\n",
        "    la,ca = A.shape\n",
        "    lb,cb = B.shape\n",
        "    if ca != lb : # à compléter\n",
        "        print('produit impossible')\n",
        "        C = []\n",
        "    else:\n",
        "        C = np.zeros((la,cb))\n",
        "        for i in range(la):\n",
        "            for j in range(cb):\n",
        "                for k in range(lb):\n",
        "                    C[i,j] = C[i,j]+ A[i,k]*B[k,j]\n",
        "        return C"
      ],
      "execution_count": 0,
      "outputs": []
    },
    {
      "cell_type": "code",
      "metadata": {
        "id": "F2EVhSXTVr9J",
        "colab_type": "code",
        "colab": {}
      },
      "source": [
        "C = produitM(A,B)\n",
        "print(C)\n",
        "print(A*B)\n",
        "D = produitM(B,E)"
      ],
      "execution_count": 0,
      "outputs": []
    },
    {
      "cell_type": "code",
      "metadata": {
        "id": "px_uSiRAVr9R",
        "colab_type": "code",
        "colab": {}
      },
      "source": [
        "def puissanceM(A,n):\n",
        "    # on s'obligera à utiliser la fonction 'produitM()'\n",
        "    la,ca = A.shape\n",
        "    if la != ca:\n",
        "        print('Puissance de A impossible')\n",
        "        return []\n",
        "    else:\n",
        "        pA = A # initialisation de la puissance de A à A (n=1)\n",
        "        for k in ...:\n",
        "            pA = ...\n",
        "        return pA"
      ],
      "execution_count": 0,
      "outputs": []
    },
    {
      "cell_type": "markdown",
      "metadata": {
        "id": "uCC8M6eIVr9Y",
        "colab_type": "text"
      },
      "source": [
        "**Application :** Utiliser la fonction précédente pour évaluer les puissances successives ($n=1,2,3,\\cdots$) pour les matrices suivantes :  \n",
        "\n",
        "$$M=\\begin{pmatrix}0&1&0\\\\0&0&1\\\\0&0&0\\end{pmatrix}\\qquad N=\\begin{pmatrix}1&1&1\\\\1&1&1\\\\1&1&1\\end{pmatrix}\\qquad J=\\begin{pmatrix}0&1&0\\\\0&0&1\\\\1&0&0\\end{pmatrix}$$\n",
        "Fournir ensuite une preuve algébrique de vos résultats."
      ]
    },
    {
      "cell_type": "code",
      "metadata": {
        "id": "EoRuIF_QVr9d",
        "colab_type": "code",
        "colab": {}
      },
      "source": [
        "M=np.matrix([[0,1,0],[0,0,1],[0,0,0]])\n",
        "pM = puissanceM(M,1)\n",
        "print(pM)"
      ],
      "execution_count": 0,
      "outputs": []
    },
    {
      "cell_type": "markdown",
      "metadata": {
        "id": "jRuFKyUpVr9n",
        "colab_type": "text"
      },
      "source": [
        "### b) rang et inversibilité d'une matrice."
      ]
    },
    {
      "cell_type": "markdown",
      "metadata": {
        "collapsed": true,
        "id": "jo26igmOVr9q",
        "colab_type": "text"
      },
      "source": [
        "Soit $A\\in\\mathcal{M}_{n,p}(\\mathbb{R})$. On appelle *rang* de la matrice $A$ et on note $\\textrm{rg}(A)$ le nombre de pivots (non nuls) à l'issue de l'application de l'algorithme dit \"du pivot de Gauss\".  \n",
        "\n",
        "A titre d'exemples :  \n",
        "*Exemple 1 :*$$\\textrm{rg}\\begin{pmatrix}1&1\\\\-1&1\\end{pmatrix}=\\textrm{rg}\\begin{pmatrix}1&1\\\\0&2\\end{pmatrix}=2\\qquad L_2\\leftarrow L_1+L_2$$  \n",
        "\n",
        ">*Remarque :* Dans le cas des **matrices d'ordre $2$**, il est en fait inutile de passer par un pivot de Gauss car $$\\textrm{rg}(A)=2\\Leftrightarrow \\det(A)\\neq 0$$\n",
        "Ici, $\\det\\begin{pmatrix}1&1\\\\-1&1\\end{pmatrix}=1+1=2\\neq 0$ donc on a directement $\\textrm{rg}(A)=2$.  \n",
        "\n",
        "*Exemple 2:* $$\\textrm{rg}\\begin{pmatrix}1&1&1\\\\1&1&1\\\\1&1&1\\end{pmatrix}=\\textrm{rg}\\begin{pmatrix}1&1&1\\\\0&0&0\\\\0&0&0\\end{pmatrix}=1\\qquad L_2\\leftarrow L_2-L_1,\\quad L_3\\leftarrow L_3-L_1$$"
      ]
    },
    {
      "cell_type": "markdown",
      "metadata": {
        "id": "LHbMA2iEVr9s",
        "colab_type": "text"
      },
      "source": [
        "*Remarque :* Quand c'est possible, on peut utiliser une fonction Python pour déterminer le rang d'une matrice : `np.linalg.matrix_rank(A)`  "
      ]
    },
    {
      "cell_type": "code",
      "metadata": {
        "collapsed": true,
        "id": "IsA_bf1LVr9v",
        "colab_type": "code",
        "colab": {}
      },
      "source": [
        "A = np.matrix([[1,1],[-1,1]])\n",
        "B = np.matrix([[1,1,1],[1,1,1],[1,1,1]])\n",
        "rA = np.linalg.matrix_rank(A)\n",
        "rB = np.linalg.matrix_rank(B)\n",
        "print('rang de A : ',rA,'et rang de B : ',rB)"
      ],
      "execution_count": 0,
      "outputs": []
    },
    {
      "cell_type": "markdown",
      "metadata": {
        "id": "bANVYtQjVr92",
        "colab_type": "text"
      },
      "source": [
        "**Exercice 7 :** Déterminer en utilisant la méthode du pivot de Gauss, le rang des matrices ci-dessous.  \n",
        "Vérifier vos résultats grâce à la fonction `np.linalg.matrix_rank()`.  \n",
        "\n",
        " $$A_1=\\begin{pmatrix}2&-3&1\\\\4&-5&2\\\\5&-7&3\\end{pmatrix} ; \\quad A_2=\\begin{pmatrix}-1&0&-2\\\\1&1&1\\\\1&0&2\\end{pmatrix} ; \\quad A_3=\\begin{pmatrix}-1&2&3\\\\6&-1&3\\\\0&-1&2\\end{pmatrix} ; \\quad A_4=\\begin{pmatrix}1&0&1\\\\1&1&0\\\\2&1&1\\end{pmatrix} ;$$"
      ]
    },
    {
      "cell_type": "code",
      "metadata": {
        "collapsed": true,
        "id": "C3uD6Hv5Vr95",
        "colab_type": "code",
        "colab": {}
      },
      "source": [
        ""
      ],
      "execution_count": 0,
      "outputs": []
    },
    {
      "cell_type": "markdown",
      "metadata": {
        "id": "xYhxtKqJVr9-",
        "colab_type": "text"
      },
      "source": [
        "**Lien avec l'inversibilité :** Une matrice $A$ d'ordre $n$ (c'est-à-dire matrice carrée de $n$ lignes et $n$ colonnes) est **inversible** si et seulement si $\\textrm{rg}(A)=n$.  \n",
        "\n",
        "Dans l'exercice précédent, il est donc immédiat que $A_1$ et $A_3$ sont inversibles tandis que $A_2$ et $A_3$ ne le sont pas."
      ]
    },
    {
      "cell_type": "markdown",
      "metadata": {
        "id": "S-i7G49ZVr-B",
        "colab_type": "text"
      },
      "source": [
        "**Exercice 1.8 :** Déterminer les valeurs de $a$ réelles pour lesquelles les matrices ci-dessous ne **sont pas** inversibles.  \n",
        "*Attention :* Dans la méthode du pivot de Gauss, les pivots ne peuvent pas être nuls. \n",
        "\n",
        "$$A=\\begin{pmatrix}a&1&0\\\\0&a&1\\\\0&0&a\\end{pmatrix} ; \\quad B=\\begin{pmatrix}1&2&a\\\\3&4&2\\\\2&3&-1\\end{pmatrix} ; \\quad C=\\begin{pmatrix}-2-a&-2&1\\\\-2&1-a&-2\\\\1&-2&-2-a\\end{pmatrix}  ;$$\n",
        "\n",
        "Vérifier vos réponses en vous assurant que pour ces valeurs de $a$, on obtient $\\textrm{rg}(A)<3$.  "
      ]
    },
    {
      "cell_type": "code",
      "metadata": {
        "id": "xWDaR9zJVr-E",
        "colab_type": "code",
        "outputId": "6f5f64b8-4a03-4181-f7f0-819e5b2a32c2",
        "colab": {}
      },
      "source": [
        "a = -3# à compléter\n",
        "A = np.matrix([[-2-a,-2,1],[-2,1-a,-2],[1,-2,-2-a]]) # exemple pour la matrice $A$ ci-dessus.\n",
        "print(np.linalg.matrix_rank(A))"
      ],
      "execution_count": 0,
      "outputs": [
        {
          "output_type": "stream",
          "text": [
            "1\n"
          ],
          "name": "stdout"
        }
      ]
    },
    {
      "cell_type": "markdown",
      "metadata": {
        "id": "pTpBamWOVr-Q",
        "colab_type": "text"
      },
      "source": [
        "*Indication :* $rg(B)=2$ si $a=-4$ et pour $C$ on obtient un rang égale à 2 ou 1 selon que a = 3 ou -3"
      ]
    },
    {
      "cell_type": "markdown",
      "metadata": {
        "id": "OJIccFJ0Vr-S",
        "colab_type": "text"
      },
      "source": [
        "### c) Résolution de systèmes."
      ]
    },
    {
      "cell_type": "markdown",
      "metadata": {
        "collapsed": true,
        "id": "6ddYksPVVr-U",
        "colab_type": "text"
      },
      "source": [
        "On rappelle que tout système à $p$ inconnues $x_1,\\cdots,x_p$ et $n$ équations de la forme :  \n",
        "\n",
        "$$(S)\\quad\\begin{cases}a_{1,1}x_1+\\cdots+a_{1,p}x_p&=b_1\\\\a_{2,1}x_1+\\cdots+a_{2,p}x_p&=b_2\\\\ \\vdots&\\vdots\\\\ a_{n,1}x_1+\\cdots+a_{n,p}x_p&=b_n\\end{cases}$$  \n",
        "\n",
        "peut s'exprimer matriciellement sous la forme : $A\\cdot X = B$ où :  \n",
        "\n",
        "$$A=\\begin{pmatrix}a_{1,1}&\\cdots& a_{1,p}\\\\ \\vdots&&\\vdots \\\\ a_{n,1}&\\cdots&a_{n,p}\\end{pmatrix} ; \\quad X=\\begin{pmatrix}x_1\\\\ \\vdots \\\\x_p\\end{pmatrix} ; \\quad B=\\begin{pmatrix}b_1\\\\ \\vdots \\\\ b_n\\end{pmatrix}$$"
      ]
    },
    {
      "cell_type": "markdown",
      "metadata": {
        "id": "VRpLODfbVr-a",
        "colab_type": "text"
      },
      "source": [
        "Sous cette condition, $A$ est dite *matrice associée au système* et on a : $\\textrm{rg}(S)=\\textrm{rg}(A)$."
      ]
    },
    {
      "cell_type": "markdown",
      "metadata": {
        "id": "2DKrX_IYVr-e",
        "colab_type": "text"
      },
      "source": [
        "**Important !** Cette dernière remarque est essentielle car, si $\\textrm{rg}(S)=n=p$ alors $A$ est une matrice inversible et le système $(S)$ admet une unique solution, à savoir : $$X = A^{-1}\\cdot B$$"
      ]
    },
    {
      "cell_type": "markdown",
      "metadata": {
        "id": "bBkUHQ3uVr-g",
        "colab_type": "text"
      },
      "source": [
        "**Exercice 1.9:** Prendre une à une les matrices de l'exercice 7 et résoudre dans chaque cas le système :\n",
        "$$A\\cdot X = B\\qquad \\text{où }X=\\begin{pmatrix}x\\\\y\\\\z\\end{pmatrix}\\text{ et }B=\\begin{pmatrix}1\\\\1\\\\1\\end{pmatrix}$$"
      ]
    },
    {
      "cell_type": "markdown",
      "metadata": {
        "id": "MnD5ca0jVr-i",
        "colab_type": "text"
      },
      "source": [
        "*Remarque :* Dans le cas des matrices $A_1$ et $A_3$ qui sont inversible, vérifier vos réponses grâce à Python en exécutant au choix :  \n",
        "> `X=np.linalg.solve(A,B)`  \n",
        "ou  \n",
        "> `X=np.linalg.inv(A)*B`"
      ]
    },
    {
      "cell_type": "code",
      "metadata": {
        "collapsed": true,
        "id": "yOaaABkDVr-j",
        "colab_type": "code",
        "colab": {}
      },
      "source": [
        "# exemple pour la résolution du système : x+y=1 et x-y=0 associé à une matrice A de rang 2 donc inversible :\n",
        "A = np.matrix([[1,1],[1,-1]])\n",
        "B = np.matrix([[1],[0]])\n",
        "X1 = np.linalg.solve(A,B) # première méthode\n",
        "X2 = np.linalg.inv(A)*B # deuxième méthode\n",
        "print(X1)\n",
        "print(X2)"
      ],
      "execution_count": 0,
      "outputs": []
    },
    {
      "cell_type": "markdown",
      "metadata": {
        "id": "eSxcXgfQVr-n",
        "colab_type": "text"
      },
      "source": [
        "### d) Inversion de matrices."
      ]
    },
    {
      "cell_type": "markdown",
      "metadata": {
        "id": "WNQejgS9Vr-p",
        "colab_type": "text"
      },
      "source": [
        "Dans le cas d'une matrice carrée d'ordre $n$ inversible (c'est-à-dire de rang $n$), il est indispensable de savoir produire son inverse rapidement.  \n",
        "Dans le cas d'une matrice d'ordre $2$, c'est immédiat car nous disposons d'une formule de cours à connaître par coeur.  \n",
        "Si $n>2$, nous passerons par la résolution d'un système."
      ]
    },
    {
      "cell_type": "markdown",
      "metadata": {
        "id": "VpgvWOkAVr-r",
        "colab_type": "text"
      },
      "source": [
        "#### (i) inversion des matrices carrées d'ordre 2."
      ]
    },
    {
      "cell_type": "markdown",
      "metadata": {
        "id": "sGXcgn6IVr-t",
        "colab_type": "text"
      },
      "source": [
        "> $A=\\begin{pmatrix}a&b\\\\c&d\\end{pmatrix}$ inversible $\\Leftrightarrow \\det(A)=ad-bc\\neq 0$ et dans ce cas :\n",
        "$$A^{-1}=\\cfrac{1}{ad-bc}\\begin{pmatrix}d&-b\\\\-c&a\\end{pmatrix}$$"
      ]
    },
    {
      "cell_type": "markdown",
      "metadata": {
        "id": "acosibB4Vr-u",
        "colab_type": "text"
      },
      "source": [
        "**Exercice 1.10 :** Dire parmi ces matrices celles qui sont inversibles et donner leur inverse.  \n",
        "\n",
        "$$A_1=\\begin{pmatrix}1&2\\\\-2&-1\\end{pmatrix} ; \\quad A_2=\\begin{pmatrix}1&2\\\\-1&-2\\end{pmatrix} ; \\quad A_1=\\begin{pmatrix}1&2\\\\3&4\\end{pmatrix} ; $$  \n",
        "\n",
        "*Note :* Dans le cas des matrices inversibles, vous validerez votre réponse en exécutant : `np.linalg.inv(A)`"
      ]
    },
    {
      "cell_type": "code",
      "metadata": {
        "collapsed": true,
        "id": "Fh8qvU9LVr-w",
        "colab_type": "code",
        "colab": {}
      },
      "source": [
        ""
      ],
      "execution_count": 0,
      "outputs": []
    },
    {
      "cell_type": "markdown",
      "metadata": {
        "id": "eWd5-cPCVr-2",
        "colab_type": "text"
      },
      "source": [
        "#### (ii) Inversion des matrices carrées d'ordre strictement supérieur à 2 : "
      ]
    },
    {
      "cell_type": "markdown",
      "metadata": {
        "id": "ILdS5qqnVr-4",
        "colab_type": "text"
      },
      "source": [
        "> Si $A$ est une matrice **diagonale** dont les coefficients sont tous non nuls, alors elle est inversible et son inverse s'obtient en inversant chacun des termes de la diagonale. Soit :\n",
        "$$A=\\begin{pmatrix}a_1&0&\\cdots&0\\\\0&a_2&\\cdots&0\\\\ \\vdots&\\ddots&\\ddots&\\vdots\\\\ 0&\\cdots&0&a_n\\end{pmatrix},a_i\\in\\mathbb{R}^*\\Rightarrow A^{-1}=\\begin{pmatrix}1/a_1&0&\\cdots&0\\\\0&1/a_2&\\cdots&0\\\\ \\vdots&\\ddots&\\ddots&\\vdots\\\\ 0&\\cdots&0&1/a_n\\end{pmatrix}$$  \n",
        "> Sinon, comme tout système de la forme $A\\cdot X = B$ admet une unique solution égale à $X=A^{-1}B$, l'idée est d'exprimer l'unique solution $X$ de ce système en fonction des coordonnées de $B$.  \n",
        "\n",
        "*Exemple :* Déterminons l'inverse de $A_1=\\begin{pmatrix}2&-3&1\\\\4&-5&2\\\\5&-7&3\\end{pmatrix}$ définie dans l'exercice 7 en considèrant le système $(S)\\quad A_1X=B$ avec $X=\\begin{pmatrix}x\\\\y\\\\z\\end{pmatrix}$ et $B=\\begin{pmatrix}a\\\\b\\\\c\\end{pmatrix}$.  \n",
        "On applique la méthode du pivot de Gauss en commençant par $L_2\\leftarrow L_2-2L_1$ et $L_3\\leftarrow 2L_3-5L_1$ :  \n",
        "\n",
        "$$(S)\\Leftrightarrow \\begin{cases}2x-3y+z&=a\\\\4x-5y+2z&=b\\\\5x-7y+3z&=c\\end{cases}\\Leftrightarrow \\begin{cases}2x-3y+z&=a\\\\y&=b-2a\\\\y+z&=2c-5a\\end{cases}\\Leftrightarrow \\begin{cases}2x&=a+3y-z\\\\y&=-2a+b\\\\z&=-3a-b+2c\\end{cases}\\Leftrightarrow \\begin{cases}x&=-a+2b-c\\\\y&=-2a+b\\\\z&=-3a-b+2c\\end{cases}$$   \n",
        "\n",
        "*Conclusion :* $A^{-1}=\\begin{pmatrix}-1&2&-1\\\\-2&1&0\\\\-3&-1&2\\end{pmatrix}$."
      ]
    },
    {
      "cell_type": "code",
      "metadata": {
        "id": "K9PaExU-Vr-6",
        "colab_type": "code",
        "outputId": "6945ab25-c3e0-433a-a334-419971d61b2b",
        "colab": {}
      },
      "source": [
        "# Vérifions avec Python :\n",
        "A = np.matrix([[2,-3,1],[4,-5,2],[5,-7,3]])\n",
        "np.linalg.inv(A)"
      ],
      "execution_count": 0,
      "outputs": [
        {
          "output_type": "execute_result",
          "data": {
            "text/plain": [
              "matrix([[ -1.00000000e+00,   2.00000000e+00,  -1.00000000e+00],\n",
              "        [ -2.00000000e+00,   1.00000000e+00,   5.18104078e-16],\n",
              "        [ -3.00000000e+00,  -1.00000000e+00,   2.00000000e+00]])"
            ]
          },
          "metadata": {
            "tags": []
          },
          "execution_count": 17
        }
      ]
    },
    {
      "cell_type": "markdown",
      "metadata": {
        "id": "iokACfBeVr_J",
        "colab_type": "text"
      },
      "source": [
        "**Exercice 1.11 :** Justifier l'inversibilité des matrices suivantes et les inverser :  \n",
        "\n",
        "$$B_1=\\begin{pmatrix}1&2&-1\\\\2&4&-1\\\\-2&-5&3\\end{pmatrix} ; \\quad B_2=\\begin{pmatrix}0&-1&0\\\\1&1&-1\\\\-2&-1&0\\end{pmatrix} ; \\quad B_3=\\begin{pmatrix}2&1&3\\\\1&3&-1\\\\3&-1&7\\end{pmatrix} ; \\quad B_4=\\begin{pmatrix}-2&-2&2\\\\-1&2&2\\\\1&-2&3\\end{pmatrix}$$"
      ]
    },
    {
      "cell_type": "code",
      "metadata": {
        "collapsed": true,
        "id": "rWJjAEbUVr_L",
        "colab_type": "code",
        "colab": {}
      },
      "source": [
        ""
      ],
      "execution_count": 0,
      "outputs": []
    },
    {
      "cell_type": "markdown",
      "metadata": {
        "collapsed": true,
        "id": "dv_7HmfJVr_O",
        "colab_type": "text"
      },
      "source": [
        "**Remarque importante :** Il est une autre méthode pour inverser une matrice $A$.  \n",
        "Elle repose sur la mise en évidence d'un polynôme $P=a_0+a_1X+\\cdots+a_nX^n\\in\\mathbb{R}[X]$ avec $a_0\\neq 0$ tel que $P(A)=0$.  \n",
        "En effet :  \n",
        "$$P(A)=a_0I+a_1A+\\cdots+a_nA^n=0\\Leftrightarrow A\\cdot\\left(-\\cfrac{1}{a_0}(a_1I+\\cdots+a_nA^{n-1})\\right)=I= \\left(-\\cfrac{1}{a_0}(a_1I+\\cdots+a_nA^{n-1})\\right)\\cdot A$$  \n",
        "$$\\Leftrightarrow A\\text{ inversible et }A^{-1}=-\\cfrac{1}{a_0}\\left(a_1I+\\cdots+a_nA^{n-1}\\right)$$"
      ]
    },
    {
      "cell_type": "markdown",
      "metadata": {
        "id": "ECXJandDVr_Q",
        "colab_type": "text"
      },
      "source": [
        "**Exercice 1.12 :** Soit la matrice $A=\\begin{pmatrix}0&1&1\\\\1&0&1\\\\1&1&0\\end{pmatrix}$.  \n",
        "1. Montrer qu'il existe $a,b\\in\\mathbb{R}$ tels que : $A^2=aA+bI$.  \n",
        "2. En déduire que $A$ est inversible et calculer $A^{-1}$."
      ]
    },
    {
      "cell_type": "code",
      "metadata": {
        "collapsed": true,
        "id": "H0wTai5rVr_R",
        "colab_type": "code",
        "colab": {}
      },
      "source": [
        "# Vérification grâce à la fonction `np.linalg.inv(A)` de Python :"
      ],
      "execution_count": 0,
      "outputs": []
    },
    {
      "cell_type": "markdown",
      "metadata": {
        "id": "3A6msWJHVr_W",
        "colab_type": "text"
      },
      "source": [
        "## 2. Espaces vectoriels."
      ]
    },
    {
      "cell_type": "markdown",
      "metadata": {
        "id": "yWEMHWROVr_Z",
        "colab_type": "text"
      },
      "source": [
        "On supposera dans ce qui suit que $F$ est un espace vectoriel, sous-espace vectoriel de $E=\\mathbb{R}^n$ avec $n\\in\\mathbb{N}^*$. \n",
        "\n",
        "On rappelle à cette occasion la caractérisation des sous-espaces vectoriels :"
      ]
    },
    {
      "cell_type": "markdown",
      "metadata": {
        "id": "hSfbw5O-Vr_a",
        "colab_type": "text"
      },
      "source": [
        "**Proposition 1 :** $F$ est un SEV de $E$ si :  \n",
        "1. $F\\subset E$.  \n",
        "2. $0_E\\in F$ ($F$ est non vide et contient le vecteur nul de $E$).  \n",
        "3. $F$ est stable par combinaisons linéaires. C'est-à-dire : $$\\forall u,v\\in F,\\quad\\forall \\alpha\\in\\mathbb{R},\\quad \\alpha u+v\\in F$$. "
      ]
    },
    {
      "cell_type": "markdown",
      "metadata": {
        "id": "qp3pomf9Vr_c",
        "colab_type": "text"
      },
      "source": [
        "*Note :* C'est le moment de reprendre votre T.D. sur ce chapitre et de retravailler de telles démonstrations !"
      ]
    },
    {
      "cell_type": "markdown",
      "metadata": {
        "id": "nIDng9JgVr_d",
        "colab_type": "text"
      },
      "source": [
        "**Définition 1 :** Soit $p\\in\\mathbb{N}^*$. Une famille $\\mathcal{F}=\\{u_1,\\cdots,u_p\\}$ de vecteurs de $F$ est **libre** (non *liée*) si :  \n",
        "$$\\forall \\lambda_1,\\cdots,\\lambda_p\\in\\mathbb{R},\\quad \\lambda_1u_1+\\cdots+\\lambda_pu_p=0_E\\Rightarrow \\lambda_1=0=\\cdots=\\lambda_p$$"
      ]
    },
    {
      "cell_type": "markdown",
      "metadata": {
        "id": "fZUj1eRyVr_g",
        "colab_type": "text"
      },
      "source": [
        "**Définition 2 :** Soit $p\\in\\mathbb{N}^*$. Une famille $\\mathcal{F}=\\{u_1,\\cdots,u_p\\}$ de vecteurs de $F$ est **génératrice** si :  \n",
        "$$\\forall u\\in F,\\quad \\exists \\lambda_1,\\cdots,\\lambda_p\\in\\mathbb{R}/u=\\lambda_1u_1+\\cdots+\\lambda_pu_p$$"
      ]
    },
    {
      "cell_type": "markdown",
      "metadata": {
        "id": "JsEIDEHVVr_n",
        "colab_type": "text"
      },
      "source": [
        "**Définition 3 :** Toute famille $\\mathcal{F}$ à la fois *libre* et *génératrice* de $F$ est une **base** de $F$. On note alors : $$\\dim(F)=\\textrm{card}(\\mathcal{F})$$"
      ]
    },
    {
      "cell_type": "markdown",
      "metadata": {
        "id": "8BH4PyZ4Vr_r",
        "colab_type": "text"
      },
      "source": [
        "**Définition 4 :** Soit $\\mathcal{F}=\\{u_1,\\cdots,u_p\\}$ une famille de vecteurs de $F$. On appelle **rang** de $\\mathcal{F}$ et on note $\\textrm{rg}(\\mathcal{F})$ la dimension de l'espace vectoriel engendré par les vecteurs de $\\mathcal{F}$. Soit : $$\\textrm{rg}(\\mathcal{F})=\\dim\\left(\\textrm{Vect}\\{u_1,\\cdots,u_p\\}\\right)$$"
      ]
    },
    {
      "cell_type": "markdown",
      "metadata": {
        "id": "qJXruoSQVr_r",
        "colab_type": "text"
      },
      "source": [
        "Cette dernière définition est **fondamentale** car on obtient grâce à elle qu'une famille de $p$ vecteurs est libre si, et seulement si, son rang vaut $p$."
      ]
    },
    {
      "cell_type": "markdown",
      "metadata": {
        "id": "zR1_TJUyVr_t",
        "colab_type": "text"
      },
      "source": [
        "**Remarque :** Soit $M$ la matrice des coordonnées de la famille $\\mathcal{F}=\\{u_1,\\cdots,u_p\\}$ dans une base de $E$. Alors : $$\\textrm{rg}(M)=\\textrm{rg}(\\mathcal{F})$$"
      ]
    },
    {
      "cell_type": "markdown",
      "metadata": {
        "id": "xIM_BSS8Vr_u",
        "colab_type": "text"
      },
      "source": [
        "**Application 1 :**  \n",
        "> Soit $\\mathcal{F}_1=\\{u_1,u_2\\}$ où $u_1=(1,-1)$ et $u_2=(1,1)$ dans la base canonique de $E=\\mathbb{R}^2$.  \n",
        "Cette famille est **libre** car la matrice des coordonnées de cette famille dans la base canonique de $\\mathbb{R}^2$ est : $$M=\\begin{pmatrix}1&1\\\\-1&1\\end{pmatrix}\\quad\\text{! les coordonnées des vecteurs sont en colonne.}$$\n",
        "et $$\\textrm{rg}(M)=\\textrm{rg}(\\mathcal{F}_1)=2=\\textrm{card}(\\mathcal{F}_1)$$"
      ]
    },
    {
      "cell_type": "markdown",
      "metadata": {
        "id": "aLG61Rp2Vr_w",
        "colab_type": "text"
      },
      "source": [
        "**Application 2 :**  \n",
        "> Soit $\\mathcal{F}_2=\\{u_1,u_2,u_3\\}$ où $u_1=(1,1,1)$, $u_2=(1,1,1)$ et $u_3=(1,1,1)$ dans la base canonique de $E=\\mathbb{R}^3$.  \n",
        "Cette famille est **liée** car la matrice des coordonnées de cette famille dans la base canonique de $\\mathbb{R}^3$ est : $$M=\\begin{pmatrix}1&1&1\\\\1&1&1\\\\1&1&1\\end{pmatrix}$$\n",
        "et $$\\textrm{rg}(M)=\\textrm{rg}(\\mathcal{F}_2)=1<\\textrm{card}(\\mathcal{F}_2)$$"
      ]
    },
    {
      "cell_type": "markdown",
      "metadata": {
        "id": "WO4j3vXKVr_y",
        "colab_type": "text"
      },
      "source": [
        "**Exercice 2.1 :** Pour chacune des familles suivantes de vecteurs de $\\mathbb{R}^n$ ($n=2,3$ ou $4$) déterminer si elle est libre ou liée.  \n",
        "Par ailleurs, préciser dans chaque cas la dimension de $F=\\textrm{Vect}(\\mathcal{F})$.  \n",
        "\n",
        "1. $\\mathcal{F}=\\{(3,1),(-3/2,-1/2)\\}$ \n",
        "2. $\\mathcal{F}=\\{(2,1)\\}$  \n",
        "3. $\\mathcal{F}=\\{(-3,1),(1,1),(2,0)\\}$  \n",
        "4. $\\mathcal{F}=\\{(1,2,-1),(1,0,1),(-1,-2,-3)\\}$\n",
        "5. $\\mathcal{F}=\\{(1,2,3),(1,4,2),(0,-2,1)\\}$\n",
        "6. $\\mathcal{F}=\\{(-1,2,3),(2,1,0),(3,-2,1),(1,0,1)\\}$\n",
        "7. $\\mathcal{F}=\\{(1/2,3/2,5/2),(1,1,1),(5/2,3/2,1/2)\\}$\n",
        "8. $\\mathcal{F}=\\{(0,1,-1,2),(3,0,1,1),(-1,-1,0,0)\\}$\n",
        "9. $\\mathcal{F}=\\{(1,-4,0,3),(-2,8,0,-6),(-1,4,0,-3),(3,-12,0,9)\\}$"
      ]
    },
    {
      "cell_type": "code",
      "metadata": {
        "id": "t0gt48T0Vr_2",
        "colab_type": "code",
        "colab": {}
      },
      "source": [
        "# Avec l'aide de Python... par exemple pour la quatrième famille de vecteurs (attention à l'écriture en colonnes !)\n",
        "M = np.matrix([[1,1,-1],[2,0,-2],[-1,1,-3]])\n",
        "print(np.linalg.matrix_rank(M))"
      ],
      "execution_count": 0,
      "outputs": []
    },
    {
      "cell_type": "markdown",
      "metadata": {
        "id": "Rq4T1rbUVsAC",
        "colab_type": "text"
      },
      "source": [
        "**Exercice 2.2:** Déterminer si le vecteur $v$ appartient au sous-espace vectoriel $F$ dans chacun des cas suivants et, si c'est le cas, exprimer $v$ dans une base de $F$ :  \n",
        "\n",
        "1. $v=(0,-1,3)$ et $F=\\textrm{Vect}\\{u_1,u_2\\}$ où $u_1=(2,1,3)$, $u_2=(1,1,0)$.  \n",
        "2. $v=(1,1,1)$ et $F=\\textrm{Vect}\\{u_1,u_2\\}$ où $u_1=(2,1,-1)$, $u_2=(1,-1,1)$.  \n",
        "2. $v=(3,9,-4,-2)$ et $F=\\textrm{Vect}\\{u_1,u_2,u_3\\}$ où $u_1=(1,-2,0,3)$, $u_2=(2,3,0,-1)$ et $u_3=(2,-1,2,1)$"
      ]
    },
    {
      "cell_type": "markdown",
      "metadata": {
        "id": "MsgAcd5TVsAD",
        "colab_type": "text"
      },
      "source": [
        "*Indication :* On rappelle que si $\\{u_1,\\cdots,u_p\\}$ est une famille libre, $$v\\in\\mathrm{Vect}\\{u_1,\\cdots,u_p\\}\\Leftrightarrow \\{v,u_1,\\cdots,u_p\\}\\text{ est une famille liée}$$  "
      ]
    },
    {
      "cell_type": "code",
      "metadata": {
        "id": "gT_dOwV6VsAF",
        "colab_type": "code",
        "colab": {}
      },
      "source": [
        "# exemple pour répondre avec Python à la question 1. de l'exercice 2 :\n",
        "A = np.matrix([[0,2,1],[-1,1,1],[3,3,0]])\n",
        "np.linalg.matrix_rank(A)"
      ],
      "execution_count": 0,
      "outputs": []
    },
    {
      "cell_type": "markdown",
      "metadata": {
        "id": "NTDFJSnlVsAK",
        "colab_type": "text"
      },
      "source": [
        "## 3. Applications linéaires."
      ]
    },
    {
      "cell_type": "markdown",
      "metadata": {
        "id": "5a6gKMF5VsAM",
        "colab_type": "text"
      },
      "source": [
        "**Définition 1 :** Soit $f$ une application de $E_p=\\mathbb{R}^p$ dans $F_n=\\mathbb{R}^n$.  \n",
        "$f$ est une application linéaire si, et seulement si : \n",
        "$$\\forall u,v\\in E_p,\\quad \\forall \\alpha,\\beta\\in\\mathbb{R},\\quad f(\\alpha u+\\beta v)=\\alpha f(u)+\\beta f(v)$$\n",
        "\n",
        "*Note :* Si $E_p=F_n$ alors on dira que $f$ est un endomorphisme de $E_p$ et on notera $f\\in\\mathcal{L}(E_p)$"
      ]
    },
    {
      "cell_type": "markdown",
      "metadata": {
        "id": "VRtqtMxIVsAQ",
        "colab_type": "text"
      },
      "source": [
        "**Définition 2 - Proposition 1 :** Soit $f\\in\\mathcal{L}(E_p,F_n)$.  \n",
        "* $\\textrm{Ker}(f)=\\{u\\in E_p / f(u)=0_F\\}$ ; $\\textrm{Ker}(f)$ est un **SEV de $E_p$**.  \n",
        "* $\\textrm{Im}(f)=\\{v\\in F_n / \\exists u\\in E_p, f(u)=v\\}$ ; $\\textrm{Im}(f)$ est un **SEV de $F_n$**"
      ]
    },
    {
      "cell_type": "markdown",
      "metadata": {
        "id": "fQ_PUSDBVsAS",
        "colab_type": "text"
      },
      "source": [
        "**Proposition 2 :** $f\\in\\mathcal{L}(E_p,F_n)$ est injective ssi $\\mathrm{Ker}(f)=\\{0_E\\}$."
      ]
    },
    {
      "cell_type": "markdown",
      "metadata": {
        "id": "zkZb3yqAVsAU",
        "colab_type": "text"
      },
      "source": [
        "**Proposition 3 :** $f\\in\\mathcal{L}(E_p,F_n)$ est surjective ssi $\\mathrm{Im}(f)=F_n$"
      ]
    },
    {
      "cell_type": "markdown",
      "metadata": {
        "id": "wI7rXPE5VsAW",
        "colab_type": "text"
      },
      "source": [
        "**Proposition 4 :** *Formule du rang* $$\\dim(E_p)=\\dim(\\mathrm{Ker}(f))+\\dim(\\mathrm{Im}(f))=\\dim(\\mathrm{Ker}(f))+\\textrm{rg}(f)$$"
      ]
    },
    {
      "cell_type": "markdown",
      "metadata": {
        "id": "blSAnmCWVsAX",
        "colab_type": "text"
      },
      "source": [
        "**Proposition 5 :** Si $f\\in\\mathcal{L}(E_p)$ avec $\\dim(E_p)$ finie, alors :\n",
        "$$f\\text{ injective }\\Leftrightarrow  f\\text{ surjective }\\Leftrightarrow f\\text{ bijective}$$"
      ]
    },
    {
      "cell_type": "markdown",
      "metadata": {
        "id": "_7eTJ3npVsAZ",
        "colab_type": "text"
      },
      "source": [
        "Toutes ces propositions sont à connaître. Dans la pratique, on demandera le plus souvent de montrer qu'une application est linéaire (il faut vous entraîner sur la base de votre TD de BCPST 1ère année) puis on demandera son noyau, son image et de préciser si elle est bijective ou non.  "
      ]
    },
    {
      "cell_type": "markdown",
      "metadata": {
        "id": "wkSgHlDFVsAd",
        "colab_type": "text"
      },
      "source": [
        "### a) Recherche de noyaux."
      ]
    },
    {
      "cell_type": "markdown",
      "metadata": {
        "id": "1Nn0dRvnVsAf",
        "colab_type": "text"
      },
      "source": [
        "Soit $f\\in\\mathcal{L}(E_p,F_n)$ où $E_p=\\mathbb{R}^p$ et $F_n=\\mathbb{R}^n$.  \n",
        "On écrira : $u=(x_1,x_2,\\cdots,x_p)\\in \\mathrm{Ker}(f)\\Leftrightarrow f(x_1,x_2,\\cdots,x_p)=0_F$ et on s'attachera à résoudre le système."
      ]
    },
    {
      "cell_type": "markdown",
      "metadata": {
        "id": "2TD00FxmVsAg",
        "colab_type": "text"
      },
      "source": [
        "**Exemple 1 :** $f_1$ définie sur $\\mathbb{R}^2$ par $f_1(x,y)=(-x-y,2x+2y)$, $\\forall (x,y)\\in\\mathbb{R}^2$.  \n",
        "$$u=(x,y)\\in\\mathrm{Ker}(f)\\Leftrightarrow f_1(x,y)=(0,0)\\Leftrightarrow \\begin{cases}-x-y&=0\\\\2x+2y&=0\\end{cases}\\Leftrightarrow x+y=0$$\n",
        "*Conclusion 1 :* $\\mathrm{Ker}(f)=\\{(x,y)\\in E_2/x+y=0\\}=\\{(x,-x),x\\in\\mathbb{R}\\}=\\mathrm{Vect}\\{u_1\\}$ où $u_1=(1,-1)$"
      ]
    },
    {
      "cell_type": "markdown",
      "metadata": {
        "id": "vC1EXEqbVsAh",
        "colab_type": "text"
      },
      "source": [
        "**Exemple 2 :** $f_2$ définie sur $\\mathbb{R}^2$ par $f_2(x,y)=(4x+y,x-y,2x+3y)$, $\\forall (x,y)\\in\\mathbb{R}^2$.  \n",
        "$$u=(x,y)\\in\\mathrm{Ker}(f_2)\\Leftrightarrow f_2(x,y)=(0,0)\\Leftrightarrow \\begin{cases}4x+y&=0\\\\x-y&=0\\\\2x+3y&=0\\end{cases}\\Leftrightarrow x=0=y$$\n",
        "*Conclusion 2 :* $\\mathrm{Ker}(f_2)=\\{(x,y)\\in E_2/x=0=y\\}=\\{(0,0)\\}$ ; $f_2$ est **injective**"
      ]
    },
    {
      "cell_type": "markdown",
      "metadata": {
        "collapsed": true,
        "id": "mlsevzNCVsAl",
        "colab_type": "text"
      },
      "source": [
        "**Exercice 3.1 :** Déterminer une base et la dimension du noyau des applications linéaires suivantes. Préciser si ces applications sont *injectives*, *surjectives*, *bijectives*.  \n",
        "1. $f_1$ définie sur $\\mathbb{R}^2$ par $f_3(x,y)=(x-y,x,x+2y)$, $\\forall (x,y)\\in\\mathbb{R}^2$\n",
        "2. $f_2$ définie sur $\\mathbb{R}^3$ par $f_2(x,y,z)=(2x+y,x-z)$, $\\forall (x,y,z)\\in\\mathbb{R}^3$. \n",
        "3. $f_3$ définie sur $\\mathbb{R}^3$ par $f_2(x,y,z)=(x-y,y-z,z-x)$, $\\forall (x,y,z)\\in\\mathbb{R}^3$.  \n",
        "4. $f_4$ définie sur $\\mathbb{R}^3$ par $f_2(x,y,z)=(3y+2z,-x,4y+3z)$, $\\forall (x,y,z)\\in\\mathbb{R}^3$.  \n",
        "5. $f_5$ définie sur $\\mathbb{R}^3$ par $f_2(x,y,z)=(y-z,-y+z,-y+z)$, $\\forall (x,y,z)\\in\\mathbb{R}^3$.  "
      ]
    },
    {
      "cell_type": "markdown",
      "metadata": {
        "id": "hg0CHZE7VsAn",
        "colab_type": "text"
      },
      "source": [
        "### b) Recherche d'image."
      ]
    },
    {
      "cell_type": "markdown",
      "metadata": {
        "id": "nBQOLtjSVsAo",
        "colab_type": "text"
      },
      "source": [
        "Soit $f\\in\\mathcal{L}(E_p,F_n)$ où $E_p=\\mathbb{R}^p$ et $F_n=\\mathbb{R}^n$.  \n",
        "On écrira : $v=(a_1,a_2,\\cdots,a_n)\\in \\mathrm{Im}(f)\\Leftrightarrow \\exists (x_1,x_2,\\cdots,x_p)\\in E_p\\quad/\\quad f(x_1,x_2,\\cdots,x_p)=v\\quad (S)$.  \n",
        "Autrement dit, $v\\in\\mathrm{Im}(f)$ si le système $(S)$ admet au moins une solution ou encore n'est pas \"incompatible\"."
      ]
    },
    {
      "cell_type": "markdown",
      "metadata": {
        "id": "Qg-8kfgTVsAq",
        "colab_type": "text"
      },
      "source": [
        "Reprenons les exemples 1 et 2 du paragraphe précédent consacré à la recherche de noyaux :"
      ]
    },
    {
      "cell_type": "markdown",
      "metadata": {
        "id": "4W7CMHsmVsAr",
        "colab_type": "text"
      },
      "source": [
        "**Exemple 1 :** $f_1$ définie sur $\\mathbb{R}^2$ par $f_1(x,y)=(-x-y,2x+2y)$, $\\forall (x,y)\\in\\mathbb{R}^2$.  \n",
        "On a déjà vu que $\\dim(\\textrm{Ker}(f_1))=1$ donc d'après la formule du rang : $\\dim(\\textrm{Im}(f_1))=2-1=1$.  \n",
        "\n",
        "$f_1$ n'est pas surjective et ça vaut la peine de chercher à déterminer $\\textrm{Im}(f_1)$ !  \n",
        "\n",
        "$$v=(a,b)\\in\\mathrm{Im}(f_1)\\Leftrightarrow \\exists (x,y)\\in\\mathbb{R}^2/f_1(x,y)=(a,b)\\Leftrightarrow\\exists(x,y)\\in\\mathbb{R}^2/ \\begin{cases}-x-y&=a\\\\2x+2y&=b\\end{cases}\\quad (S)$$\n",
        "$$(S)\\Leftrightarrow \\begin{cases}-x-y&=a\\\\0&=b+2a\\end{cases}\\quad L_2\\leftarrow L_2+2L_1$$\n",
        "\n",
        "C'est fini ! Les vecteurs $(a,b)$ de $\\textrm{Im}(f_1)$ sont les vecteurs de $\\mathbb{R}^2$ pour lesquels $2a+b=0$.  \n",
        "\n",
        "*Conclusion :* $\\textrm{Im}(f_1)=\\{(a,b)\\in\\mathbb{R}^2/2a+b=0\\}=\\{(a,-2a),a\\in\\mathbb{R}\\}=\\{a(1,2),a\\in\\mathbb{R}\\}$ ; On retrouve $\\dim(\\textrm{Im}(f_1))=1$"
      ]
    },
    {
      "cell_type": "markdown",
      "metadata": {
        "id": "IIUSCsv6VsAt",
        "colab_type": "text"
      },
      "source": [
        "**Exemple 2 :** $f_2$ définie sur $\\mathbb{R}^2$ par $f_2(x,y)=(4x+y,x-y,2x+3y)$, $\\forall (x,y)\\in\\mathbb{R}^2$.  \n",
        "On a vu que $\\dim(\\textrm{Ker}(f_2))=0$ donc, d'après la formule du rang : $\\dim(\\textrm{Im}(f_2))=2-0=2\\neq \\dim(\\mathbb{R}^3)$.  \n",
        "\n",
        "$f_2$ n'est donc pas surjective ; ça vaut encore la peine de chercher à déterminer $\\textrm{Im}(f_2)$ !  \n",
        "\n",
        "$$v=(a,b,c)\\in\\mathrm{Im}(f_2)\\Leftrightarrow \\exists (x,y)\\in\\mathbb{R}^2/f_1(x,y)=(a,b,c)\\Leftrightarrow\\exists(x,y)\\in\\mathbb{R}^2/ \\begin{cases}4x+y&=a\\\\x-y&=b\\\\2x+3y&=c\\end{cases}\\quad (S)$$\n",
        "Résolvons ce système par la méthode du pivot de gauss en échangeant $L_1$ et $L_2$ puis en faisant : $L_2\\leftarrow L_2-4L_1$, $L_3\\leftarrow L_3-2L_1$ :  \n",
        "\n",
        "$$(S)\\Leftrightarrow \\begin{cases}x-y&=b\\\\4x+y&=a\\\\2x+3y&=c\\end{cases}\\Leftrightarrow \\begin{cases}x-y&=b\\\\5y&=a-4b\\\\5y&=c-2b\\end{cases}\\Leftrightarrow \\begin{cases}x-y&=b\\\\5y&=a-4b\\\\0&=a-2b-c\\end{cases}\\quad L_3\\leftarrow L_3-L_2$$\n",
        "\n",
        "C'est fini ! Les vecteurs $(a,b,c)$ de $\\textrm{Im}(f_2)$ sont les vecteurs de $\\mathbb{R}^3$ pour lesquels $a-2b-c=0$.  \n",
        "\n",
        "*Conclusion :* $\\textrm{Im}(f_2)=\\{(a,b,c)\\in\\mathbb{R}^3/a=2b+c\\}=\\{(2b+c,b,c),b,c\\in\\mathbb{R}\\}=\\{b(2,1,0)+c(1,0,1),b,c\\in\\mathbb{R}\\}$  \n",
        "Les vecteurs $(2,1,0)$ et $(1,0,1)$ étant linéairement indépendants, une base de $\\textrm{Im}(f_2)$ est $\\mathcal{B}_2=(u_1,u_2)$ où $u_1=(2,1,0)$ et $u_2=(1,0,1)$.  "
      ]
    },
    {
      "cell_type": "markdown",
      "metadata": {
        "collapsed": true,
        "id": "1kclLWT4VsAu",
        "colab_type": "text"
      },
      "source": [
        "**Exercice 3.2 :** Reprenons les applications linéaires de l'exercice 3.1 mais déterminer cette fois une base et la dimension de l'image de ces applications.  \n",
        "1. $f_1$ définie sur $\\mathbb{R}^2$ par $f_3(x,y)=(x-y,x,x+2y)$, $\\forall (x,y)\\in\\mathbb{R}^2$\n",
        "2. $f_2$ définie sur $\\mathbb{R}^3$ par $f_2(x,y,z)=(2x+y,x-z)$, $\\forall (x,y,z)\\in\\mathbb{R}^3$. \n",
        "3. $f_3$ définie sur $\\mathbb{R}^3$ par $f_2(x,y,z)=(x-y,y-z,z-x)$, $\\forall (x,y,z)\\in\\mathbb{R}^3$.  \n",
        "4. $f_4$ définie sur $\\mathbb{R}^3$ par $f_2(x,y,z)=(3y+2z,-x,4y+3z)$, $\\forall (x,y,z)\\in\\mathbb{R}^3$.  \n",
        "5. $f_5$ définie sur $\\mathbb{R}^3$ par $f_2(x,y,z)=(y-z,-y+z,-y+z)$, $\\forall (x,y,z)\\in\\mathbb{R}^3$. "
      ]
    },
    {
      "cell_type": "markdown",
      "metadata": {
        "id": "H8gdORDFVsAw",
        "colab_type": "text"
      },
      "source": [
        "### c) Matrice d'une application linéaire."
      ]
    },
    {
      "cell_type": "markdown",
      "metadata": {
        "id": "4b7XmJOpVsAx",
        "colab_type": "text"
      },
      "source": [
        "Soit $f\\in\\mathcal{L}(E_p,F_n)$ où $E_p=\\mathbb{R}^p$ et $F_n=\\mathbb{R}^n$.  \n",
        "On note $\\mathcal{B}_E=(e_1,\\cdots,e_p)$ et $\\mathcal{B}_F=(c_1,\\cdots,c_n)$ deux bases respectivement de $E_p$ et de $F_n$.  \n",
        "\n",
        "On explicite la famille de vecteurs $$f(\\mathcal{B}_E)=\\{f(e_1),f(e_2),\\cdots,f(e_p)\\}$$\n",
        "dans la base $\\mathcal{B}_F$.  \n",
        "\n",
        "Pour obtenir la matrice de $f$ dans les bases $\\mathcal{B}_E$ et $\\mathcal{B}_F$, notée $\\mathcal{M}_{\\mathcal{B}_E,\\mathcal{B}_F}(f)$ il suffit alors d'écrire la matrice des coordonnées de cette famille dans la base $\\mathcal{B}_F$."
      ]
    },
    {
      "cell_type": "markdown",
      "metadata": {
        "id": "qFovAJD4VsAz",
        "colab_type": "text"
      },
      "source": [
        "**Exemple 1 :** $f_1$ définie sur $\\mathbb{R}^2$ par $f_1(x,y)=(-x-y,2x+2y)$, $\\forall (x,y)\\in\\mathbb{R}^2$.  \n",
        "$f_1$ est un endomorphisme de $\\mathbb{R}^2$ et on peut prendre $\\mathcal{B}_E=\\mathcal{B}=\\mathcal{B_F}$, base canonique de $\\mathbb{R}^2$.  \n",
        "\n",
        "$$f_1(\\mathcal{B})=\\{f_1(e_1),f_1(e_2)\\}=\\{(-1,2),(-1,2)\\}$$\n",
        "Alors : $$A_1=\\mathcal{M}_{\\mathcal{B}}(f_1)=\\begin{pmatrix}-1&-1\\\\2&2\\end{pmatrix}$$"
      ]
    },
    {
      "cell_type": "markdown",
      "metadata": {
        "id": "o2Bkz2d5VsA1",
        "colab_type": "text"
      },
      "source": [
        "**Exemple 2 :** $f_2$ définie sur $\\mathbb{R}^2$ par $f_2(x,y)=(4x+y,x-y,2x+3y)$, $\\forall (x,y)\\in\\mathbb{R}^2$.  \n",
        "Notons $\\mathcal{B_2}$ la base canonique de $\\mathbb{R}^2$ et $\\mathcal{B}_3$ la base canonique de $\\mathbb{R}^3$ et déterminons $A_2=\\mathcal{M}_{\\mathcal{B}_2,\\mathcal{B}_3}(f_2)$ :\n",
        "\n",
        "$$f_2(\\mathcal{B}_2)=\\{f_2(e_1),f_2(e_2)\\}=\\{(4,1,2),(1,-1,3)\\}$$\n",
        "Alors : \n",
        "$$A_2=\\mathcal{M}_{\\mathcal{B}_2,\\mathcal{B}_3}(f_2)=\\begin{pmatrix}4&1\\\\1&-1\\\\2&3\\end{pmatrix}$$"
      ]
    },
    {
      "cell_type": "markdown",
      "metadata": {
        "id": "cz2QG-5wVsA2",
        "colab_type": "text"
      },
      "source": [
        "**Proposition 1 :** Si $A=\\mathcal{M}_{\\mathcal{B}_E,\\mathcal{B}_F}(f)$, alors $$\\textrm{rg}(A)=\\textrm{rg}(f)=\\dim(\\textrm{Im}(f))$$"
      ]
    },
    {
      "cell_type": "markdown",
      "metadata": {
        "id": "axND_tvHVsA5",
        "colab_type": "text"
      },
      "source": [
        "**Corollaire :** Si $f$ est un endomorphisme de $E_n$ et $A=\\mathcal{M}_{\\mathcal{B}_E}(f)$, alors :\n",
        "\n",
        "$$f\\text{ bijective}\\Leftrightarrow \\textrm{rg}(f)=\\textrm{rg}(A) = n \\Leftrightarrow A\\text{ inversible }$$"
      ]
    },
    {
      "cell_type": "markdown",
      "metadata": {
        "id": "ArReIRPVVsA6",
        "colab_type": "text"
      },
      "source": [
        "**Exercice 3.3 :** Ecrire, dans les bases canoniques des espaces vectoriels de départ et d'arrivée, la matrices des applications linéaires définies dans l'exercice 3.1 et que nous rappelons ci-dessous :  \n",
        "1. $f_1$ définie sur $\\mathbb{R}^2$ par $f_3(x,y)=(x-y,x,x+2y)$, $\\forall (x,y)\\in\\mathbb{R}^2$\n",
        "2. $f_2$ définie sur $\\mathbb{R}^3$ par $f_2(x,y,z)=(2x+y,x-z)$, $\\forall (x,y,z)\\in\\mathbb{R}^3$. \n",
        "3. $f_3$ définie sur $\\mathbb{R}^3$ par $f_2(x,y,z)=(x-y,y-z,z-x)$, $\\forall (x,y,z)\\in\\mathbb{R}^3$.  \n",
        "4. $f_4$ définie sur $\\mathbb{R}^3$ par $f_2(x,y,z)=(3y+2z,-x,4y+3z)$, $\\forall (x,y,z)\\in\\mathbb{R}^3$.  \n",
        "5. $f_5$ définie sur $\\mathbb{R}^3$ par $f_2(x,y,z)=(y-z,-y+z,-y+z)$, $\\forall (x,y,z)\\in\\mathbb{R}^3$.\n",
        "\n",
        "**Remarque :** On précisera dans chaque cas le rang des matrices, les éventuelles matrices inversibles, et on fera le lien avec la dimension du noyau et de l'image."
      ]
    },
    {
      "cell_type": "markdown",
      "metadata": {
        "id": "oSrEkoO7VsA7",
        "colab_type": "text"
      },
      "source": [
        "## 4. Corrections"
      ]
    },
    {
      "cell_type": "markdown",
      "metadata": {
        "id": "ol0MH68QVsA9",
        "colab_type": "text"
      },
      "source": [
        "**Réponses pour l'exercice 2.1 :**  \n",
        ">1. *Liée* car $u_1$ et $u_2$ sont colinéaires.  $\\dim(F)=2$ et même $F=\\mathbb{R}^2$.  \n",
        ">2. *Libre* car un seul vecteur non nul. $\\dim(F)=1$ (droite vectorielle de $\\mathbb{R}^2$.  \n",
        ">3. *Liée* car trois vecteurs dans un espace vectoriel de dimension $2$. $\\dim(F)=2$ (plan vectoriel de $\\mathbb{R}^3$).  \n",
        ">4. *Libre* car le rang de la famille vaut $3=\\dim(F)$. $F=\\mathbb{R}^3$.    \n",
        ">5. *Liée* car le rang de la famille vaut $2$. Vérifier que $u_2$ s'exprime facilement en fonction de $u_1$ et $u_3$. $\\dim(F)=2$ (plan vectoriel de $\\mathbb{R}^3$).\n",
        ">6. *Liée* car quatre vecteurs dans un espace vectoriel de dimension $3$.  $\\dim(F)=3$. On a donc $F=\\mathbb{R}^3$.  \n",
        ">7. *Liée* car le rang de la famille vaut $2$ (on note que $u_1+u_3=3u_2$).  $\\dim(F)=2$ (plan vectoriel).\n",
        ">8. *Libre* car le rang de cette famille vaut $3$. $\\dim(F)=3)$ (on parle d'hyperplan de $\\mathbb{R}^3$).    \n",
        ">9. *Liée* car le rang de cette famille vaut $1$. $\\dim(F)=1$ (droite vectorielle de $\\mathbb{R}^4$)."
      ]
    },
    {
      "cell_type": "markdown",
      "metadata": {
        "id": "I-ToWEraVsA_",
        "colab_type": "text"
      },
      "source": [
        "**Réponse Exercice 2.2 :**  \n",
        "> 1. $\\{u_1,u_2\\}$ est une famille libre de $F$ (vecteurs non colinéaires) donc $\\mathcal{B}=(u_1,u_2)$ est une base de $F$.  \n",
        "Par ailleurs $\\textrm{rg}\\{v,u_1,u_2\\}=2$ donc $v\\in F$.  \n",
        "On en déduit que : $\\exists !(a,b)\\in\\mathbb{R}^2/v=au_1+bu_2$.  \n",
        "Par identification qui donne lieu à un système de 2 équations à 2 inconnues, on obtient immédiatement $a=1,b=-2$ soit : $$v=u_1-2u_2=(1,-2)_{\\mathcal{B}}$$\n",
        ">  \n",
        ">2. $\\{u_1,u_2\\}$ est une famille libre de $F$ (vecteurs non colinéaires) donc $\\mathcal{B}=(u_1,u_2)$ est une base de $F$.  \n",
        "Par ailleurs $\\textrm{rg}\\{v,u_1,u_2\\}=3$ donc $v\\notin F$.  \n",
        ">  \n",
        "> 3. $\\{u_1,u_2,u_3\\}$ est une famille libre de $F$ (car $\\textrm{rg}\\{u_1,u_2,u_3\\}=3$) donc $\\mathcal{B}=(u_1,u_2,u_3)$ est une base de $F$.  \n",
        "Par ailleurs $\\textrm{rg}\\{v,u_1,u_2,u_3\\}=3$ donc $v\\in F$.  \n",
        "On en déduit que : $\\exists !(a,b,c)\\in\\mathbb{R}^3/v=au_1+bu_2+cu_3$.  \n",
        "Par identification qui donne lieu à un système de 3 équations à 3 inconnues, on obtient immédiatement $a=1,c=3,c=-2$ soit : $$v=u_1+3u_2-2u_3=(1,3,-2)_{\\mathcal{B}}$$"
      ]
    },
    {
      "cell_type": "markdown",
      "metadata": {
        "id": "MHjKBm_iVsBB",
        "colab_type": "text"
      },
      "source": [
        "**Réponse Exercice 3.1 :** \n",
        "> 1. $\\textrm{Ker}(f_1)=\\{(x,y)\\in\\mathbb{R}^2/x=0=y\\}=\\{0_{\\mathbb{R}^2}\\}$.  \n",
        "$f_1$ injective et **non** surjective car d'après la formule du rang : $\\dim(\\textrm{Im}(f_1))=2-0=2\\neq 3$ donc $\\textrm{Im}(f_1)\\neq \\mathbb{R}^3$  \n",
        "> 2. $\\textrm{Ker}(f_2)=\\{(x,y,z)\\in\\mathbb{R}^3/y=-2x\\text{ et }z=x\\}=\\{(x,-2x,x),x\\in\\mathbb{R}\\}=\\{x(1,-2,1),x\\in\\mathbb{R}\\}$.  \n",
        "$\\textrm{Ker}(f_2)$ a pour base $\\mathcal{B}_2=(u_1)$ où $u_1=(1,-2,1)$ ; $\\dim(\\textrm{Ker}(f_2))=1$.  \n",
        "$f_1$ est **non** injective et surjective car d'après la formule du rang : $$\\dim(\\textrm{Im}(f_2))=3-1=2=\\dim(\\mathbb{R}^2)$$ et comme $\\textrm{Im}(f_1)\\subset \\mathbb{R}^2$, on a : $\\textrm{Im}(f_1)= \\mathbb{R}^2$.  \n",
        "> 3. $\\textrm{Ker}(f_3)=\\{(x,y,z)\\in\\mathbb{R}^3/x=y=z\\}=\\{(x,x,x),x\\in\\mathbb{R}\\}=\\{x(1,1,1),x\\in\\mathbb{R}\\}$.  \n",
        "$\\textrm{Ker}(f_3)$ a pour base $\\mathcal{B}_3=(u_1)$ où $u_1=(1,1,1)$ ; $\\dim(\\textrm{Ker}(f_3))=1$.  \n",
        "$f_3$ est **non** injective et **non** surjective car $f_3$ est un endomorphisme de $\\mathbb{R^3}$ et non injective équivaut à non surjective.  \n",
        "> 4. $\\textrm{Ker}(f_4)=\\{(x,y,z)\\in\\mathbb{R}^3/x=y=z=0\\}=\\{0_{\\mathbb{R}^3}\\}$.  \n",
        "$f_4$ est injective **et** surjective car $f_4$ est un endomorphisme de $\\mathbb{R}^3$.    \n",
        "> 5. $\\textrm{Ker}(f_5)=\\{(x,y,z)\\in\\mathbb{R}^3/y=z\\}=\\{(x,y,y),x,y\\in\\mathbb{R}\\}=\\{x(1,0,0)+y(0,1,1),x,y\\in\\mathbb{R}\\}$.  \n",
        "$\\textrm{Ker}(f_5)$ a pour base $\\mathcal{B}_5=(u_1,u_2)$ où $u_1=(1,0,0)$, $u_2=(0,1,1)$ ; $\\dim(\\textrm{Ker}(f_5))=2$.  \n",
        "$f_5$ est **non** injective et **non** surjective car $f_5$ est un endomorphisme de $\\mathbb{R^3}$.  "
      ]
    },
    {
      "cell_type": "markdown",
      "metadata": {
        "id": "IV1NiqBKVsBC",
        "colab_type": "text"
      },
      "source": [
        "**Réponse exercice 3.2 :** \n",
        "> * $f_1$ est non surjective et $\\dim(\\textrm{Im}(f_1))=2$ d'après l'ex. 3.1.  \n",
        "$$(a,b,c)\\in\\textrm{Im}(f_1)\\Leftrightarrow \\exists (x,y)\\in\\mathbb{R}^2/\\begin{cases}x-y&=a\\\\x&=b\\\\x+2y&=c\\end{cases}\\Leftrightarrow \\exists (x,y)\\in\\mathbb{R}^2/\\begin{cases}y&=b-a\\\\x&=b\\\\x+2y&=3b-2a=c\\end{cases}$$\n",
        "*Conlusion 1 :* $\\textrm{Im}(f_1)=\\{(a,b,c)\\in\\mathbb{R}^3/2a-3b+c=0\\}=\\{(a,b,-2a+3b),a,b\\in\\mathbb{R}\\}=\\textrm{Vect}\\{(1,0,-2),(0,1,3)\\}$.  \n",
        "$\\textrm{Im}(f_1)$ a pour base $\\mathcal{B'}_1=(v_1,v_2)$ où $v_1=(1,0,-2)$ et $v_2=(0,1,3)$ car ces vecteurs sont non colinéaires.\n",
        "\n",
        "\n",
        "> * $f_2$ est surjective d'après l'exercice 3.1 donc $\\textrm{Im}(f_2)=\\mathbb{R^2}$.  \n",
        "On peut choisir la base canonique de $\\mathbb{R}^2$ comme base de $\\textrm{Im}(f_2)$.\n",
        "\n",
        "\n",
        "> * $f_3$ est non surjective et $\\dim(\\textrm{Im}(f_3))=2$ d'après l'ex. 3.1.  \n",
        "$$(a,b,c)\\in\\textrm{Im}(f_3)\\Leftrightarrow \\exists (x,y,z)\\in\\mathbb{R}^3/\\begin{cases}x-y&=a\\\\y-z&=b\\\\z-x&=c\\end{cases}\\Leftrightarrow \\exists (x,y,z)\\in\\mathbb{R}^3/\\begin{cases}x-y&=a\\\\x-z&=a+b\\\\z-x&=c\\end{cases}\\Leftrightarrow\\\\ \\Leftrightarrow\\exists (x,y,z)\\in\\mathbb{R}^3/\\begin{cases}x-y&=a\\\\x-z&=a+b\\\\0&=a+b+c\\end{cases}$$\n",
        "*Conlusion 3 :* $\\textrm{Im}(f_3)=\\{(a,b,c)\\in\\mathbb{R}^3/a+b+c=0\\}=\\{(a,b,-a-b),a,b\\in\\mathbb{R}\\}=\\textrm{Vect}\\{(1,0,-1),(0,1,-1)\\}$.  \n",
        "$\\textrm{Im}(f_3)$ a pour base $\\mathcal{B'}_3=(v_1,v_2)$ où $v_1=(1,0,-1)$ et $v_2=(0,1,-1)$ car ces vecteurs sont non colinéaires.\n",
        "\n",
        "\n",
        "> * $f_4$ est surjective d'après l'exercice 3.1 donc $\\textrm{Im}(f_4)=\\mathbb{R^3}$.  \n",
        "On peut donc choisir la base canonique de $\\mathbb{R}^3$ comme base de $\\textrm{Im}(f_3)$.\n",
        "\n",
        "\n",
        "> * $f_5$ est non surjective et $\\dim(\\textrm{Im}(f_5))=1$ d'après l'ex. 3.1.  \n",
        "$$(a,b,c)\\in\\textrm{Im}(f_5)\\Leftrightarrow \\exists (x,y,z)\\in\\mathbb{R}^3/\\begin{cases}y-z&=a\\\\-y+z&=b\\\\-y+z&=c\\end{cases}\\Leftrightarrow \\exists (x,y,z)\\in\\mathbb{R}^3/\\begin{cases}y-z&=a\\\\0&=a+b\\\\0&=a+c\\end{cases}$$\n",
        "*Conlusion 5 :* $\\textrm{Im}(f_5)=\\{(a,b,c)\\in\\mathbb{R}^3/a+b=0\\text{ et }a+c=0\\}=\\{(a,-a,-a),a\\in\\mathbb{R}\\}=\\textrm{Vect}\\{(1,-1,-1)\\}$.  \n",
        "$\\textrm{Im}(f_5)$ a pour base $\\mathcal{B'}_5=(v_1)$ où $v_1=(1,-1,-1)$."
      ]
    },
    {
      "cell_type": "markdown",
      "metadata": {
        "id": "_GQFdF59VsBE",
        "colab_type": "text"
      },
      "source": [
        "**Réponse exercice 3.3 :**  \n",
        ">1. $A_1=\\begin{pmatrix}1&-1\\\\1&0\\\\1&2\\end{pmatrix}$.  \n",
        ">>$\\textrm{rg}(A)=2=\\dim(\\textrm{Im}(f_1))$ donc, d'après la formule du rang : $\\dim(\\textrm{Ker}(f_1))=2-2=0$.  \n",
        "Il découle immédiatement que $f_1$ est non surjective ($\\textrm{Im}(f_1)\\neq\\mathbb{R}^3$) et injective ($\\textrm{Ker}(f_1)=\\{0_{\\mathbb{R}^3}\\}$).  \n",
        ">2. $A_2=\\begin{pmatrix}2&1&0\\\\1&0&-1\\end{pmatrix}$.  \n",
        ">>$\\textrm{rg}(A_2)=2=\\dim(\\textrm{Im}(f_2))$ donc, d'après la formule du rang : $\\dim(\\textrm{Ker}(f_2))=3-2=1$.  \n",
        "Il découle immédiatement que $f_2$ est surjective ($\\textrm{Im}(f_2)=\\mathbb{R}^2$) et non injective ($\\textrm{Ker}(f_2)\\neq\\{0_{\\mathbb{R}^3}\\}$).\n",
        ">3. $A_3=\\begin{pmatrix}1&-1&0\\\\0&1&-1\\\\-1&0&1\\end{pmatrix}$.  \n",
        ">>$\\textrm{rg}(A_3)=2=\\dim(\\textrm{Im}(f_3))$ donc, d'après la formule du rang : $\\dim(\\textrm{Ker}(f_3))=3-2=1$.  \n",
        "*Remarque :* Notez en passant que la somme des colonnes de $A_3$ vaut $0$. Autrement dit :\n",
        "$$f_3(e_1)+f_3(e_2)+f_3(e_3)=f_3(e_1+e_2+e_3)=0$$\n",
        "D'où $e_1+e_2+e_3\\in\\textrm{Ker}(f_3)$ et donc $\\textrm{Ker}(f_3)$ qui est de dimension $1$ a pour base $(u_1)$ où $u_1=(1,1,1)$.  \n",
        "Il découle par ailleurs immédiatement que $f_3$ est non surjective ($\\textrm{Im}(f_3)\\neq\\mathbb{R}^3$) et non injective ($\\textrm{Ker}(f_3)\\neq\\{0_{\\mathbb{R}^3}\\}$).  \n",
        ">4. $A_4=\\begin{pmatrix}0&3&2\\\\-1&0&0\\\\0&4&3\\end{pmatrix}$.  \n",
        ">>$\\textrm{rg}(A_3)=3=\\dim(\\textrm{Im}(f_3))$ donc $A_4$ est inversible.  \n",
        "Il découle immédiatement que $f_4$ est bijective et donc surjective et injective.  \n",
        ">5. $A_5=\\begin{pmatrix}0&1&-1\\\\0&-1&1\\\\0&-1&1\\end{pmatrix}$.  \n",
        ">>$\\textrm{rg}(A_5)=1=\\dim(\\textrm{Im}(f_5))$ donc, d'après la formule du rang : $\\dim(\\textrm{Ker}(f_5))=3-1=2$.  \n",
        "Il découle immédiatement que $f_3$ est non surjective ($\\textrm{Im}(f_5)\\neq\\mathbb{R}^3$) et non injective ($\\textrm{Ker}(f_3)\\neq\\{0_{\\mathbb{R}^3}\\}$).  \n",
        "*Remarque :* Il est aisé de trouver une base de l'image si on rappelle que, si $\\mathcal{B}_3=(e_1,e_2,e_3)$ désigne la base canonique de $\\mathbb{R}^3$, alors :\n",
        "$$f_5(\\mathcal{B}_3)=(f(e_1),f(e_2),f(e_3))=(0_{\\mathbb{R}^3},(1,-1,-1),(-1,1,1))$$ est une famille génératrice de $\\textrm{Im}(f_5)$  \n",
        "Sachant que $\\dim(\\textrm{Im}(f_5))=1$ on déduit immédiatement qu'une base de $\\textrm{Im}(f_5)$ est $\\mathcal{B'}_5=(v_1)$ où $v_1=(1,-1,-1)$. On retrouve le résultat de l'exercice 3.2..."
      ]
    }
  ]
}
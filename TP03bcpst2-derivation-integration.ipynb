{
 "cells": [
  {
   "cell_type": "markdown",
   "metadata": {},
   "source": [
    "# TP03 - Dérivation & intégration"
   ]
  },
  {
   "cell_type": "markdown",
   "metadata": {},
   "source": [
    "Il s'agit dans ce TP de rappeler les différentes méthodes permettant d'obtenir des approximations numériques de la dérivée en un point et de l'intégrale d'une fonction $f$ entre $a$ et $b$ d'une fonction continue sur $[a,b]$."
   ]
  },
  {
   "cell_type": "markdown",
   "metadata": {},
   "source": [
    "## Importation préalable des outils Python nécessaires :"
   ]
  },
  {
   "cell_type": "code",
   "execution_count": null,
   "metadata": {
    "collapsed": true
   },
   "outputs": [],
   "source": [
    "import numpy as np\n",
    "%matplotlib inline\n",
    "import matplotlib.pyplot as plt"
   ]
  },
  {
   "cell_type": "markdown",
   "metadata": {
    "collapsed": true
   },
   "source": [
    "## I. Dérivation."
   ]
  },
  {
   "cell_type": "markdown",
   "metadata": {},
   "source": [
    "Soit $a\\in I$ où $I$ est un intervalle de $\\mathbb{R}$ et $f:I\\rightarrow \\mathbb{R}$ supposée de classe $\\mathcal{C}^2$ sur $I$.\n",
    "\n",
    "On retiendra trois méthodes pour évaluer la dérivée de $f$ en $a$ :  \n",
    "\n",
    "- Tabuler les valeurs de $\\cfrac{f(a+h)-f(a)}{h}$ pour différentes valeurs de $h$. \n",
    "- Tabuler les valeurs de $\\cfrac{f(a)-f(a-h)}{h}$ pour différentes valeurs de $h$.\n",
    "- Tabuler les valeurs de $\\cfrac{f(a+h)-f(a-h)}{2*h}$ pour différentes valeurs de $h$.\n",
    "\n",
    "Pour chacune de ces méthodes, on s'attend à ce que, plus la valeur de $h$ est proche de $0$, plus l'approximation de la dérivée soit précise.  "
   ]
  },
  {
   "cell_type": "markdown",
   "metadata": {},
   "source": [
    "**Exercice I.1 :** On considère une fonction $f$ dérivable sur un intervalle $I=[x_1,x_2]$ et $a\\in I$.  \n",
    "\n",
    "*Question 1 :* Écrire trois fonctions `derivee1`, `derivee2` et `derivee3` dont les variables d'entrée sont `f`, `a` et `h` et qui retournent chacune une valeur approchée de la dérivée de $f$ en $a$ selon les trois formules proposées ci-dessus."
   ]
  },
  {
   "cell_type": "code",
   "execution_count": null,
   "metadata": {
    "collapsed": true
   },
   "outputs": [],
   "source": [
    "def deriv1(f,a,h):\n",
    "    # h est le pas de discretisation, suffisamment petit.\n",
    "    return ..."
   ]
  },
  {
   "cell_type": "code",
   "execution_count": null,
   "metadata": {
    "collapsed": true
   },
   "outputs": [],
   "source": [
    "def deriv2(f,a,h):\n",
    "    # h est le pas de discretisation, suffisamment petit.\n",
    "    return ..."
   ]
  },
  {
   "cell_type": "code",
   "execution_count": null,
   "metadata": {
    "collapsed": true
   },
   "outputs": [],
   "source": [
    "def deriv3(f,a,h):\n",
    "    # h est le pas de discretisation, suffisamment petit.\n",
    "    return ..."
   ]
  },
  {
   "cell_type": "markdown",
   "metadata": {},
   "source": [
    "*Question 2 :* Écrire une fonction `graphe1(f,x1,x2)` et `graphe2(f,fpr,x1,x2,h)` qui, dans deux fenêtres distinctes, trace sur l'intervalle $[x1,x2]$ respectivement la courbe de $f$ et, dans la seconde fenêtre, les courbes de $f'$ (notée `fpr`) ainsi que celles obtenues grâce à `derivee1` et `derivee3`, avec un pas de $h$. Commenter."
   ]
  },
  {
   "cell_type": "code",
   "execution_count": null,
   "metadata": {
    "collapsed": true
   },
   "outputs": [],
   "source": [
    "def graphe1(f,x1,x2):\n",
    "    ...\n",
    "    ..."
   ]
  },
  {
   "cell_type": "code",
   "execution_count": null,
   "metadata": {
    "collapsed": true
   },
   "outputs": [],
   "source": [
    "f1 = lambda x:x**4\n",
    "graphe1(f1,-2,2)"
   ]
  },
  {
   "cell_type": "code",
   "execution_count": null,
   "metadata": {
    "collapsed": true
   },
   "outputs": [],
   "source": [
    "def graphe2(f,fpr,x1,x2,h):\n",
    "    # subdivision uniforme de l'intervalle [x1,x2]\n",
    "    x = ... # subdivision uniforme de l'intervalle [x1,x2] avec x_k=x1+(k-1)*h\n",
    "    # on peut aussi écrire : nbPas = int((x2-x1)/h) et x=np.linspace(x1,x2,nbPas+1)\n",
    "    ypr1 = deriv1(f,x,h) # estimation de la dérivée en chaque xk de la subdivision\n",
    "    ypr3 = deriv3(f,x,h)\n",
    "    plt.plot(x,fpr(x),'k-',label = 'derivée exacte')\n",
    "    plt.plot(x,ypr1,'g-.',label='approximation 1')\n",
    "    plt.plot(x,ypr3,'r-.',label = 'approximation3')\n",
    "    plt.legend(loc='best')"
   ]
  },
  {
   "cell_type": "code",
   "execution_count": null,
   "metadata": {
    "collapsed": true
   },
   "outputs": [],
   "source": [
    "fpr1 = ...\n",
    "graphe2(f1,fpr1,0,2,0.1)"
   ]
  },
  {
   "cell_type": "markdown",
   "metadata": {},
   "source": [
    "*Question 3 :* Définir les fonctions dérivables de votre choix (fonctions puissance, ln, exp, sin, cos, etc) et testez la fonction `graphe1()` précédente sur un intervalle $[x_1,x_2]$ qu'on précisera."
   ]
  },
  {
   "cell_type": "code",
   "execution_count": null,
   "metadata": {
    "collapsed": true
   },
   "outputs": [],
   "source": [
    "# Exemple à modifier à volonté...!\n",
    "f = lambda x:np.cos(x**2)\n",
    "fpr = lambda x:-2*x*np.sin(x**2)\n",
    "graphe2(f,fpr,0,1*np.pi,0.01)"
   ]
  },
  {
   "cell_type": "markdown",
   "metadata": {},
   "source": [
    "**Exercice I.2 :** Soit $f$ la fonction définie sur $\\mathbb{R}$ par : $f(x)=x^4$. Calculons sa dérivée numériquement en $a=1$ dont nous savons qu'elle vaut $4$.  \n",
    "*Question 1 :* Approcher $f'(1)$ par `derivee1(f,a,h)` et `derivee3(f,a,h)` et écrire une fonction Python qui retourne sous forme de liste l'erreur commise selon la méthode choisie de \n",
    "\n",
    "$$ \\left|4-derivee(f,a,h) \\right|=|E(h)|\\text{ pour }h=10^{-p}\\text{ ou }p\\in \\{1,...,16\\}$$ Qu'observez-vous ?"
   ]
  },
  {
   "cell_type": "code",
   "execution_count": null,
   "metadata": {
    "collapsed": true
   },
   "outputs": [],
   "source": [
    "def precision_deriv(f,pas):\n",
    "    #Approximation d'ordre 1\n",
    "    a = 1 # f'(a)=4\n",
    "    Eh1 = ...\n",
    "    Eh3 = ...\n",
    "    return Eh1,Eh3"
   ]
  },
  {
   "cell_type": "code",
   "execution_count": null,
   "metadata": {
    "collapsed": true
   },
   "outputs": [],
   "source": [
    "pas = [10**(-p) for p in range(1,17)]\n",
    "Eh1,Eh3 = precision_deriv(f1,pas)\n",
    "print(\"L'erreur commise par la méthode 1 = \",Eh1,\"\\n L'erreur commise par la méthode 3 vaut \",Eh3)"
   ]
  },
  {
   "cell_type": "markdown",
   "metadata": {},
   "source": [
    "*Question 2 :* Utiliser les logarithmes décimaux pour retourner une représentation graphique de $|E(h)|$ en fonction de $h$. Pour quelle valeur de $h$ l'approximation est-elle la meilleure ?"
   ]
  },
  {
   "cell_type": "code",
   "execution_count": null,
   "metadata": {
    "collapsed": true
   },
   "outputs": [],
   "source": [
    "def graphe_erreur():\n",
    "    pas = [10**(-p) for p in range(1,17)]\n",
    "    Eh1,Eh3 = precision_deriv(f1,pas)\n",
    "    plt.figure()\n",
    "    plt.plot(...)\n",
    "    plt.title(\"différence finie progressive\")\n",
    "    plt.grid() \n",
    "    plt.figure()\n",
    "    plt.plot(...)\n",
    "    plt.title(\"différence finie centrée\")\n",
    "    plt.grid()"
   ]
  },
  {
   "cell_type": "code",
   "execution_count": null,
   "metadata": {
    "collapsed": true
   },
   "outputs": [],
   "source": [
    "graphe_erreur()"
   ]
  },
  {
   "cell_type": "markdown",
   "metadata": {},
   "source": [
    "## Application : Recherche de zéros par méthode de Newton"
   ]
  },
  {
   "cell_type": "markdown",
   "metadata": {},
   "source": [
    "Il est souvent nécessaire de rechercher les solutions d'une équation de la forme $f(x)=0$ où $f$ est une fonction à valeurs réelles. On a vu que la méthode par dichotomie ou l'étude de suites récurrentes de la forme $u_{n+1}=f(u_n)$ permettait d'atteindre ce résultat mais l'objectif est ici de trouver une solution approchée en minimisant le temps d'exécution."
   ]
  },
  {
   "cell_type": "markdown",
   "metadata": {},
   "source": [
    "Cette méthode consiste à approximer le graphe de la fonction au voisinage du point $x_0$ par la tangente en ce point.  \n",
    "Nous supposons la fonction de classe $\\mathcal{C}^2$ sur un intervalle $[a,b]$ avec $x_0\\in[a,b]$ et $f'(x)$ strictement positif ou négatif sur cet intervalle.  \n",
    "On rappelle qu'un un point $x_0$ la tangente a pour équation :  \n",
    "$$y=f(x_0)+f'(x_0)\\cdot (x-x_0)$$\n",
    "Si $f'(x_0)\\neq 0$ le point d'intersection de la tangente avec l'axe des $x$ a pour abscisse :  \n",
    "$$x=x_0-\\cfrac{f(x_0)}{f'(x_0)}$$\n",
    "Soit la suite $(x_n)_{n\\geq 0}$ définie par :  \n",
    "$$x_{n+1}=x_n-\\cfrac{f(x_n)}{f'(x_n)}$$\n",
    "On admettra que si $f$ est strictement monotone, convexe ou concave sur $[a,b]$ et s'annulant sur l'intervalle $[a,b]$, alors la suite $(x_n)$ converge très rapidement vers une solution de $f(x)=0$."
   ]
  },
  {
   "cell_type": "markdown",
   "metadata": {},
   "source": [
    "**Exercice I.3 :** Écrire une fonction `newton(f,a,n)` utilisant la fonction `derivee3` écrite dans l'exercice 1 qui retourne une valeur approchée du zéro $\\alpha$ d'une fonction $f$ sur l'intervalle $[a,b]$ et dont les arguments d'entrée sont la fonction $f$, une valeur de départ $x_0$ et le nombre d'itérations souhaitées $n$."
   ]
  },
  {
   "cell_type": "code",
   "execution_count": null,
   "metadata": {
    "collapsed": true
   },
   "outputs": [],
   "source": [
    "def newton(f,a,n):\n",
    "    for k in range(n):\n",
    "        ...\n",
    "        ...\n",
    "    return ..."
   ]
  },
  {
   "cell_type": "markdown",
   "metadata": {},
   "source": [
    "** Exercice I.3. : Question 2 **\n",
    "\n",
    "Utiliser l'algorithme de dichotomie pour retourner une valeur approchée à $10^{-10}$ près de $\\alpha$. Combien d'itérations ont-elles été nécessaire ?"
   ]
  },
  {
   "cell_type": "markdown",
   "metadata": {},
   "source": [
    "On rappelle ci-dessous l'algorithme de dichotomie.  \n",
    "Modifiez-le pour qu'il retourne, outre une valeur approchée de $\\alpha$, le nombre d'itérations nécessaires :"
   ]
  },
  {
   "cell_type": "code",
   "execution_count": null,
   "metadata": {
    "collapsed": true
   },
   "outputs": [],
   "source": [
    "def dichotomie(f,a,b,eps):\n",
    "    while np.abs(a-b)>=eps:\n",
    "        c=(a+b)/2 \n",
    "        if f(a)*f(c)>0:\n",
    "            a=c\n",
    "        else:\n",
    "            b=c\n",
    "    return (a+b)/2"
   ]
  },
  {
   "cell_type": "markdown",
   "metadata": {},
   "source": [
    "Proposez une écriture **récursive** de l'algorithme de dichotomie :"
   ]
  },
  {
   "cell_type": "code",
   "execution_count": null,
   "metadata": {
    "collapsed": true
   },
   "outputs": [],
   "source": [
    "def dichotomie2(f,a,b,eps):\n",
    "    # écriture récursive possible\n",
    "    ..."
   ]
  },
  {
   "cell_type": "code",
   "execution_count": null,
   "metadata": {
    "collapsed": true
   },
   "outputs": [],
   "source": [
    "f = lambda x:x-2+np.log(x)/2\n",
    "s1,n1 = dichotomie(f,1,2,1e-10)\n",
    "s1_bis = dichotomie2(f,1,2,1e-10)\n",
    "print(\"Une valeur approchée vaut : \",s1,\"\\n et le nombre d'itération a été de : \",n1)\n",
    "print(\"Par la méthode récursive, on obtient : \",s1_bis)"
   ]
  },
  {
   "cell_type": "markdown",
   "metadata": {},
   "source": [
    "** Exercice I.3 - question 3 :** Appeler `newton(f,1,n)` pour différentes valeurs de $n$, en commençant à $n=2$. A partir de quelles valeurs de $n$ obtient-on une valeur approchée à $1e-10$ près ?"
   ]
  },
  {
   "cell_type": "code",
   "execution_count": null,
   "metadata": {
    "collapsed": true
   },
   "outputs": [],
   "source": []
  },
  {
   "cell_type": "markdown",
   "metadata": {},
   "source": [
    "## II/ Intégration."
   ]
  },
  {
   "cell_type": "markdown",
   "metadata": {},
   "source": [
    "Soit $f$ une fonction à valeurs réelles, continue ou continue par morceaux sur un intervalle $[a,b]$.  \n",
    "On appellera **subdivision régulière** de l'intervalle $[a,b]$ la suite $\\sigma=(c_k)_{k\\geq 0}$ définie par $$c_k=a+k\\cfrac{b-a}{n}=a+kh \\text{, }0\\leq k\\leq n$$ \n",
    "On dira que $h=\\cfrac{b-a}{n}$ est son **pas**.  \n",
    "Pour calculer une valeur approchée de l'intégrale $I = \\displaystyle\\int_a^bf(t)dt$, on retiendra trois méthodes :  \n",
    "- $I \\approx \\displaystyle\\sum_{k=0}^{n-1}h\\cdot f(c_k)=h\\displaystyle\\sum_{k=0}^{n-1}f(c_k)$  \n",
    "- $I\\approx h\\displaystyle\\sum_{k=1}^{n}f(c_k)$  \n",
    "- $I\\approx \\displaystyle\\sum_{k=0}^{n-1}h\\cfrac{f(c_k)+f(c_{k+1})}{2}$"
   ]
  },
  {
   "cell_type": "markdown",
   "metadata": {},
   "source": [
    "** Exercice II.1 - Question 1 :** Écrire une fonction `IntMethRectangleD(f,a,b,n)` qui retourne une valeur approchée de $I$ par la méthode des rectangles à droite."
   ]
  },
  {
   "cell_type": "code",
   "execution_count": null,
   "metadata": {
    "collapsed": true
   },
   "outputs": [],
   "source": [
    "def IntMethRectangleG(f,a,b,n):\n",
    "    I = 0 # Initialisation de l'approximationd de l'intégrale.\n",
    "    h = (b-a)/n # La longueur des pas\n",
    "    x = a # On se place à l'origine de l'intervalle.\n",
    "    for k in range(...): # On fait tous les pas nécessaires\n",
    "        I += ... # On rajoute la contribution en surface.\n",
    "        x += ... # on met à jour l'endroit où on se trouve...\n",
    "    return I"
   ]
  },
  {
   "cell_type": "code",
   "execution_count": null,
   "metadata": {
    "collapsed": true
   },
   "outputs": [],
   "source": [
    "def IntMethRectangleG2(f,a,b,n):\n",
    "    h = (b-a)/n\n",
    "    subd = np.arange(a,b,h)\n",
    "    S = ...\n",
    "    return pas*np.sum(S)"
   ]
  },
  {
   "cell_type": "markdown",
   "metadata": {},
   "source": [
    "** Exercice II.1 - Question 2 :** Écrire une fonction IntMethRectangleG(f,a,b,n) qui retourne une valeur approchée de II par la méthode des rectangles à gauche."
   ]
  },
  {
   "cell_type": "code",
   "execution_count": null,
   "metadata": {
    "collapsed": true
   },
   "outputs": [],
   "source": [
    "def IntMethRectangleD(f,a,b,n):\n",
    "    h = (b-a)/n\n",
    "    subd = np.arange(...)\n",
    "    S =f(subd)\n",
    "    return h*np.sum(S)"
   ]
  },
  {
   "cell_type": "markdown",
   "metadata": {},
   "source": [
    "** Exercice II.1 - Question 3 :** Écrire une fonction IntMethTrapezes(f,a,b,n) qui retourne une valeur approchée de II par la méthode des trapèzes."
   ]
  },
  {
   "cell_type": "code",
   "execution_count": null,
   "metadata": {
    "collapsed": true
   },
   "outputs": [],
   "source": [
    "def IntMethTrapezes(f,a,b,n):\n",
    "    I = 0 # Initialisation de l'approximation de l'intégrale\n",
    "    h = (b-a)/n # longueur d'un pas.\n",
    "    x = a # On se place à l'origine de l'intervalle.\n",
    "    for k in range(...): # Pour chacun des pas...\n",
    "        I += ... # On rajoute l'aire du trapèze.\n",
    "        x += ... # On met à jour l'endroit où on se trouve.\n",
    "    return I"
   ]
  },
  {
   "cell_type": "markdown",
   "metadata": {
    "collapsed": true
   },
   "source": [
    "** REMARQUE :** Python dispose d'une bibliothèque qui dispose de fonctions permettant d'obtenir directement une approximation d'une intégrale donnée.\n",
    "Il s'agit du module integrate de la bibliothèque scipy.\n",
    "\n",
    "Pour l'utiliser, on pourra écrire :\n"
   ]
  },
  {
   "cell_type": "code",
   "execution_count": null,
   "metadata": {
    "collapsed": true
   },
   "outputs": [],
   "source": [
    "from scipy import integrate"
   ]
  },
  {
   "cell_type": "code",
   "execution_count": null,
   "metadata": {
    "collapsed": true
   },
   "outputs": [],
   "source": [
    "R = integrate.quad(f,0,np.pi/2) # approximation numérique de l'intégrale de f sur [0,pi/2]\n",
    "print(R) # R[0] donne la valeur approchée de I et R[1] donne l'erreur commise"
   ]
  },
  {
   "cell_type": "code",
   "execution_count": null,
   "metadata": {
    "collapsed": true
   },
   "outputs": [],
   "source": [
    "f = lambda x:3/(2*x)\n",
    "F = lambda x:(3/2)*np.log(np.abs(x))\n",
    "a,b = 1,2\n",
    "I1 = F(b)-F(a)\n",
    "R = integrate.quad(f,1,2)\n",
    "I2 = IntMethRectangleG(f,1,2,100)\n",
    "I3 = IntMethTrapezes(f,1,2,100)\n",
    "print(\"Valeur approchée par la méthode 'quad' : \",R[0], \"\\n avec une erreur : \",R[1])\n",
    "print('la valeur exacte vaut : ',I1)\n",
    "print(\"L'approximation obtenue par la méthode des rectangles vaut : \",I2,\"\\n et l'erreur commise vaut : \",np.abs(I2-I1))\n",
    "print(\"L'erreur commise par les trapèzes vaut elle : \",np.abs(I3-I1))"
   ]
  },
  {
   "cell_type": "markdown",
   "metadata": {},
   "source": [
    "### La méthode de Monte Carlo"
   ]
  },
  {
   "cell_type": "markdown",
   "metadata": {},
   "source": [
    "Nous supposons $f$ continue sur $[a,b]$, positive, et nous posons $[c,d]=f([a,b])$.  \n",
    "La courbe s'inscrit dans un rectangle de base l'axe des abscisses dont la surface est connue et vaut $Sr = (b-a)*d$.  \n",
    "\n",
    "L'idée de cette méthode repose une succession de $m$ tirages aléatoires indépendants de points pris au hasard dans ce rectangle à l'aide d'une loi uniforme (modélisée par la fonction `random.uniform()`).  \n",
    "On dénombre les tirages qui retournent des points situés sous la courbe et on considère que le rapport entre ce nombre et le nombre de tirages tend vers $\\cfrac{I}{S_r}$ quand $m$ tend vers l'infini.  \n",
    "\n",
    "On retiendra que cette méthode est facile à programmer mais peu efficace."
   ]
  },
  {
   "cell_type": "code",
   "execution_count": null,
   "metadata": {
    "collapsed": true
   },
   "outputs": [],
   "source": [
    "import random as rdm"
   ]
  },
  {
   "cell_type": "code",
   "execution_count": null,
   "metadata": {
    "collapsed": true
   },
   "outputs": [],
   "source": [
    "def IntMonteCarlo(f,a,b,c,d,m):\n",
    "    x=np.linspace(a,b,100)\n",
    "    plt.plot(x,f(x),'b-')\n",
    "    cpt = 0\n",
    "    for k in range(m):\n",
    "        x = rdm.uniform(a,b)\n",
    "        y = rdm.uniform(c,d)\n",
    "        if y <= f(x):\n",
    "            cpt += 1\n",
    "            plt.scatter(x,y,c='r')\n",
    "        else:\n",
    "            plt.scatter(x,y,c='b')\n",
    "    plt.show()\n",
    "    return ((b-a)*(d-c))*cpt/m"
   ]
  },
  {
   "cell_type": "code",
   "execution_count": null,
   "metadata": {
    "collapsed": true
   },
   "outputs": [],
   "source": [
    "I4 = IntMonteCarlo(f,1,2,0,3/2,1000)\n",
    "print('la valeur approchée par la méthode de Monte Carlo vaut : ',I4)\n",
    "print(\"L'erreur commise vaut : \",np.abs(I1-I4))"
   ]
  },
  {
   "cell_type": "code",
   "execution_count": null,
   "metadata": {
    "collapsed": true
   },
   "outputs": [],
   "source": []
  }
 ],
 "metadata": {
  "anaconda-cloud": {},
  "kernelspec": {
   "display_name": "Python [default]",
   "language": "python",
   "name": "python3"
  },
  "language_info": {
   "codemirror_mode": {
    "name": "ipython",
    "version": 3
   },
   "file_extension": ".py",
   "mimetype": "text/x-python",
   "name": "python",
   "nbconvert_exporter": "python",
   "pygments_lexer": "ipython3",
   "version": "3.6.1"
  }
 },
 "nbformat": 4,
 "nbformat_minor": 1
}

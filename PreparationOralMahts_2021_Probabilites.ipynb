{
  "nbformat": 4,
  "nbformat_minor": 0,
  "metadata": {
    "colab": {
      "name": "PreparationOralMahts_2021_Probabilites.ipynb",
      "provenance": [],
      "collapsed_sections": [],
      "authorship_tag": "ABX9TyN6RXAk1clGMFXrSk2l2uPX",
      "include_colab_link": true
    },
    "kernelspec": {
      "name": "python3",
      "display_name": "Python 3"
    },
    "language_info": {
      "name": "python"
    }
  },
  "cells": [
    {
      "cell_type": "markdown",
      "metadata": {
        "id": "view-in-github",
        "colab_type": "text"
      },
      "source": [
        "<a href=\"https://colab.research.google.com/github/JLaurentin/notebooks_BCPST2_EDEN/blob/master/PreparationOralMahts_2021_Probabilites.ipynb\" target=\"_parent\"><img src=\"https://colab.research.google.com/assets/colab-badge.svg\" alt=\"Open In Colab\"/></a>"
      ]
    },
    {
      "cell_type": "markdown",
      "metadata": {
        "id": "R5mMrriFprB6"
      },
      "source": [
        "## **Préparation à l'oral 2021 - exercices de probabilité**  "
      ]
    },
    {
      "cell_type": "code",
      "metadata": {
        "id": "nizjXDBHp265"
      },
      "source": [
        "import numpy as np\n",
        "import random as rdm"
      ],
      "execution_count": 1,
      "outputs": []
    },
    {
      "cell_type": "markdown",
      "metadata": {
        "id": "Z-3-4CvHp8An"
      },
      "source": [
        "## **Planche 1 :**"
      ]
    },
    {
      "cell_type": "markdown",
      "metadata": {
        "id": "YV3jY0LCrHl-"
      },
      "source": [
        "Question 2.a)"
      ]
    },
    {
      "cell_type": "code",
      "metadata": {
        "id": "Txrfw-bmqwOP"
      },
      "source": [
        "def etape(k,N):\n",
        "    # k : entier = nb de boules dans A\n",
        "    # N : entier = nb total de boules\n",
        "    if k == 0: # pas de boules dans A\n",
        "        return 1\n",
        "    elif k == N: # toutes dans A\n",
        "        return N-1\n",
        "    else:\n",
        "        tirage = rdm.randint(1,N)\n",
        "        if tirage <= k: # on tire dans A\n",
        "            return k-1\n",
        "        else:\n",
        "            return k+1"
      ],
      "execution_count": null,
      "outputs": []
    },
    {
      "cell_type": "code",
      "metadata": {
        "colab": {
          "base_uri": "https://localhost:8080/"
        },
        "id": "yLyGeStmqzqz",
        "outputId": "da860d0e-5fae-485c-b2cb-e60c88b12758"
      },
      "source": [
        "etape(6,10)"
      ],
      "execution_count": null,
      "outputs": [
        {
          "output_type": "execute_result",
          "data": {
            "text/plain": [
              "5"
            ]
          },
          "metadata": {
            "tags": []
          },
          "execution_count": 7
        }
      ]
    },
    {
      "cell_type": "markdown",
      "metadata": {
        "id": "84nlrVCBrN17"
      },
      "source": [
        "*Question 2.b)*"
      ]
    },
    {
      "cell_type": "code",
      "metadata": {
        "id": "XcBzBVojq4cZ"
      },
      "source": [
        "def boulesDansA(X0,n,N):\n",
        "    # X0 = rdm.randint(1,N)\n",
        "    L = [X0]\n",
        "    for k in range(1,n+1):\n",
        "        L.append(etape(L[-1],N))\n",
        "    return L"
      ],
      "execution_count": null,
      "outputs": []
    },
    {
      "cell_type": "code",
      "metadata": {
        "colab": {
          "base_uri": "https://localhost:8080/"
        },
        "id": "SS_LiKo8rUIc",
        "outputId": "31000976-e95b-4968-da55-d7bef8bcab5c"
      },
      "source": [
        "L = boulesDansA(0,20,3)\n",
        "print(L)"
      ],
      "execution_count": null,
      "outputs": [
        {
          "output_type": "stream",
          "text": [
            "[0, 1, 2, 1, 2, 1, 2, 1, 0, 1, 0, 1, 2, 1, 0, 1, 0, 1, 2, 3, 2]\n"
          ],
          "name": "stdout"
        }
      ]
    },
    {
      "cell_type": "code",
      "metadata": {
        "id": "d6TeE8Mprk4F"
      },
      "source": [
        "def SimuleD(N):\n",
        "    LX = [0]\n",
        "    k = etape(LX[-1],N)\n",
        "    while k != 0:\n",
        "        LX.append(k)\n",
        "        k = etape(k,N)\n",
        "    LX.append(0)\n",
        "    return LX"
      ],
      "execution_count": null,
      "outputs": []
    },
    {
      "cell_type": "code",
      "metadata": {
        "colab": {
          "base_uri": "https://localhost:8080/"
        },
        "id": "5SZPv7Vqsl6r",
        "outputId": "ac22ceb9-c8b0-425e-95ed-41978a996cc7"
      },
      "source": [
        "SimuleD(3)"
      ],
      "execution_count": null,
      "outputs": [
        {
          "output_type": "execute_result",
          "data": {
            "text/plain": [
              "[0, 1, 0]"
            ]
          },
          "metadata": {
            "tags": []
          },
          "execution_count": 37
        }
      ]
    },
    {
      "cell_type": "code",
      "metadata": {
        "id": "Km1Da8c-rWcg"
      },
      "source": [
        "def calculd(n):\n",
        "    Lu = [0]*(n+1)\n",
        "    Ld = [0]*(n+1)\n",
        "    u = 1/3;Lu[1]=u\n",
        "    Ld[1]=1/3\n",
        "    for k in range(1,n):\n",
        "        u = u/9+2/9\n",
        "        Lu[k+1] = u\n",
        "        Ld[k+1] = np.round(u-sum([Ld[j]*Lu[k+1-j] for j in range(1,k+1)]),2)\n",
        "    return Ld"
      ],
      "execution_count": null,
      "outputs": []
    },
    {
      "cell_type": "code",
      "metadata": {
        "colab": {
          "base_uri": "https://localhost:8080/"
        },
        "id": "tG97dd8Pr-4o",
        "outputId": "6380c784-6158-459a-c460-eb580acb2199"
      },
      "source": [
        "calculd(5)"
      ],
      "execution_count": null,
      "outputs": [
        {
          "output_type": "execute_result",
          "data": {
            "text/plain": [
              "[0, 0.3333333333333333, 0.15, 0.11, 0.09, 0.07]"
            ]
          },
          "metadata": {
            "tags": []
          },
          "execution_count": 39
        }
      ]
    },
    {
      "cell_type": "code",
      "metadata": {
        "id": "Zsv5ZqiprnaH"
      },
      "source": [
        "def testModele(n,N,m=10000):\n",
        "    T = [0]*n\n",
        "    for k in range(m):\n",
        "        L = SimuleD(N)\n",
        "        i = len(L)-1\n",
        "        if i<= n:\n",
        "            T[i-1] += 1\n",
        "    return [T[i]/m for i in range(len(T))]"
      ],
      "execution_count": null,
      "outputs": []
    },
    {
      "cell_type": "code",
      "metadata": {
        "colab": {
          "base_uri": "https://localhost:8080/"
        },
        "id": "SxR6UeOhrpsC",
        "outputId": "7f72c44b-d4bb-4045-cca8-9245d5b14406"
      },
      "source": [
        "testModele(10,3)"
      ],
      "execution_count": null,
      "outputs": [
        {
          "output_type": "execute_result",
          "data": {
            "text/plain": [
              "[0.0, 0.3303, 0.0, 0.1543, 0.0, 0.1171, 0.0, 0.0885, 0.0, 0.0717]"
            ]
          },
          "metadata": {
            "tags": []
          },
          "execution_count": 41
        }
      ]
    },
    {
      "cell_type": "markdown",
      "metadata": {
        "id": "ANQAKN7MuJiT"
      },
      "source": [
        "## **Planche 2 :**"
      ]
    },
    {
      "cell_type": "markdown",
      "metadata": {
        "id": "LippKb01uiIj"
      },
      "source": [
        "Question 1.c) :"
      ]
    },
    {
      "cell_type": "code",
      "metadata": {
        "id": "HSdllx9HuPMp"
      },
      "source": [
        "def simulEv(n,eps):\n",
        "    S = 0\n",
        "    for k in range(1,n+1):\n",
        "        if rdm.random()<=1/2:\n",
        "            S -= 1\n",
        "        else:\n",
        "            S += 1\n",
        "    return np.abs(S/n) >= eps"
      ],
      "execution_count": null,
      "outputs": []
    },
    {
      "cell_type": "markdown",
      "metadata": {
        "id": "2mQppN6punRY"
      },
      "source": [
        "Question 1.d) :"
      ]
    },
    {
      "cell_type": "code",
      "metadata": {
        "id": "MRArF5sVumT1"
      },
      "source": [
        "def testKH(n,eps,m = 10000):\n",
        "    L = [simulEv(n,eps) for k in range(m)]\n",
        "    return L.count(1)/m"
      ],
      "execution_count": null,
      "outputs": []
    },
    {
      "cell_type": "code",
      "metadata": {
        "colab": {
          "base_uri": "https://localhost:8080/"
        },
        "id": "U7IgFPIJuuUy",
        "outputId": "c19c53b9-b87b-4c00-e395-af78759279a4"
      },
      "source": [
        "testKH(100,0.1)"
      ],
      "execution_count": null,
      "outputs": [
        {
          "output_type": "execute_result",
          "data": {
            "text/plain": [
              "0.3719"
            ]
          },
          "metadata": {
            "tags": []
          },
          "execution_count": 44
        }
      ]
    },
    {
      "cell_type": "markdown",
      "metadata": {
        "id": "PWwRILTlBskn"
      },
      "source": [
        "# Planche 3"
      ]
    },
    {
      "cell_type": "markdown",
      "metadata": {
        "id": "tX9n3EVWB4sv"
      },
      "source": [
        "Question 1."
      ]
    },
    {
      "cell_type": "code",
      "metadata": {
        "id": "nW3rYh5Wu2ej"
      },
      "source": [
        "def permutation1(n):\n",
        "    if n == 1:\n",
        "        return [1]\n",
        "    else:\n",
        "        L = [k for k in range(1,n+1)]\n",
        "        Lp = []\n",
        "        for k in range(n):\n",
        "            i = rdm.randint(0,len(L)-1)\n",
        "            Lp.append(L.pop(i))\n",
        "        return Lp"
      ],
      "execution_count": null,
      "outputs": []
    },
    {
      "cell_type": "code",
      "metadata": {
        "id": "bsOx7l_1CLJI"
      },
      "source": [
        "def permutation2(n):\n",
        "    # Méthode naïve : pose problème pour de grandes valeurs de n à cause\n",
        "    # du nombre de répétitions...\n",
        "    if n == 1:\n",
        "        return [1]\n",
        "    else:\n",
        "        Lp = [0]*n\n",
        "        for k in range(n):\n",
        "            p = rdm.randint(1,n)\n",
        "            while p in Lp:\n",
        "                p = rdm.randint(1,n)\n",
        "            Lp[k] = p\n",
        "        return Lp"
      ],
      "execution_count": null,
      "outputs": []
    },
    {
      "cell_type": "code",
      "metadata": {
        "colab": {
          "base_uri": "https://localhost:8080/"
        },
        "id": "2Z1He88qCflg",
        "outputId": "1038c942-71da-4bfc-9e99-9a755b0da5cb"
      },
      "source": [
        "permutation2(10)"
      ],
      "execution_count": null,
      "outputs": [
        {
          "output_type": "execute_result",
          "data": {
            "text/plain": [
              "[3, 1, 7, 4, 10, 9, 8, 2, 5, 6]"
            ]
          },
          "metadata": {
            "tags": []
          },
          "execution_count": 7
        }
      ]
    },
    {
      "cell_type": "markdown",
      "metadata": {
        "id": "gctCYeZ-C1MQ"
      },
      "source": [
        "*Question 2.*"
      ]
    },
    {
      "cell_type": "code",
      "metadata": {
        "id": "xjbqM1Q-Cxm6"
      },
      "source": [
        "def derangement(P):\n",
        "    n = len(P)\n",
        "    i = 0\n",
        "    while i < n:\n",
        "        if P[i] == i+1: # ce n'est pas un dérangement - on sort\n",
        "            return False\n",
        "        i += 1\n",
        "    return True"
      ],
      "execution_count": null,
      "outputs": []
    },
    {
      "cell_type": "code",
      "metadata": {
        "id": "JiVI7hEXDE8z"
      },
      "source": [
        "def derangement2(P):\n",
        "    n = len(P)\n",
        "    i = 0\n",
        "    while i<n and P[i] != i+1: # c'est un dérangement...\n",
        "        i += 1\n",
        "    return i == n"
      ],
      "execution_count": null,
      "outputs": []
    },
    {
      "cell_type": "code",
      "metadata": {
        "colab": {
          "base_uri": "https://localhost:8080/"
        },
        "id": "FfJsMbWsDIgq",
        "outputId": "e153f8e5-7898-49a1-daec-f32deb2ff09e"
      },
      "source": [
        "derangement([1,2,3])"
      ],
      "execution_count": null,
      "outputs": [
        {
          "output_type": "execute_result",
          "data": {
            "text/plain": [
              "False"
            ]
          },
          "metadata": {
            "tags": []
          },
          "execution_count": 12
        }
      ]
    },
    {
      "cell_type": "markdown",
      "metadata": {
        "id": "7tRcGxmbDXDq"
      },
      "source": [
        "Question 3."
      ]
    },
    {
      "cell_type": "code",
      "metadata": {
        "id": "9aWl8T1GDRQ8"
      },
      "source": [
        "def estimProbaDerangement(n,m=10000):\n",
        "    cpt = 0\n",
        "    for k in range(m):\n",
        "        P = permutation1(n)\n",
        "        if derangement2(P):\n",
        "            cpt += 1\n",
        "    return cpt/m"
      ],
      "execution_count": null,
      "outputs": []
    },
    {
      "cell_type": "code",
      "metadata": {
        "colab": {
          "base_uri": "https://localhost:8080/"
        },
        "id": "bmKqBsW-Dcga",
        "outputId": "a52008da-e499-47d9-d686-dcc54baf8976"
      },
      "source": [
        "estimProbaDerangement(100)"
      ],
      "execution_count": null,
      "outputs": [
        {
          "output_type": "execute_result",
          "data": {
            "text/plain": [
              "0.3687"
            ]
          },
          "metadata": {
            "tags": []
          },
          "execution_count": 15
        }
      ]
    },
    {
      "cell_type": "markdown",
      "metadata": {
        "id": "Byq86PzDDkp0"
      },
      "source": [
        "# Planche 4"
      ]
    },
    {
      "cell_type": "markdown",
      "metadata": {
        "id": "6cnGMA0nDvNy"
      },
      "source": [
        "Question 2.a)"
      ]
    },
    {
      "cell_type": "code",
      "metadata": {
        "id": "aVKGvwWhDfKg"
      },
      "source": [
        "def realisationA(n):\n",
        "    nP = rdm.randint(0,1) # 1 pour \"pile\"\n",
        "    k = 1 # nb de lancers. nF = k-nP\n",
        "    while k < 2*n and nP > k-nP: # nP > nF ou 2*nP > k\n",
        "        lancer = rdm.randint(0,1)\n",
        "        nP += lancer\n",
        "        k += 1\n",
        "    return nP > k-nP"
      ],
      "execution_count": null,
      "outputs": []
    },
    {
      "cell_type": "code",
      "metadata": {
        "colab": {
          "base_uri": "https://localhost:8080/"
        },
        "id": "NsYIjHRnD5oB",
        "outputId": "cbe48898-b859-4d97-c0a5-b9f3bcda515a"
      },
      "source": [
        "realisationA(5)"
      ],
      "execution_count": null,
      "outputs": [
        {
          "output_type": "execute_result",
          "data": {
            "text/plain": [
              "False"
            ]
          },
          "metadata": {
            "tags": []
          },
          "execution_count": 58
        }
      ]
    },
    {
      "cell_type": "markdown",
      "metadata": {
        "id": "ClhyZXjzEeXY"
      },
      "source": [
        "Question 2.b)"
      ]
    },
    {
      "cell_type": "code",
      "metadata": {
        "id": "MBxU86LqEU42"
      },
      "source": [
        "def estimProba(n,m=100000):\n",
        "    return sum([realisationA(n) for k in range(m)])/m"
      ],
      "execution_count": null,
      "outputs": []
    },
    {
      "cell_type": "code",
      "metadata": {
        "colab": {
          "base_uri": "https://localhost:8080/"
        },
        "id": "yV60-Cz_EjxW",
        "outputId": "5ee13122-ae99-46cc-e8ff-47b3ae7d8e12"
      },
      "source": [
        "estimProba(5)"
      ],
      "execution_count": null,
      "outputs": [
        {
          "output_type": "execute_result",
          "data": {
            "text/plain": [
              "0.12292"
            ]
          },
          "metadata": {
            "tags": []
          },
          "execution_count": 29
        }
      ]
    },
    {
      "cell_type": "code",
      "metadata": {
        "id": "ZEGNcimIEm4I"
      },
      "source": [
        ""
      ],
      "execution_count": null,
      "outputs": []
    }
  ]
}
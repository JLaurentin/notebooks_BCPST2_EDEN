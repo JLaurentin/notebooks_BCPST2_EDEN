{
  "nbformat": 4,
  "nbformat_minor": 0,
  "metadata": {
    "colab": {
      "name": "td0BCPST2c-revisionsDerivationEtEquationsDifferentielles.ipynb",
      "version": "0.3.2",
      "provenance": [],
      "collapsed_sections": [],
      "include_colab_link": true
    },
    "language_info": {
      "codemirror_mode": {
        "name": "ipython",
        "version": 3
      },
      "file_extension": ".py",
      "mimetype": "text/x-python",
      "name": "python",
      "nbconvert_exporter": "python",
      "pygments_lexer": "ipython3",
      "version": "3.6.1"
    },
    "kernelspec": {
      "display_name": "Python [default]",
      "language": "python",
      "name": "python3"
    }
  },
  "cells": [
    {
      "cell_type": "markdown",
      "metadata": {
        "id": "view-in-github",
        "colab_type": "text"
      },
      "source": [
        "<a href=\"https://colab.research.google.com/github/JLaurentin/notebooks_BCPST2_EDEN/blob/master/td0BCPST2c_revisionsDerivationEtEquationsDifferentielles.ipynb\" target=\"_parent\"><img src=\"https://colab.research.google.com/assets/colab-badge.svg\" alt=\"Open In Colab\"/></a>"
      ]
    },
    {
      "cell_type": "markdown",
      "metadata": {
        "collapsed": true,
        "id": "DTY7SZxATwMs",
        "colab_type": "text"
      },
      "source": [
        "># Rappels des chapitres \"Dérivation\" et \"Equations différentielles\""
      ]
    },
    {
      "cell_type": "markdown",
      "metadata": {
        "id": "c_ia961ITwM5",
        "colab_type": "text"
      },
      "source": [
        "#### *Remarque* : Ce notebook propose à la fois des rappels et des exercices. On prendra le temps d'y réfléchir, le crayon à la main, sur une feuille de brouillon avant de proposer une réponse.   \n",
        "Une correction des exercices est proposée en fin de document mais elle ne doit être utilisée qu'en dernier recours, si les calculs n'aboutissent pas..."
      ]
    },
    {
      "cell_type": "markdown",
      "metadata": {
        "id": "ShngEqp-TwM_",
        "colab_type": "text"
      },
      "source": [
        "**N'oubliez pas de sauvegarder ce notebook dans votre Drive**  \n",
        "\n",
        "\n",
        "> *Bonnes révisions !*\n",
        "\n"
      ]
    },
    {
      "cell_type": "markdown",
      "metadata": {
        "collapsed": true,
        "id": "EdpIo9sMTwNK",
        "colab_type": "text"
      },
      "source": [
        "## 1. Dérivation."
      ]
    },
    {
      "cell_type": "markdown",
      "metadata": {
        "id": "883Crv98TwNO",
        "colab_type": "text"
      },
      "source": [
        "Soit $a\\in I$ où $I$ est un intervalle de $\\mathbb{R}$ et $f:I\\rightarrow \\mathbb{R}$ supposée de classe $\\mathcal{C}^2$ sur $I$. Pour calculer une valeur approchée de la dérivée d'une fonction en $a$, une première approche consiste à utiliser la formule de Taylor Young à l'ordre 2 en supposant que la fonction est de classe $\\mathcal{C}^2$ sur $I$. On a en effet :  \n",
        "$$f(a+h) \\underset{a}{=} f(a)+f'(a)h+\\cfrac{f''(a)}{2}h^2+o(h^2)$$\n",
        "En conséquence :\n",
        "$$f'(a)=\\underset{h\\rightarrow 0}{lim}\\left(\\cfrac{f(a+h)-f(a)}{h}-\\cfrac{f''(a)}{2}h+o(h)\\right)=\\underset{h\\rightarrow 0}{lim}\\left(\\cfrac{f(a+h)-f(a)}{h}\\right)$$\n",
        "Une méthode \"naïve\" pour évaluer la dérivée est donc de tabuler les valeurs de $\\cfrac{f(a+h)-f(a)}{h}$ pour différentes valeurs de $h$.  \n",
        "On s'attend à ce que, plus la valeur de $h$ est proche de $0$, plus l'approximation de la dérivée soit précise.  \n",
        "Sous ces conditions, l'erreur $E(h)$ commise par cette approximation est dite \"du premier ordre\" : $$E(h)=\\cfrac{f(a+h)-f(a)}{h}-f'(a)=\\cfrac{f''(a)}{2}h+o(h)$$"
      ]
    },
    {
      "cell_type": "code",
      "metadata": {
        "id": "FZCH0CTATwNZ",
        "colab_type": "code",
        "colab": {}
      },
      "source": [
        "def deriv1(f,a,h):\n",
        "    # On suppose f dérivable en a ; \n",
        "    # h est le pas de discretisation, suffisamment petit.\n",
        "    return (f(a+h)-f(a))/h"
      ],
      "execution_count": 0,
      "outputs": []
    },
    {
      "cell_type": "markdown",
      "metadata": {
        "id": "n149AyO-TwNS",
        "colab_type": "text"
      },
      "source": [
        "### Application :   \n",
        "\n",
        "Il est possible d'écrire une fonction Python `derive1(f,a,h)` qui retourne une valeur approchée de la dérivée de $f$ en $a$.  \n",
        "Il suffit de faire :"
      ]
    },
    {
      "cell_type": "markdown",
      "metadata": {
        "id": "1K6c3XYaTwNn",
        "colab_type": "text"
      },
      "source": [
        "Introduisons les bibliothèques utiles aux calculs et aux représentations graphiques :"
      ]
    },
    {
      "cell_type": "code",
      "metadata": {
        "id": "uLKJ4JjJTwN5",
        "colab_type": "code",
        "colab": {}
      },
      "source": [
        "import numpy as np\n",
        "import matplotlib.pyplot as plt"
      ],
      "execution_count": 0,
      "outputs": []
    },
    {
      "cell_type": "markdown",
      "metadata": {
        "id": "YsCVHg4bTwOL",
        "colab_type": "text"
      },
      "source": [
        "##### *Exemple* : Dériver la fonction $f_1:x\\longmapsto x^3$ et représenter dans une même fenêtre le graphe de $f'_1$ et celui de son approximation, obtenue grâce à la fonction `deriv1`"
      ]
    },
    {
      "cell_type": "markdown",
      "metadata": {
        "id": "deNJRus-TwOQ",
        "colab_type": "text"
      },
      "source": [
        "> La première partie de la réponse est simple : $f'_1(x)=3x^2$, $\\forall x\\in\\mathbb{R}$.  \n",
        "\n",
        "> Pour les représentations graphiques, on exécutera la fenêtre ci-dessous :"
      ]
    },
    {
      "cell_type": "code",
      "metadata": {
        "id": "ZQZbm7jGTwOU",
        "colab_type": "code",
        "colab": {}
      },
      "source": [
        "# confrontation des graphes :\n",
        "f1 = lambda x:x**3\n",
        "f1_prime = lambda x:3*x**2  # définition de la dérivée.\n",
        "X = np.linspace(-2,2,100)\n",
        "h = 1e-1\n",
        "Yappr = [deriv1(f1,a,h) for a in X] # approximation numérique de la dérivée\n",
        "plt.plot(X,f1_prime(X),'r-',X,Yappr,'b-.')"
      ],
      "execution_count": 0,
      "outputs": []
    },
    {
      "cell_type": "markdown",
      "metadata": {
        "id": "RVlgK97WTwOn",
        "colab_type": "text"
      },
      "source": [
        "Bon, ça a l'air de marcher ! Prendre $h=1e-2$ pour un résultat plus convaincant.  \n",
        "On peut désormais traiter sur le même principe l'exercice 1."
      ]
    },
    {
      "cell_type": "markdown",
      "metadata": {
        "id": "u0lrAjLmTwOs",
        "colab_type": "text"
      },
      "source": [
        "### Exercice 1 :\n",
        "Calculer et simplifier les dérivées des fonctions suivantes en précisant là où elles sont définies et compléter le script ci-dessous afin de tracer dans deux fenêtres contigües le graphe de $f$ et celui de sa dérivée, confronté à celui de son approximation numérique qui tiendra lieu de vérification de vos calculs de dérivée."
      ]
    },
    {
      "cell_type": "markdown",
      "metadata": {
        "id": "bBFVIb_PTwOx",
        "colab_type": "text"
      },
      "source": [
        "1. a) $f(x)=\\cfrac{x-1}{x+2}$  ; b) $f(x)=\\cfrac{x}{x^2-1}$ ; c) $f(x)= x\\sqrt{\\cfrac{1-x}{1+x}}$ ; d) $f(x)=\\cfrac{\\sqrt{x^2+1}+x}{\\sqrt{x^2+1}-x}+\\cfrac{\\sqrt{x^2+1}-x}{\\sqrt{x^2+1}+x}$ ; e) $f(x)=\\cfrac{\\cos(x)}{\\sin^3(x)}+\\cfrac{2}{\\tan(x)}$  \n",
        "\n",
        "1. a)$f(x)=\\sqrt{x-\\sqrt{x^2-1}}$ ; b) $f(x)=\\arctan\\sqrt{\\cfrac{1-\\cos(x)}{1+\\cos(x)}}$"
      ]
    },
    {
      "cell_type": "code",
      "metadata": {
        "id": "HO6INB_nTwO1",
        "colab_type": "code",
        "colab": {}
      },
      "source": [
        "# Vérification graphique des dérivées :\n",
        "# Remarque : pour les fonctions mathématiques, on utilisera la bibliothèque 'numpy' (np.exp(), np.sqrt(), etc.)\n",
        "# et non pas la bibliothèque 'math'.\n",
        "f = lambda x:... # A compléter selon la fonction f étudiée\n",
        "f_prime = lambda x:... # dérivée de f à compléter\n",
        "a,b = ...  , ... # indiquer les bornes de l'intervalle sur lequel le graphe est tracé.\n",
        "X= np.linspace(a,b,100) \n",
        "plt.figure(figsize=(15,4))\n",
        "plt.subplot(1,2,1)\n",
        "plt.plot(X,f(X))\n",
        "plt.title('Tracé de la fonction $f$')\n",
        "plt.subplot(1,2,2)\n",
        "h = 1e-2\n",
        "Yappr = [deriv1(f,a,h) for a in X] # approximation numérique de la dérivée\n",
        "plt.plot(X,f_prime(X),'r-',X,Yappr,'b-.')\n",
        "plt.title('Tracés de la dérivée de $f$')"
      ],
      "execution_count": 0,
      "outputs": []
    },
    {
      "cell_type": "markdown",
      "metadata": {
        "id": "OMMC45GsTwPC",
        "colab_type": "text"
      },
      "source": [
        "## 2. Equations différentielles du premier ordre."
      ]
    },
    {
      "cell_type": "markdown",
      "metadata": {
        "id": "g2q72MYDTwPK",
        "colab_type": "text"
      },
      "source": [
        "L'objectif est d'aborder d'un point de vue numérique les équations différentielles d'ordre $1$ de la forme $$y'+a(t)y=b(t)$$\n",
        "où $a$ et $b$ sont deux fonction continues sur une intervalle $I$ de $\\mathbb{R}$ et pour laquelle une condition initiale $y(t_0)=y_0$ est connue.  \n",
        "On admettra que la solution au problème ainsi posé existe en tant que fonction définie sur $I$ et qu'elle est unique. "
      ]
    },
    {
      "cell_type": "markdown",
      "metadata": {
        "id": "bfhHJ4PpTwPM",
        "colab_type": "text"
      },
      "source": [
        "** La méthode dite \"Euler explicite\" ** : Cette méthode repose sur l'idée simple utilisée précédemment que, puisque la solution cherchée est dérivable sur $I$, on peut approcher la dérivée de $y$ en tout réel $t$ de $I$ en écrivant :\n",
        "\t$$y'(t)\\underset{0}{\\approx}  \\cfrac{y(t+h)-y(t)}{h}$$\n",
        "\tCette approximation repose sur le fait que, $y$ étant dérivable sur $I$, elle admet un développement limité à l'ordre $1$ et que pour tout $t\\in I$ :\n",
        "$$y(t+h)=y(t)+h\\cdot y'(t)+ o(h)$$\n",
        "\n",
        "Dès lors : $$y(t+h)\\cong y(t)+h\\cdot y'(t)=y(t)+h\\cdot(b(t)-a(t)y(t))$$"
      ]
    },
    {
      "cell_type": "markdown",
      "metadata": {
        "id": "C9RcX5YbTwPP",
        "colab_type": "text"
      },
      "source": [
        "** Mise en oeuvre : ** En partant du point $(t_0,y_0)$, on considère que la courbe représentant $y$ peut être approchée par un segment de droite de pente $y'(t_0)$ sur l'intervalle de temps $[t_0,t_0+h]$, $h$ étant bien sûr petit.  \n",
        "On pose alors :\n",
        "$$\\begin{cases} t_1&=t_0+h\\\\y_1=y(t_1)&=y_0+h\\cdot y'(t_0) \\end{cases}$$\n",
        "Ensuite, en partant du point $(t_1,y_1)$, on suit la droite de pente $y'(t_1)$ sur l'intervalle de temps $[t_1,t_1+h]$.  \n",
        "\n",
        "On construit ainsi une suite de points de façon récurrente en posant $\\forall n\\in\\{0,\\cdots,N\\}$ :\n",
        "$$\\begin{cases} t_{n+1}&=t_n+h\\\\y_{n+1}&=y_n+h\\cdot y'(t_n) \\end{cases}$$\n",
        "avec $$y'(t_n)=b(t_n)-a(t_n)\\cdot y(t_n)$$\n",
        "\n",
        "La ligne brisée joignant les points $\\{(t_n,y_n), 0\\leq n\\leq N\\}$ donnera une solution approchée de l'équation différentielle.  \n",
        "\n",
        "Pour construire une solution numérique d'une équation différentielle du premier ordre, il suffit donc de créer une subdivision de $I$, suite de points $(t_n)_{n\\in\\mathbb{N}}$ définie par $t_n=t_0+nh\\in I$ et pour laquelle $h$ est un réel strictement positif qu'on pourra choisir aussi petit qu'on le souhaite.  \n",
        "La suite $(y(t_n))=(y_n)$ construite selon la récurrence ci-dessus, répond alors à la question cherchée..."
      ]
    },
    {
      "cell_type": "markdown",
      "metadata": {
        "id": "7qBgudtKTwPS",
        "colab_type": "text"
      },
      "source": [
        "**En pratique :** Posons $I=[u,v]$ intervalle sur lequel on cherche à obtenir une solution approchée de :  \n",
        "\n",
        "$$y'+a(t)y=b(t), y(t_0)=y_0$$\n",
        "\n",
        "Une écriture possible de la méthode d'Euler est la suivante :\n",
        "- - -\n",
        "    def solApprochee(u,v,y0,h):\n",
        "        # tracé de la solution cherchée sur l'intervalle [u,v]\n",
        "        # y0 est la condition à l'origine et h est le pas de temps choisi.\n",
        "        N = int((v-u)/h) # nombre de pas ou nombre de points de la subdivision.\n",
        "        T,Y = np.zeros(N+1),np.zeros(N+1)  # initialisation de la subdivision (t_n) et de la suite (y_n)\n",
        "        T[0] = u # temps initial\n",
        "        Y[0] = y0 # position initiale\n",
        "        for n in range(N): # N pas de 0 à N-1\n",
        "            T[n+1] = T[n] + h\n",
        "            Y[n+1] = Y[n] + h*(b(T[n])-a(T[n])*Y[n])\n",
        "        return T,Y"
      ]
    },
    {
      "cell_type": "markdown",
      "metadata": {
        "id": "P2lr3mBITwPT",
        "colab_type": "text"
      },
      "source": [
        "**Exemple :** On considère l'équation différentielle ($E$) : $y'+3y=0$ et $y(0)=2$.\\\\\n",
        "Pour confronter la solution approchée à la fonction $f$, solution de cette équation différentielle, on commence par résoudre cette équation différentielle sur $\\mathbb{R}_+$ :  \n",
        "D'après le cours : $$\\exists C\\in\\mathbb{R}/y(t)=Ce^{-3t}$$\n",
        "et $y(0)=C=2$ donc la solution cherchée est : $$y(t)=2e^{-3t}$$\n",
        "\n",
        "Pour une solution approchée grâce à la méthode d'Euler, on exécutera les instructions ci-dessous.  \n",
        "\n",
        "Il suffira alors de tracer sur une même fenêtre la solution approchée et la solution exacte."
      ]
    },
    {
      "cell_type": "code",
      "metadata": {
        "id": "vcwWeqiTTwPW",
        "colab_type": "code",
        "colab": {}
      },
      "source": [
        "def solApprochee1(u,v,y0,h):\n",
        "    # y'+3y = 0 ; ici a(t) = 3 et b(t) = 0\n",
        "    # tracé de la solution cherchée sur l'intervalle [u,v]\n",
        "    # y0 est la condition à l'origine et h est le pas de temps choisi.\n",
        "    N = int((v-u)/h) # nombre de pas ou nombre de points de la subdivision.\n",
        "    T,Y = np.zeros(N+1),np.zeros(N+1) # initialisation de la subdivision (t_n) et de la suite (y_n)\n",
        "    T[0] = u # temps initial\n",
        "    Y[0] = y0 # position initiale\n",
        "    a,b = 3,0\n",
        "    for n in range(N): # N pas de 1 à N\n",
        "        T[n+1] = T[n]+h\n",
        "        Y[n+1] = Y[n] + h*(b-a*Y[n])\n",
        "    return T,Y\n",
        "\n",
        "h = 0.1\n",
        "T,Y = solApprochee1(0,3,2,h) # solution approchée sur I=[0,3]\n",
        "f = lambda t:2*np.exp(-3*t) # solution exacte\n",
        "plt.figure(figsize=(10,5))\n",
        "plt.plot(T,f(T),'r-',label= 'solution exacte')\n",
        "plt.plot(T,Y,'b-.',label='solution approchée')\n",
        "plt.legend(loc='best')"
      ],
      "execution_count": 0,
      "outputs": []
    },
    {
      "cell_type": "markdown",
      "metadata": {
        "id": "AqMzcxgETwPh",
        "colab_type": "text"
      },
      "source": [
        "Voilà qui semble relativement convaincant. Essayez avec `h = 0.01` pour vérifier que la solution approchée est meilleure."
      ]
    },
    {
      "cell_type": "markdown",
      "metadata": {
        "id": "93rNG_HJTwPj",
        "colab_type": "text"
      },
      "source": [
        "** Simplification possible : ** En considérant que la dérivée dépend à la fois du temps et de la position occupée, on peut donner une forme simplifiée à la fonction précédente si on introduit une fonction $g$ définie par :\n",
        "$$g(t,y)=b(t)-a(t)\\cdot y$$ car alors :  \n",
        "$$y'(t)=g(t,y(t))=b(t)-a(t)\\cdot y(t)$$ \n",
        "et dans ce cas la relation de récurrence devient :\n",
        "$$ \\begin{cases} t_n &= t_{n-1}+h\\\\ y_n&= y_{n-1}+h\\cdot g(t_{n-1},y_{n-1}) \\end{cases} $$ "
      ]
    },
    {
      "cell_type": "markdown",
      "metadata": {
        "id": "RrvI6eltTwPl",
        "colab_type": "text"
      },
      "source": [
        "**APPLICATION : ** Résolution de $y'+3y=t$, $y(0)=2$.  \n",
        "> On notera que les solutions homogènes sont toujours de la forme $y_0(t)=Ce^{-3t}$ et qu'une solution particulière est de la forme $y_p(t)=a_1t+a_0$, ce qui donne par identification : $y_1(t) = \\cfrac{1}{3}(t-\\cfrac{1}{3})$  \n",
        "\n",
        "> soit $$y(t)=\\cfrac{10}{9}e^{-3t}+\\cfrac{1}{3}(t-\\cfrac{1}{3})$$ en tenant compte du fait que $y(0)=1$.\n",
        "\n",
        "> Pour la résolution numérique, on écrit : $y'(t)=t-3y(t)$ et donc $y'(t)=g(t,y(t))$ où on a posé : $$g(t,y)=t-3y$$\n",
        "\n",
        "> La fonction précédente devient :"
      ]
    },
    {
      "cell_type": "code",
      "metadata": {
        "id": "npMQ4d8jTwPr",
        "colab_type": "code",
        "colab": {}
      },
      "source": [
        "# Solution exacte :\n",
        "f = lambda t:(10/9)*np.exp(-3*t)+(1/3)*(t-1/3)\n",
        "\n",
        "# fonction auxiliaire :\n",
        "g = lambda t,y:t-3*y\n",
        "\n",
        "def solApprochee2(g,u,v,y0,h):\n",
        "    # y'+3y = t ; ici a(t) = 3 et b(t) = t et donc y'(t)=t-3y(t)\n",
        "    # tracé de la solution cherchée sur l'intervalle [u,v]\n",
        "    # y0 est la condition à l'origine et h est le pas de temps choisi.\n",
        "    N = int((v-u)/h) # nombre de pas ou nombre de points de la subdivision.\n",
        "    T,Y = np.zeros(N+1),np.zeros(N+1) # initialisation de la subdivision (t_n) et de la suite (y_n)\n",
        "    T[0] = u # temps initial\n",
        "    Y[0] = y0 # position initiale\n",
        "    for n in range(N): # N pas de 1 à N\n",
        "        T[n+1] = T[n]+h\n",
        "        Y[n+1] = Y[n] + h*g(T[n],Y[n])\n",
        "    return T,Y\n",
        "\n",
        "h = 1e-2\n",
        "T,Y = solApprochee2(g,0,2,1,h) # solution approchée sur I=[0,2]\n",
        "\n",
        "plt.figure(figsize=(10,5))\n",
        "plt.plot(T,f(T),'r-',label= 'solution exacte')\n",
        "plt.plot(T,Y,'b-.',label='solution approchée')\n",
        "plt.legend(loc='best')"
      ],
      "execution_count": 0,
      "outputs": []
    },
    {
      "cell_type": "markdown",
      "metadata": {
        "id": "bJwiX_bBTwP7",
        "colab_type": "text"
      },
      "source": [
        "### Exercice 2 :\n",
        "Résoudre les équations différentielles suivantes sur l'intervalle $I$ indiqué et les confronter sur l'intervalle $[u,v]$ à la solution obtenue par approximation numérique en complétant la ligne de code ci-dessous qui utilise la fonction `solApprochee2()` mise en place précédemment (*Note :* Penser à exécuter au moins une fois cette fonction avant de traiter l'exercice). "
      ]
    },
    {
      "cell_type": "markdown",
      "metadata": {
        "collapsed": true,
        "id": "mwTcq6cXTwP-",
        "colab_type": "text"
      },
      "source": [
        "1. $y'+y=\\cos(t)$ sur $I=\\mathbb{R}$, $y(0)=1$, graphe sur $[u,v]=[0,10]$ ;  \n",
        "    *Note :* On pourra chercher une solution particulière sous la forme $y_p(x)=A\\cos(x)+B\\sin(x)$ où $A,B\\in\\mathbb{R}$.  \n",
        "    \n",
        "2. $y'-2y+e^x=0$ sur $I=\\mathbb{R}$, $y(0)=0$, graphe sur $[u,v]=[0,2]$ ;  \n",
        "3. $xy'-2y+x=0$ sur $I=\\mathbb{R}_+^*$, $y(1)=2$, graphe sur $[u,v]=[1,4]$ ;\n",
        "4. $(1-x^2)y'+2xy-4x=0$ sur $I=]1,+\\infty[$, $y(2)=-1$, graphe sur $[u,v]=[2,5]$ ;\n",
        "5. $y'-\\cfrac{xy}{x^2-1}=x$ sur $I=]1,+\\infty[$, $y(2)=2$, graphe sur $[u,v]=[2,10]$ ;\n",
        "6. $xy'-y+\\ln(x)=0$ sur $I=\\mathbb{R}_+^*$, $y(1)=0$, graphe sur $[u,v]=[1,10]$ ;\n",
        "7. $y'-y\\tan(x)=\\sin(2x)$ sur $I=]-\\pi/2,\\pi/2[$, $y(0)=1/3$, graphe sur $[u,v]=[0,1.5]$ ;"
      ]
    },
    {
      "cell_type": "code",
      "metadata": {
        "id": "T5lW8caFTwQA",
        "colab_type": "code",
        "colab": {}
      },
      "source": [
        "# Solution exacte :\n",
        "f = lambda t:...# A compléter\n",
        "\n",
        "# fonction auxiliaire :\n",
        "g = lambda t,y:... # A compléter (par exemple pour 1. on posera g = lambda t,y:np.cos(t)-y )\n",
        "\n",
        "h = 1e-2\n",
        "u,v = ... ,... # A compléter\n",
        "y0 = ... # A compléter\n",
        "T,Y = solApprochee2(g,u,v,y0,h) # solution approchée sur I=[0,2]\n",
        "\n",
        "plt.figure(figsize=(10,5))\n",
        "plt.plot(T,f(T),'r-',label= 'solution exacte')\n",
        "plt.plot(T,Y,'b-.',label='solution approchée')\n",
        "plt.legend(loc='best')"
      ],
      "execution_count": 0,
      "outputs": []
    },
    {
      "cell_type": "markdown",
      "metadata": {
        "id": "maNhHRAqTwQI",
        "colab_type": "text"
      },
      "source": [
        "## 3. Solutions des exercices."
      ]
    },
    {
      "cell_type": "markdown",
      "metadata": {
        "collapsed": true,
        "id": "omdL2fs_TwQK",
        "colab_type": "text"
      },
      "source": [
        "** Correction exercice 1 : **  \n",
        "> 1.a) $\\mathcal{D}_{f'}=\\mathbb{R}\\setminus\\{-2\\}$, $f'(x)=3/(x+2)^2$, on pourra prendre : `a,b = -1.9 , 2`  \n",
        "> 1.b) $\\mathcal{D}_{f'}=\\mathbb{R}\\setminus\\{-1,1\\}$, $f'(x)=-\\cfrac{x^2+1}{(x^2-1)^2}$, on pourra prendre : `a,b = -0.9 , 0.9`  \n",
        "> 1.c) $\\mathcal{D}_{f'}=]-1,1[$, $f'(x)=\\cfrac{1-x-x^2}{(1+x)\\sqrt{1-x^2}}$, on pourra prendre : `a,b = -0.9 , 0.9`  \n",
        "> 1.d) $\\mathcal{D}_{f'}=\\mathbb{R}$,  $f(x)=4x^2+2$ et donc $f'(x)=8x$, on pourra prendre : `a,b = -1 , 1`  \n",
        "> 1.e) $\\mathcal{D}_{f'}=\\mathbb{R}\\setminus\\{k\\pi,k\\in\\mathbb{Z}\\}$, $f'(x)=-\\cfrac{3}{\\sin^4(x)}$, on pourra prendre : `a,b = 0.1 , 3`  \n",
        "> 2.a) $\\mathcal{D}_{f'}=]-\\infty,-1[\\cup]1,+\\infty[$, $f'(x)=-\\cfrac{\\sqrt{x-\\sqrt{x^2-1}}}{2\\sqrt{x^2-1}}$, on pourra prendre : `a,b = 1.1 , 3`  \n",
        "> 2.b) $\\mathcal{D}_{f'}=\\mathbb{R}\\setminus\\{k\\pi,k\\in\\mathbb{Z}\\}$. Sur $]-\\pi,\\pi[\\setminus\\{0\\}$ : $f'(x)=\\begin{cases}1/2&\\text{ si }x\\in]0,\\pi[\\\\ -1/2&\\text{ si}x\\in]-\\pi,0[\\end{cases}$ (prendre `a,b = 0.1,3` puis `a,b = -3,-0.1`)  \n",
        "*Remarque :* Pour le tracé d'une fonction constante égale à `c` il faut écrire : `f = lambda x:c*x**0`"
      ]
    },
    {
      "cell_type": "markdown",
      "metadata": {
        "id": "6g_eTHCtTwQO",
        "colab_type": "text"
      },
      "source": [
        "** Correction exercice 2  : **\n",
        "> 1. $y_0(t)=Ce^{-t}$ ; $y_p(t)=\\cfrac{\\cos(t)+\\sin(t)}{2}$ soit $y(t)=\\cfrac{\\cos(t)+\\sin(t)+e^{-t}}{2}$ car $y(0)=1$\n",
        "> 2. $y_0(x)=Ce^{2x}$ ; $y_p(x)=e^{x}$ [solution évidente]. Soit $y(x)=e^x-e^{2x}$ car $y(0)=0$\n",
        "> 3. $y_0(x)=Cx^2$ ; $y_p(x)=x$ [solution évidente]. Soit $y(x)=x^2+x$ car $y(1)=2$\n",
        "> 4. $y_0(x)=C(1-x^2)$, $y_p(x)=2$ [solution évidente]. Soit $y(x)=3-x^2$ car $y(2)=-1$\n",
        "> 5. $y_0(x)=C\\sqrt{x^2-1}$, $y_p(x)=x^2-1$ [solution évidente]. Soit $y(x)=x^2-1-\\cfrac{\\sqrt{3(x^2-1)}}{3}$ car $y(2)=2$\n",
        "> 6. $y_0(x)=Cx$ et $y_p(x)=\\ln(x)+1$ [Variation de la constante]. Soit $y(x)=\\ln(x)+1-x$ car $y(1)=0$\n",
        "> 7. $y_0(x)=\\cfrac{C}{\\cos(x)}$ et $y_p(x)=-\\cfrac{2}{3}\\cos^2(x)$ [Variation de la constante]. Soit $y(x)=\\cfrac{1}{\\cos(x)}-\\cfrac{2}{3}\\cos^2(x)$ car $y(0)=\\cfrac{1}{3}$"
      ]
    },
    {
      "cell_type": "code",
      "metadata": {
        "id": "fgYkE4fITwQT",
        "colab_type": "code",
        "colab": {}
      },
      "source": [
        ""
      ],
      "execution_count": 0,
      "outputs": []
    }
  ]
}